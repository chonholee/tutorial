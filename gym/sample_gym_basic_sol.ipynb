{
 "cells": [
  {
   "cell_type": "code",
   "execution_count": null,
   "metadata": {},
   "outputs": [],
   "source": [
    "from gym import envs\n",
    "\n",
    "envids = [print(spec.id) for spec in envs.registry.all()]"
   ]
  },
  {
   "cell_type": "code",
   "execution_count": null,
   "metadata": {},
   "outputs": [],
   "source": [
    "import gym\n",
    "\n",
    "env = gym.make(\"CartPole-v0\")            # GUI環境の開始(***)\n",
    "\n",
    "for episode in range(20):\n",
    "  print(\"=\" * 10)\n",
    "  print(\"episode: \", episode)\n",
    "  observation = env.reset()                    # 環境の初期化\n",
    "  for _ in range(100):\n",
    "    env.render()                                     # レンダリング(画面の描画)\n",
    "    action = env.action_space.sample()    # 行動の決定\n",
    "    observation, reward, done, info = env.step(action)  # 行動による次の状態の決定\n",
    "\n",
    "    print(\"-\" * 7)\n",
    "    print(\"action=\",action)\n",
    "    print(\"observation=\",observation)\n",
    "    print(\"reward=\",reward)\n",
    "    print(\"done=\",done)\n",
    "    print(\"info=\",info)\n",
    "\n",
    "env.close() "
   ]
  },
  {
   "cell_type": "code",
   "execution_count": null,
   "metadata": {},
   "outputs": [],
   "source": [
    "import gym\n",
    "\n",
    "env = gym.make(\"MountainCar-v0\")            # GUI環境の開始(***)\n",
    "\n",
    "for episode in range(20):\n",
    "  print(\"=\" * 10)\n",
    "  print(\"episode: \", episode)\n",
    "  observation = env.reset()                    # 環境の初期化\n",
    "  for _ in range(100):\n",
    "    env.render()                                     # レンダリング(画面の描画)\n",
    "    \n",
    "    action = env.action_space.sample()    # 行動の決定\n",
    "    observation, reward, done, info = env.step(action)  # 行動による次の状態の決定\n",
    "\n",
    "    print(\"-\" * 7)\n",
    "    print(\"action=\",action)\n",
    "    print(\"observation=\",observation)\n",
    "    print(\"reward=\",reward)\n",
    "    print(\"done=\",done)\n",
    "    print(\"info=\",info)\n",
    "\n",
    "env.close() "
   ]
  },
  {
   "cell_type": "code",
   "execution_count": 7,
   "metadata": {},
   "outputs": [],
   "source": [
    "import numpy as np\n",
    "\n",
    "def get_status(_observation, nb_grid):\n",
    "    env_low = env.observation_space.low       # 位置と速度の最小値\n",
    "    env_high = env.observation_space.high     #　位置と速度の最大値\n",
    "    env_dx = (env_high - env_low) / nb_grid  # 40等分\n",
    "    # 0〜39の離散値に変換する\n",
    "    position = int((_observation[0] - env_low[0])/env_dx[0])\n",
    "    velocity = int((_observation[1] - env_low[1])/env_dx[1])\n",
    "    return position, velocity\n",
    "\n",
    "def update_q_table(_q_table, _action,  _observation, _next_observation, _reward, _episode):\n",
    "    \n",
    "    alpha = 0.2 # 学習率\n",
    "    gamma = 0.99 # 時間割引き率\n",
    "    \n",
    "    # 行動後の状態で得られる最大行動価値 Q(s',a')\n",
    "    next_position, next_velocity = get_status(_next_observation)\n",
    "    next_max_q_value = max(_q_table[next_position][next_velocity])\n",
    "\n",
    "    # 行動前の状態の行動価値 Q(s,a)\n",
    "    position, velocity = get_status(_observation)\n",
    "    q_value = _q_table[position][velocity][_action]\n",
    "\n",
    "    # 行動価値関数の更新\n",
    "    _q_table[position][velocity][_action] = q_value + alpha * (_reward + gamma * next_max_q_value - q_value)\n",
    "\n",
    "    return _q_table\n",
    "\n",
    "def get_action(_env, _q_table, _observation, _episode):\n",
    "    epsilon = 0.002\n",
    "    if np.random.uniform(0, 1) > epsilon:\n",
    "        position, velocity = get_status(observation, _q_table.shape[0])  # <-- grid sizeが同じなので一つだけ渡す\n",
    "        _action = np.argmax(_q_table[position][velocity])\n",
    "    else:\n",
    "        _action = np.random.choice([0, 1, 2])\n",
    "    return _action"
   ]
  },
  {
   "cell_type": "code",
   "execution_count": 8,
   "metadata": {},
   "outputs": [
    {
     "name": "stdout",
     "output_type": "stream",
     "text": [
      "==========\n",
      "episode:  0\n"
     ]
    },
    {
     "ename": "TypeError",
     "evalue": "get_status() missing 1 required positional argument: 'nb_grid'",
     "output_type": "error",
     "traceback": [
      "\u001b[1;31m---------------------------------------------------------------------------\u001b[0m",
      "\u001b[1;31mTypeError\u001b[0m                                 Traceback (most recent call last)",
      "\u001b[1;32m<ipython-input-8-491e0b590075>\u001b[0m in \u001b[0;36m<module>\u001b[1;34m\u001b[0m\n\u001b[0;32m     28\u001b[0m \u001b[1;33m\u001b[0m\u001b[0m\n\u001b[0;32m     29\u001b[0m     \u001b[1;31m# Qテーブルの更新\u001b[0m\u001b[1;33m\u001b[0m\u001b[1;33m\u001b[0m\u001b[1;33m\u001b[0m\u001b[0m\n\u001b[1;32m---> 30\u001b[1;33m     \u001b[0mq_table\u001b[0m \u001b[1;33m=\u001b[0m \u001b[0mupdate_q_table\u001b[0m\u001b[1;33m(\u001b[0m\u001b[0mq_table\u001b[0m\u001b[1;33m,\u001b[0m \u001b[0maction\u001b[0m\u001b[1;33m,\u001b[0m \u001b[0mobservation\u001b[0m\u001b[1;33m,\u001b[0m \u001b[0mnext_observation\u001b[0m\u001b[1;33m,\u001b[0m \u001b[0mreward\u001b[0m\u001b[1;33m,\u001b[0m \u001b[0mepisode\u001b[0m\u001b[1;33m)\u001b[0m\u001b[1;33m\u001b[0m\u001b[1;33m\u001b[0m\u001b[0m\n\u001b[0m\u001b[0;32m     31\u001b[0m     \u001b[0mtotal_reward\u001b[0m \u001b[1;33m+=\u001b[0m \u001b[0mreward\u001b[0m\u001b[1;33m\u001b[0m\u001b[1;33m\u001b[0m\u001b[0m\n\u001b[0;32m     32\u001b[0m     \u001b[0mobservation\u001b[0m \u001b[1;33m=\u001b[0m \u001b[0mnext_observation\u001b[0m\u001b[1;33m\u001b[0m\u001b[1;33m\u001b[0m\u001b[0m\n",
      "\u001b[1;32m<ipython-input-7-060c68310cd7>\u001b[0m in \u001b[0;36mupdate_q_table\u001b[1;34m(_q_table, _action, _observation, _next_observation, _reward, _episode)\u001b[0m\n\u001b[0;32m     16\u001b[0m \u001b[1;33m\u001b[0m\u001b[0m\n\u001b[0;32m     17\u001b[0m     \u001b[1;31m# 行動後の状態で得られる最大行動価値 Q(s',a')\u001b[0m\u001b[1;33m\u001b[0m\u001b[1;33m\u001b[0m\u001b[1;33m\u001b[0m\u001b[0m\n\u001b[1;32m---> 18\u001b[1;33m     \u001b[0mnext_position\u001b[0m\u001b[1;33m,\u001b[0m \u001b[0mnext_velocity\u001b[0m \u001b[1;33m=\u001b[0m \u001b[0mget_status\u001b[0m\u001b[1;33m(\u001b[0m\u001b[0m_next_observation\u001b[0m\u001b[1;33m)\u001b[0m\u001b[1;33m\u001b[0m\u001b[1;33m\u001b[0m\u001b[0m\n\u001b[0m\u001b[0;32m     19\u001b[0m     \u001b[0mnext_max_q_value\u001b[0m \u001b[1;33m=\u001b[0m \u001b[0mmax\u001b[0m\u001b[1;33m(\u001b[0m\u001b[0m_q_table\u001b[0m\u001b[1;33m[\u001b[0m\u001b[0mnext_position\u001b[0m\u001b[1;33m]\u001b[0m\u001b[1;33m[\u001b[0m\u001b[0mnext_velocity\u001b[0m\u001b[1;33m]\u001b[0m\u001b[1;33m)\u001b[0m\u001b[1;33m\u001b[0m\u001b[1;33m\u001b[0m\u001b[0m\n\u001b[0;32m     20\u001b[0m \u001b[1;33m\u001b[0m\u001b[0m\n",
      "\u001b[1;31mTypeError\u001b[0m: get_status() missing 1 required positional argument: 'nb_grid'"
     ]
    }
   ],
   "source": [
    "import gym\n",
    "\n",
    "env = gym.make(\"MountainCar-v0\")            \n",
    "\n",
    "nb_grid_position = 40\n",
    "nb_grid_velocity = 40\n",
    "\n",
    "q_table = np.zeros((nb_grid_position, nb_grid_velocity, 3)) # <---- Qテーブルの初期化\n",
    "    \n",
    "for episode in range(20):\n",
    "  print(\"=\" * 10)\n",
    "  print(\"episode: \", episode)\n",
    "  observation = env.reset()\n",
    "  total_reward = 0  # <---- 追加\n",
    "    \n",
    "  for _ in range(100):\n",
    "    env.render()                                     \n",
    "    \n",
    "    ##action = env.action_space.sample()    # 行動の決定\n",
    "    ##observation, reward, done, info = env.step(action)  # 行動による次の状態の決定\n",
    "\n",
    "    # <---- 以下追加\n",
    "    # ε-グリーディ法で行動を選択\n",
    "    action = get_action(env, q_table, observation, episode)\n",
    "\n",
    "    # 車を動かし、観測結果・報酬・ゲーム終了FLG・詳細情報を取得\n",
    "    next_observation, reward, done, info = env.step(action)\n",
    "\n",
    "    # Qテーブルの更新\n",
    "    q_table = update_q_table(q_table, action, observation, next_observation, reward, episode)\n",
    "    total_reward += reward\n",
    "    observation = next_observation\n",
    "    # <----　以上追加\n",
    "    \n",
    "    \n",
    "    print(\"-\" * 7)\n",
    "    print(\"action=\",action)\n",
    "    print(\"observation=\",observation)\n",
    "    print(\"reward=\",reward)\n",
    "    print(\"done=\",done)\n",
    "    print(\"info=\",info)\n",
    "\n",
    "env.close() "
   ]
  },
  {
   "cell_type": "code",
   "execution_count": null,
   "metadata": {},
   "outputs": [],
   "source": []
  },
  {
   "cell_type": "code",
   "execution_count": null,
   "metadata": {},
   "outputs": [],
   "source": []
  }
 ],
 "metadata": {
  "kernelspec": {
   "display_name": "Python 3",
   "language": "python",
   "name": "python3"
  },
  "language_info": {
   "codemirror_mode": {
    "name": "ipython",
    "version": 3
   },
   "file_extension": ".py",
   "mimetype": "text/x-python",
   "name": "python",
   "nbconvert_exporter": "python",
   "pygments_lexer": "ipython3",
   "version": "3.6.12"
  }
 },
 "nbformat": 4,
 "nbformat_minor": 4
}
