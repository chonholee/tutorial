{
  "nbformat": 4,
  "nbformat_minor": 0,
  "metadata": {
    "colab": {
      "name": "sample_policy_iteration.ipynb",
      "provenance": [],
      "collapsed_sections": [],
      "authorship_tag": "ABX9TyMK3cx2gUr9W4G3Q/Zc2C89",
      "include_colab_link": true
    },
    "kernelspec": {
      "name": "python3",
      "display_name": "Python 3"
    },
    "language_info": {
      "name": "python"
    }
  },
  "cells": [
    {
      "cell_type": "markdown",
      "metadata": {
        "id": "view-in-github",
        "colab_type": "text"
      },
      "source": [
        "<a href=\"https://colab.research.google.com/github/chonholee/tutorial/blob/main/rl/sample_policy_iteration.ipynb\" target=\"_parent\"><img src=\"https://colab.research.google.com/assets/colab-badge.svg\" alt=\"Open In Colab\"/></a>"
      ]
    },
    {
      "cell_type": "code",
      "metadata": {
        "id": "g-YHpQmXtTFl"
      },
      "source": [
        "import numpy as np\n",
        "import copy\n",
        "\n",
        "FILED_TYPE = {\n",
        "    \"N\": 0,\n",
        "    \"G\": 1, # Goal\n",
        "}\n",
        "\n",
        "ACTIONS = {\n",
        "    \"UP\": 0,\n",
        "    \"DOWN\": 1, \n",
        "    \"LEFT\": 2, \n",
        "    \"RIGHT\": 3\n",
        "    }"
      ],
      "execution_count": 15,
      "outputs": []
    },
    {
      "cell_type": "markdown",
      "metadata": {
        "id": "BgLQlyEGuZ-8"
      },
      "source": [
        "環境（ゲーム）の定義"
      ]
    },
    {
      "cell_type": "code",
      "metadata": {
        "id": "5e5LEqx9sq5b"
      },
      "source": [
        "class GridWorld:\n",
        "\n",
        "    def __init__(self):\n",
        "\n",
        "        self.map = [[0, 0, 1],\n",
        "                          [0, 0, 0],\n",
        "                          [0, 0, 0]]\n",
        "\n",
        "    def step(self, pos, action):\n",
        "        to_x, to_y = copy.deepcopy(pos)\n",
        "\n",
        "        if self._is_possible_action(to_x, to_y, action) is False:\n",
        "            return pos, 0 \n",
        "\n",
        "        if action == ACTIONS[\"UP\"]:\n",
        "            to_y += -1\n",
        "        elif action == ACTIONS[\"DOWN\"]:\n",
        "            to_y += 1\n",
        "        elif action == ACTIONS[\"LEFT\"]:\n",
        "            to_x += -1\n",
        "        elif action == ACTIONS[\"RIGHT\"]:\n",
        "            to_x += 1\n",
        "\n",
        "        reward = self._compute_reward(to_x, to_y)\n",
        "        next_pos = to_x, to_y\n",
        "\n",
        "        return next_pos, reward\n",
        "\n",
        "    def _is_possible_action(self, x, y, action):\n",
        "        \"\"\" \n",
        "            実行可能な行動かどうかの判定\n",
        "        \"\"\"\n",
        "        to_x, to_y = x, y\n",
        "\n",
        "        if action == ACTIONS[\"UP\"]:\n",
        "            to_y += -1\n",
        "        elif action == ACTIONS[\"DOWN\"]:\n",
        "            to_y += 1\n",
        "        elif action == ACTIONS[\"LEFT\"]:\n",
        "            to_x += -1\n",
        "        elif action == ACTIONS[\"RIGHT\"]:\n",
        "            to_x += 1\n",
        "\n",
        "        if len(self.map) <= to_y or 0 > to_y:\n",
        "            return False\n",
        "        elif len(self.map[0]) <= to_x or 0 > to_x:\n",
        "            return False\n",
        "\n",
        "        return True\n",
        "\n",
        "    def _compute_reward(self, x, y):\n",
        "        \"\"\"\n",
        "            即時報酬の設定 \n",
        "        \"\"\"\n",
        "        if self.map[y][x] == FILED_TYPE[\"N\"]:\n",
        "            return 0\n",
        "        elif self.map[y][x] == FILED_TYPE[\"G\"]:\n",
        "            return 1\n",
        "\n",
        "    def get_all_state(self):\n",
        "        \"\"\"\n",
        "            すべての状態を取得する \n",
        "        \"\"\"\n",
        "        all_state = []\n",
        "        for y in range(len(self.map)):\n",
        "            for x in range(len(self.map[0])):\n",
        "                state = x, y\n",
        "                if self.map[y][x] == FILED_TYPE[\"G\"]:\n",
        "                    continue\n",
        "                else:\n",
        "                    all_state.append(state)\n",
        "\n",
        "        return all_state\n",
        "\n",
        "\n"
      ],
      "execution_count": 16,
      "outputs": []
    },
    {
      "cell_type": "markdown",
      "metadata": {
        "id": "rJ33Q6guuM-v"
      },
      "source": [
        "方策評価と方策改善"
      ]
    },
    {
      "cell_type": "code",
      "metadata": {
        "id": "CWdIji3utnaa"
      },
      "source": [
        "def evaluate_policy(pi, v, gamma, all_states, grid_env):\n",
        "    theta = .01\n",
        "    delta = np.inf\n",
        "    while delta >= theta:\n",
        "        delta = 0.\n",
        "        # v_dot = copy.deepcopy(v)\n",
        "        for s in all_states:\n",
        "            v_tmp = copy.deepcopy(v[s])\n",
        "            a = pi[s]\n",
        "            s2, r = grid_env.step(s, a)\n",
        "            if s2 in v.keys():\n",
        "                v[s] = r + gamma * v[s2]\n",
        "            else:\n",
        "                v[s] = r\n",
        "\n",
        "            delta = max(delta, abs(v_tmp-v[s]))\n",
        "\n",
        "def improvement_policy(pi, v, gamma, all_states, grid_env):\n",
        "    is_convergence = True\n",
        "    for s in all_states:\n",
        "        b = copy.deepcopy(pi[s])\n",
        "        argmax_action = None\n",
        "        max_a_value = -1\n",
        "        for a in ACTIONS.values():\n",
        "            s2, r = grid_env.step(s, a)\n",
        "            if s2 in v:\n",
        "                a_value = r + gamma * v[s2]\n",
        "            else:\n",
        "                a_value = r\n",
        "\n",
        "            if a_value > max_a_value:\n",
        "                max_a_value = a_value\n",
        "                argmax_action = a\n",
        "                pi[s] = argmax_action\n",
        "        if b != argmax_action:\n",
        "            is_convergence = False\n",
        "            return is_convergence\n",
        "\n",
        "    return is_convergence\n",
        "\n",
        "def print_result(result, len_x, len_y):\n",
        "    result_formatted = np.full((len_y, len_x), np.inf)\n",
        "\n",
        "    for y in range(len_y):\n",
        "        for x in range(len_x):\n",
        "            if (x, y) in result.keys():\n",
        "                result_formatted[y][x] = round(float(result[(x, y)]), 5)\n",
        "\n",
        "    print(result_formatted)"
      ],
      "execution_count": 34,
      "outputs": []
    },
    {
      "cell_type": "markdown",
      "metadata": {
        "id": "NuVmnJ1uuWOh"
      },
      "source": [
        "Main "
      ]
    },
    {
      "cell_type": "code",
      "metadata": {
        "colab": {
          "base_uri": "https://localhost:8080/"
        },
        "id": "FWn8RxzjtcRi",
        "outputId": "cd5e5c6d-9732-448c-e365-ab91923ae15a"
      },
      "source": [
        "if __name__ == '__main__':\n",
        "    grid_env = GridWorld()  # grid worldの環境の初期化\n",
        "    all_states = grid_env.get_all_state()\n",
        "    len_y = len(grid_env.map)\n",
        "    len_x = len(grid_env.map[0])\n",
        "    gamma = .99  # 割引率\n",
        "\n",
        "    # v(s), pi(s)の初期化\n",
        "    v, pi = {}, {}\n",
        "    for s in all_states:\n",
        "        v[s] = 0.\n",
        "        pi[s] = 0\n",
        "\n",
        "    is_convergence = False\n",
        "    count = 0\n",
        "\n",
        "    # 収束するまで繰り返す\n",
        "    while is_convergence is False:\n",
        "        # 方策評価\n",
        "        evaluate_policy(pi, v, gamma, all_states, grid_env)\n",
        "\n",
        "        # 方策改善\n",
        "        is_convergence = improvement_policy(pi, v, gamma, all_states, grid_env)\n",
        "\n",
        "    print(\"v\")\n",
        "    print_result(v, len_x, len_y)\n",
        "    print(\"pi\")\n",
        "    print_result(pi, len_x, len_y)"
      ],
      "execution_count": 35,
      "outputs": [
        {
          "output_type": "stream",
          "text": [
            "v\n",
            "[[0.95099 0.9606  0.9703  0.9801 ]\n",
            " [0.9606  0.9703  0.9801  0.99   ]\n",
            " [0.9703  0.9801  0.99    1.     ]\n",
            " [0.9801  0.99    1.          inf]]\n",
            "pi\n",
            "[[ 1.  1.  1.  1.]\n",
            " [ 1.  1.  3.  1.]\n",
            " [ 1.  1.  1.  1.]\n",
            " [ 3.  3.  3. inf]]\n"
          ],
          "name": "stdout"
        }
      ]
    },
    {
      "cell_type": "code",
      "metadata": {
        "id": "bf4n6StmtvVl"
      },
      "source": [
        ""
      ],
      "execution_count": null,
      "outputs": []
    }
  ]
}