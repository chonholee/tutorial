{
  "nbformat": 4,
  "nbformat_minor": 0,
  "metadata": {
    "colab": {
      "provenance": [],
      "authorship_tag": "ABX9TyO3zPMRWJ5dTsHK4m8sSZJD",
      "include_colab_link": true
    },
    "kernelspec": {
      "name": "python3",
      "display_name": "Python 3"
    },
    "language_info": {
      "name": "python"
    }
  },
  "cells": [
    {
      "cell_type": "markdown",
      "metadata": {
        "id": "view-in-github",
        "colab_type": "text"
      },
      "source": [
        "<a href=\"https://colab.research.google.com/github/chonholee/tutorial/blob/main/rl/sample_policy_iteration.ipynb\" target=\"_parent\"><img src=\"https://colab.research.google.com/assets/colab-badge.svg\" alt=\"Open In Colab\"/></a>"
      ]
    },
    {
      "cell_type": "markdown",
      "source": [
        "# マップと行動の定義"
      ],
      "metadata": {
        "id": "Puqgt2FbUb9f"
      }
    },
    {
      "cell_type": "code",
      "metadata": {
        "id": "g-YHpQmXtTFl"
      },
      "source": [
        "import numpy as np\n",
        "import copy\n",
        "\n",
        "FILED_TYPE = {\n",
        "    \"N\": 0,\n",
        "    \"G\": 1, # Goal\n",
        "}\n",
        "\n",
        "ACTIONS = {\n",
        "    \"UP\": 0,\n",
        "    \"DOWN\": 1,\n",
        "    \"LEFT\": 2,\n",
        "    \"RIGHT\": 3\n",
        "}"
      ],
      "execution_count": 26,
      "outputs": []
    },
    {
      "cell_type": "markdown",
      "metadata": {
        "id": "BgLQlyEGuZ-8"
      },
      "source": [
        "# 環境（ゲーム）の定義"
      ]
    },
    {
      "cell_type": "code",
      "metadata": {
        "id": "5e5LEqx9sq5b"
      },
      "source": [
        "class GridWorld:\n",
        "\n",
        "    def __init__(self, map):\n",
        "\n",
        "        self.map = map\n",
        "\n",
        "    def step(self, pos, action):\n",
        "        to_x, to_y = copy.deepcopy(pos)\n",
        "\n",
        "        if self._is_possible_action(to_x, to_y, action) is False:\n",
        "            return pos, 0\n",
        "\n",
        "        if action == ACTIONS[\"UP\"]:\n",
        "            to_y += -1\n",
        "        elif action == ACTIONS[\"DOWN\"]:\n",
        "            to_y += 1\n",
        "        elif action == ACTIONS[\"LEFT\"]:\n",
        "            to_x += -1\n",
        "        elif action == ACTIONS[\"RIGHT\"]:\n",
        "            to_x += 1\n",
        "\n",
        "        reward = self._compute_reward(to_x, to_y)\n",
        "        next_pos = to_x, to_y\n",
        "\n",
        "        return next_pos, reward\n",
        "\n",
        "    def _is_possible_action(self, x, y, action):\n",
        "        \"\"\" 実行可能な行動かどうかの判定\n",
        "        \"\"\"\n",
        "        to_x, to_y = x, y\n",
        "\n",
        "        if action == ACTIONS[\"UP\"]:\n",
        "            to_y += -1\n",
        "        elif action == ACTIONS[\"DOWN\"]:\n",
        "            to_y += 1\n",
        "        elif action == ACTIONS[\"LEFT\"]:\n",
        "            to_x += -1\n",
        "        elif action == ACTIONS[\"RIGHT\"]:\n",
        "            to_x += 1\n",
        "\n",
        "        if len(self.map) <= to_y or 0 > to_y:\n",
        "            return False\n",
        "        elif len(self.map[0]) <= to_x or 0 > to_x:\n",
        "            return False\n",
        "\n",
        "        return True\n",
        "\n",
        "    def _compute_reward(self, x, y):\n",
        "        \"\"\" 即時報酬の設定\n",
        "        \"\"\"\n",
        "        if self.map[y][x] == FILED_TYPE[\"N\"]:\n",
        "            return 0\n",
        "        elif self.map[y][x] == FILED_TYPE[\"G\"]:\n",
        "            return 1\n",
        "\n",
        "    def get_all_state(self):\n",
        "        \"\"\" すべての状態を取得する\n",
        "        \"\"\"\n",
        "        all_state = []\n",
        "        for y in range(len(self.map)):\n",
        "            for x in range(len(self.map[0])):\n",
        "                state = x, y\n",
        "                if self.map[y][x] == FILED_TYPE[\"G\"]:\n",
        "                    continue\n",
        "                else:\n",
        "                    all_state.append(state)\n",
        "\n",
        "        return all_state"
      ],
      "execution_count": 35,
      "outputs": []
    },
    {
      "cell_type": "markdown",
      "metadata": {
        "id": "rJ33Q6guuM-v"
      },
      "source": [
        "# 方策評価と方策改善"
      ]
    },
    {
      "cell_type": "code",
      "metadata": {
        "id": "CWdIji3utnaa"
      },
      "source": [
        "def evaluate_policy(pi, v, gamma, all_states, grid_env):\n",
        "\n",
        "    theta = .01\n",
        "    delta = np.inf\n",
        "\n",
        "    while delta >= theta:\n",
        "\n",
        "        delta = 0.\n",
        "        # v_dot = copy.deepcopy(v)\n",
        "\n",
        "        for s in all_states:\n",
        "            v_tmp = copy.deepcopy(v[s])\n",
        "\n",
        "            a = pi[s]                      # 状態と方策から行動を選択\n",
        "            s2, r = grid_env.step(s, a)    # 選んだ行動による次の状態と報酬を取得\n",
        "\n",
        "            \"\"\" 状態関数の計算\"\"\"\n",
        "            if s2 in v.keys():\n",
        "                v[s] = r + gamma * v[s2]\n",
        "            else:\n",
        "                v[s] = r\n",
        "\n",
        "            delta = max(delta, abs(v_tmp-v[s]))\n",
        "\n",
        "def improvement_policy(pi, v, gamma, all_states, grid_env):\n",
        "\n",
        "    is_convergence = True\n",
        "\n",
        "    for s in all_states:\n",
        "        b = copy.deepcopy(pi[s])\n",
        "        argmax_action = None\n",
        "        max_a_value = -1\n",
        "\n",
        "        for a in ACTIONS.values():\n",
        "\n",
        "            s2, r = grid_env.step(s, a)    # 選んだ行動による次の状態と報酬を取得\n",
        "\n",
        "            \"\"\" 状態関数を用いて方策を計算\"\"\"\n",
        "            if s2 in v:\n",
        "                a_value = r + gamma * v[s2]\n",
        "            else:\n",
        "                a_value = r\n",
        "\n",
        "            \"\"\" 方策の更新（良くなっていれば）\"\"\"\n",
        "            if a_value > max_a_value:\n",
        "                max_a_value = a_value\n",
        "                argmax_action = a\n",
        "                pi[s] = argmax_action\n",
        "\n",
        "        if b != argmax_action:\n",
        "            is_convergence = False\n",
        "            return is_convergence\n",
        "\n",
        "    return is_convergence\n",
        "\n",
        "def print_result(result, len_x, len_y):\n",
        "    result_formatted = np.full((len_y, len_x), np.inf)\n",
        "\n",
        "    for y in range(len_y):\n",
        "        for x in range(len_x):\n",
        "            if (x, y) in result.keys():\n",
        "                result_formatted[y][x] = round(float(result[(x, y)]), 5)\n",
        "\n",
        "    print(result_formatted)"
      ],
      "execution_count": 23,
      "outputs": []
    },
    {
      "cell_type": "markdown",
      "metadata": {
        "id": "NuVmnJ1uuWOh"
      },
      "source": [
        "# Learning Main"
      ]
    },
    {
      "cell_type": "code",
      "metadata": {
        "id": "FWn8RxzjtcRi"
      },
      "source": [
        "if __name__ == '__main__':\n",
        "\n",
        "    \"\"\" マップ \"\"\"\n",
        "    map = [[0, 0, 0],\n",
        "           [0, 0, 0],\n",
        "           [0, 0, 1]]\n",
        "\n",
        "    grid_env = GridWorld(map)  # grid worldの環境の初期化\n",
        "    all_states = grid_env.get_all_state()\n",
        "    len_y = len(grid_env.map)\n",
        "    len_x = len(grid_env.map[0])\n",
        "    gamma = .99  # 割引率\n",
        "\n",
        "    \"\"\" v(s), pi(s)の初期化 \"\"\"\n",
        "    v, pi = {}, {}\n",
        "    for s in all_states:\n",
        "        v[s] = 0.\n",
        "        pi[s] = 0\n",
        "\n",
        "    is_convergence = False\n",
        "    count = 0\n",
        "\n",
        "    \"\"\" 収束するまで繰り返す \"\"\"\n",
        "    while is_convergence is False:\n",
        "\n",
        "        # 方策評価\n",
        "        evaluate_policy(pi, v, gamma, all_states, grid_env)\n",
        "\n",
        "        # 方策改善\n",
        "        is_convergence = improvement_policy(pi, v, gamma, all_states, grid_env)\n",
        "\n",
        "        print(f\"\\n----- Iteration {count} ----------------\")\n",
        "        print(\"v\")\n",
        "        print_result(v, len_x, len_y)\n",
        "        print(\"pi\")\n",
        "        print_result(pi, len_x, len_y)\n",
        "        count += 1\n",
        "\n",
        "    print(f\"\\n----- 収束 ----------------\")\n",
        "    print(\"v\")\n",
        "    print_result(v, len_x, len_y)\n",
        "    print(\"pi\")\n",
        "    print_result(pi, len_x, len_y)"
      ],
      "execution_count": null,
      "outputs": []
    }
  ]
}