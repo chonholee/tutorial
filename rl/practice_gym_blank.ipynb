{
  "cells": [
    {
      "cell_type": "markdown",
      "metadata": {
        "id": "view-in-github",
        "colab_type": "text"
      },
      "source": [
        "<a href=\"https://colab.research.google.com/github/chonholee/tutorial/blob/main/rl/practice_gym_blank.ipynb\" target=\"_parent\"><img src=\"https://colab.research.google.com/assets/colab-badge.svg\" alt=\"Open In Colab\"/></a>"
      ]
    },
    {
      "cell_type": "markdown",
      "id": "c53339f2",
      "metadata": {
        "id": "c53339f2"
      },
      "source": [
        "# Open AI の gymnasium の基礎を学ぶ"
      ]
    },
    {
      "cell_type": "markdown",
      "id": "93de2063",
      "metadata": {
        "id": "93de2063"
      },
      "source": [
        "https://gymnasium.farama.org/\n",
        "- gymnasiumは強化学習のための複数の環境を提供する\n",
        "- 観測（状態）空間、行動空間、状態遷移確率などが与えられる\n",
        "  - 観測空間（Observation space）：状態（位置や速度など）\n",
        "  - 行動空間（Action space）：とりうる行動（左右上下への移動など）\n",
        "- 基本サイクルは以下の通り。step()メソッドで実行する\n",
        "  - 行動　=>　状態の変化、報酬の獲得、（エピソードの終了）　=> 次の行動　=> ...\n",
        "  - state, action, next_state, reward, done"
      ]
    },
    {
      "cell_type": "markdown",
      "id": "623e17bb",
      "metadata": {
        "id": "623e17bb"
      },
      "source": [
        "### ライブラリのインポート"
      ]
    },
    {
      "cell_type": "code",
      "execution_count": null,
      "id": "41d012fd",
      "metadata": {
        "id": "41d012fd"
      },
      "outputs": [],
      "source": [
        "import numpy as np\n",
        "import gymnasium as gym\n",
        "# 旧バージョン（gymnasiumではなくgym）も存在する\n",
        "import pygame"
      ]
    },
    {
      "cell_type": "markdown",
      "id": "5f400706",
      "metadata": {
        "id": "5f400706"
      },
      "source": [
        "### 環境（エージェントと相互作用、やりとりを行う世界）について"
      ]
    },
    {
      "cell_type": "markdown",
      "id": "1cb59b69",
      "metadata": {
        "id": "1cb59b69"
      },
      "source": [
        "環境一覧　.envs.registry"
      ]
    },
    {
      "cell_type": "code",
      "execution_count": null,
      "id": "5ec90251",
      "metadata": {
        "scrolled": true,
        "id": "5ec90251"
      },
      "outputs": [],
      "source": []
    },
    {
      "cell_type": "markdown",
      "id": "14d49df6",
      "metadata": {
        "id": "14d49df6"
      },
      "source": [
        "環境を作成　.make()"
      ]
    },
    {
      "cell_type": "code",
      "execution_count": null,
      "id": "ac72dcc5",
      "metadata": {
        "id": "ac72dcc5"
      },
      "outputs": [],
      "source": [
        "\n",
        "# render_mode\n",
        "# \"human\" : ゲームのようなビジュアル\n",
        "# \"ansi\" : ANSIエスケープコードを使って文字列で表現"
      ]
    },
    {
      "cell_type": "markdown",
      "id": "96743bd3",
      "metadata": {
        "id": "96743bd3"
      },
      "source": [
        "環境の仕様を確認　.spec"
      ]
    },
    {
      "cell_type": "code",
      "execution_count": null,
      "id": "b8e00b8c",
      "metadata": {
        "id": "b8e00b8c"
      },
      "outputs": [],
      "source": []
    },
    {
      "cell_type": "markdown",
      "id": "24eed8ba",
      "metadata": {
        "id": "24eed8ba"
      },
      "source": [
        "metadataを確認　.metadata"
      ]
    },
    {
      "cell_type": "code",
      "execution_count": null,
      "id": "9bb9bc6d",
      "metadata": {
        "id": "9bb9bc6d"
      },
      "outputs": [],
      "source": []
    },
    {
      "cell_type": "markdown",
      "id": "463e32e3",
      "metadata": {
        "id": "463e32e3"
      },
      "source": [
        "### 強化学習に必要な情報の取得"
      ]
    },
    {
      "cell_type": "markdown",
      "id": "8f2951da",
      "metadata": {
        "id": "8f2951da"
      },
      "source": [
        "状態（state）の設定内容　.observation_space"
      ]
    },
    {
      "cell_type": "code",
      "execution_count": null,
      "id": "95aca005",
      "metadata": {
        "id": "95aca005"
      },
      "outputs": [],
      "source": [
        "\n"
      ]
    },
    {
      "cell_type": "code",
      "execution_count": null,
      "id": "98bc4540",
      "metadata": {
        "scrolled": true,
        "id": "98bc4540"
      },
      "outputs": [],
      "source": [
        "# Boxクラスについて\n",
        "b = gym.spaces.Box(low=np.array([-10, -0.2]), high=np.array([10, 0.2]))\n",
        "print(b, \"\\n\")\n",
        "print(b.low, \"\\n\")\n",
        "print(b.high, \"\\n\")\n",
        "print(b.shape, \"\\n\")\n",
        "print(b.dtype, \"\\n\")\n",
        "print(b.sample(), \"\\n\")\n",
        "# raise ValueError(\n",
        "#     102         f\"Box shape is inferred from low and high, expect their types to be np.ndarray, an integer or a float, actual type low: {type(low)}, high: {type(high)}\"\n",
        "#     103     )"
      ]
    },
    {
      "cell_type": "markdown",
      "id": "0f1d7476",
      "metadata": {
        "id": "0f1d7476"
      },
      "source": [
        "envのもつプロパティやメソッド"
      ]
    },
    {
      "cell_type": "code",
      "execution_count": null,
      "id": "c97f8ed7",
      "metadata": {
        "id": "c97f8ed7"
      },
      "outputs": [],
      "source": [
        "\n",
        "# dir() : python built-in function\n",
        "# returns a list of the names of the attributes and methods of an object and a module"
      ]
    },
    {
      "cell_type": "code",
      "execution_count": null,
      "id": "af9af471",
      "metadata": {
        "id": "af9af471"
      },
      "outputs": [],
      "source": [
        "\n",
        "# returns the original, non-decorated version of the environment, without any additional wrappers or modifications"
      ]
    },
    {
      "cell_type": "code",
      "execution_count": null,
      "id": "de11d23f",
      "metadata": {
        "id": "de11d23f"
      },
      "outputs": [],
      "source": []
    },
    {
      "cell_type": "markdown",
      "id": "3f2337d4",
      "metadata": {
        "id": "3f2337d4"
      },
      "source": [
        "行動（action）の設定内容"
      ]
    },
    {
      "cell_type": "code",
      "execution_count": null,
      "id": "52404b88",
      "metadata": {
        "id": "52404b88"
      },
      "outputs": [],
      "source": []
    },
    {
      "cell_type": "code",
      "execution_count": null,
      "id": "5fbc59e9",
      "metadata": {
        "scrolled": true,
        "id": "5fbc59e9"
      },
      "outputs": [],
      "source": [
        "# Discreteクラスについて\n",
        "d = gym.spaces.Discrete(5, start=-2)\n",
        "print(d, \"\\n\")\n",
        "print(d.start, \"\\n\")\n",
        "print(d.n, \"\\n\")\n",
        "print(d.sample(), \"\\n\")\n",
        "# 最大は２"
      ]
    },
    {
      "cell_type": "markdown",
      "id": "d5e09f1f",
      "metadata": {
        "id": "d5e09f1f"
      },
      "source": [
        "### 行動、状態遷移、報酬獲得のサイクル"
      ]
    },
    {
      "cell_type": "markdown",
      "id": "eb3ec5ca",
      "metadata": {
        "id": "eb3ec5ca"
      },
      "source": [
        "リセット　.reset()"
      ]
    },
    {
      "cell_type": "code",
      "execution_count": null,
      "id": "02053acf",
      "metadata": {
        "id": "02053acf"
      },
      "outputs": [],
      "source": [
        "\n",
        "# リセットするたびにstateが初期化される"
      ]
    },
    {
      "cell_type": "markdown",
      "id": "34692e21",
      "metadata": {
        "id": "34692e21"
      },
      "source": [
        "timestepをひとつ進める　.step(action)"
      ]
    },
    {
      "cell_type": "code",
      "execution_count": null,
      "id": "c8cecf83",
      "metadata": {
        "id": "c8cecf83"
      },
      "outputs": [],
      "source": []
    },
    {
      "cell_type": "markdown",
      "id": "8fbaf14d",
      "metadata": {
        "id": "8fbaf14d"
      },
      "source": [
        "### ステップを重ねレンダリングを行う"
      ]
    },
    {
      "cell_type": "markdown",
      "id": "a954977a",
      "metadata": {
        "id": "a954977a"
      },
      "source": [
        "CartPole-v1の動きを表示する  \n",
        "\n",
        "1．環境の初期化  \n",
        "2．行動の選択  \n",
        "3．行動を実行し（env.step(action)）新しい状態、報酬、終了か否かの情報を得る  \n",
        "4．新しい状態に応じた次の行動を選択  \n",
        "5．終了でない間、3-4を繰り返す(while not done)  \n",
        "6．終了したら１に戻り次のエピソードに移る"
      ]
    },
    {
      "cell_type": "code",
      "execution_count": null,
      "id": "e3bfc58e",
      "metadata": {
        "scrolled": true,
        "id": "e3bfc58e"
      },
      "outputs": [],
      "source": []
    },
    {
      "cell_type": "markdown",
      "id": "23247bd5",
      "metadata": {
        "id": "23247bd5"
      },
      "source": [
        "pygameを使って途中終了の機能を追加"
      ]
    },
    {
      "cell_type": "code",
      "execution_count": null,
      "id": "125036ba",
      "metadata": {
        "id": "125036ba"
      },
      "outputs": [],
      "source": []
    },
    {
      "cell_type": "markdown",
      "id": "dab2d170",
      "metadata": {
        "id": "dab2d170"
      },
      "source": [
        "関数化する"
      ]
    },
    {
      "cell_type": "code",
      "execution_count": null,
      "id": "e371b828",
      "metadata": {
        "id": "e371b828"
      },
      "outputs": [],
      "source": []
    },
    {
      "cell_type": "markdown",
      "id": "f02cc484",
      "metadata": {
        "id": "f02cc484"
      },
      "source": [
        "# 以上"
      ]
    },
    {
      "cell_type": "markdown",
      "id": "f18bb134",
      "metadata": {
        "id": "f18bb134"
      },
      "source": [
        "- gymnasiumの基本的な使い方を確認しました\n",
        "- 環境ごとに変数が異なるため、それぞれごとに詳細を確認して使用していきます\n",
        "- state, action, next_state, reward, done（truncated）を組み合わせてステップを進めていくことも理解できました\n",
        "- 次は state に応じた行動を選択できるようエージェントに学習をさせていきます"
      ]
    }
  ],
  "metadata": {
    "kernelspec": {
      "display_name": "Python 3",
      "language": "python",
      "name": "python3"
    },
    "language_info": {
      "codemirror_mode": {
        "name": "ipython",
        "version": 3
      },
      "file_extension": ".py",
      "mimetype": "text/x-python",
      "name": "python",
      "nbconvert_exporter": "python",
      "pygments_lexer": "ipython3",
      "version": "3.10.11"
    },
    "colab": {
      "provenance": [],
      "include_colab_link": true
    }
  },
  "nbformat": 4,
  "nbformat_minor": 5
}