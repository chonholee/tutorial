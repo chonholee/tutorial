{
  "nbformat": 4,
  "nbformat_minor": 0,
  "metadata": {
    "colab": {
      "name": "BigDataII_09_CNN.ipynb",
      "provenance": [],
      "collapsed_sections": [],
      "authorship_tag": "ABX9TyOXZaTo+8hKdUbtXXi/bPyB",
      "include_colab_link": true
    },
    "kernelspec": {
      "name": "python3",
      "display_name": "Python 3"
    },
    "language_info": {
      "name": "python"
    },
    "accelerator": "GPU"
  },
  "cells": [
    {
      "cell_type": "markdown",
      "metadata": {
        "id": "view-in-github",
        "colab_type": "text"
      },
      "source": [
        "<a href=\"https://colab.research.google.com/github/chonholee/tutorial/blob/main/bigdata/BigDataII_09_CNN.ipynb\" target=\"_parent\"><img src=\"https://colab.research.google.com/assets/colab-badge.svg\" alt=\"Open In Colab\"/></a>"
      ]
    },
    {
      "cell_type": "code",
      "metadata": {
        "id": "vty2GLN4e7eQ"
      },
      "source": [
        "import tensorflow as tf"
      ],
      "execution_count": 1,
      "outputs": []
    },
    {
      "cell_type": "markdown",
      "metadata": {
        "id": "kBrZZH_Zke9D"
      },
      "source": [
        "# MNIST Dataset"
      ]
    },
    {
      "cell_type": "code",
      "metadata": {
        "id": "_ro7AeOxffjV"
      },
      "source": [
        "# (1) 手書き数字画像のデータセットをダウンロード・正規化\n",
        "mnist = tf.keras.datasets.mnist\n",
        "(x_train, y_train), (x_test, y_test) = mnist.load_data()\n",
        "x_train, x_test = x_train / 255.0, x_test / 255.0\n",
        "\n",
        "num_classes = 10"
      ],
      "execution_count": null,
      "outputs": []
    },
    {
      "cell_type": "code",
      "metadata": {
        "id": "28lMX27bf-Ye"
      },
      "source": [
        "import matplotlib.pyplot as plt\n",
        "%matplotlib inline\n",
        "\n",
        "# 一枚表示\n",
        "sample = 1\n",
        "image = x_train[sample]# plot the sample\n",
        "fig = plt.figure\n",
        "plt.imshow(image, cmap='gray')\n",
        "plt.show()"
      ],
      "execution_count": null,
      "outputs": []
    },
    {
      "cell_type": "code",
      "metadata": {
        "id": "jVAAYmSCf805"
      },
      "source": [
        "# 10枚、ラベルと一緒に表示\n",
        "num = 10\n",
        "images = x_train[:num]\n",
        "labels = y_train[:num]\n",
        "num_row = 2\n",
        "num_col = 5\n",
        "fig, axes = plt.subplots(num_row, num_col, figsize=(1.5*num_col,2*num_row))\n",
        "for i in range(num):\n",
        "    ax = axes[i//num_col, i%num_col]\n",
        "    ax.imshow(images[i], cmap='gray')\n",
        "    ax.set_title('Label: {}'.format(labels[i]))\n",
        "plt.tight_layout()\n",
        "plt.show()"
      ],
      "execution_count": null,
      "outputs": []
    },
    {
      "cell_type": "markdown",
      "metadata": {
        "id": "gT_UTVIYgG0N"
      },
      "source": [
        "# MLP"
      ]
    },
    {
      "cell_type": "code",
      "metadata": {
        "id": "eJV23VK2JCdU"
      },
      "source": [
        "# (2) MLPモデルを構築\n",
        "model = tf.keras.models.Sequential()\n",
        "model.add( tf.keras.layers.Flatten(input_shape=(28, 28)) )\n",
        "model.add( tf.keras.layers.Dense(128, activation='relu') )\n",
        "model.add( tf.keras.layers.Dropout(0.2) )\n",
        "model.add( tf.keras.layers.Dense(num_classes, activation='softmax') )\n",
        "\n",
        "# (3) モデルのコンパイル\n",
        "model.compile(optimizer='Adam',\n",
        "              loss='sparse_categorical_crossentropy',\n",
        "              metrics=['accuracy'])\n",
        "\n",
        "# (4) モデルの学習開始\n",
        "model.fit(x_train, y_train, epochs=5)\n",
        "\n",
        "# (5) モデルの評価\n",
        "model.evaluate(x_test,  y_test, verbose=2)"
      ],
      "execution_count": null,
      "outputs": []
    },
    {
      "cell_type": "code",
      "metadata": {
        "id": "ojUP09YM0-xg"
      },
      "source": [
        "# (6) モデルの保存と読み込み\n",
        "\n",
        "# 保存\n",
        "# 指定した名前のフォルダ内に、ネットワーク構造や重みなどの関連データが保存される\n",
        "model_filename = 'mymodel_mlp'\n",
        "model.save(model_filename)\n",
        "\n",
        "# 読み込み\n",
        "# 学習済みモデルを読み込んで利用できる\n",
        "model = tf.keras.models.load_model(model_filename)"
      ],
      "execution_count": null,
      "outputs": []
    },
    {
      "cell_type": "code",
      "metadata": {
        "id": "CAYsTxwMiTEr"
      },
      "source": [
        "# (7) テストデータを分類してみる\n",
        "import numpy as np\n",
        "\n",
        "testid = 6\n",
        "outputs = model.predict(x_test[testid:testid+1]) # softmax の結果（信頼度）\n",
        "predicted = np.argmax(outputs)\n",
        "\n",
        "print('outpus', outputs)\n",
        "print('predicted class label', predicted)\n",
        "print('true class label', y_test[testid])"
      ],
      "execution_count": null,
      "outputs": []
    },
    {
      "cell_type": "markdown",
      "metadata": {
        "id": "ZJ9A14RsgJXy"
      },
      "source": [
        "# CNN"
      ]
    },
    {
      "cell_type": "code",
      "metadata": {
        "id": "DPoxrQqDJQFY"
      },
      "source": [
        "# (2) CNNモデルを構築\n",
        "# 　最初の畳み込み層に入力データの情報を加えました（Reshapeは省略）\n",
        "model = tf.keras.models.Sequential()\n",
        "model.add( tf.keras.layers.Conv2D(32, (3, 3), input_shape=(28, 28, 1), activation='relu') )      # 追加\n",
        "model.add( tf.keras.layers.MaxPooling2D(pool_size=(2,2)) )              # 追加\n",
        "model.add( tf.keras.layers.Conv2D(32, (3, 3), activation='relu') )      # 追加\n",
        "model.add( tf.keras.layers.MaxPooling2D(pool_size=(2,2)) )              # 追加\n",
        "model.add( tf.keras.layers.Flatten() )\n",
        "model.add( tf.keras.layers.Dense(128, activation='relu') )\n",
        "model.add( tf.keras.layers.Dropout(0.2) )\n",
        "model.add( tf.keras.layers.Dense(num_classes, activation='softmax') )\n",
        "\n",
        "# (3) モデルのコンパイル\n",
        "model.compile(optimizer='Adam',loss='sparse_categorical_crossentropy',metrics=['accuracy'])\n",
        "\n",
        "# (4) モデルの学習開始\n",
        "model.fit(x_train, y_train, epochs=5)\n",
        "\n",
        "# (5) モデルの評価\n",
        "model.evaluate(x_test,  y_test, verbose=2)"
      ],
      "execution_count": null,
      "outputs": []
    },
    {
      "cell_type": "code",
      "metadata": {
        "id": "yxZkzQEkqAxV"
      },
      "source": [
        "# モデルの構造を見てみる\n",
        "\n",
        "model.summary()"
      ],
      "execution_count": null,
      "outputs": []
    },
    {
      "cell_type": "code",
      "metadata": {
        "id": "b7iTZ-VP4qnw"
      },
      "source": [
        "# 保存\n",
        "\n",
        "model_filename = 'mymodel_cnn'\n",
        "model.save(model_filename)"
      ],
      "execution_count": null,
      "outputs": []
    },
    {
      "cell_type": "markdown",
      "metadata": {
        "id": "Ms8cI-RyySLS"
      },
      "source": [
        "# 第9回 課題\n",
        "\n",
        "以下のセル内の「here」を埋めて実行してみてください。"
      ]
    },
    {
      "cell_type": "markdown",
      "metadata": {
        "id": "mEQt0sM-iIA_"
      },
      "source": [
        "# cifar10 Dataset の分類\n",
        "\n",
        "runtimeの種類をGPUに変更することを勧めます。学習の処理が早くなります。"
      ]
    },
    {
      "cell_type": "code",
      "metadata": {
        "id": "Xwovlt85Kxqj"
      },
      "source": [
        "cifar10 = tf.keras.datasets.cifar10\n",
        "\n",
        "# データをロードして、x_train, y_train, x_test, y_testを準備してください\n",
        "\n",
        "here\n"
      ],
      "execution_count": null,
      "outputs": []
    },
    {
      "cell_type": "code",
      "metadata": {
        "id": "oDQ28GTyi0Zl"
      },
      "source": [
        "# データのサイズ（shape）、画像1枚のサイズ（縦横ピクセルサイズ）を確認してください\n",
        "\n",
        "here\n"
      ],
      "execution_count": null,
      "outputs": []
    },
    {
      "cell_type": "code",
      "metadata": {
        "id": "KOqtiBJbp9mI"
      },
      "source": [
        "# RGB画像、R（レッド）,G（グリーン）,B（ブルー）の三つのチャンネルにそれぞれ0から255の値が入っています。\n",
        "# その値を255.0で割ることによって、R,G,Bに入っている値が0から1までになるようにしてください。\n",
        "\n",
        "here\n"
      ],
      "execution_count": null,
      "outputs": []
    },
    {
      "cell_type": "code",
      "metadata": {
        "id": "0M6BALUpjskj"
      },
      "source": [
        "# 好きな画像を10枚、ラベルと一緒に表示させなさい。\n",
        "\n",
        "here\n"
      ],
      "execution_count": null,
      "outputs": []
    },
    {
      "cell_type": "code",
      "metadata": {
        "id": "9O54Ysb0pFq8"
      },
      "source": [
        "# CNNモデルを定義しなさい\n",
        "#   基本的にはMNISTデータの演習で行ったCNNと同じ構造でよいです。\n",
        "#   入力データのサイズとチャネル数を修正\n",
        "\n",
        "here\n"
      ],
      "execution_count": null,
      "outputs": []
    },
    {
      "cell_type": "code",
      "metadata": {
        "id": "VGs4jmdY7c8Y"
      },
      "source": [
        "# モデルのコンパイル\n",
        "\n",
        "here\n"
      ],
      "execution_count": null,
      "outputs": []
    },
    {
      "cell_type": "code",
      "metadata": {
        "id": "0E4nR4rRsOI9"
      },
      "source": [
        "# モデルの学習\n",
        "#   epochs=5 で学習\n",
        "\n",
        "here\n"
      ],
      "execution_count": null,
      "outputs": []
    },
    {
      "cell_type": "code",
      "metadata": {
        "id": "Ytf-TO2K7jl9"
      },
      "source": [
        "# モデルの評価\n",
        "\n",
        "here"
      ],
      "execution_count": null,
      "outputs": []
    },
    {
      "cell_type": "code",
      "metadata": {
        "id": "LWdV8MI8rQs7"
      },
      "source": [
        "# model.predict(...) を使って、test画像をいくつか分類してみてください。\n",
        "\n",
        "here\n"
      ],
      "execution_count": null,
      "outputs": []
    },
    {
      "cell_type": "code",
      "metadata": {
        "id": "vwR-c8dbroga"
      },
      "source": [
        "# モデルを再学習\n",
        "#   epochs=20 で学習\n",
        "\n",
        "here\n",
        "\n"
      ],
      "execution_count": null,
      "outputs": []
    },
    {
      "cell_type": "code",
      "metadata": {
        "id": "S7cXtuaLsapF"
      },
      "source": [
        "# モデルの評価\n",
        "#　lossは下がってますか？accuracyはあがってますか？\n",
        "\n",
        "here"
      ],
      "execution_count": null,
      "outputs": []
    },
    {
      "cell_type": "code",
      "metadata": {
        "id": "R9KahNOCsb9h"
      },
      "source": [
        "# model.predict(...) を使って、test画像をいくつか分類してみてください。\n",
        "\n",
        "here\n"
      ],
      "execution_count": null,
      "outputs": []
    },
    {
      "cell_type": "markdown",
      "metadata": {
        "id": "xwMQx5j37t-X"
      },
      "source": [
        "## 補足（時間の関係で講義内に説明しきればかった内容）\n",
        "\n",
        "オンラインの資料などを見ながら勉強してみてください。\n",
        "\n",
        "*   **softmax**\n",
        "*   **one-hot encoding**"
      ]
    },
    {
      "cell_type": "markdown",
      "metadata": {
        "id": "2fdV1MshjMn5"
      },
      "source": [
        "今回の演習や課題で扱ったデータセットのラベルはカテゴリーデータ（離散値）です。\n",
        "\n",
        "*   mnist dataでは、０～９までの数字\n",
        "*   cifar10 dataでは、物体の名前に対応した0～９までの数字\n",
        "\n",
        "例えば、y_train[0] には（x_train[0]に対応した）１つの値が格納されています。\n",
        "\n",
        "ですが、モデルの最終層のニューロンの数はクラスの数（10個）となっています。\n",
        "\n",
        "```\n",
        "model.add( tf.keras.layers.Dense(10, activation='softmax') )\n",
        "```\n",
        "\n",
        "講義で損失関数（真値と計算値の誤差）の話をしましたが、現在真値は1個、計算値は10個の値があるので単純に引き算（損失関数）を計算できません。\n",
        "\n",
        "実は\n",
        "```\n",
        "model.compile(optimizer='Adam',loss='sparse_categorical_crossentropy',metrics=['accuracy'])\n",
        "```\n",
        "の「sparse categorical crossentoropy」内で上手く計算してくれています。\n",
        "\n",
        "一般的には、真値の数を最終層の数（分類するクラスの数）と合わせるための処理をします。\n",
        "\n",
        "その一つが 「**one-hot encodings**」 と呼ばれるものです。\n",
        "\n",
        "例えば\n",
        "\n",
        "2 (bird) は [0,0,1,0,0,0,0,0,0,0]\n",
        "\n",
        "7 (horse) は [0,0,0,0,0,0,0,1,0,0]\n",
        "\n",
        "とエンコーディング変換する事を言います。"
      ]
    },
    {
      "cell_type": "code",
      "metadata": {
        "id": "e6MrIOPuiawh"
      },
      "source": [
        "import numpy as np\n",
        "\n",
        "print(y_train[0]) # 確認\n",
        "\n",
        "y_train = tf.keras.utils.to_categorical(y_train, num_classes=10)\n",
        "y_test = tf.keras.utils.to_categorical(y_test, num_classes=10)\n",
        "\n",
        "print(y_train[0]) # 確認"
      ],
      "execution_count": null,
      "outputs": []
    },
    {
      "cell_type": "markdown",
      "metadata": {
        "id": "H1fNueYy_67v"
      },
      "source": [
        "クラスラベル（y_train と y_test）を one-hot として扱う場合は、「categorical_crossentropy」というlossを使います。\n",
        "\n",
        "試してみてください。"
      ]
    },
    {
      "cell_type": "code",
      "metadata": {
        "id": "dPC7890vURGk"
      },
      "source": [
        "model.compile(optimizer='Adam', loss='categorical_crossentropy', metrics=['accuracy'])\n",
        "model.fit(x_train, y_train, epochs=5)\n",
        "\n",
        "model.evaluate(x_test,  y_test, verbose=2)"
      ],
      "execution_count": null,
      "outputs": []
    }
  ]
}