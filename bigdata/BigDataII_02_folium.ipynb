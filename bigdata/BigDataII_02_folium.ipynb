{
  "nbformat": 4,
  "nbformat_minor": 0,
  "metadata": {
    "colab": {
      "provenance": [],
      "collapsed_sections": [
        "R06QN5zU_dRa",
        "hFvqv2rRAS5Q"
      ],
      "authorship_tag": "ABX9TyNXytzNHGAEE0AuIpPiWs8Z",
      "include_colab_link": true
    },
    "kernelspec": {
      "display_name": "Python 3",
      "name": "python3"
    },
    "language_info": {
      "name": "python"
    }
  },
  "cells": [
    {
      "cell_type": "markdown",
      "metadata": {
        "id": "view-in-github",
        "colab_type": "text"
      },
      "source": [
        "<a href=\"https://colab.research.google.com/github/chonholee/tutorial/blob/main/bigdata/BigDataII_02_folium.ipynb\" target=\"_parent\"><img src=\"https://colab.research.google.com/assets/colab-badge.svg\" alt=\"Open In Colab\"/></a>"
      ]
    },
    {
      "cell_type": "code",
      "metadata": {
        "id": "H2LuE7LPgFiJ"
      },
      "source": [
        "from google.colab import drive\n",
        "drive.mount('/content/drive/')\n",
        "\n",
        "%cd '/content/drive/MyDrive/Lecture_BigData'"
      ],
      "execution_count": null,
      "outputs": []
    },
    {
      "cell_type": "code",
      "source": [
        "!pip install folium #==0.12.1\n",
        "!pip install geocoder"
      ],
      "metadata": {
        "id": "F7OZyZ2hx0t3"
      },
      "execution_count": null,
      "outputs": []
    },
    {
      "cell_type": "markdown",
      "source": [
        "#0. ウォームアップ"
      ],
      "metadata": {
        "id": "TtNZLpxjzvwX"
      }
    },
    {
      "cell_type": "code",
      "source": [
        "import folium\n",
        "\n",
        "# 地図の中心となる緯度経度を指定する\n",
        "sapporo_center = [34.6937, 135.5023]\n",
        "\n",
        "# 地図を作成し、札幌市全域を表示するためのズームレベルを設定\n",
        "folium_map = folium.Map(location=sapporo_center,\n",
        "                        width=600,\n",
        "                        height=400,\n",
        "                        zoom_start=12)"
      ],
      "metadata": {
        "id": "CiOq8Ar8x4QC"
      },
      "execution_count": null,
      "outputs": []
    },
    {
      "cell_type": "code",
      "source": [
        "# 地図を表示\n",
        "folium_map"
      ],
      "metadata": {
        "id": "B5a3epE4slYl"
      },
      "execution_count": null,
      "outputs": []
    },
    {
      "cell_type": "code",
      "metadata": {
        "id": "IDejcNbAGJXE"
      },
      "source": [
        "# 地図をHTMLファイルとして保存する\n",
        "folium_map.save('folium-sample1.html')"
      ],
      "execution_count": null,
      "outputs": []
    },
    {
      "cell_type": "markdown",
      "metadata": {
        "id": "3n4-JTQ9Gu1m"
      },
      "source": [
        "\n",
        "#１．データセット\n",
        "\n",
        "データカタログ\n",
        "* https://www.data.go.jp/?lang=ja\n",
        "\n",
        "Google Dataset\n",
        "* https://datasetsearch.research.google.com\n",
        "\n",
        "Kaggle\n",
        "* https://www.kaggle.com/datasets\n",
        "\n",
        "github 上で公開されているデータセットのリンク集\n",
        "* https://github.com/arXivTimes/arXivTimes/tree/master/datasets\n",
        "* https://github.com/awesomedata/awesome-public-datasets\n",
        "\n",
        "国勢調査サイト(e-stat)\n",
        "* https://www.e-stat.go.jp/\n",
        "* 都道府県別の人口を検索\n",
        "* 平成29年10月1日現在人口推計 都道府県，男女別人口－総人口\n",
        "\n",
        "岡山オープンデータカタログ\n",
        "* http://www.okayama-opendata.jp/opendata/index.action\n",
        "\n"
      ]
    },
    {
      "cell_type": "code",
      "metadata": {
        "id": "m8XqlHg_dA9J"
      },
      "source": [
        "import pandas as pd\n",
        "import folium\n",
        "from folium import plugins\n",
        "print(folium.__version__)"
      ],
      "execution_count": null,
      "outputs": []
    },
    {
      "cell_type": "code",
      "metadata": {
        "id": "X9QoHgrDGbC9"
      },
      "source": [
        "# 国勢調査サイト ⇒「統計データを活用する」⇒ Dashboard ⇒「データで見る」\n",
        "# 「観光」「延べ宿泊者数」\n",
        "\n",
        "population_df = pd.read_csv(\"dataset/travel_year.csv\", index_col=0).T\n",
        "#population_df = pd.read_csv(\"dataset/travel_yyyymm.csv\", index_col=0).T\n",
        "population_df.head()"
      ],
      "execution_count": null,
      "outputs": []
    },
    {
      "cell_type": "markdown",
      "metadata": {
        "id": "JmtLd3y0i-kd"
      },
      "source": [
        "#2. 時系列ヒートマップ表示"
      ]
    },
    {
      "cell_type": "markdown",
      "source": [
        "## 都道府県名抽出と緯度経度取得"
      ],
      "metadata": {
        "id": "ViqWEilQDV_7"
      }
    },
    {
      "cell_type": "code",
      "metadata": {
        "id": "NMOpPkoKHE2l"
      },
      "source": [
        "import geocoder\n",
        "\n",
        "# 日本の 緯度・経度 を取得\n",
        "japan = geocoder.arcgis(\"日本\")\n",
        "japan = japan.latlng\n",
        "\n",
        "# 都道府県名抽出\n",
        "prefecture = population_df.index.tolist()\n",
        "\n",
        "# 都道府県の 緯度・経度 リストを作成\n",
        "prefecture_latlng = []\n",
        "for p in prefecture:\n",
        "    g = geocoder.arcgis(p)\n",
        "    prefecture_latlng.append(g.latlng)\n",
        "\n",
        "geo_df = pd.DataFrame([i for i in range(1, len(prefecture)+1)], columns = [\"id\"])\n",
        "geo_df[\"name\"] = pd.DataFrame(prefecture)\n",
        "geo_df[\"lat\"] = pd.DataFrame([r[0] for r in prefecture_latlng])\n",
        "geo_df[\"lng\"] = pd.DataFrame([r[1] for r in prefecture_latlng])"
      ],
      "execution_count": null,
      "outputs": []
    },
    {
      "cell_type": "markdown",
      "source": [
        "### ヒートマップ"
      ],
      "metadata": {
        "id": "hpeCCw21Frp0"
      }
    },
    {
      "cell_type": "code",
      "metadata": {
        "id": "mktJW5cJkt69"
      },
      "source": [
        "from folium.plugins import HeatMap\n",
        "\n",
        "# 日本のマップオブジェクトを作成\n",
        "map = folium.Map(japan, width=800, height=600, zoom_start=5)\n",
        "\n",
        "# ヒートマップの表示\n",
        "Here\n",
        "\n",
        "# 表示\n",
        "map"
      ],
      "execution_count": null,
      "outputs": []
    },
    {
      "cell_type": "markdown",
      "source": [
        "### 時系列ヒートマップ"
      ],
      "metadata": {
        "id": "c-Nb_7gAFvn3"
      }
    },
    {
      "cell_type": "code",
      "source": [
        "# \"id\"列 追加　下でマージするため\n",
        "population_df[\"id\"] = [i for i in range(1, len(prefecture)+1)]\n",
        "population_df.head()"
      ],
      "metadata": {
        "id": "5nbPzNwxOASd"
      },
      "execution_count": null,
      "outputs": []
    },
    {
      "cell_type": "code",
      "metadata": {
        "id": "S_N1lzrtISXG"
      },
      "source": [
        "# フォーマットを揃える\n",
        "prefecture_df = pd.merge(population_df, geo_df, on=[\"id\"])\n",
        "prefecture_df = prefecture_df.drop([\"name\",\"id\"],axis=1)  # マージした後に列削除"
      ],
      "execution_count": null,
      "outputs": []
    },
    {
      "cell_type": "code",
      "source": [
        "time_series = [str(year) for year in range(2007, 2022)]\n",
        "\n",
        "for i in range(prefecture_df.index.size):\n",
        "    diff = max(prefecture_df.iloc[i,:-2]) - min(prefecture_df.iloc[i,:-2])\n",
        "    prefecture_df.iloc[i,:-2] = (prefecture_df.iloc[i,:-2] - min(prefecture_df.iloc[i,:-2])) / diff\n",
        "\n",
        "#年月のデータ(travel_yyyymm.csv)を扱う場合\n",
        "'''\n",
        "for year in time_series:\n",
        "    for mo in [str(mm) for mm in range(1, 13)]:\n",
        "        date = year+\"年\"+mo+\"月\"\n",
        "        temp_df = prefecture_df[date]\n",
        "        prefecture_df[date] = temp_df / max(temp_df)\n",
        "'''\n",
        "prefecture_df.head()"
      ],
      "metadata": {
        "id": "o6zfiwaTRjOp"
      },
      "execution_count": null,
      "outputs": []
    },
    {
      "cell_type": "code",
      "metadata": {
        "id": "tV-_67MOIxWs"
      },
      "source": [
        "heat_data = [[[row['lat'], row['lng'], row[year+\"年\"]] for index, row in prefecture_df.iterrows()] for year in time_series]\n",
        "\n",
        "#年月のデータ(travel_yyyymm.csv)を扱う場合\n",
        "#heat_data = [[[row['lat'],row['lng'], row[year+\"年\"+str(mm)+\"月\"]] for index, row in prefecture_df.iterrows()] for mm in range(1,13) for year in time_series]"
      ],
      "execution_count": null,
      "outputs": []
    },
    {
      "cell_type": "code",
      "metadata": {
        "id": "Wm4mLrmMkrrw"
      },
      "source": [
        "japan_map = folium.Map(\n",
        "    location=[35, 135],\n",
        "    width=720,\n",
        "    height=540,\n",
        "    zoom_start=5\n",
        ")\n",
        "\n",
        "hm = plugins.HeatMapWithTime(\n",
        "    heat_data,\n",
        "    index=[year+\"年\" for year in time_series],\n",
        "    #index=[year+\"年\"+str(mm)+\"月\" for year in time_series for mm in range(1,13)],\n",
        "    auto_play=False,\n",
        "    radius=40,\n",
        "    max_opacity=1,\n",
        "    gradient={0.1: 'blue', 0.25: 'lime', 0.5:'yellow',0.75: 'red'}\n",
        ")\n",
        "\n",
        "hm.add_to(japan_map)\n",
        "\n",
        "japan_map"
      ],
      "execution_count": null,
      "outputs": []
    },
    {
      "cell_type": "markdown",
      "source": [
        "#3. FoliumのDcumentを見ながら機能を追加\n",
        "\n",
        "https://python-visualization.github.io/folium/"
      ],
      "metadata": {
        "id": "OHuWqGeD4P-K"
      }
    },
    {
      "cell_type": "markdown",
      "metadata": {
        "id": "szqmZbnlsGDb"
      },
      "source": [
        "\n",
        "##3.1 Map\n",
        "\n",
        "tiles option\n",
        "\n",
        "検索する\n",
        "\n",
        "https://maps.gsi.go.jp/development/ichiran.html\n",
        "\n",
        "http://leaflet-extras.github.io/leaflet-providers/preview/\n",
        "\n",
        "##3.2 Marker\n",
        "\n",
        "tooltip\n",
        "\n",
        "folim.Icon()\n",
        "\n",
        "color, icon_color\n",
        "\n",
        "icon\n",
        "https://glyphsearch.com/?library=glyphicons\n"
      ]
    },
    {
      "cell_type": "code",
      "metadata": {
        "id": "zyk9eNjnkGlx"
      },
      "source": [
        "import folium\n",
        "import pandas as pd\n",
        "\n",
        "sapporo_cities = pd.DataFrame({\n",
        "    'city': ['ハルタ', 'ブルクベーカリー 札幌円山本店', 'DONQ 円山店', 'すぎうらベーカリー 円山店','ペンギンベーカリーカフェ 円山裏参道店'],\n",
        "    'latitude': [43.057320, 43.056397, 43.055939, 43.056211, 43.054867],\n",
        "    'longtude': [141.322706, 141.321842, 141.319576, 141.318643,141.321690],\n",
        "    'population': [1000, 1000, 1000, 1000, 1000]\n",
        "})\n",
        "\n",
        "maruyama_map = folium.Map(\n",
        "    location=[43.056000, 141.321000],\n",
        "    zoom_start=15\n",
        ")\n",
        "\n",
        "for i, r in sapporo_cities.iterrows():\n",
        "\n",
        "    popup = folium.Popup(\n",
        "        r['city'],\n",
        "        max_width=1000,\n",
        "        show=True\n",
        "    )\n",
        "\n",
        "    marker = folium.Marker(\n",
        "        location=[r['latitude'], r['longtude']],\n",
        "        popup=popup\n",
        "    )\n",
        "\n",
        "    marker.add_to(maruyama_map)\n",
        "\n",
        "maruyama_map"
      ],
      "execution_count": null,
      "outputs": []
    },
    {
      "cell_type": "markdown",
      "source": [
        "##3.3 別タイルの例\n",
        "\n",
        "参照：https://maps.gsi.go.jp/development/ichiran.html"
      ],
      "metadata": {
        "id": "Mmvnqs47GcnI"
      }
    },
    {
      "cell_type": "code",
      "source": [
        "maruyama_map = folium.Map(\n",
        "    location=[43.056000, 141.321000],\n",
        "    width=600,\n",
        "    height=400,\n",
        "    tiles=\"Stamen Terrain\",\n",
        "    zoom_start=15\n",
        ")\n",
        "\n",
        "maruyama_map"
      ],
      "metadata": {
        "id": "-cb-aVh_1NxJ"
      },
      "execution_count": null,
      "outputs": []
    },
    {
      "cell_type": "code",
      "metadata": {
        "id": "rRQW3p2WoQ0v"
      },
      "source": [
        "maruyama_map = folium.Map(\n",
        "    location=[43.056000, 141.321000],\n",
        "    width=600,\n",
        "    height=400,\n",
        "    tiles=\"https://cyberjapandata.gsi.go.jp/xyz/pale/{z}/{x}/{y}.png\",\n",
        "    attr=\"xxx\",\n",
        "    zoom_start=15\n",
        ")\n",
        "\n",
        "maruyama_map"
      ],
      "execution_count": null,
      "outputs": []
    },
    {
      "cell_type": "markdown",
      "source": [
        "##3.4 様々なiconやmarker,tilesなどを使ってみる"
      ],
      "metadata": {
        "id": "s-VS6Hg9Goac"
      }
    },
    {
      "cell_type": "code",
      "source": [
        "import pandas as pd\n",
        "import folium\n",
        "\n",
        "#地図を用意\n",
        "map1 = folium.Map(\n",
        "   #初期位置を設定\n",
        "   location=[35.681167, 139.767052],\n",
        "\n",
        "   #初期表示の拡大具合の設定\n",
        "   zoom_start = 16,\n",
        "\n",
        "   #地図のスタイルの選択 どれか一つ選んで#をはずしてください\n",
        "   tiles = \"OpenStreetMap\"\n",
        "   #tiles = \"cartodbpositron\"\n",
        "   #tiles = \"Stamen Toner\"\n",
        "   #tiles = \"Stamen Terrain\"\n",
        ")\n",
        "\n",
        "df = pd.read_csv(\"Convenience_store_Tokyo_Station.csv\")\n",
        "seven = df[df.Brand == 'SevenEleven']\n",
        "lowson = df[df.Brand == 'Lawson']\n",
        "fama = df[df.Brand == 'FamilyMart']\n",
        "\n",
        "for i in range(len(seven)):\n",
        "    folium.Circle(\n",
        "        radius=10,\n",
        "        location=[seven.iloc[i]['Lat'], seven.iloc[i]['Lon']],\n",
        "        tooltip=str(seven.iloc[i]['Brand']),\n",
        "       #ドットの外枠の色を指定します\n",
        "        color=\"red\",\n",
        "       #ドットを色埋めするかを設定します\n",
        "        fill = True\n",
        "   ).add_to(map1)\n",
        "\n",
        "for i in range(len(fama)):\n",
        "    folium.Circle(\n",
        "        radius=10,\n",
        "        location=[fama.iloc[i]['Lat'], fama.iloc[i]['Lon']],\n",
        "        tooltip=str(fama.iloc[i]['Brand']),\n",
        "       #ドットの外枠の色を指定します\n",
        "        color=\"green\",\n",
        "       #ドットを色埋めするかを設定します\n",
        "        fill = True\n",
        "   ).add_to(map1)\n",
        "\n",
        "for i in range(len(lowson)):\n",
        "    folium.Circle(\n",
        "        radius=10,\n",
        "        location=[lowson.iloc[i]['Lat'], lowson.iloc[i]['Lon']],\n",
        "        tooltip=str(lowson.iloc[i]['Brand']),\n",
        "       #ドットの外枠の色を指定します\n",
        "        color=\"blue\",\n",
        "       #ドットを色埋めするかを設定します\n",
        "        fill = True\n",
        "   ).add_to(map1)\n",
        "\n",
        "#描画\n",
        "map1"
      ],
      "metadata": {
        "id": "4UDI4nTqVzUh"
      },
      "execution_count": null,
      "outputs": []
    },
    {
      "cell_type": "markdown",
      "metadata": {
        "id": "6gx5IYiqyq6O"
      },
      "source": [
        "##3.5 PolyLine"
      ]
    },
    {
      "cell_type": "code",
      "metadata": {
        "id": "nxooplKZ1Q_e"
      },
      "source": [
        "#Chromiumとseleniumをインストール\n",
        "print(\"前処理を開始\")\n",
        "!apt-get update\n",
        "!apt install chromium-chromedriver\n",
        "!cp /usr/lib/chromium-browser/chromedriver /usr/bin\n",
        "!pip install selenium"
      ],
      "execution_count": null,
      "outputs": []
    },
    {
      "cell_type": "code",
      "metadata": {
        "id": "GmX2oKz3rYcH"
      },
      "source": [
        "# あとで使うライブラリも併せて読み込み\n",
        "import os\n",
        "import folium\n",
        "import pandas as pd\n",
        "from time import sleep as slp\n",
        "from selenium import webdriver\n",
        "import glob\n",
        "from selenium.webdriver.chrome.options import Options\n",
        "\n",
        "# csvをpandas dataframeに保存\n",
        "data = pd.read_csv(\"dataset/gps.csv\",encoding=\"utf-8\")\n",
        "\n",
        "data.head()"
      ],
      "execution_count": null,
      "outputs": []
    },
    {
      "cell_type": "code",
      "metadata": {
        "id": "ENG87r0I252M"
      },
      "source": [
        "data[data[\"人\"] == \"B\"].head()"
      ],
      "execution_count": null,
      "outputs": []
    },
    {
      "cell_type": "code",
      "metadata": {
        "id": "VXDWL-E52tGb"
      },
      "source": [
        "# 今回はA,Bの人しか居ないが、\n",
        "# 一応何人来てもいいように人のリストを作り、\n",
        "# それをforループで回す\n",
        "person_list = data[\"人\"].unique()"
      ],
      "execution_count": null,
      "outputs": []
    },
    {
      "cell_type": "code",
      "metadata": {
        "id": "6AI9zXFE1OUt"
      },
      "source": [
        "# 地図に表示する色\n",
        "# foliumでサポートしているのは下記19色\n",
        "color_list=['red','blue','green','purple','orange','darkred','lightred','beige','darkblue','darkgreen','cadetblue','darkpurple','white','pink','lightblue','lightgreen','gray','black','lightgray']\n",
        "\n",
        "# 地図オブジェクトを作成\n",
        "m = folium.Map(tiles='OpenStreetMap', zoom_start=10)\n",
        "\n",
        "for idx,person in enumerate(person_list):\n",
        "    # 一人分のデータだけをdata_tempに格納する\n",
        "    data_temp = data[data[\"人\"] == person]\n",
        "\n",
        "    # data_tempの順番を日時で昇順ソート\n",
        "    data_temp = data_temp.sort_values('日時', ascending=True)\n",
        "\n",
        "    # data_tempの緯度経度だけを\n",
        "    data_temp_lat_lon = data_temp[[\"緯度\",\"経度\"]]\n",
        "\n",
        "    # 緯度経度を配列に格納\n",
        "    locs = data_temp_lat_lon.values\n",
        "\n",
        "    # 色を指定\n",
        "    line_color = color_list[idx%len(color_list)]\n",
        "\n",
        "    # 地図に線を追加する。緯度経度の配列をそのまま線として使う\n",
        "    folium.PolyLine(\n",
        "        locs,\n",
        "        color=line_color,\n",
        "        popup=person\n",
        "    ).add_to(m)\n",
        "\n",
        "# 地図の表示範囲を緯度経度の最低最大とする\n",
        "m.fit_bounds([[data[\"緯度\"].min(),data[\"経度\"].min()], [data[\"緯度\"].max(),data[\"経度\"].max()]])\n",
        "\n",
        "# 地図を表示する\n",
        "m"
      ],
      "execution_count": null,
      "outputs": []
    },
    {
      "cell_type": "markdown",
      "source": [
        "### htmlに描くこともできる"
      ],
      "metadata": {
        "id": "ZH_NBFDXgKJS"
      }
    },
    {
      "cell_type": "code",
      "metadata": {
        "id": "WAUzyHus3Dn8"
      },
      "source": [
        "for person in person_list:\n",
        "    # 一人分のデータだけをdata_tempに格納する\n",
        "    data_temp = data[data[\"人\"] == person]\n",
        "\n",
        "    # data_tempの順番を日時で昇順ソート\n",
        "    data_temp = data_temp.sort_values('日時', ascending=True)\n",
        "\n",
        "    # data_tempの緯度経度だけをデータフレームに残す\n",
        "    data_temp_lat_lon = data_temp[[\"緯度\",\"経度\"]]\n",
        "\n",
        "    # 地図オブジェクトを生成\n",
        "    m = folium.Map(tiles='OpenStreetMap')\n",
        "\n",
        "    # 緯度経度を配列に格納\n",
        "    locs = data_temp_lat_lon.values\n",
        "\n",
        "    # 地図に線を追加する。緯度経度の配列をそのまま線として使う\n",
        "    folium.PolyLine(locs).add_to(m)\n",
        "\n",
        "    # 地図の表示範囲を緯度経度の最低最大とする\n",
        "    m.fit_bounds([[data_temp[\"緯度\"].min(),data_temp[\"経度\"].min()], [data_temp[\"緯度\"].max(),data_temp[\"経度\"].max()]])\n",
        "\n",
        "    # htmlに保存する\n",
        "    # ./html/xx.htmlに保存される\n",
        "    m.save(outfile=\"dataset/\"+person+\".html\")"
      ],
      "execution_count": null,
      "outputs": []
    },
    {
      "cell_type": "markdown",
      "metadata": {
        "id": "gM2uH43jpzMA"
      },
      "source": [
        "##3.6 コロプレス"
      ]
    },
    {
      "cell_type": "code",
      "metadata": {
        "id": "lRbT93Rw7Lxb"
      },
      "source": [
        "tokyo_data = pd.read_csv('dataset/tokyo_rent_summary.csv', encoding='shift-jis')\n",
        "tokyo_data['行政区分コード'] = tokyo_data['行政区分コード'].astype('str')\n",
        "for i, v in tokyo_data.iterrows():\n",
        "    price = float(v['ワンルーム'].split('(')[0])\n",
        "    tokyo_data.at[i, 'ワンルーム'] = price\n",
        "tokyo_data.head()"
      ],
      "execution_count": null,
      "outputs": []
    },
    {
      "cell_type": "code",
      "metadata": {
        "id": "FEYHFVjcqAe9"
      },
      "source": [
        "geojson = 'dataset/tokyo23.json'\n",
        "tokyo23_location = [35.658593, 139.745441]   # 地図の中心点を指定"
      ],
      "execution_count": null,
      "outputs": []
    },
    {
      "cell_type": "code",
      "metadata": {
        "id": "3vwRm9Y5rCa1"
      },
      "source": [
        "m = folium.Map(location=tokyo23_location,tiles='cartodbpositron',zoom_start=11)"
      ],
      "execution_count": null,
      "outputs": []
    },
    {
      "cell_type": "code",
      "metadata": {
        "id": "GmYtQY21rI5B"
      },
      "source": [
        "m.choropleth(\n",
        "    geo_data=geojson,     # GeoJSONデータ\n",
        "    name='choropleth',\n",
        "    data=tokyo_data,       # DataFrameまたはSeriesを指定\n",
        "    columns=['行政区分コード', 'ワンルーム'], # 行政区分コードと表示データ\n",
        "    key_on='feature.properties.N03_007',    # GeoJSONのキー（行政区分コード）\n",
        "    fill_color='YlGn',         # 色パレットを指定（※）\n",
        "    threshold_scale=[0, 3, 6, 9, 12], # 境界値を指定\n",
        "    fill_opacity=0.7, # 透明度（色塗り）\n",
        "    line_opacity=0.2, # 透明度（境界）\n",
        "    legend_name='ワンルーム' # 凡例表示名\n",
        " )\n",
        "\n",
        "m"
      ],
      "execution_count": null,
      "outputs": []
    },
    {
      "cell_type": "code",
      "source": [
        "import folium\n",
        "\n",
        "# 地図の中心となる緯度経度を指定\n",
        "sapporo_center = [43.0625587, 141.354376]\n",
        "\n",
        "# 地図を作成\n",
        "folium_map = folium.Map(location=sapporo_center, zoom_start=12)\n",
        "\n",
        "# ツールチップを指定\n",
        "tooltip = \"Click me!\"\n",
        "\n",
        "# マーカープロット（時計台）\n",
        "folium.Marker(\n",
        "    location=[43.0625587, 141.354376],\n",
        "    popup=\"<i>時計台</i>\",  # ポップアップを指定\n",
        "    tooltip=tooltip,  # ツールチップを指定\n",
        "    icon=folium.Icon(color=\"red\", icon=\"tower\")  # アイコンを指定\n",
        ").add_to(folium_map)\n",
        "\n",
        "# 札幌市の各区役所の位置情報を管理するリスト\n",
        "kuyakusyo_list = list()\n",
        "\n",
        "kuyakusyo_list.append([43.090693, 141.340882])  # 北区の場所\n",
        "kuyakusyo_list.append([43.076242, 141.363662])  # 東区の場所\n",
        "kuyakusyo_list.append([42.989995, 141.353496])  # 南区の場所\n",
        "kuyakusyo_list.append([43.074347, 141.300898])  # 西区の場所\n",
        "\n",
        "# 多角形の描画\n",
        "folium.Polygon(\n",
        "    locations=[kuyakusyo_list[0], kuyakusyo_list[1], kuyakusyo_list[2], kuyakusyo_list[3]],  # 多角形の頂点\n",
        "    color=\"blue\",  # 線の色\n",
        "    weight=2,  # 線の太さ\n",
        "    fill=True,  # 塗りつぶす\n",
        "    fill_opacity=0.2  # 透明度（1=不透明）\n",
        ").add_to(folium_map)\n",
        "\n",
        "folium_map"
      ],
      "metadata": {
        "id": "Xl-dWsRz7uC7"
      },
      "execution_count": null,
      "outputs": []
    },
    {
      "cell_type": "markdown",
      "source": [
        "#4. 地図上のアイコン内にグラフを表示させる"
      ],
      "metadata": {
        "id": "hkq-d9l_5URg"
      }
    },
    {
      "cell_type": "markdown",
      "source": [
        "##4.1 折れ線グラフの例"
      ],
      "metadata": {
        "id": "tu-Voj0-5ypD"
      }
    },
    {
      "cell_type": "code",
      "metadata": {
        "id": "3e8-j_tRwepe"
      },
      "source": [
        "import altair as alt\n",
        "import numpy as np\n",
        "import pandas as pd\n",
        "\n",
        "# 100行の適当なデータ\n",
        "df = pd.DataFrame({\n",
        "  '日付': pd.date_range(start=\"2021/1/1\",freq=\"d\", periods=100),\n",
        "  '値': np.random.randint(1,101,100)\n",
        "})\n",
        "\n",
        "# 折れ線グラフをaltairで作成\n",
        "chart = alt.Chart(df).mark_line().encode(\n",
        "    x='日付',\n",
        "    y='値'\n",
        ")"
      ],
      "execution_count": null,
      "outputs": []
    },
    {
      "cell_type": "code",
      "source": [
        "chart"
      ],
      "metadata": {
        "id": "3fvMuX-h563G"
      },
      "execution_count": null,
      "outputs": []
    },
    {
      "cell_type": "markdown",
      "source": [
        "##4.2 円グラフの例"
      ],
      "metadata": {
        "id": "rl10pCSL7MQQ"
      }
    },
    {
      "cell_type": "code",
      "metadata": {
        "id": "1se2mNrA3V3j"
      },
      "source": [
        "import pandas as pd\n",
        "import altair as alt\n",
        "\n",
        "df = pd.DataFrame({'category': [1, 2, 3, 4, 5, 6], 'value': [4, 6, 10, 3, 7, 8]})\n",
        "\n",
        "chart = alt.Chart(df).mark_arc().encode(\n",
        "    theta=alt.Theta(field='value', type='quantitative'),\n",
        "    color=alt.Color(field='category', type='nominal')\n",
        ")"
      ],
      "execution_count": null,
      "outputs": []
    },
    {
      "cell_type": "code",
      "source": [
        "chart"
      ],
      "metadata": {
        "id": "E-ESkUT67Rbn"
      },
      "execution_count": null,
      "outputs": []
    },
    {
      "cell_type": "markdown",
      "source": [
        "##4.3 割合グラフの例"
      ],
      "metadata": {
        "id": "rS6vhdD06gfZ"
      }
    },
    {
      "cell_type": "code",
      "metadata": {
        "id": "iSC9zLcP61_M"
      },
      "source": [
        "from vega_datasets import data\n",
        "\n",
        "source = data.barley()\n",
        "source = source[:5]\n",
        "source"
      ],
      "execution_count": null,
      "outputs": []
    },
    {
      "cell_type": "code",
      "source": [
        "chart = alt.Chart(source).mark_bar().encode(\n",
        "    x=alt.X('sum(yield)', stack=\"normalize\"),\n",
        "    y='variety',\n",
        "    color='site'\n",
        ")"
      ],
      "metadata": {
        "id": "NVURv9kB6WTw"
      },
      "execution_count": null,
      "outputs": []
    },
    {
      "cell_type": "code",
      "source": [
        "chart"
      ],
      "metadata": {
        "id": "nhdy5Pyu5rGZ"
      },
      "execution_count": null,
      "outputs": []
    },
    {
      "cell_type": "markdown",
      "source": [
        "##4.4 グラフを追加"
      ],
      "metadata": {
        "id": "G0iylmoG6uU3"
      }
    },
    {
      "cell_type": "code",
      "metadata": {
        "id": "Vcx4yU_83SbE"
      },
      "source": [
        "import json\n",
        "import folium\n",
        "from folium import plugins\n",
        "\n",
        "# ベースの地図を作成\n",
        "center = [33,133] # 中心座標\n",
        "m = folium.Map(center, zoom_start=8)\n",
        "\n",
        "# ポップアップを生成\n",
        "popup = folium.Popup(max_width=\"100%\")\n",
        "\n",
        "# グラフのデータをjsonに加工\n",
        "data = json.loads(chart.to_json())\n",
        "\n",
        "# グラフをポップアップに追加\n",
        "folium.features.VegaLite(data, width=500, height=300).add_to(popup)\n",
        "\n",
        "# 地図をフルスクリーンにするボタンを地図に追加\n",
        "plugins.Fullscreen(\n",
        "    position=\"topright\",\n",
        "    title=\"拡大する\",\n",
        "    title_cancel=\"元に戻す\",\n",
        "    force_separate_button=True,\n",
        ").add_to(m)\n",
        "\n",
        "# 地図にマーカー(とポップアップ)を追加\n",
        "folium.Marker(center, popup=popup).add_to(m)\n",
        "\n",
        "# 地図を表示\n",
        "m"
      ],
      "execution_count": null,
      "outputs": []
    },
    {
      "cell_type": "markdown",
      "source": [
        "##4.5 棒グラフの例"
      ],
      "metadata": {
        "id": "U4bhOW0w8hbe"
      }
    },
    {
      "cell_type": "code",
      "metadata": {
        "id": "gp-TK-lHycs6"
      },
      "source": [
        "!pip install folium==0.12.1\n",
        "!pip install geocoder\n",
        "\n",
        "import pandas as pd\n",
        "import folium\n",
        "from folium import plugins\n",
        "\n",
        "!pip install altair\n",
        "!pip install japanize-matplotlib\n",
        "import japanize_matplotlib"
      ],
      "execution_count": null,
      "outputs": []
    },
    {
      "cell_type": "code",
      "metadata": {
        "id": "NnmpHXuq9hwb"
      },
      "source": [
        "import json\n",
        "import pandas as pd\n",
        "import folium\n",
        "from folium import plugins\n",
        "import altair as alt\n",
        "\n",
        "df = pd.DataFrame({\n",
        "    'station': [\"北海道\",\"青森県\",\"岩手県\",\"宮城県\",\"秋田県\",\n",
        "                             \"山形県\",\"福島県\",\"茨城県\",\"栃木県\",\"群馬県\",\n",
        "                             \"埼玉県\",\"千葉県\",\"東京都\",\"神奈川県\",\"新潟県\",\n",
        "                             \"富山県\",\"石川県\",\"福井県\",\"山梨県\",\"長野県\",\n",
        "                             \"岐阜県\",\"静岡県\",\"愛知県\",\"三重県\",\"滋賀県\",\n",
        "                             \"京都府\",\"大阪府\",\"兵庫県\",\"奈良県\",\"和歌山県\",\n",
        "                             \"鳥取県\",\"島根県\",\"岡山県\",\"広島県\",\"山口県\",\n",
        "                             \"徳島県\",\"香川県\",\"愛媛県\",\"高知県\",\"福岡県\",\n",
        "                             \"佐賀県\",\"長崎県\",\"熊本県\",\"大分県\",\"宮崎県\",\"鹿児島県\",\"沖縄県\"],\n",
        "    'latitude': [43.063968,40.824623,39.703531,38.268839,39.7186,\n",
        "                          38.240437,37.750299,36.341813,36.565725,36.391208,\n",
        "                          35.857428,35.605058,35.689521,35.447753,37.902418,\n",
        "                          36.69529,36.594682,36.065219,35.664158,36.651289,\n",
        "                          35.391227,34.976978,35.180188,34.730283,35.004531,\n",
        "                          35.021004,34.686316,34.691279,34.685333,34.226034,\n",
        "                          35.503869,35.472297,34.661772,34.39656,34.186121,\n",
        "                          34.06577,34.340149,33.84166,33.559705,33.606785,\n",
        "                          33.249367,32.744839,32.789828,33.238194,31.91109,31.560148,26.212401],\n",
        "    'longtude': [141.347899,140.740593,141.152667,140.872103,140.102334,\n",
        "                          140.363634,140.467521,140.446793,139.883565,139.060156,\n",
        "                          139.648933,140.123308,139.691704,139.642514,139.023221,\n",
        "                          137.211338,136.625573,136.221642,138.568449,138.181224,\n",
        "                          136.722291,138.383054,136.906565,136.508591,135.86859,\n",
        "                          135.755608,135.519711,135.183025,135.832744,135.167506,\n",
        "                          134.237672,133.050499,133.934675,132.459622,131.4705,\n",
        "                          134.559303,134.043444,132.765362,133.53108,130.418314,\n",
        "                          130.298822,129.873756,130.741667,131.612591,131.423855,130.557981,127.680932],\n",
        "})\n",
        "\n",
        "folium_map = folium.Map(location=[35.689521, 139.691704], zoom_start=5)\n",
        "\n",
        "data =  pd.read_csv(\"dataset/1990.csv\", encoding='shift-jis')\n",
        "\n",
        "# マーカープロット\n",
        "for i, row in df.iterrows():\n",
        "\n",
        "    popup = folium.Popup(max_width=\"100%\")\n",
        "\n",
        "    graphdata = pd.DataFrame({\n",
        "        'xaxis':data.columns[1:],\n",
        "        'yaxis':[int(s.replace(',','')) for s in data.loc[i].values[1:]]\n",
        "    })\n",
        "\n",
        "    chart = alt.Chart(graphdata).mark_bar().encode(\n",
        "        x='xaxis',\n",
        "        y='yaxis'\n",
        "    )\n",
        "\n",
        "    # グラフのデータをjsonに加工\n",
        "    jsondata = json.loads(chart.to_json())\n",
        "    # グラフをポップアップに追加\n",
        "    folium.features.VegaLite(jsondata, width=400, height=250).add_to(popup)\n",
        "\n",
        "    folium.Marker(\n",
        "        location=[row['latitude'], row['longtude']],\n",
        "        icon=folium.Icon(color='red'),\n",
        "        popup=popup\n",
        "    ).add_to(folium_map)\n",
        "\n"
      ],
      "execution_count": null,
      "outputs": []
    },
    {
      "cell_type": "code",
      "metadata": {
        "id": "_NsGMKKzm34B"
      },
      "source": [
        "# 地図表示\n",
        "folium_map"
      ],
      "execution_count": null,
      "outputs": []
    },
    {
      "cell_type": "markdown",
      "source": [
        "### 棒グラフ作成の例"
      ],
      "metadata": {
        "id": "eQMDdtF03QZ1"
      }
    },
    {
      "cell_type": "code",
      "metadata": {
        "id": "S2cdvIxhqznZ"
      },
      "source": [
        "import altair as alt\n",
        "import pandas as pd\n",
        "\n",
        "source = pd.DataFrame({\n",
        "    'a': ['A', 'B', 'C', 'D', 'E', 'F', 'G'],\n",
        "    'b': [28, 55, 43, 91, 81, 53, 19]\n",
        "})\n",
        "\n",
        "chart = alt.Chart(source).mark_bar().encode(\n",
        "    x='a',\n",
        "    y='b'\n",
        ")"
      ],
      "execution_count": null,
      "outputs": []
    },
    {
      "cell_type": "code",
      "source": [
        "source"
      ],
      "metadata": {
        "id": "h_kSZ_Eo49ko"
      },
      "execution_count": null,
      "outputs": []
    },
    {
      "cell_type": "code",
      "metadata": {
        "id": "is-fXASZrCPr"
      },
      "source": [
        "chart"
      ],
      "execution_count": null,
      "outputs": []
    },
    {
      "cell_type": "code",
      "source": [
        "chart.to_json()"
      ],
      "metadata": {
        "id": "aPfKDB525JH7"
      },
      "execution_count": null,
      "outputs": []
    },
    {
      "cell_type": "markdown",
      "source": [
        "#補足（未完成）"
      ],
      "metadata": {
        "id": "MRbQcbEnHOVr"
      }
    },
    {
      "cell_type": "markdown",
      "source": [
        "#5 移動軌跡表示"
      ],
      "metadata": {
        "id": "Xq-Dte_J-PBn"
      }
    },
    {
      "cell_type": "markdown",
      "source": [
        "##5.1 例"
      ],
      "metadata": {
        "id": "TVjsjzw7_ltf"
      }
    },
    {
      "cell_type": "code",
      "source": [
        "# -*- coding: utf-8 -*-\n",
        "\n",
        "\"\"\"---\n",
        "\n",
        "## 課題: バスの移動軌跡の可視化\n",
        "\n",
        "### データの読み込み\n",
        "\"\"\"\n",
        "\n",
        "import pandas as pd\n",
        "filename = 'okaden_vp_20220403.tsv'\n",
        "df = pd.read_csv(filename, sep = '\\s')\n",
        "\n",
        "\"\"\"### timestamp から datetime64 型を作成\n",
        "\n",
        "\"\"\"\n",
        "\n",
        "import datetime\n",
        "df['time'] = [datetime.datetime.fromtimestamp(t) for t in df['timestamp']]\n",
        "\n",
        "\"\"\"### 特定の時刻のデータのみを取得\"\"\"\n",
        "\n",
        "df = df[(df['time'] >= datetime.datetime(2022, 4, 3, 6, 0, 0)) & (df['time'] <= datetime.datetime(2022, 4, 3, 9, 0, 0))]\n",
        "\n",
        "\"\"\"### 特定の運行の取得\"\"\"\n",
        "\n",
        "from operator import itemgetter\n",
        "trip_id = '783_2102233_20220301'\n",
        "df_ti = df[df['trip_id'] == trip_id]\n",
        "df_ti = df_ti.sort_values('time')\n",
        "df_ti = df_ti.reset_index(drop = True)\n",
        "\n",
        "\"\"\"### 特定の運行の地図への表示\"\"\"\n",
        "def get_map(lat = 34.661, lng = 133.935, zoom = 15):\n",
        "  map = folium.Map(location = [lat, lng], zoom_start = zoom)\n",
        "  return map\n",
        "\n",
        "def get_random_color() -> str:\n",
        " import random\n",
        " color:str = \"#\" + \"\".join(random.choices(\"0123456789ABCDEF\", k=6))\n",
        " return color\n",
        "\n",
        "def get_circle(lat, lng, color):\n",
        "  circle = folium.Circle(radius=20, location = [lat, lng], color = color,\n",
        "                         fill_color = color, fill_opacity = 1.0)\n",
        "  return circle\n",
        "\n",
        "map = get_map()\n",
        "color = get_random_color()\n",
        "for i, j in zip(df_ti['latitude'], df_ti['longitude']):\n",
        "  circle = get_circle(i, j, color = color)\n",
        "  circle.add_to(map)\n",
        "map\n"
      ],
      "metadata": {
        "id": "toPmrcLlidbd"
      },
      "execution_count": null,
      "outputs": []
    },
    {
      "cell_type": "markdown",
      "source": [
        "##5.2 例"
      ],
      "metadata": {
        "id": "Urr9PZNB_1uV"
      }
    },
    {
      "cell_type": "code",
      "source": [
        "\"\"\"### 移動速度の計算\n",
        "\n",
        "\n",
        "- 以下の2つのセルは，そのまま実行すること．\n",
        "\"\"\"\n",
        "\n",
        "# もしも，次のセルで geopy がインストール済みでないことを表すエラーがでたら，このセルを実行すること．\n",
        "# !pip install geopy\n",
        "\n",
        "# このセルは，そのまま実行すること．\n",
        "from geopy import Point\n",
        "from geopy.distance import distance\n",
        "\n",
        "def calculate_movement_distance(df_temp: pd.DataFrame) -> pd.DataFrame:\n",
        "    df_temp['point'] = df_temp.apply(lambda row: Point(latitude=row['latitude'], longitude=row['longitude']), axis=1)\n",
        "    df_temp['point_next'] = df_temp['point'].shift(1)\n",
        "    df_temp.loc[df_temp['point_next'].isna(), 'point_next'] = None\n",
        "    df_temp['distance_km'] = df_temp.apply(\n",
        "        lambda row: distance(row['point'], row['point_next']).km if row['point_next'] is not None else float('nan'),\n",
        "        axis=1)\n",
        "    df_temp['diff_time'] = df_temp.time - df_temp.time.shift(1)\n",
        "    df_temp['diff_hour'] = df_temp['diff_time'].map(lambda t: t.total_seconds()/ 3600)\n",
        "    df_temp['speed'] = df_temp.apply(lambda row:row['distance_km']/row['diff_hour'], axis=1)\n",
        "    return df_temp.drop('point_next', axis=1).drop('point', axis=1).drop('diff_hour', axis=1).drop('diff_time', axis=1)\n",
        "\n",
        "df_ti = calculate_movement_distance(df_ti)\n",
        "\n",
        "\"\"\"### 特定の運行においてバスがほとんど移動していない箇所の表示\"\"\"\n",
        "\n",
        "threshold_speed = 5\n",
        "map = get_map()\n",
        "coler = get_random_color()\n",
        "df_ti = df_ti[df_ti['speed'] < threshold_speed]\n",
        "for i, j in zip(df_ti['latitude'], df_ti['longitude']):\n",
        "  circle = get_circle(i, j, color = color)\n",
        "  circle.add_to(map)\n",
        "map\n",
        "\n",
        "\"\"\"### 朝のラッシュ時間帯においてバスがほとんど移動していない箇所の表示\"\"\"\n",
        "\n",
        "a = df.groupby('trip_id').groups\n",
        "map = get_map()\n",
        "for x in a:\n",
        "  y = df[df['trip_id'] == x]\n",
        "  y = y.sort_values('time')\n",
        "  y = y.reset_index(drop = True)\n",
        "  y = calculate_movement_distance(y)\n",
        "  y = y[y['speed'] < threshold_speed]\n",
        "  color = get_random_color()\n",
        "  for i, j in zip(y['latitude'], y['longitude']):\n",
        "    circle = get_circle(i, j, color = color)\n",
        "    circle.add_to(map)\n",
        "map"
      ],
      "metadata": {
        "id": "M0X3GiMdjq0A"
      },
      "execution_count": null,
      "outputs": []
    },
    {
      "cell_type": "markdown",
      "source": [
        "### 時系列データ可視化１"
      ],
      "metadata": {
        "id": "R06QN5zU_dRa"
      }
    },
    {
      "cell_type": "code",
      "source": [
        "import folium\n",
        "from folium.plugins import TimestampedGeoJson\n",
        "import numpy as np\n",
        "\n",
        "coordinates = [[[[lon-8*np.sin(theta), -47+6*np.cos(theta)] for\n",
        "                 theta in np.linspace(0, 2*np.pi, 25)],\n",
        "                [[lon-4*np.sin(theta), -47+3*np.cos(theta)] for theta\n",
        "                 in np.linspace(0, 2*np.pi, 25)]] for\n",
        "               lon in np.linspace(-150, 150, 7)]\n",
        "data = {\n",
        "    \"type\": \"FeatureCollection\",\n",
        "    \"features\": [\n",
        "            {\n",
        "                \"type\": \"Feature\",\n",
        "                \"geometry\": {\n",
        "                    \"type\": \"Point\",\n",
        "                    \"coordinates\": [0, 0],\n",
        "                    },\n",
        "                \"properties\": {\n",
        "                    \"times\": [1435708800000+12*86400000]\n",
        "                    }\n",
        "                },\n",
        "            {\n",
        "                \"type\": \"Feature\",\n",
        "                \"geometry\": {\n",
        "                    \"type\": \"MultiPoint\",\n",
        "                    \"coordinates\": [[lon, -25] for\n",
        "                                    lon in np.linspace(-150, 150, 49)],\n",
        "                    },\n",
        "                \"properties\": {\n",
        "                    \"times\": [1435708800000+i*86400000 for\n",
        "                              i in np.linspace(0, 25, 49)]\n",
        "                    }\n",
        "                },\n",
        "            {\n",
        "                \"type\": \"Feature\",\n",
        "                \"geometry\": {\n",
        "                    \"type\": \"LineString\",\n",
        "                    \"coordinates\": [[lon, 25] for\n",
        "                                    lon in np.linspace(-150, 150, 25)],\n",
        "                    },\n",
        "                \"properties\": {\n",
        "                    \"times\": [1435708800000+i*86400000 for\n",
        "                              i in np.linspace(0, 25, 25)]\n",
        "                    }\n",
        "                },\n",
        "            {\n",
        "                \"type\": \"Feature\",\n",
        "                \"geometry\": {\n",
        "                    \"type\": \"MultiLineString\",\n",
        "                    \"coordinates\": [[[lon-4*np.sin(theta),\n",
        "                                      47+3*np.cos(theta)] for theta\n",
        "                                     in np.linspace(0, 2*np.pi, 25)]\n",
        "                                    for lon in\n",
        "                                    np.linspace(-150, 150, 13)],\n",
        "                    },\n",
        "                \"properties\": {\n",
        "                    \"times\": [1435708800000+i*86400000 for\n",
        "                              i in np.linspace(0, 25, 13)]\n",
        "                    }\n",
        "                },\n",
        "            {\n",
        "                \"type\": \"Feature\",\n",
        "                \"geometry\": {\n",
        "                    \"type\": \"MultiPolygon\",\n",
        "                    \"coordinates\": coordinates,\n",
        "                    },\n",
        "                \"properties\": {\n",
        "                    \"times\": [1435708800000+i*86400000 for\n",
        "                              i in np.linspace(0, 25, 7)]\n",
        "                    }\n",
        "                },\n",
        "        ],\n",
        "    }\n",
        "\n",
        "m = folium.Map([47, 3], zoom_start=1)\n",
        "tgj = TimestampedGeoJson(data)\n",
        "m.add_child(tgj)\n",
        "m"
      ],
      "metadata": {
        "id": "Tw_IXNoIEMn-"
      },
      "execution_count": null,
      "outputs": []
    },
    {
      "cell_type": "markdown",
      "source": [
        "### 時系列データ可視化２"
      ],
      "metadata": {
        "id": "hFvqv2rRAS5Q"
      }
    },
    {
      "cell_type": "code",
      "source": [
        "\n",
        "import folium\n",
        "from folium import plugins\n",
        "\n",
        "m = folium.Map(location=[24.230101, 120.604404],zoom_start=13)\n",
        "lines = [\n",
        "    {\n",
        "        'coordinates': [\n",
        "            [\n",
        "                [120.591404, 24.230101],\n",
        "                [120.593404, 24.230101],\n",
        "                [120.593404, 24.232101],\n",
        "                [120.591404, 24.232101]\n",
        "            ],\n",
        "        ],\n",
        "        'dates': ['2017-06-02T00:00:00', '2017-06-02T00:00:00'],\n",
        "        'color': 'red'\n",
        "    },\n",
        "    {\n",
        "        'coordinates': [\n",
        "            [\n",
        "                [120.595404, 24.230101],\n",
        "                [120.597404, 24.230101],\n",
        "                [120.597404, 24.232101],\n",
        "                [120.595404, 24.232101]\n",
        "            ]\n",
        "        ],\n",
        "        'dates': ['2017-06-02T00:10:00', '2017-06-02T00:10:00'],\n",
        "        'color': 'blue'\n",
        "    },\n",
        "\n",
        "]\n",
        "features = [\n",
        "    {\n",
        "        'type': 'Feature',\n",
        "        'geometry': {\n",
        "            'type': 'Polygon', # <- Change from MultiPolygon to Polygon, according to https://github.com/python-visualization/folium/blob/19bde41edd6346f447bd83523340edb9782dc20a/CHANGES.txt#L120\n",
        "            'coordinates': line['coordinates'],\n",
        "        },\n",
        "        'properties': {\n",
        "            'times': line['dates'],\n",
        "            'style': {\n",
        "                'color': line['color'],\n",
        "                'weight': line['weight'] if 'weight' in line else 5\n",
        "            }\n",
        "        }\n",
        "    } for line in lines]\n",
        "\n",
        "plugins.TimestampedGeoJson({\n",
        "    'type': 'FeatureCollection',\n",
        "    'features': features,\n",
        "}, period='PT1M', add_last_point=False).add_to(m)\n",
        "\n",
        "m\n"
      ],
      "metadata": {
        "id": "_5MP_CHULylA"
      },
      "execution_count": null,
      "outputs": []
    },
    {
      "cell_type": "code",
      "source": [],
      "metadata": {
        "id": "ykJq82hfSPn4"
      },
      "execution_count": null,
      "outputs": []
    }
  ]
}