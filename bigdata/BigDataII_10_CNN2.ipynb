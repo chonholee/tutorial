{
  "nbformat": 4,
  "nbformat_minor": 0,
  "metadata": {
    "colab": {
      "name": "BigDataII_10_CNN2.ipynb",
      "provenance": [],
      "collapsed_sections": [],
      "authorship_tag": "ABX9TyM2VYe5vpxLgBvk14EL6JpM",
      "include_colab_link": true
    },
    "kernelspec": {
      "name": "python3",
      "display_name": "Python 3"
    },
    "language_info": {
      "name": "python"
    }
  },
  "cells": [
    {
      "cell_type": "markdown",
      "metadata": {
        "id": "view-in-github",
        "colab_type": "text"
      },
      "source": [
        "<a href=\"https://colab.research.google.com/github/chonholee/tutorial/blob/main/bigdata/BigDataII_10_CNN2.ipynb\" target=\"_parent\"><img src=\"https://colab.research.google.com/assets/colab-badge.svg\" alt=\"Open In Colab\"/></a>"
      ]
    },
    {
      "cell_type": "code",
      "source": [
        "from google.colab import drive\n",
        "drive.mount('/content/drive/')\n",
        "%cd '/content/drive/MyDrive/Lecture_BigData'"
      ],
      "metadata": {
        "colab": {
          "base_uri": "https://localhost:8080/"
        },
        "id": "Zp2DI_WksXmG",
        "outputId": "f65648e7-51cf-4f04-bfca-e274d714313c"
      },
      "execution_count": 1,
      "outputs": [
        {
          "output_type": "stream",
          "name": "stdout",
          "text": [
            "Drive already mounted at /content/drive/; to attempt to forcibly remount, call drive.mount(\"/content/drive/\", force_remount=True).\n",
            "/content/drive/MyDrive/Lecture_BigData\n"
          ]
        }
      ]
    },
    {
      "cell_type": "code",
      "source": [
        "import tensorflow as tf\n",
        "from tensorflow.keras.layers import Dense, GlobalAveragePooling2D\n",
        "from keras.preprocessing import image"
      ],
      "metadata": {
        "id": "_suNgwIqJhr6"
      },
      "execution_count": 2,
      "outputs": []
    },
    {
      "cell_type": "markdown",
      "source": [
        "# Dataset"
      ],
      "metadata": {
        "id": "-Rba8UzO_PVF"
      }
    },
    {
      "cell_type": "code",
      "source": [
        "from tensorflow.keras.preprocessing import image_dataset_from_directory\n",
        "\n",
        "BATCH_SIZE = 32\n",
        "IMG_SIZE = (224, 224)\n",
        "directory = \"petimages-subset/\"\n",
        "train_dataset = image_dataset_from_directory(directory,\n",
        "                                             shuffle=True,\n",
        "                                             batch_size=BATCH_SIZE,\n",
        "                                             image_size=IMG_SIZE,\n",
        "                                             validation_split=0.2,\n",
        "                                             subset='training',\n",
        "                                             seed=42)\n",
        "validation_dataset = image_dataset_from_directory(directory,\n",
        "                                             shuffle=True,\n",
        "                                             batch_size=BATCH_SIZE,\n",
        "                                             image_size=IMG_SIZE,\n",
        "                                             validation_split=0.2,\n",
        "                                             subset='validation',\n",
        "                                             seed=42)"
      ],
      "metadata": {
        "id": "v-2nk5si_OXA"
      },
      "execution_count": null,
      "outputs": []
    },
    {
      "cell_type": "code",
      "source": [
        "import matplotlib.pyplot as plt\n",
        "\n",
        "class_names = train_dataset.class_names\n",
        "print(class_names)\n",
        "\n",
        "plt.figure(figsize=(10, 10))\n",
        "for images, labels in train_dataset.take(1):\n",
        "    for i in range(9):\n",
        "        ax = plt.subplot(3, 3, i + 1)\n",
        "        plt.imshow(images[i].numpy().astype(\"uint8\"))\n",
        "        plt.title(\"{}: {}\".format(labels[i].numpy(), class_names[labels[i]]))\n",
        "        plt.axis(\"off\")"
      ],
      "metadata": {
        "id": "rR9uNiPjAgS-"
      },
      "execution_count": null,
      "outputs": []
    },
    {
      "cell_type": "code",
      "source": [
        "# 正規化\n",
        "norm_layer = tf.keras.layers.experimental.preprocessing.Rescaling(1/255.)\n",
        "\n",
        "norm_train_dataset = train_dataset.map(lambda x, y: (norm_layer(x), y))\n",
        "norm_val_dataset = validation_dataset.map(lambda x, y: (norm_layer(x), y))"
      ],
      "metadata": {
        "id": "zMCoOJRS2-OI"
      },
      "execution_count": 5,
      "outputs": []
    },
    {
      "cell_type": "markdown",
      "source": [
        "# VGG16"
      ],
      "metadata": {
        "id": "BKjaNTSEb6Z6"
      }
    },
    {
      "cell_type": "code",
      "source": [
        "# データの拡張Layerを定義\n",
        "data_augmentation = tf.keras.Sequential([\n",
        "    tf.keras.layers.RandomFlip(\"horizontal_and_vertical\"),\n",
        "    tf.keras.layers.RandomRotation(0.2),\n",
        "])"
      ],
      "metadata": {
        "id": "DdNvCyxRH5s5"
      },
      "execution_count": 25,
      "outputs": []
    },
    {
      "cell_type": "code",
      "source": [
        "#--- Layerの準備 ---\n",
        "\n",
        "IMG_SIZE = (32, 32, 3)\n",
        "\n",
        "# 入力の前処理\n",
        "inputs = tf.keras.Input(shape=(None, None, 3))\n",
        "x = data_augmentation(inputs)\n",
        "x = tf.keras.layers.Lambda(lambda img: tf.image.resize(img, (IMG_SIZE[0], IMG_SIZE[1])))(x)"
      ],
      "metadata": {
        "id": "mDVFfmn4INjF"
      },
      "execution_count": 63,
      "outputs": []
    },
    {
      "cell_type": "code",
      "metadata": {
        "id": "vty2GLN4e7eQ"
      },
      "source": [
        "\"\"\" VGG16 \"\"\"\n",
        "x = tf.keras.layers.Lambda(tf.keras.applications.vgg16.preprocess_input)(x)\n",
        "\n",
        "base_model = tf.keras.applications.vgg16.VGG16(\n",
        "    input_shape=IMG_SIZE,\n",
        "    input_tensor=x,\n",
        "    include_top=False, \n",
        "    weights='imagenet'     \n",
        ")\n",
        "\n",
        "base_model.trainable = True # base model の重みを固定する場合\n",
        "\n",
        "# 全結合層出なくGlobal Average Pooling を使用することで計算量を減らせます\n",
        "GAP_layer = GlobalAveragePooling2D()\n",
        "\n",
        "# 最終層\n",
        "pred_layer = Dense(len(class_names), activation='softmax')\n",
        "\n",
        "#--- モデルの構築 ---\n",
        "model = tf.keras.Sequential([\n",
        "    base_model,\n",
        "    GAP_layer,\n",
        "    pred_layer\n",
        "])"
      ],
      "execution_count": 64,
      "outputs": []
    },
    {
      "cell_type": "code",
      "source": [
        "model.summary()"
      ],
      "metadata": {
        "id": "tJRqdNcXG2id"
      },
      "execution_count": null,
      "outputs": []
    },
    {
      "cell_type": "code",
      "source": [
        "# (3) モデルのコンパイル\n",
        "model.compile(optimizer='Adam',loss='sparse_categorical_crossentropy',metrics=['accuracy'])\n",
        "\n",
        "# (4) モデルの学習開始\n",
        "model.fit(norm_train_dataset, validation_data=norm_val_dataset, epochs=3)"
      ],
      "metadata": {
        "id": "dlcHmcNMGs-Y"
      },
      "execution_count": null,
      "outputs": []
    },
    {
      "cell_type": "code",
      "source": [
        "# 保存\n",
        "model_filename = 'mymodel/vgg16'\n",
        "model.save_weights(model_filename)"
      ],
      "metadata": {
        "id": "bMz22Dl-Zo90"
      },
      "execution_count": 68,
      "outputs": []
    },
    {
      "cell_type": "code",
      "source": [
        "# 読み込み\n",
        "model.load_weights(model_filename)"
      ],
      "metadata": {
        "id": "Bl51UO1fZuHn"
      },
      "execution_count": null,
      "outputs": []
    },
    {
      "cell_type": "code",
      "source": [
        "# 再学習\n",
        "model.fit(norm_train_dataset, validation_data=norm_val_dataset, epochs=3)"
      ],
      "metadata": {
        "id": "vAKjCp32Z__b"
      },
      "execution_count": null,
      "outputs": []
    },
    {
      "cell_type": "code",
      "source": [
        "# 保存\n",
        "model_filename = 'mymodel/vgg16'\n",
        "model.save_weights(model_filename)"
      ],
      "metadata": {
        "id": "IlJk-_T5bjET"
      },
      "execution_count": 71,
      "outputs": []
    },
    {
      "cell_type": "code",
      "source": [
        "import numpy as np\n",
        "\n",
        "for images, labels in validation_dataset.take(1):\n",
        "    imgs = tf.image.resize(images[:2], (IMG_SIZE[0], IMG_SIZE[1]))\n",
        "    outputs = model.predict(imgs) # softmax の結果（信頼度）\n",
        "    predicted = np.argmax(outputs)\n",
        "    print(outputs)\n",
        "    print('predicted class label', predicted)\n",
        "    print('true class label', class_names[labels[i]])"
      ],
      "metadata": {
        "id": "tpN5pr9BcN9g"
      },
      "execution_count": null,
      "outputs": []
    },
    {
      "cell_type": "markdown",
      "source": [
        "# MobileNet V2"
      ],
      "metadata": {
        "id": "SSWnrik9OPn_"
      }
    },
    {
      "cell_type": "code",
      "source": [
        "#--- Layerの準備 ---\n",
        "\n",
        "IMG_SIZE = (96, 96, 3)\n",
        "\n",
        "# 入力の前処理\n",
        "inputs = tf.keras.Input(shape=(None, None, 3))\n",
        "x = data_augmentation(inputs)\n",
        "x = tf.keras.layers.Lambda(lambda img: tf.image.resize(img, (IMG_SIZE[0], IMG_SIZE[1])))(x)\n",
        "x = tf.keras.layers.Lambda(tf.keras.applications.mobilenet_v2.preprocess_input)(x)\n",
        "\n",
        "base_model = tf.keras.applications.MobileNetV2(\n",
        "    input_shape=IMG_SIZE,\n",
        "    input_tensor=x,\n",
        "    include_top = False,  #False にすることで出力層は読み込みません\n",
        "    weights='imagenet')\n",
        "\n",
        "base_model.trainable = True # base model の重みを固定する場合\n",
        "\n",
        "# 全結合層出なくGlobal Average Pooling を使用することで計算量を減らせます\n",
        "GAP_layer = GlobalAveragePooling2D()\n",
        "\n",
        "# 最終層\n",
        "pred_layer = Dense(len(class_names), activation='softmax')\n",
        "\n",
        "#--- モデルの構築 ---\n",
        "model = tf.keras.Sequential([\n",
        "    base_model,\n",
        "    GAP_layer,\n",
        "    pred_layer\n",
        "])"
      ],
      "metadata": {
        "id": "EFQ6MgvhOPJO"
      },
      "execution_count": 58,
      "outputs": []
    },
    {
      "cell_type": "code",
      "source": [
        "model.compile(optimizer='Adam',loss='sparse_categorical_crossentropy',metrics=['accuracy'])\n",
        "model.fit(norm_train_dataset, validation_data=norm_val_dataset, epochs=5)"
      ],
      "metadata": {
        "id": "u93rt_3XOcoq"
      },
      "execution_count": null,
      "outputs": []
    },
    {
      "cell_type": "code",
      "source": [
        "# 保存\n",
        "model_filename = 'mymodel/mobilenetv2'\n",
        "model.save_weights(model_filename)"
      ],
      "metadata": {
        "id": "1U7A_B1bVOCp"
      },
      "execution_count": 59,
      "outputs": []
    },
    {
      "cell_type": "markdown",
      "source": [
        "# ResNet50\n",
        "\n",
        "モデル構築の部分を少し違った描き方で書いています。\n",
        "\n",
        "VGGとMobileNetのサンプルでは、層を定義して最後にまとめていますが\n",
        "\n",
        "以下ResNetのサンプルでは、層を定義すると同時にモデルの構築を行っています。"
      ],
      "metadata": {
        "id": "McNlcKGRnZlH"
      }
    },
    {
      "cell_type": "code",
      "source": [
        "from tensorflow.keras.layers import Input, Add, Dense, Activation, BatchNormalization, Flatten, Conv2D, AveragePooling2D, MaxPooling2D, GlobalMaxPooling2D, Dropout\n",
        "from tensorflow.keras import Model\n",
        "from tensorflow.keras.applications import ResNet50\n",
        "\n",
        "IMG_SIZE = (224, 224, 3)\n",
        "\n",
        "def get_model():\n",
        "    base_model_res50 = ResNet50(\n",
        "        include_top=True, \n",
        "        input_shape=IMG_SIZE,\n",
        "         weights='imagenet')\n",
        "    # take the last global average pooling with fewer parameters\n",
        "    x = base_model_res50.layers[-2].output\n",
        "    \n",
        "    x = Dense(2048)(x)\n",
        "    x = Activation('relu')(x)\n",
        "    x = Dropout(.5)(x)\n",
        "    \n",
        "    x = Dense(2048)(x)\n",
        "    x = Activation('relu')(x)\n",
        "    x = Dropout(.5)(x)\n",
        "    \n",
        "    x = Dense(10)(x)\n",
        "    outputs = Activation('softmax')(x)\n",
        "\n",
        "    model = Model(base_model_res50.input, outputs)\n",
        "    return model"
      ],
      "metadata": {
        "id": "95-aSRK3nSXI"
      },
      "execution_count": 36,
      "outputs": []
    },
    {
      "cell_type": "code",
      "source": [
        "model = get_model()\n",
        "model.compile(optimizer='Adam',loss='sparse_categorical_crossentropy',metrics=['accuracy'])\n",
        "model.fit(norm_train_dataset, validation_data=norm_val_dataset, epochs=5)"
      ],
      "metadata": {
        "id": "gf7zG4wanq2M"
      },
      "execution_count": null,
      "outputs": []
    }
  ]
}