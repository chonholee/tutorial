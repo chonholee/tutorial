{
  "nbformat": 4,
  "nbformat_minor": 0,
  "metadata": {
    "colab": {
      "name": "BigdataII_06_pca_part2.ipynb",
      "provenance": [],
      "collapsed_sections": [
        "EIt00fGv88kW",
        "LiNUCtY39HnH"
      ],
      "mount_file_id": "1iur8LQtb1eU-m_GA8diTStgh0hnaMK_P",
      "authorship_tag": "ABX9TyNCIpC/+UoQlAdJKXD+ZTpW",
      "include_colab_link": true
    },
    "kernelspec": {
      "name": "python3",
      "display_name": "Python 3"
    },
    "language_info": {
      "name": "python"
    }
  },
  "cells": [
    {
      "cell_type": "markdown",
      "metadata": {
        "id": "view-in-github",
        "colab_type": "text"
      },
      "source": [
        "<a href=\"https://colab.research.google.com/github/chonholee/tutorial/blob/main/bigdata/BigdataII_06_pca_part2.ipynb\" target=\"_parent\"><img src=\"https://colab.research.google.com/assets/colab-badge.svg\" alt=\"Open In Colab\"/></a>"
      ]
    },
    {
      "cell_type": "code",
      "metadata": {
        "id": "6bEGcQf6q26X",
        "colab": {
          "base_uri": "https://localhost:8080/"
        },
        "outputId": "c6a229c2-d0b7-4ac8-eca7-c7c07177071c"
      },
      "source": [
        "# いつものDriveマウント\n",
        "\n",
        "from google.colab import drive\n",
        "drive.mount('/content/drive/')\n",
        "%cd '/content/drive/MyDrive/Lecture_BigData'"
      ],
      "execution_count": 6,
      "outputs": [
        {
          "output_type": "stream",
          "name": "stdout",
          "text": [
            "Drive already mounted at /content/drive/; to attempt to forcibly remount, call drive.mount(\"/content/drive/\", force_remount=True).\n",
            "/content/drive/MyDrive/Lecture_BigData\n"
          ]
        }
      ]
    },
    {
      "cell_type": "markdown",
      "metadata": {
        "id": "EIt00fGv88kW"
      },
      "source": [
        "## 主成分分析（PCA） 演習"
      ]
    },
    {
      "cell_type": "code",
      "metadata": {
        "id": "D_2Q6b869C9U"
      },
      "source": [
        "%matplotlib inline\n",
        "import numpy as np\n",
        "import matplotlib.pyplot as plt"
      ],
      "execution_count": null,
      "outputs": []
    },
    {
      "cell_type": "markdown",
      "metadata": {
        "id": "LiNUCtY39HnH"
      },
      "source": [
        "## Matplotlib文字化け対策"
      ]
    },
    {
      "cell_type": "code",
      "metadata": {
        "id": "IUd3vFHN9Cj-"
      },
      "source": [
        "x = range(6)\n",
        "y = np.linspace(0,5,6)\n",
        "\n",
        "plt.plot(x, y)\n",
        "plt.title(\"テスト\")\n",
        "plt.show()"
      ],
      "execution_count": null,
      "outputs": []
    },
    {
      "cell_type": "code",
      "metadata": {
        "id": "r3wpKF0O9Cej"
      },
      "source": [
        "# 「IPA」フォントをインストール\n",
        "!apt-get -y install fonts-ipafont-gothic\n",
        "#!rm /root/.cache/matplotlib/fontlist-v300.json # キャッシュを削除\n",
        "\n",
        "!pip install japanize-matplotlib\n",
        "import japanize_matplotlib #matplotlib日本語化\n",
        "import seaborn as sns\n",
        "sns.set(font=\"IPAexGothic\") #日本語フォント設定"
      ],
      "execution_count": null,
      "outputs": []
    },
    {
      "cell_type": "code",
      "metadata": {
        "id": "ZjSm3pvN9CGG"
      },
      "source": [
        "# タイトル確認\n",
        "plt.plot(x, y)\n",
        "plt.title(\"テスト\")\n",
        "plt.show()"
      ],
      "execution_count": null,
      "outputs": []
    },
    {
      "cell_type": "markdown",
      "metadata": {
        "id": "g5H1pPtI-KMl"
      },
      "source": [
        "## 応用例\n",
        "\n",
        "プロ野球選手50名分のデータ"
      ]
    },
    {
      "cell_type": "code",
      "metadata": {
        "id": "lFFQ6V4Rz90L"
      },
      "source": [
        "import pandas as pd\n",
        "url ='baseball.csv'\n",
        "raw_data = pd.read_csv(\n",
        "    url,\n",
        "    thousands  = ',',\n",
        "    encoding='utf-8'\n",
        ")\n",
        "\n",
        "raw_data.head()"
      ],
      "execution_count": null,
      "outputs": []
    },
    {
      "cell_type": "markdown",
      "metadata": {
        "id": "nv-kELnMJDbx"
      },
      "source": [
        "数値データの標準化\n",
        "StandardScalerを用いてデータを標準化"
      ]
    },
    {
      "cell_type": "code",
      "metadata": {
        "id": "egoUJHGzICVb"
      },
      "source": [
        "from sklearn.preprocessing import StandardScaler\n",
        "raw_data_drop = raw_data.drop(columns=['選手名','順位', 'チーム'] ) # 文字が入るとPCAできないのでcolumnの削除\n",
        "\n",
        "# StandardScalerを用いたdatasetの標準化\n",
        "scaler = StandardScaler()\n",
        "scaler.fit(raw_data_drop)\n",
        "scaler.transform(raw_data_drop)\n",
        "raw_data_drop_normalize = pd.DataFrame(scaler.transform(raw_data_drop), columns=raw_data_drop.columns) # 標準化したdatasetをraw_data_drop_normalizeとする\n",
        "\n",
        "raw_data_drop_normalize.head()"
      ],
      "execution_count": null,
      "outputs": []
    },
    {
      "cell_type": "markdown",
      "metadata": {
        "id": "rRhVp3zP0wyF"
      },
      "source": [
        "\n",
        "PCA 実行（22次元 ⇒ 3次元）"
      ]
    },
    {
      "cell_type": "code",
      "metadata": {
        "id": "7cWYs1wEICDz"
      },
      "source": [
        "from sklearn.decomposition import PCA\n",
        "# raw_data_drop_normalizeを用いたPCA\n",
        "\n",
        "#3軸でPCA classを作成する\n",
        "here\n",
        "#fitting、実際のPCA処理はここ\n",
        "here\n",
        "\n",
        "# PCAの結果はarrayで返ってくるのでをData.Frameにする\n",
        "pca_result = pca.transform(raw_data_drop_normalize)\n",
        "pca_result = pd.DataFrame(pca_result)\n",
        "pca_result.columns = ['PC1', 'PC2', 'PC3'] \n",
        "\n",
        "pca_result.head()"
      ],
      "execution_count": null,
      "outputs": []
    },
    {
      "cell_type": "markdown",
      "metadata": {
        "id": "T-wpVWdZ02v0"
      },
      "source": [
        "クラスタリング"
      ]
    },
    {
      "cell_type": "code",
      "metadata": {
        "id": "3v4XiXElLqPD"
      },
      "source": [
        "from sklearn.cluster import KMeans\n",
        "#クラスタリング\n",
        "num_cluster = 4\n",
        "color = [\"red\", \"blue\", \"green\", \"orange\"] # クラスタリング用の色\n",
        "\n",
        "# KMeans\n",
        "here\n",
        "\n",
        "pca_result_cluster.labels_"
      ],
      "execution_count": null,
      "outputs": []
    },
    {
      "cell_type": "code",
      "metadata": {
        "id": "wBLKTESENPn3"
      },
      "source": [
        "player_name = raw_data['選手名'] # annotation用に格納\n",
        "pca_result[\"name\"] = player_name\n",
        "pca_result[\"cluster\"] = pca_result_cluster.labels_\n",
        "pca_result.head()"
      ],
      "execution_count": null,
      "outputs": []
    },
    {
      "cell_type": "markdown",
      "metadata": {
        "id": "AL8RrAsm0-z4"
      },
      "source": [
        "3D 描画"
      ]
    },
    {
      "cell_type": "code",
      "metadata": {
        "id": "ynO48J-MIoiK"
      },
      "source": [
        "import matplotlib.pyplot as plt\n",
        "from matplotlib.text import Annotation\n",
        "from mpl_toolkits.mplot3d.proj3d import proj_transform\n",
        "from mpl_toolkits.mplot3d.axes3d import Axes3D\n",
        "from PIL import Image # アニメーション用\n",
        "from matplotlib import animation # アニメーション用\n",
        "from io import BytesIO # アニメーション用"
      ],
      "execution_count": 12,
      "outputs": []
    },
    {
      "cell_type": "code",
      "metadata": {
        "id": "OiQKT9S7HdiR"
      },
      "source": [
        "class Annotation3D(Annotation):\n",
        "    '''Annotate the point xyz with text s'''\n",
        "\n",
        "    def __init__(self, s, xyz, *args, **kwargs):\n",
        "        Annotation.__init__(self,s, xy=(0,0), *args, **kwargs)\n",
        "        self._verts3d = xyz\n",
        "\n",
        "    def draw(self, renderer):\n",
        "        xs3d, ys3d, zs3d = self._verts3d\n",
        "        xs, ys, zs = proj_transform(xs3d, ys3d, zs3d, renderer.M)\n",
        "        self.xy=(xs,ys)\n",
        "        Annotation.draw(self, renderer)\n",
        "\n",
        "# annotate3Dを定義\n",
        "def annotate3D(ax, s, *args, **kwargs):\n",
        "    '''add anotation text s to to Axes3d ax'''\n",
        "\n",
        "    tag = Annotation3D(s, *args, **kwargs)\n",
        "    ax.add_artist(tag)"
      ],
      "execution_count": 13,
      "outputs": []
    },
    {
      "cell_type": "code",
      "metadata": {
        "id": "2sYMVwFAyKxl"
      },
      "source": [
        "# plot_3Dを定義\n",
        "def plot_3D(data, angle = 50):\n",
        "    # 3d plot用Figure\n",
        "    fig = plt.figure(num=None, figsize=(12, 12), dpi=72)\n",
        "    ax = fig.gca(projection = '3d')\n",
        "    for i in range(len(data.index)):\n",
        "        ax.scatter3D(data.iloc[i,0], data.iloc[i,1],data.iloc[i,2], c=color[int(data.iloc[i,4])]) # プロットの座標を指定\n",
        "        annotate3D(ax, s=str(data.iloc[i,3]), xyz=(data.iloc[i,0], data.iloc[i,1],data.iloc[i,2]),\n",
        "        fontsize=12,\n",
        "        xytext=(-3,3),\n",
        "        textcoords='offset points', ha='right',va='bottom', fontname=\"IPAexGothic\") # annotation\n",
        "    ax.view_init(30, angle)\n",
        "    ax.set_xlim(data.describe().at['min', 'PC1'], data.describe().at['max', 'PC1'])\n",
        "    ax.set_ylim(data.describe().at['min', 'PC2'], data.describe().at['max', 'PC2'])\n",
        "    ax.set_zlim(data.describe().at['min', 'PC3'], data.describe().at['max', 'PC3'])\n",
        "    ax.set_xlabel('PC1 ' + str(round(pca.explained_variance_ratio_[0]*100, 1)) + \"%\") # 軸に寄与率を表示\n",
        "    ax.set_ylabel('PC2 ' + str(round(pca.explained_variance_ratio_[1]*100, 1)) + \"%\")\n",
        "    ax.set_zlabel('PC3 ' + str(round(pca.explained_variance_ratio_[2]*100, 1)) + \"%\")\n",
        "    buf = BytesIO()\n",
        "    fig.savefig(buf, bbox_inches='tight', pad_inches=0.0)\n",
        "    return Image.open(buf)\n",
        "\n",
        "plot_3D(pca_result)\n",
        "plt.show()"
      ],
      "execution_count": null,
      "outputs": []
    },
    {
      "cell_type": "code",
      "metadata": {
        "id": "wa7tMZuQzWQ8"
      },
      "source": [
        "# gif animationを作る場合\n",
        "#images = [plot_3D(pca_result,angle) for angle in range(180)]\n",
        "#images[0].save('dataset_temp/output.gif', save_all=True, append_images=images[1:], duration=100, loop=0)"
      ],
      "execution_count": null,
      "outputs": []
    }
  ]
}