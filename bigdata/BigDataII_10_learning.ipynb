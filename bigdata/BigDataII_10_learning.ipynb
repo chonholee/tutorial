{
  "cells": [
    {
      "cell_type": "markdown",
      "metadata": {
        "id": "view-in-github",
        "colab_type": "text"
      },
      "source": [
        "<a href=\"https://colab.research.google.com/github/chonholee/tutorial/blob/main/bigdata/BigDataII_10_learning.ipynb\" target=\"_parent\"><img src=\"https://colab.research.google.com/assets/colab-badge.svg\" alt=\"Open In Colab\"/></a>"
      ]
    },
    {
      "cell_type": "code",
      "execution_count": null,
      "metadata": {
        "id": "Yc3rLCs6n0_K"
      },
      "outputs": [],
      "source": [
        "from google.colab import drive\n",
        "drive.mount('/content/drive')\n",
        "\n",
        "%cd /content/drive/MyDrive/XXX"
      ]
    },
    {
      "cell_type": "markdown",
      "metadata": {
        "id": "oG_Ih-LJWVQe"
      },
      "source": [
        "# モデルの学習"
      ]
    },
    {
      "cell_type": "markdown",
      "metadata": {
        "id": "zUlcBLv5oQjo"
      },
      "source": [
        "## 10.0 事前準備"
      ]
    },
    {
      "cell_type": "code",
      "execution_count": null,
      "metadata": {
        "id": "AbiVE7SfWVQh"
      },
      "outputs": [],
      "source": [
        "# 必要ライブラリのインストール\n",
        "\n",
        "!pip install japanize_matplotlib | tail -n 1\n",
        "!pip install torchviz | tail -n 1"
      ]
    },
    {
      "cell_type": "code",
      "execution_count": null,
      "metadata": {
        "id": "qdBSAV7jWVQi"
      },
      "outputs": [],
      "source": [
        "# 必要ライブラリのインポート\n",
        "\n",
        "%matplotlib inline\n",
        "import numpy as np\n",
        "import matplotlib.pyplot as plt\n",
        "import japanize_matplotlib\n",
        "from IPython.display import display"
      ]
    },
    {
      "cell_type": "code",
      "execution_count": null,
      "metadata": {
        "id": "qY_7aVQMWVQi"
      },
      "outputs": [],
      "source": [
        "# PyTorch関連ライブラリ\n",
        "import torch\n",
        "from torchviz import make_dot"
      ]
    },
    {
      "cell_type": "code",
      "execution_count": null,
      "metadata": {
        "id": "2zhf9g-hWVQi"
      },
      "outputs": [],
      "source": [
        "# デフォルトフォントサイズ変更\n",
        "plt.rcParams['font.size'] = 14\n",
        "\n",
        "# デフォルトグラフサイズ変更\n",
        "plt.rcParams['figure.figsize'] = (6,6)\n",
        "\n",
        "# デフォルトで方眼表示ON\n",
        "plt.rcParams['axes.grid'] = True\n",
        "\n",
        "# numpyの浮動小数点の表示精度\n",
        "np.set_printoptions(suppress=True, precision=4)"
      ]
    },
    {
      "cell_type": "code",
      "execution_count": null,
      "metadata": {
        "id": "gA7kd5H9kPxI"
      },
      "outputs": [],
      "source": [
        "# warning表示off\n",
        "import warnings\n",
        "warnings.simplefilter('ignore')"
      ]
    },
    {
      "cell_type": "markdown",
      "metadata": {
        "id": "iGBUENgrWVQj"
      },
      "source": [
        "## 10.1 勾配降下法の実装例"
      ]
    },
    {
      "cell_type": "markdown",
      "metadata": {
        "id": "VemD4GfgeiCa"
      },
      "source": [
        "$L = 3u^2+3v^2-uv+7u-7v+10$\n",
        "\n",
        "$\\dfrac{dL}{du} = 6u-v+7$\n",
        "\n",
        "$\\dfrac{dL}{dv} = 6v-u+7$\n"
      ]
    },
    {
      "cell_type": "code",
      "execution_count": null,
      "metadata": {
        "id": "wPlWOAXPWVQj"
      },
      "outputs": [],
      "source": [
        "def L(u, v):\n",
        "    return\n",
        "\n",
        "def Lu(u, v):\n",
        "    return\n",
        "\n",
        "def Lv(u, v):\n",
        "    return\n",
        "\n",
        "u = np.linspace(-5, 5, 501)\n",
        "v = np.linspace(-5, 5, 501)\n",
        "\n",
        "U, V = np.meshgrid(u, v)    # uとvの座標点の全組み合わせを作成\n",
        "\n",
        "Z = L(U, V)                 # 全組み合わせに対する値"
      ]
    },
    {
      "cell_type": "markdown",
      "metadata": {
        "id": "vbCuFLmvfVf8"
      },
      "source": [
        "**勾配降下法のシミュレーション**\n",
        "\n",
        "パラメータの修正　$w_{i,j} = w_{i.j} - \\alpha \\dfrac{dL}{dw_{i,j}}$"
      ]
    },
    {
      "cell_type": "code",
      "execution_count": null,
      "metadata": {
        "id": "gfvzBvD9WVQj"
      },
      "outputs": [],
      "source": [
        "W = np.array([4.0, 4.0])\n",
        "W1 = [W[0]] # リスト\n",
        "W2 = [W[1]] # リスト\n",
        "N = 21\n",
        "alpha = 0.05\n",
        "for i in range(N):\n",
        "    W = here\n",
        "    W1.append(W[0])\n",
        "    W2.append(W[1])"
      ]
    },
    {
      "cell_type": "code",
      "execution_count": null,
      "metadata": {
        "id": "6cuL2_OI-3Yq"
      },
      "outputs": [],
      "source": [
        "L(W[0], W[1])  # <--- N回学習させたときのLの値（最小値かどうかはまだわからない）"
      ]
    },
    {
      "cell_type": "code",
      "execution_count": null,
      "metadata": {
        "id": "mgskTLUd-9bz"
      },
      "outputs": [],
      "source": [
        "W #その時のパラメータの値"
      ]
    },
    {
      "cell_type": "code",
      "execution_count": null,
      "metadata": {
        "id": "fnaOfU2mWVQk"
      },
      "outputs": [],
      "source": [
        "n_loop=11\n",
        "\n",
        "WW1 = np.array(W1[:n_loop])\n",
        "WW2 = np.array(W2[:n_loop])\n",
        "ZZ = L(WW1, WW2)\n",
        "fig = plt.figure(figsize=(8,8))\n",
        "ax = plt.axes(projection='3d')\n",
        "ax.set_zlim(0,250)\n",
        "ax.set_xlabel('W')\n",
        "ax.set_ylabel('B')\n",
        "ax.set_zlabel('loss')\n",
        "ax.view_init(50, 240)\n",
        "ax.xaxis._axinfo[\"grid\"]['linewidth'] = 2.\n",
        "ax.yaxis._axinfo[\"grid\"]['linewidth'] = 2.\n",
        "ax.zaxis._axinfo[\"grid\"]['linewidth'] = 2.\n",
        "ax.contour3D(U, V, Z, 100, cmap='Blues', alpha=0.7)\n",
        "ax.plot3D(WW1, WW2, ZZ, 'o-', c='k', alpha=1, markersize=7)\n",
        "plt.show()"
      ]
    },
    {
      "cell_type": "markdown",
      "source": [
        "# 学習のステップ"
      ],
      "metadata": {
        "id": "STsHBEeA5tQa"
      }
    },
    {
      "cell_type": "markdown",
      "metadata": {
        "id": "IagA2uPTWVQk"
      },
      "source": [
        "データ前処理\n",
        "\n",
        "5人の人の身長と体重のデータを使う。  \n",
        "1次関数で身長から体重を予測する場合、最適な直線を求めることが目的。"
      ]
    },
    {
      "cell_type": "code",
      "execution_count": null,
      "metadata": {
        "id": "2cnCsxQTWVQk"
      },
      "outputs": [],
      "source": [
        "# サンプルデータの宣言\n",
        "sampleData1 = np.array([\n",
        "    [166, 58.7],\n",
        "    [176.0, 75.7],\n",
        "    [171.0, 62.1],\n",
        "    [173.0, 70.4],\n",
        "    [169.0,60.1]\n",
        "])\n",
        "print(sampleData1)"
      ]
    },
    {
      "cell_type": "code",
      "execution_count": null,
      "metadata": {
        "id": "B6ie37XyWVQk"
      },
      "outputs": [],
      "source": [
        "# 機械学習モデルで扱うため、身長だけを抜き出した変数xと\n",
        "# 体重だけを抜き出した変数yをセットする\n",
        "\n",
        "x = sampleData1[:, 0]\n",
        "y = sampleData1[:, 1]\n",
        "print(x)\n",
        "print(y)"
      ]
    },
    {
      "cell_type": "code",
      "execution_count": null,
      "metadata": {
        "id": "jTIpXh0AWVQl"
      },
      "outputs": [],
      "source": [
        "# 散布図表示で状況の確認\n",
        "\n",
        "plt.scatter(x,  y,  c='k',  s=50)\n",
        "plt.xlabel('$x$: 身長(cm) ')\n",
        "plt.ylabel('$y$: 体重(kg)')\n",
        "plt.title('身長と体重の関係')\n",
        "plt.show()"
      ]
    },
    {
      "cell_type": "markdown",
      "metadata": {
        "id": "_234fjkjWVQl"
      },
      "source": [
        "### 座標系の変換\n",
        "機械学習モデルでは、データは0に近い値を持つことが望ましい。  \n",
        "そこで、x, y ともに平均値が0になるように平行移動し、新しい座標系をX, Yとする。"
      ]
    },
    {
      "cell_type": "code",
      "execution_count": null,
      "metadata": {
        "id": "lCP56aC2WVQl"
      },
      "outputs": [],
      "source": [
        "X = x - x.mean()\n",
        "Y = y - y.mean()"
      ]
    },
    {
      "cell_type": "code",
      "execution_count": null,
      "metadata": {
        "id": "gKOh_PZcWVQl"
      },
      "outputs": [],
      "source": [
        "# 散布図表示で結果の確認\n",
        "\n",
        "plt.scatter(X,  Y,  c='k',  s=50)\n",
        "plt.xlabel('$X$')\n",
        "plt.ylabel('$Y$')\n",
        "plt.title('加工後の身長と体重の関係')\n",
        "plt.show()"
      ]
    },
    {
      "cell_type": "markdown",
      "metadata": {
        "id": "9z4qsfhFWVQm"
      },
      "source": [
        "## 10.2 予測計算"
      ]
    },
    {
      "cell_type": "code",
      "execution_count": null,
      "metadata": {
        "id": "b9D0ASQnWVQm"
      },
      "outputs": [],
      "source": [
        "# XとYをテンソル変数化する\n",
        "\n",
        "X = torch.tensor(X).float()\n",
        "Y = torch.tensor(Y).float()"
      ]
    },
    {
      "cell_type": "code",
      "execution_count": null,
      "metadata": {
        "id": "g9Fyxbb9WVQm"
      },
      "outputs": [],
      "source": [
        "# 結果確認\n",
        "\n",
        "print(X)\n",
        "print(Y)"
      ]
    },
    {
      "cell_type": "code",
      "execution_count": null,
      "metadata": {
        "id": "OVQNoaiPWVQm"
      },
      "outputs": [],
      "source": [
        "# 重み変数の定義\n",
        "# WとBは勾配計算をするので、requires_grad=Trueとする\n",
        "\n",
        "W = torch.tensor(1.0, requires_grad=True).float()\n",
        "B = torch.tensor(1.0, requires_grad=True).float()\n",
        "print(W, B)"
      ]
    },
    {
      "cell_type": "code",
      "execution_count": null,
      "metadata": {
        "id": "q4HHhAmEWVQm"
      },
      "outputs": [],
      "source": [
        "# 身長と体重の関係式を求める\n",
        "# 予測関数は一次関数（線形回帰）\n",
        "\n",
        "def pred(X):\n",
        "    f = W * X + B\n",
        "    return f"
      ]
    },
    {
      "cell_type": "code",
      "execution_count": null,
      "metadata": {
        "id": "3xEp5gkLWVQm"
      },
      "outputs": [],
      "source": [
        "# 予測値の計算\n",
        "\n",
        "Yp =  pred(X)"
      ]
    },
    {
      "cell_type": "code",
      "execution_count": null,
      "metadata": {
        "id": "bwhCnsfaWVQn"
      },
      "outputs": [],
      "source": [
        "# 結果標示\n",
        "\n",
        "print(Yp)"
      ]
    },
    {
      "cell_type": "code",
      "execution_count": null,
      "metadata": {
        "id": "fZiEnFwGWVQn"
      },
      "outputs": [],
      "source": [
        "# 予測値の計算グラフ可視化\n",
        "\n",
        "params = {'W': W, 'B': B}\n",
        "g = make_dot(Yp, params=params)\n",
        "display(g)"
      ]
    },
    {
      "cell_type": "markdown",
      "metadata": {
        "id": "oCQtvOFIWVQn"
      },
      "source": [
        "## 10.3 損失計算"
      ]
    },
    {
      "cell_type": "code",
      "execution_count": null,
      "metadata": {
        "id": "cF2BCiT8WVQn"
      },
      "outputs": [],
      "source": [
        "# 損失関数は誤差二乗平均\n",
        "\n",
        "def mse(Yp, Y):\n",
        "    loss = ((Yp - Y) ** 2).mean()\n",
        "    return loss"
      ]
    },
    {
      "cell_type": "code",
      "execution_count": null,
      "metadata": {
        "id": "x3kkCiw3WVQo"
      },
      "outputs": [],
      "source": [
        "# 損失計算\n",
        "# 予測値 Yp と 真値 Y\n",
        "\n",
        "here"
      ]
    },
    {
      "cell_type": "code",
      "execution_count": null,
      "metadata": {
        "id": "1on3xqQOWVQo"
      },
      "outputs": [],
      "source": [
        "# 結果標示\n",
        "\n",
        "print(loss)"
      ]
    },
    {
      "cell_type": "code",
      "execution_count": null,
      "metadata": {
        "id": "zMX3tYAgWVQo"
      },
      "outputs": [],
      "source": [
        "# 損失の計算グラフ可視化\n",
        "\n",
        "params = {'W': W, 'B': B}\n",
        "g = make_dot(loss, params=params)\n",
        "display(g)"
      ]
    },
    {
      "cell_type": "markdown",
      "metadata": {
        "id": "txlLD4dzWVQo"
      },
      "source": [
        "## 10.4 勾配計算"
      ]
    },
    {
      "cell_type": "code",
      "execution_count": null,
      "metadata": {
        "id": "mu7g47KbWVQo"
      },
      "outputs": [],
      "source": [
        "# 勾配計算\n",
        "\n",
        "here"
      ]
    },
    {
      "cell_type": "code",
      "execution_count": null,
      "metadata": {
        "id": "2D-kcOFsWVQo"
      },
      "outputs": [],
      "source": [
        "# 勾配値確認\n",
        "\n",
        "print(W.grad)\n",
        "print(B.grad)"
      ]
    },
    {
      "cell_type": "markdown",
      "metadata": {
        "id": "KZhFz91XWVQp"
      },
      "source": [
        "## 10.5 パラメータ修正"
      ]
    },
    {
      "cell_type": "code",
      "execution_count": null,
      "metadata": {
        "id": "x6MvVkl2WVQp"
      },
      "outputs": [],
      "source": [
        "# 学習率の定義\n",
        "\n",
        "lr = 0.001"
      ]
    },
    {
      "cell_type": "code",
      "execution_count": null,
      "metadata": {
        "id": "0AUYCS2zWVQp"
      },
      "outputs": [],
      "source": [
        "#  勾配を元にパラメータ修正\n",
        "\n",
        "W = here\n",
        "B = here"
      ]
    },
    {
      "cell_type": "markdown",
      "metadata": {
        "id": "jZKWqFp3WVQp"
      },
      "source": [
        "WとBは一度計算済みなので、この状態で値の更新ができない  \n",
        "次の書き方にする必要がある"
      ]
    },
    {
      "cell_type": "code",
      "execution_count": null,
      "metadata": {
        "id": "mWA2IVKjWVQp"
      },
      "outputs": [],
      "source": [
        "# 勾配を元にパラメータ修正\n",
        "# with torch.no_grad() を付ける必要がある\n",
        "\n",
        "with torch.no_grad():\n",
        "    W = here\n",
        "    B = here\n",
        "\n",
        "    # 計算済みの勾配値をリセットする\n",
        "    W.grad.zero_()\n",
        "    B.grad.zero_()"
      ]
    },
    {
      "cell_type": "code",
      "execution_count": null,
      "metadata": {
        "id": "35hOEh7nWVQp"
      },
      "outputs": [],
      "source": [
        "# パラメータと勾配値の確認\n",
        "\n",
        "print(W)\n",
        "print(B)\n",
        "print(W.grad)\n",
        "print(B.grad)"
      ]
    },
    {
      "cell_type": "markdown",
      "metadata": {
        "id": "Q65yjJyaWVQq"
      },
      "source": [
        "元の値はどちらも1.0だったので、Wは微少量増加、Bは微少量減少したことがわかる。  \n",
        "この計算を繰り返すことで、最適なWとBを求めるのが勾配降下法となる。"
      ]
    },
    {
      "cell_type": "markdown",
      "metadata": {
        "id": "gOEcs_OEWVQq"
      },
      "source": [
        "## 10.6 繰り返し計算"
      ]
    },
    {
      "cell_type": "code",
      "execution_count": null,
      "metadata": {
        "id": "EGJHgK6QWVQq"
      },
      "outputs": [],
      "source": [
        "# 初期化\n",
        "\n",
        "# WとBを変数として扱う\n",
        "W = torch.tensor(1.0, requires_grad=True).float()\n",
        "B = torch.tensor(1.0, requires_grad=True).float()\n",
        "\n",
        "# 繰り返し回数\n",
        "num_epochs = 500\n",
        "\n",
        "# 学習率\n",
        "lr = 0.001\n",
        "\n",
        "# 記録用配列初期化\n",
        "history = np.zeros((0, 2))"
      ]
    },
    {
      "cell_type": "code",
      "execution_count": null,
      "metadata": {
        "id": "2hKkaSI0WVQq",
        "scrolled": true
      },
      "outputs": [],
      "source": [
        "# ループ処理\n",
        "\n",
        "for epoch in range(num_epochs):\n",
        "\n",
        "    # 予測計算\n",
        "    here\n",
        "\n",
        "    # 損失計算\n",
        "    here\n",
        "\n",
        "    # 勾配計算\n",
        "    here\n",
        "\n",
        "    with torch.no_grad():\n",
        "        # パラメータ修正\n",
        "        here\n",
        "\n",
        "        # 勾配値の初期化\n",
        "        W.grad.zero_()\n",
        "        B.grad.zero_()\n",
        "\n",
        "    # 損失の記録\n",
        "    if (epoch %10 == 0):\n",
        "        item = np.array([epoch, loss.item()])\n",
        "        history = np.vstack((history, item))\n",
        "        print(f'epoch = {epoch}  loss = {loss:.4f}')\n"
      ]
    },
    {
      "cell_type": "markdown",
      "metadata": {
        "id": "cPLhlv-1WVQr"
      },
      "source": [
        "## 10.7 結果確認"
      ]
    },
    {
      "cell_type": "code",
      "execution_count": null,
      "metadata": {
        "id": "Brcug2NCWVQr"
      },
      "outputs": [],
      "source": [
        "# パラメータの最終値\n",
        "print('W = ', W.data.numpy())\n",
        "print('B = ', B.data.numpy())\n",
        "\n",
        "#損失の確認\n",
        "print(f'初期状態: 損失:{history[0,1]:.4f}')\n",
        "print(f'最終状態: 損失:{history[-1,1]:.4f}')"
      ]
    },
    {
      "cell_type": "code",
      "execution_count": null,
      "metadata": {
        "id": "i3FiFYspWVQr"
      },
      "outputs": [],
      "source": [
        "# 学習曲線の表示 (損失)\n",
        "\n",
        "plt.plot(history[:,0], history[:,1], 'b')\n",
        "plt.xlabel('繰り返し回数')\n",
        "plt.ylabel('損失')\n",
        "plt.title('学習曲線(損失)')\n",
        "plt.show()"
      ]
    },
    {
      "cell_type": "markdown",
      "metadata": {
        "id": "iPiwKDduWVQr"
      },
      "source": [
        "### 散布図に回帰直線を重ね書きする"
      ]
    },
    {
      "cell_type": "code",
      "execution_count": null,
      "metadata": {
        "id": "dn2ArxQqWVQr"
      },
      "outputs": [],
      "source": [
        "# xの範囲を求める(Xrange)\n",
        "X_max = X.max()\n",
        "X_min = X.min()\n",
        "X_range = np.array((X_min, X_max))\n",
        "X_range = torch.from_numpy(X_range).float()\n",
        "print(X_range)\n",
        "\n",
        "# 対応するyの予測値を求める\n",
        "Y_range = pred(X_range)\n",
        "print(Y_range.data)"
      ]
    },
    {
      "cell_type": "code",
      "execution_count": null,
      "metadata": {
        "id": "WvXDYaK5WVQr"
      },
      "outputs": [],
      "source": [
        "# グラフ描画\n",
        "\n",
        "plt.scatter(X,  Y,  c='k',  s=50)\n",
        "plt.xlabel('$X$')\n",
        "plt.ylabel('$Y$')\n",
        "plt.plot(X_range.data, Y_range.data, lw=2, c='b')\n",
        "plt.title('身長と体重の相関直線(加工後)')\n",
        "plt.show()"
      ]
    },
    {
      "cell_type": "markdown",
      "metadata": {
        "id": "xmt4XrNbWVQs"
      },
      "source": [
        "### 加工前データへの回帰直線描画"
      ]
    },
    {
      "cell_type": "code",
      "execution_count": null,
      "metadata": {
        "id": "aFlvzzxaWVQs"
      },
      "outputs": [],
      "source": [
        "# y座標値とx座標値の計算\n",
        "\n",
        "x_range = X_range + x.mean()\n",
        "yp_range = Y_range + y.mean()"
      ]
    },
    {
      "cell_type": "code",
      "execution_count": null,
      "metadata": {
        "id": "jjbHJh7cWVQs"
      },
      "outputs": [],
      "source": [
        "# グラフ描画\n",
        "\n",
        "plt.scatter(x,  y,  c='k',  s=50)\n",
        "plt.xlabel('$x$')\n",
        "plt.ylabel('$y$')\n",
        "plt.plot(x_range, yp_range.data, lw=2, c='b')\n",
        "plt.title('身長と体重の相関直線(加工前)')\n",
        "plt.show()"
      ]
    },
    {
      "cell_type": "markdown",
      "metadata": {
        "id": "jbY0y976WVQs"
      },
      "source": [
        "## 10.8 最適化関数とstep関数の利用"
      ]
    },
    {
      "cell_type": "code",
      "execution_count": null,
      "metadata": {
        "id": "MFBuUEHgWVQs"
      },
      "outputs": [],
      "source": [
        "# 初期化\n",
        "\n",
        "# WとBを変数として扱う\n",
        "W = torch.tensor(1.0, requires_grad=True).float()\n",
        "B = torch.tensor(1.0, requires_grad=True).float()\n",
        "\n",
        "# 繰り返し回数\n",
        "num_epochs = 500\n",
        "\n",
        "# 学習率\n",
        "lr = 0.001\n",
        "\n",
        "# optimizerとしてSGD(確率的勾配降下法)を指定する\n",
        "import torch.optim as optim\n",
        "optimizer = optim.SGD([W, B], lr=lr)\n",
        "\n",
        "# 記録用配列初期化\n",
        "history = np.zeros((0, 2))"
      ]
    },
    {
      "cell_type": "code",
      "execution_count": null,
      "metadata": {
        "id": "DQRx7YQuWVQs"
      },
      "outputs": [],
      "source": [
        "# ループ処理\n",
        "\n",
        "for epoch in range(num_epochs):\n",
        "\n",
        "    # 予測計算\n",
        "    Yp = pred(X)\n",
        "\n",
        "    # 損失計算\n",
        "    loss = mse(Yp, Y)\n",
        "\n",
        "    # 勾配計算\n",
        "    loss.backward()\n",
        "\n",
        "    # パラメータ修正\n",
        "    here\n",
        "\n",
        "    #勾配値初期化\n",
        "    here\n",
        "\n",
        "    # 損失値の記録\n",
        "    if (epoch %10 == 0):\n",
        "        item = np.array([epoch, loss.item()])\n",
        "        history = np.vstack((history, item))\n",
        "        print(f'epoch = {epoch}  loss = {loss:.4f}')"
      ]
    },
    {
      "cell_type": "markdown",
      "metadata": {
        "id": "JygdEs1VjsKI"
      },
      "source": [
        "10.8 の結果と同じか確認"
      ]
    },
    {
      "cell_type": "code",
      "execution_count": null,
      "metadata": {
        "id": "IPNHGAdeWVQt"
      },
      "outputs": [],
      "source": [
        "# パラメータの最終値\n",
        "print('W = ', W.data.numpy())\n",
        "print('B = ', B.data.numpy())\n",
        "\n",
        "#損失の確認\n",
        "print(f'初期状態: 損失:{history[0,1]:.4f}')\n",
        "print(f'最終状態: 損失:{history[-1,1]:.4f}')"
      ]
    },
    {
      "cell_type": "code",
      "execution_count": null,
      "metadata": {
        "id": "Gllq7RCrWVQt",
        "scrolled": false
      },
      "outputs": [],
      "source": [
        "# 学習曲線の表示 (損失)\n",
        "\n",
        "plt.plot(history[:,0], history[:,1], 'b')\n",
        "plt.xlabel('繰り返し回数')\n",
        "plt.ylabel('損失')\n",
        "plt.title('学習曲線(損失)')\n",
        "plt.show()"
      ]
    },
    {
      "cell_type": "markdown",
      "metadata": {
        "id": "8xhELdZxWVQt"
      },
      "source": [
        "10.8の結果と見比べるとまったく同じであることがわかる。  \n",
        "つまり、step関数でやっていることは、次のコードと同じ。\n",
        "\n",
        "```py3\n",
        "\n",
        " with torch.no_grad():\n",
        "        # パラメータ修正 (フレームワークを使う場合はstep関数)\n",
        "        W -= lr * W.grad\n",
        "        B -= lr * B.grad\n",
        "```"
      ]
    },
    {
      "cell_type": "markdown",
      "metadata": {
        "id": "llF8abxMWVQt"
      },
      "source": [
        "### 最適化関数のチューニング\n",
        "\n",
        "momentumを追加（学習を速くする工夫）"
      ]
    },
    {
      "cell_type": "code",
      "execution_count": null,
      "metadata": {
        "id": "PJrzSRW4WVQt"
      },
      "outputs": [],
      "source": [
        "# 初期化\n",
        "\n",
        "# WとBを変数として扱う\n",
        "W = torch.tensor(1.0, requires_grad=True).float()\n",
        "B = torch.tensor(1.0, requires_grad=True).float()\n",
        "\n",
        "# 繰り返し回数\n",
        "num_epochs = 500\n",
        "\n",
        "# 学習率\n",
        "lr = 0.001\n",
        "\n",
        "# optimizerとしてSGD(確率的勾配降下法)を指定する\n",
        "import torch.optim as optim\n",
        "optimizer = optim.SGD([W, B], lr=lr, momentum=0.9)\n",
        "\n",
        "# 記録用配列初期化\n",
        "history2 = np.zeros((0, 2))"
      ]
    },
    {
      "cell_type": "code",
      "execution_count": null,
      "metadata": {
        "id": "zgsU861zWVQt"
      },
      "outputs": [],
      "source": [
        "# ループ処理\n",
        "\n",
        "for epoch in range(num_epochs):\n",
        "\n",
        "    # 予測計算\n",
        "    Yp = pred(X)\n",
        "\n",
        "    # 損失計算\n",
        "    loss = mse(Yp, Y)\n",
        "\n",
        "    # 勾配計算\n",
        "    loss.backward()\n",
        "\n",
        "    # パラメータ修正\n",
        "    optimizer.step()\n",
        "\n",
        "    #勾配値初期化\n",
        "    optimizer.zero_grad()\n",
        "\n",
        "    # 損失値の記録\n",
        "    if (epoch %10 == 0):\n",
        "        item = np.array([epoch, loss.item()])\n",
        "        history2 = np.vstack((history2, item))\n",
        "        print(f'epoch = {epoch}  loss = {loss:.4f}')\n"
      ]
    },
    {
      "cell_type": "code",
      "execution_count": null,
      "metadata": {
        "id": "e1BTUhNSWVQu"
      },
      "outputs": [],
      "source": [
        "# 学習曲線の表示 (損失)\n",
        "\n",
        "plt.plot(history[:,0], history[:,1], 'b', label='デフォルト設定')\n",
        "plt.plot(history2[:,0], history2[:,1], 'k', label='momentum=0.9')\n",
        "plt.xlabel('繰り返し回数')\n",
        "plt.ylabel('損失')\n",
        "plt.legend()\n",
        "plt.title('学習曲線(損失)')\n",
        "plt.show()"
      ]
    },
    {
      "cell_type": "code",
      "source": [],
      "metadata": {
        "id": "vARkzlrt0jIf"
      },
      "execution_count": null,
      "outputs": []
    },
    {
      "cell_type": "markdown",
      "source": [
        "# MLPの学習"
      ],
      "metadata": {
        "id": "p8u6nGRG6OKP"
      }
    },
    {
      "cell_type": "markdown",
      "source": [
        "## 10.9 アヤメの種類の分類"
      ],
      "metadata": {
        "id": "sGAYoJu3MYQj"
      }
    },
    {
      "cell_type": "code",
      "source": [
        "import torch\n",
        "from torch.autograd import Variable\n",
        "import torch.nn as nn\n",
        "import torch.nn.functional as F\n",
        "import torch.optim as optim\n",
        "import numpy as np\n",
        "from sklearn import datasets\n",
        "from sklearn.model_selection import train_test_split"
      ],
      "metadata": {
        "id": "y8BKrBbuPSi3"
      },
      "execution_count": null,
      "outputs": []
    },
    {
      "cell_type": "markdown",
      "metadata": {
        "id": "lhUfgbUlwpZt"
      },
      "source": [
        "### データセット\n",
        "\n",
        "iris(アヤメ)の３品種：Setosa、Versicolor、Virginicaに関する分類\n",
        "\n",
        "<img src=\"https://i0.wp.com/liclog.net/wp-content/uploads/2020/12/iris-machinelearning.png?w=1275&ssl=1\" width=\"500\">\n"
      ]
    },
    {
      "cell_type": "markdown",
      "source": [
        "<img src=\"https://camo.qiitausercontent.com/2320245e32edd1aaf04e0b4e6ec7d779a892e97b/68747470733a2f2f71696974612d696d6167652d73746f72652e73332e61702d6e6f727468656173742d312e616d617a6f6e6177732e636f6d2f302f3437363338372f30306138326330312d396130342d636438332d366539382d6430636433663632343239382e6a706567\" width=\"500\">"
      ],
      "metadata": {
        "id": "-S8FPPc6QJ7n"
      }
    },
    {
      "cell_type": "code",
      "source": [
        "iris = datasets.load_iris()"
      ],
      "metadata": {
        "id": "z57yzhIeQgR4"
      },
      "execution_count": null,
      "outputs": []
    },
    {
      "cell_type": "markdown",
      "metadata": {
        "id": "wohzJW2W7z0V"
      },
      "source": [
        "**データの中身を見てみましょう**\n",
        "\n",
        "[+Code] でコードセルを開いて、以下のプログラムを実行 [**Ctr + Enter**] または [**Shift + Enter**] してみてください\n",
        "\n",
        "```\n",
        "print(\"与えられたデータ\")\n",
        "print(iris.data)\n",
        "print(iris.data.shape)\n",
        "print(\"予測するデータ\")\n",
        "print(iris.target)\n",
        "print(iris.target.shape)\n",
        "print(iris.target_names)\n",
        "```\n",
        "\n",
        "150個のデータ、1つのデータにつき4つの特徴量\n",
        "\n",
        "出力を見ると、「数値が書かれた150×4の2次元配列」と「0,1,2と書かれた150×1の1次元配列」が得られます。\n",
        "\n",
        "また0, 1, 2はそれぞれ「setosa」,「versicolor」,「virginica」に対応していることも分かります。"
      ]
    },
    {
      "cell_type": "code",
      "source": [
        "y = np.zeros((len(iris.target), 1 + iris.target.max()), dtype=int)\n",
        "y[np.arange(len(iris.target)), iris.target] = 1\n",
        "\n",
        "X_train, X_test, y_train, y_test = here\n",
        "\n",
        "x = Variable(torch.from_numpy(X_train).float(), requires_grad=True)\n",
        "y = Variable(torch.from_numpy(y_train).float())"
      ],
      "metadata": {
        "id": "5BtSRDr-Q_eB"
      },
      "execution_count": null,
      "outputs": []
    },
    {
      "cell_type": "markdown",
      "source": [
        "### MLPモデル"
      ],
      "metadata": {
        "id": "DQtcnL081Dqx"
      }
    },
    {
      "cell_type": "code",
      "source": [
        "class MyModel(nn.Module):\n",
        "\n",
        "    def __init__(self):\n",
        "        super(MyModel, self).__init__()\n",
        "\n",
        "        here\n",
        "\n",
        "    def forward(self, x):\n",
        "\n",
        "        here"
      ],
      "metadata": {
        "id": "eng-qJeg1CCE"
      },
      "execution_count": null,
      "outputs": []
    },
    {
      "cell_type": "markdown",
      "source": [
        "### 学習"
      ],
      "metadata": {
        "id": "NVI-I6GuRAtd"
      }
    },
    {
      "cell_type": "code",
      "source": [
        "net = MyModel()\n",
        "\n",
        "# 最適化アルゴリズムの定義\n",
        "optimizer =\n",
        "\n",
        "# 損失関数の定義\n",
        "loss_func =\n",
        "\n",
        "for i in range(500):\n",
        "    optimizer.zero_grad()\n",
        "\n",
        "    # 予測計算\n",
        "    here\n",
        "\n",
        "    # 損失計算\n",
        "    here\n",
        "\n",
        "    # 勾配計算\n",
        "    here\n",
        "\n",
        "    # パラメータ修正\n",
        "    here\n",
        "\n",
        "    if i % 10 == 0:\n",
        "      print(f'epoch {i}: loss {loss.item()}')\n"
      ],
      "metadata": {
        "id": "7HpI4ZxhgcWd"
      },
      "execution_count": null,
      "outputs": []
    },
    {
      "cell_type": "markdown",
      "source": [
        "### 評価"
      ],
      "metadata": {
        "id": "GbiUUgLjRMyA"
      }
    },
    {
      "cell_type": "code",
      "source": [
        "# 評価\n",
        "outputs = net(Variable(torch.from_numpy(X_test).float()))\n",
        "value, predicted = torch.max(outputs.data, 1)\n",
        "\n",
        "y_predicted = predicted.numpy()\n",
        "y_true = np.argmax(y_test, axis=1)\n",
        "accuracy = (int)(100 * np.sum(y_predicted == y_true) / len(y_predicted))\n",
        "\n",
        "print('accuracy: {0}%'.format(accuracy))"
      ],
      "metadata": {
        "id": "hIdKacAoNlTF"
      },
      "execution_count": null,
      "outputs": []
    }
  ],
  "metadata": {
    "colab": {
      "provenance": [],
      "include_colab_link": true
    },
    "kernelspec": {
      "display_name": "Python 3",
      "language": "python",
      "name": "python3"
    },
    "language_info": {
      "codemirror_mode": {
        "name": "ipython",
        "version": 3
      },
      "file_extension": ".py",
      "mimetype": "text/x-python",
      "name": "python",
      "nbconvert_exporter": "python",
      "pygments_lexer": "ipython3",
      "version": "3.8.5"
    }
  },
  "nbformat": 4,
  "nbformat_minor": 0
}