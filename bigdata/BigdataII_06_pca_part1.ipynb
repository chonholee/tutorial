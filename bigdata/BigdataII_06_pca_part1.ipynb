{
  "nbformat": 4,
  "nbformat_minor": 0,
  "metadata": {
    "colab": {
      "name": "BigdataII_06_pca_part1.ipynb",
      "provenance": [],
      "collapsed_sections": [
        "LiNUCtY39HnH"
      ],
      "mount_file_id": "1iur8LQtb1eU-m_GA8diTStgh0hnaMK_P",
      "authorship_tag": "ABX9TyPAzo+JRJ4iuZXIq01C+8et",
      "include_colab_link": true
    },
    "kernelspec": {
      "name": "python3",
      "display_name": "Python 3"
    },
    "language_info": {
      "name": "python"
    }
  },
  "cells": [
    {
      "cell_type": "markdown",
      "metadata": {
        "id": "view-in-github",
        "colab_type": "text"
      },
      "source": [
        "<a href=\"https://colab.research.google.com/github/chonholee/tutorial/blob/main/bigdata/BigdataII_06_pca_part1.ipynb\" target=\"_parent\"><img src=\"https://colab.research.google.com/assets/colab-badge.svg\" alt=\"Open In Colab\"/></a>"
      ]
    },
    {
      "cell_type": "code",
      "metadata": {
        "id": "6bEGcQf6q26X"
      },
      "source": [
        "# いつものDriveマウント\n",
        "\n",
        "#from google.colab import drive\n",
        "#drive.mount('/content/drive/')\n",
        "%cd '/content/drive/MyDrive/Lecture_BigData'"
      ],
      "execution_count": null,
      "outputs": []
    },
    {
      "cell_type": "markdown",
      "metadata": {
        "id": "EIt00fGv88kW"
      },
      "source": [
        "## 主成分分析（PCA） 演習"
      ]
    },
    {
      "cell_type": "code",
      "metadata": {
        "id": "D_2Q6b869C9U"
      },
      "source": [
        "%matplotlib inline\n",
        "import numpy as np\n",
        "import matplotlib.pyplot as plt"
      ],
      "execution_count": null,
      "outputs": []
    },
    {
      "cell_type": "markdown",
      "metadata": {
        "id": "LiNUCtY39HnH"
      },
      "source": [
        "## Matplotlib文字化け対策"
      ]
    },
    {
      "cell_type": "code",
      "metadata": {
        "id": "IUd3vFHN9Cj-"
      },
      "source": [
        "x = range(6)\n",
        "y = np.linspace(0,5,6)\n",
        "\n",
        "plt.plot(x, y)\n",
        "plt.title(\"テスト\")\n",
        "plt.show()"
      ],
      "execution_count": null,
      "outputs": []
    },
    {
      "cell_type": "code",
      "metadata": {
        "id": "r3wpKF0O9Cej"
      },
      "source": [
        "# 「IPA」フォントをインストール\n",
        "!apt-get -y install fonts-ipafont-gothic\n",
        "#!rm /root/.cache/matplotlib/fontlist-v300.json # キャッシュを削除\n",
        "\n",
        "!pip install japanize-matplotlib\n",
        "import japanize_matplotlib #matplotlib日本語化\n",
        "import seaborn as sns\n",
        "sns.set(font=\"IPAexGothic\") #日本語フォント設定"
      ],
      "execution_count": null,
      "outputs": []
    },
    {
      "cell_type": "code",
      "metadata": {
        "id": "ZjSm3pvN9CGG"
      },
      "source": [
        "# タイトル確認\n",
        "plt.plot(x, y)\n",
        "plt.title(\"テスト\")\n",
        "plt.show()"
      ],
      "execution_count": null,
      "outputs": []
    },
    {
      "cell_type": "markdown",
      "metadata": {
        "id": "4z1mQ9NUyXoH"
      },
      "source": [
        "## 基本的な使い方"
      ]
    },
    {
      "cell_type": "markdown",
      "metadata": {
        "id": "yg0duFDCwowo"
      },
      "source": [
        "データ生成"
      ]
    },
    {
      "cell_type": "code",
      "metadata": {
        "id": "VTnry8Bj-JrR"
      },
      "source": [
        "# ランダムにデータを生成\n",
        "here\n",
        "\n",
        "# 分散させるために2x2の行列を掛ける\n",
        "here"
      ],
      "execution_count": null,
      "outputs": []
    },
    {
      "cell_type": "code",
      "metadata": {
        "id": "8tv_fotafSxP"
      },
      "source": [
        "plt.scatter(X[:, 0], X[:, 1])\n",
        "plt.axis('equal'); # 軸の比率を同じにする"
      ],
      "execution_count": null,
      "outputs": []
    },
    {
      "cell_type": "markdown",
      "metadata": {
        "id": "QUpBi9PgBvkm"
      },
      "source": [
        "PCA\n",
        "\n",
        "主成分と共分散を取得する"
      ]
    },
    {
      "cell_type": "code",
      "metadata": {
        "id": "Wl3-Gc39-Uwi"
      },
      "source": [
        "from sklearn.decomposition import PCA\n",
        "\n",
        "here"
      ],
      "execution_count": null,
      "outputs": []
    },
    {
      "cell_type": "code",
      "metadata": {
        "id": "PZYam8ve-Up3"
      },
      "source": [
        "print('主成分\\n', pca.components_)\n",
        "print('平均\\n', pca.mean_)\n",
        "print('分散\\n', pca.explained_variance_)\n",
        "print('共分散\\n', pca.get_covariance())"
      ],
      "execution_count": null,
      "outputs": []
    },
    {
      "cell_type": "markdown",
      "metadata": {
        "id": "7RQ2P9Neq3Lq"
      },
      "source": [
        "平均と共分散を直接計算して、比較してみる。"
      ]
    },
    {
      "cell_type": "code",
      "metadata": {
        "id": "mV37oja_-Ud1"
      },
      "source": [
        "mu = \n",
        "\n",
        "z = \n",
        "\n",
        "cv = \n",
        "\n",
        "print('平均\\n', mu)\n",
        "print('共分散\\n', cv)"
      ],
      "execution_count": null,
      "outputs": []
    },
    {
      "cell_type": "markdown",
      "metadata": {
        "id": "aPA1EbkCrKfY"
      },
      "source": [
        "補足：\n",
        "\n",
        "共分散行列の固有値と固有ベクトルを計算する。\n",
        "共分散行列の固有ベクトルは主成分と一致する。\n",
        "\n",
        "※データによっては180度反転してる場合もある"
      ]
    },
    {
      "cell_type": "code",
      "metadata": {
        "id": "5dzAdg8MqRVU"
      },
      "source": [
        "W, v = np.linalg.eig(cv)\n",
        "\n",
        "print('固有値\\n', W)\n",
        "print('固有ベクトル\\n', v)"
      ],
      "execution_count": null,
      "outputs": []
    },
    {
      "cell_type": "markdown",
      "metadata": {
        "id": "v0mcm63cA7Cg"
      },
      "source": [
        "ベクトルを描画する関数\n",
        "\n",
        "> 参考：矢印を描画する　https://qiita.com/haru1843/items/e85fe45163cd9763023c\n",
        "\n",
        "> 参考：for loopで便利な zip, enumerate　https://python.civic-apps.com/zip-enumerate/"
      ]
    },
    {
      "cell_type": "code",
      "metadata": {
        "id": "SLdAUyG8-fJk"
      },
      "source": [
        "def draw_vector(v0, v1, ax=None):\n",
        "    ax = ax or plt.gca()\n",
        "    arrowprops=dict(\n",
        "                arrowstyle='->',\n",
        "                linewidth=2,\n",
        "                shrinkA=0, shrinkB=0,\n",
        "                color=\"red\")\n",
        "    ax.annotate('', v1, v0, arrowprops=arrowprops)"
      ],
      "execution_count": null,
      "outputs": []
    },
    {
      "cell_type": "markdown",
      "metadata": {
        "id": "aiu4npuhw5ED"
      },
      "source": [
        "オリジナルデータのプロットと、主成分を軸にしたプロット"
      ]
    },
    {
      "cell_type": "code",
      "metadata": {
        "id": "EkU7d9btFT4z"
      },
      "source": [
        "fig, ax = plt.subplots(1, 2, figsize=(16, 6))\n",
        "fig.subplots_adjust(left=0.0625, right=0.95, wspace=0.1)\n",
        "\n",
        "# オリジナルデータをプロット\n",
        "ax[0].scatter(X[:, 0], X[:, 1], alpha=0.5)\n",
        "for length, vector in zip(pca.explained_variance_, pca.components_):\n",
        "    v = vector * 3 * np.sqrt(length)\n",
        "    draw_vector(pca.mean_, pca.mean_ + v, ax=ax[0])\n",
        "ax[0].axis('equal');\n",
        "ax[0].set(\n",
        "          xlabel='x', ylabel='y',\n",
        "          title='input')\n",
        "\n",
        "# 平均 0、分散 1にする : whitening\n",
        "pca = PCA(n_components=2, whiten=True)\n",
        "pca.fit(X)\n",
        "\n",
        "# 主成分（PC1, PC2）空間へのプロット\n",
        "# pca.transform() : 主成分を主軸とするような変換を行う\n",
        "here\n",
        "\n",
        "ax[1].scatter(X_pca[:, 0], X_pca[:, 1], alpha=0.5)\n",
        "draw_vector([0, 0], [0, 3], ax=ax[1])\n",
        "draw_vector([0, 0], [3, 0], ax=ax[1])\n",
        "ax[1].axis('equal')\n",
        "ax[1].set(\n",
        "          xlabel='component 1', ylabel='component 2',\n",
        "          title='principal components',\n",
        "          xlim=(-5, 5), ylim=(-3, 3.1));"
      ],
      "execution_count": null,
      "outputs": []
    },
    {
      "cell_type": "markdown",
      "metadata": {
        "id": "gK6UenEMGAp6"
      },
      "source": [
        "次元削減"
      ]
    },
    {
      "cell_type": "code",
      "metadata": {
        "id": "yEKFtJe4-vyv"
      },
      "source": [
        "# 2次元 ⇒ 1次元\n",
        "pca = PCA(n_components=1)\n",
        "pca.fit(X)\n",
        "X_pca = pca.transform(X)\n",
        "print(\"original shape:   \", X.shape)\n",
        "print(\"transformed shape:\", X_pca.shape)"
      ],
      "execution_count": null,
      "outputs": []
    },
    {
      "cell_type": "code",
      "metadata": {
        "id": "lnLFSlQ-CrAS"
      },
      "source": [
        "# PC1軸への射影プロット\n",
        "X_new = pca.inverse_transform(X_pca)\n",
        "plt.scatter(X[:, 0], X[:, 1], alpha=0.3)\n",
        "plt.scatter(X_new[:, 0], X_new[:, 1], color='red')\n",
        "plt.axis('equal');"
      ],
      "execution_count": null,
      "outputs": []
    },
    {
      "cell_type": "markdown",
      "metadata": {
        "id": "LS88HJt6v5pk"
      },
      "source": [
        "## Wine データセット\n",
        "\n",
        "178行のワインサンプルと、それらの科学的性質を表す13列の特徴量で構成されているWineデータセットを読み込む。"
      ]
    },
    {
      "cell_type": "code",
      "metadata": {
        "id": "oNEXi85yu9xE"
      },
      "source": [
        "import pandas as pd\n",
        "from sklearn.datasets import load_wine\n",
        "import matplotlib.pyplot as plt\n",
        "import numpy as np\n",
        "\n",
        "wine = load_wine()  # Wineデータセットの読み込み\n",
        "df_wine = pd.DataFrame(wine.data, columns=wine.feature_names)\n",
        "df_wine['class'] = wine.target\n",
        "df_wine"
      ],
      "execution_count": null,
      "outputs": []
    },
    {
      "cell_type": "markdown",
      "metadata": {
        "id": "zurZ5QimyRik"
      },
      "source": [
        "データの標準化（平均０、分散１）"
      ]
    },
    {
      "cell_type": "code",
      "metadata": {
        "id": "6s3a96sfvIyo"
      },
      "source": [
        "from sklearn.preprocessing import StandardScaler\n",
        "\n",
        "X = df_wine.iloc[:, :-1].values  # classカラム以外を取得\n",
        "y = df_wine.iloc[:, -1].values  # classカラムを取得\n",
        "\n",
        "# 標準化\n",
        "sc = StandardScaler()\n",
        "X_std = sc.fit_transform(X)\n",
        "\n",
        "X_std"
      ],
      "execution_count": null,
      "outputs": []
    },
    {
      "cell_type": "markdown",
      "metadata": {
        "id": "LzGE_DFOzDBy"
      },
      "source": [
        "PCA実行"
      ]
    },
    {
      "cell_type": "code",
      "metadata": {
        "id": "V8Zu1HT8ve0u"
      },
      "source": [
        "# PCAライブラリをインポート\n",
        "from sklearn.decomposition import PCA\n",
        "\n",
        "# 次元圧縮 (13次元 -> 2次元)\n",
        "X_pca = PCA(n_components=2, random_state=42).fit_transform(X_std)  # n_componentsは圧縮後の次元数\n",
        "\n",
        "X_pca"
      ],
      "execution_count": null,
      "outputs": []
    },
    {
      "cell_type": "markdown",
      "metadata": {
        "id": "gHQdJuDXxput"
      },
      "source": [
        "補足：主成分を直接計算"
      ]
    },
    {
      "cell_type": "code",
      "metadata": {
        "id": "IUCCdnQhxkTO"
      },
      "source": [
        "import numpy as np\n",
        "# 分散共分散行列の作成\n",
        "cov_mat = np.cov(X_std.T)\n",
        "# 分散共分散行列の固有値、固有ベクトルを作成\n",
        "eigen_vals, eigen_vecs = np.linalg.eig(cov_mat)\n",
        "# 固有値、固有ベクトルのペアを作成\n",
        "eigen_pairs = [(np.abs(eigen_vals[i]), eigen_vecs[:,i]) for i in range(len(eigen_vals))]\n",
        "# 上記のペアを固有値の大きい順にソート\n",
        "eigen_pairs.sort(key=lambda k: k[0], reverse=True)\n",
        "\n",
        "w1 = eigen_pairs[0][1]  # 第1主成分に対応する固有ベクトル\n",
        "w2 = eigen_pairs[1][1]  # 第2主成分に対応する固有ベクトル\n",
        "\n",
        "# 射影行列の作成\n",
        "W = np.stack([w1, w2], axis=1)\n",
        "# 次元圧縮 (13次元 -> 2次元)\n",
        "X_pca = X_std @ W # 行列積\n",
        "\n",
        "X_pca"
      ],
      "execution_count": null,
      "outputs": []
    },
    {
      "cell_type": "markdown",
      "metadata": {
        "id": "Ah1n-L7lzIbN"
      },
      "source": [
        "主成分（PC1、PC2）2次元空間へのプロット"
      ]
    },
    {
      "cell_type": "code",
      "metadata": {
        "id": "vlKLkHD6vtUA"
      },
      "source": [
        "colors = ['#de3838', '#007bc3', '#ffd12a']  # 緋色、露草色、山吹色 \n",
        "markers = ['o', 'x', ',']\n",
        "for l, c, m, in zip(np.unique(y), colors, markers):\n",
        "    plt.scatter(X_pca[y==l, 0], X_pca[y==l, 1],\n",
        "                c=c, marker=m, label=l)\n",
        "\n",
        "plt.xlabel('PC 1')\n",
        "plt.ylabel('PC 2')\n",
        "plt.legend()\n",
        "plt.show()"
      ],
      "execution_count": null,
      "outputs": []
    }
  ]
}