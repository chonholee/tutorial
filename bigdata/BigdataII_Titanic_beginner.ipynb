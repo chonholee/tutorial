{
  "nbformat": 4,
  "nbformat_minor": 0,
  "metadata": {
    "kernelspec": {
      "display_name": "Python 3",
      "language": "python",
      "name": "python3"
    },
    "language_info": {
      "codemirror_mode": {
        "name": "ipython",
        "version": 3
      },
      "file_extension": ".py",
      "mimetype": "text/x-python",
      "name": "python",
      "nbconvert_exporter": "python",
      "pygments_lexer": "ipython3",
      "version": "3.6.10"
    },
    "colab": {
      "provenance": [],
      "toc_visible": true,
      "include_colab_link": true
    }
  },
  "cells": [
    {
      "cell_type": "markdown",
      "metadata": {
        "id": "view-in-github",
        "colab_type": "text"
      },
      "source": [
        "<a href=\"https://colab.research.google.com/github/chonholee/tutorial/blob/main/bigdata/BigdataII_Titanic_beginner.ipynb\" target=\"_parent\"><img src=\"https://colab.research.google.com/assets/colab-badge.svg\" alt=\"Open In Colab\"/></a>"
      ]
    },
    {
      "cell_type": "markdown",
      "source": [
        "# Kaggleが提供しているサンプルを利用します"
      ],
      "metadata": {
        "id": "EcjXTKgSEnsL"
      }
    },
    {
      "cell_type": "markdown",
      "metadata": {
        "id": "5OJHbN6ZseoV"
      },
      "source": [
        "# Titanic for Beginners\n",
        "![](https://i.imgur.com/rRFchA8.png)"
      ]
    },
    {
      "cell_type": "markdown",
      "metadata": {
        "id": "QBX2b6hjseoW"
      },
      "source": [
        "## 目次\n",
        "0. ライブラリ・データ読み込み\n",
        "1. データの概観・分析・前処理\n",
        "2. 機械学習モデルの構築・学習\n",
        "3. 予測の出力・提出\n",
        "\n",
        "このサンプルでは目次のように、データに最低限の整形を施して、機械学習モデルを学習し、予測を出力して提出するまでの流れを確認します。"
      ]
    },
    {
      "cell_type": "markdown",
      "metadata": {
        "id": "f_Y0JQu4seoX"
      },
      "source": [
        "## 0. ライブラリ・データ読み込み  \n",
        "\n",
        "まず初めに使用するライブラリを読み込みます。\n",
        "\n",
        "※ドライブのマウントから"
      ]
    },
    {
      "cell_type": "code",
      "metadata": {
        "id": "W-Cb59vHArUb"
      },
      "source": [
        "from google.colab import drive\n",
        "drive.mount('/content/drive')"
      ],
      "execution_count": null,
      "outputs": []
    },
    {
      "cell_type": "code",
      "metadata": {
        "id": "32oFQiaxMVM1"
      },
      "source": [
        "import pandas as pd\n",
        "from pandas import DataFrame"
      ],
      "execution_count": 2,
      "outputs": []
    },
    {
      "cell_type": "code",
      "metadata": {
        "id": "0cUrIIVoseoX"
      },
      "source": [
        "import numpy as np\n",
        "import pandas as pd\n",
        "from pandas import DataFrame, Series\n",
        "import matplotlib.pyplot as plt\n",
        "import seaborn as sns\n",
        "\n",
        "from sklearn.model_selection import train_test_split\n",
        "from sklearn.linear_model import LogisticRegression\n",
        "\n",
        "import warnings\n",
        "warnings.filterwarnings('ignore')"
      ],
      "execution_count": 3,
      "outputs": []
    },
    {
      "cell_type": "markdown",
      "metadata": {
        "id": "aFrKB7-Kseoc"
      },
      "source": [
        "次にpandasのread_csv関数を用いて、分析する訓練データ**train.csv**とテストデータ**test.csv**を読み込みます。  \n",
        "\n",
        "変数名に与えた**df**は、**DataFrame**を意味しています（変数名は何でも構いません）。\n",
        "\n",
        "テストデータは素直に**df_test**と命名したのに対して訓練データはdfとだけ命名したのは、後に説明するホールドアウト法やクロスバリデーションにおいて、さらにdfを擬似的な訓練データdf_trainと擬似的なテストデータdf_validに分割することを見越してのものです。\n",
        "\n",
        "※ファイルの読み込み方法は自身の作業場所によって変わります。自分の環境に合わせたコード片方を選択してください。両方または自分の環境外のコードを選択するとエラーが起こるので気をつけて下さい。"
      ]
    },
    {
      "cell_type": "code",
      "metadata": {
        "id": "Hu0M5pn_umM7"
      },
      "source": [
        "# パスを設定しましょう。****は各自データをアップロードしたフォルダの名前です。\n",
        "# JupyterLabなど、ローカルで作業する場合\n",
        "# 読み込むデータが格納されたディレクトリのパス，必要に応じて変更の必要あり\n",
        "\n",
        "path = \"/content/drive/My Drive/****\"\n",
        "\n",
        "#---here---#\n",
        "df = \n",
        "df_test ="
      ],
      "execution_count": 4,
      "outputs": []
    },
    {
      "cell_type": "markdown",
      "metadata": {
        "id": "SC_ROkINseof"
      },
      "source": [
        "\n",
        "## 1.1 データの概観・前処理\n",
        "\n",
        "データを見ていく上で、まず初めにデータのサイズを確認してみましょう。"
      ]
    },
    {
      "cell_type": "code",
      "metadata": {
        "id": "p_sdrlHqseog"
      },
      "source": [
        "#---here---#"
      ],
      "execution_count": null,
      "outputs": []
    },
    {
      "cell_type": "markdown",
      "metadata": {
        "id": "sQLixJ-sseok"
      },
      "source": [
        "　訓練データの初めの10データを見てみましょう。"
      ]
    },
    {
      "cell_type": "code",
      "metadata": {
        "id": "zEUxNB3Nseok"
      },
      "source": [
        "#---here---#"
      ],
      "execution_count": null,
      "outputs": []
    },
    {
      "cell_type": "markdown",
      "metadata": {
        "id": "DwvWOBdYseon"
      },
      "source": [
        "　変数名の一覧を見てみましょう。"
      ]
    },
    {
      "cell_type": "code",
      "metadata": {
        "id": "AfhCBSODseoo"
      },
      "source": [
        "#---here---#"
      ],
      "execution_count": null,
      "outputs": []
    },
    {
      "cell_type": "markdown",
      "metadata": {
        "id": "pLaOhwiEseor"
      },
      "source": [
        "変数名の確認\n",
        "\n",
        "変数 |定義 |備考  \n",
        "---|---|---\n",
        "Perished |死亡したかどうか |0 = No, 1 = Yes\n",
        "Pclass |チケットのクラス |1 = 1st, 2 = 2nd, 3 = 3rd\n",
        "Name |名前 |\n",
        "Sex |性別 |\n",
        "Age\t|年齢 |\n",
        "SibSp |乗船していた兄弟姉妹・配偶者の数\t|\n",
        "Parch |乗船していた親・子供の数\t|\n",
        "Ticket |チケット番号\t|\n",
        "Fare |チケット料金\t|\n",
        "Cabin |キャビン番号\t|\n",
        "embarked |乗船した港\t|C = Cherbourg, Q = Queenstown, S = Southampton\n",
        "\n"
      ]
    },
    {
      "cell_type": "markdown",
      "metadata": {
        "id": "OgMr5R_xseor"
      },
      "source": [
        "## 1.2 データの分析\n",
        "\n",
        "次に**EDA**と呼ばれる作業を行います。EDAとは、**Exploratory Data Analysis**の略で、日本語では**探索的データ分析**と訳されます。\n",
        "\n",
        "EDAでは、データを様々な角度から可視化したり、統計量を見ることで、データの特徴や構造を掴もうと試みます。この工程で得られた知見は機械学習モデルを選ぶ上でも、後に述べる特徴量エンジニアリングにおいても有用です。\n",
        "\n",
        "EDAで得た知見が役立つ理由の一つは、機械学習モデルによって仮定しているデータの特徴が異なることです。EDAによりデータに線型性・独立性・連続性などの特徴が観察できたり、後述の特徴量エンジニアリングでデータを加工することにより顕著な特徴を有した新しいデータを得ることができれば、それに適した機械学習モデルを用いることができます。  \n",
        "\n",
        "以下に行うEDAは、\"EDA To Prediction (DieTanic)\"というAshwini Swain氏によるKaggle Notebookを参考にしたものです。\n",
        "  \n",
        "EDA To Prediction (DieTanic)：https://www.kaggle.com/ash316/eda-to-prediction-dietanic\n",
        "\n",
        "\n",
        "まずは**欠損値**を確認しておきます。機械学習を用いたデータ分析に取り組む上で欠損値の確認は必須となっています。なぜならほとんどの機械学習モデルの実装は欠損値を含むデータに対して学習や予測ができず、エラーとなってしまうからです。"
      ]
    },
    {
      "cell_type": "code",
      "metadata": {
        "id": "GZAmFJf8seos"
      },
      "source": [
        "# df内、各変数に対する欠損値の個数\n",
        "\n",
        "#---here---#"
      ],
      "execution_count": null,
      "outputs": []
    },
    {
      "cell_type": "code",
      "source": [
        "# df_test内、各変数に対する欠損値の個数\n",
        "\n",
        "#---here---#"
      ],
      "metadata": {
        "id": "nQSpeEx1G6us"
      },
      "execution_count": null,
      "outputs": []
    },
    {
      "cell_type": "markdown",
      "metadata": {
        "id": "yt_f7E0yseoz"
      },
      "source": [
        "**Age**, **Fare**, **Cabin**, **Embarked**の値の一部が欠損していることがわかりました。これらは後で対処することとします。  \n",
        "\n",
        "次に生存者の割合をみてみましょう。(実行してみてください)"
      ]
    },
    {
      "cell_type": "code",
      "metadata": {
        "id": "enNjCnnfseoz"
      },
      "source": [
        "f,ax=plt.subplots(1,2,figsize=(18,8))\n",
        "df['Perished'].value_counts().plot.pie(explode=[0,0.1],autopct='%1.1f%%',ax=ax[0],shadow=True)\n",
        "ax[0].set_title('Perished')\n",
        "ax[0].set_ylabel('')\n",
        "sns.countplot('Perished',data=df,ax=ax[1])\n",
        "ax[1].set_title('Perished')\n",
        "plt.show()"
      ],
      "execution_count": null,
      "outputs": []
    },
    {
      "cell_type": "markdown",
      "source": [
        "生存率は38.4%であることがわかりました。分析対象となるデータには様々ありますが、一つの分類に**均衡データ**/**不均衡データ**というものがあります。不均衡データとは、主に予測対象のラベルの分布が著しく偏ったデータのことであり、病気の陽性/陰性などがその代表例です。不均衡データを分析する際には、データの前処理やモデルの構築、評価指標の選び方など様々な点において注意しなければなりません。しかし今回の予測対象であるPerishedは生存:死亡がおよそ4:6と均衡しているので、そうした心配の必要はありません。 "
      ],
      "metadata": {
        "id": "30CLKwJ6Ptiy"
      }
    },
    {
      "cell_type": "markdown",
      "metadata": {
        "id": "TMggyYvCseo2"
      },
      "source": [
        "**データの型**\n",
        "\n",
        "次にデータの型について見てみましょう。機械学習を用いてデータ分析を行う際には、データの型にも注意が必要です。なぜならほとんどの機械学習モデルの実装はカテゴリカル変数を含むデータに対して学習や予測ができず、エラーとなってしまうからです。  \n",
        "\n",
        "データの型には大別して**数値データ**と**カテゴリカルデータ**があります。他にも日付・時間データなどがあったり、連続値データ/離散値データの区別があったりしますが、ここでは扱いません。数値データは文字通り数値が格納されたデータであり、カテゴリカルデータは主に文字列によってその分類が示されたデータです。ただしデータが数値であっても、その値の大小や順序が意味を持たない場合にはカテゴリカルデータとして扱う必要がある点には注意が必要です。  \n",
        "\n",
        "この観点では今回のデータは以下のように分類されます。\n",
        "- 数値データ：Pclass, Age, SibSp, Parch, Fare\n",
        "- カテゴリカルデータ：Name, Sex, Ticket, Embarked \n",
        "\n",
        "これらのカテゴリカルデータは機械学習モデルで扱えるよう、後で適切に処理します。"
      ]
    },
    {
      "cell_type": "markdown",
      "source": [
        "**変数の特徴**\n",
        "\n",
        "ここからは一つ一つの変数について見ていきましょう。ただし、ここではデモンストレーションとして一部しか扱いません。またデータ分析コンペティションでは、必ずしも全てのEDAを自分で一から行う必要はありません。基本的なEDAは多くの場合Kaggle Notebookとして共有されますし、pandas-profilingなどの便利なライブラリを用いれば済んでしまうからです。しかし他の参加者との差別化を図るには、自らEDAで得た知見を活用する必要があります。また実務においてEDAを肩代わりしてくれる人はいません。これらの理由から、やはり自分である程度のEDAをこなせる必要はあるでしょう。\n",
        "\n",
        "まずは**Pclass**（チケットのクラス）について見ていきます。"
      ],
      "metadata": {
        "id": "QhP6tdbbwjAw"
      }
    },
    {
      "cell_type": "code",
      "metadata": {
        "id": "ZkBVDcOcseo2"
      },
      "source": [
        "f,ax=plt.subplots(1,2,figsize=(18,8))\n",
        "df['Pclass'].value_counts().plot.bar(color=['#CD7F32','#FFDF00','#D3D3D3'],ax=ax[0])\n",
        "ax[0].set_title('Number of Passengers By Pclass')\n",
        "ax[0].set_ylabel('Count')\n",
        "sns.countplot('Pclass',hue='Perished',data=df,ax=ax[1])\n",
        "ax[1].set_title('Pclass:Perished vs Survived')\n",
        "plt.show()"
      ],
      "execution_count": null,
      "outputs": []
    },
    {
      "cell_type": "markdown",
      "metadata": {
        "id": "N2Ioyq_yseo6"
      },
      "source": [
        "　Pclassごとに人数および死亡率が著しく異なっていることが見て取れます。特にPclass=3は人数が圧倒的に多く、死亡率が著しく高いことがわかります。一方でPclass=1は死亡率が非常に低くなっています。Pclassはチケットのクラスでしたから、ここに見た事実は、Pclassの値が小さいほどチケットのグレードが高いことを直ちに示唆しています。他にはどのような知見が得られるか考えてみましょう。\n",
        "\n",
        "　次に**Age**（年齢）について見てみます。"
      ]
    },
    {
      "cell_type": "code",
      "metadata": {
        "id": "F1BrHQvcseo7"
      },
      "source": [
        "f,ax=plt.subplots(1,2,figsize=(18,8))\n",
        "sns.violinplot(\"Pclass\",\"Age\", hue=\"Perished\", data=df,split=True,ax=ax[0])\n",
        "ax[0].set_title('Pclass and Age vs Perished')\n",
        "ax[0].set_yticks(range(0,110,10))\n",
        "sns.violinplot(\"Sex\",\"Age\", hue=\"Perished\", data=df,split=True,ax=ax[1])\n",
        "ax[1].set_title('Sex and Age vs Perished')\n",
        "ax[1].set_yticks(range(0,110,10))\n",
        "plt.show()"
      ],
      "execution_count": null,
      "outputs": []
    },
    {
      "cell_type": "markdown",
      "metadata": {
        "id": "AjJQ38U5seo-"
      },
      "source": [
        "　このような図を**バイオリン図**と言います。身近なところでは人口推計の男女別年齢分布が似たような図で示されています。この図からどのような知見が得られるでしょうか。最も顕著な傾向の一つは男性の幼年層に見られます。10歳以下の男性は死亡率が著しく低くなっています。この事実はタイタニック号の事故において幼い男の子が優先的に助けられたことを示唆しています。他にはどのような知見が得られるか考えてみましょう。\n",
        "\n",
        "\n",
        "　最後に**相関行列**の**ヒートマップ**を表示してみましょう。相関行列とは各成分に対応する相関係数を並べた行列のことであり、値の大小に応じて色をつけたものをヒートマップと呼びます。この図を表示することによって、変数間の相関の強さを一目で把握することができます。"
      ]
    },
    {
      "cell_type": "code",
      "metadata": {
        "id": "88JZv7Dqseo-"
      },
      "source": [
        "sns.heatmap(df.corr(),annot=True,cmap='bwr',linewidths=0.2) \n",
        "fig=plt.gcf()\n",
        "fig.set_size_inches(10,8)\n",
        "plt.show()"
      ],
      "execution_count": null,
      "outputs": []
    },
    {
      "cell_type": "markdown",
      "metadata": {
        "id": "xkXN5IylsepC"
      },
      "source": [
        "　この図から、SibSpとParchの値に比較的強い正の相関があることがわかります。SibSpは同乗していた兄弟姉妹・配偶者の数であり、Parchは同乗していた親・子供の数であったので、この事実は理解しやすいでしょう。ここでSibSpの値とParchの値の和をとって「同乗していた家族の人数」という新しい変数を加えるアイデアが得られます。なぜならSibSpとParchという不自然な分類で二つの変数に分割してあるよりも「同乗していた家族の人数」という変数の方が自然である可能性があるからです。 \n",
        "\n",
        "　他にもPclassとFareの値に比較的強い負の相関が見られます。この事実は、先に見たようにPclassの値が小さいほどチケットのグレードが高いという見立てを補強しています。この見立ては正しいと見ていいでしょう。  \n",
        "\n",
        "　このように相関が強い変数がある場合には注意が必要です。相関の強い変数を機械学習モデルの学習に用いると、一部のモデルでは**多重共線性**という問題が生じます。そのため著しく相関の強い変数がある場合は、その変数のうち一つだけを残して他の変数を削除するといった対策をすることがあります。ここでは相関が強すぎるという程では無いと見て、こうした対策は行いませんが、自分で試してみても良いでしょう。"
      ]
    },
    {
      "cell_type": "markdown",
      "metadata": {
        "id": "rAXXAKwusepC"
      },
      "source": [
        "## 1.3 データの前処理\n",
        "　ここでは、機械学習モデルが学習できるようにデータの前処理を行なっていきます。\n",
        " \n",
        " \n",
        "　まずは**欠損値**の補完です。先に見たように**Age**、**Fare**, **Cabin**、**Embarked**の4変数は一部が欠損していました。欠損値の補完には様々な手法があります。平均値や最頻値といった代表値で補完する手法、機械学習モデルで予測して予測値で補完する手法、-9999などの外れ値で補完することによって欠損していたという情報を保持する手法などが挙げられます。\n",
        "  \n",
        "　ここでは、欠損値を含む変数を削除してしまいます。"
      ]
    },
    {
      "cell_type": "code",
      "metadata": {
        "id": "5jadhwLcsepC"
      },
      "source": [
        "missing_list = ['Age', 'Fare', 'Cabin', 'Embarked']\n",
        "\n",
        "df.drop(missing_list, axis=1, inplace=True) # axis - 0: index, 1: columns\n",
        "df_test.drop(missing_list, axis=1, inplace=True)"
      ],
      "execution_count": null,
      "outputs": []
    },
    {
      "cell_type": "markdown",
      "metadata": {
        "id": "MII6v_JRsepO"
      },
      "source": [
        "　次に**カテゴリカルデータ**を機械学習モデルで扱えるよう処理します。カテゴリカルデータには、**Name**, **Sex**, **Ticket**, **Embarked**がありました。  \n",
        "　ここでも、カテゴリカルデータである変数を削除してしまいましょう。"
      ]
    },
    {
      "cell_type": "code",
      "metadata": {
        "id": "xPGmom85sepQ"
      },
      "source": [
        "category_list = ['Name', 'Sex', 'Ticket']\n",
        "\n",
        "df.drop(category_list, axis=1, inplace=True)\n",
        "df_test.drop(category_list, axis=1, inplace=True)"
      ],
      "execution_count": null,
      "outputs": []
    },
    {
      "cell_type": "markdown",
      "metadata": {
        "id": "H_FVCJ58sepS"
      },
      "source": [
        "## 2. 機械学習モデルの構築・学習"
      ]
    },
    {
      "cell_type": "markdown",
      "metadata": {
        "id": "pkRxXhsxsepT"
      },
      "source": [
        "データが整形できたので、このデータを元に機械学習モデルを構築します。ここではロジスティック回帰というモデルを構築します。\n",
        "\n",
        "まずdfとdf_testを**説明変数**と**目的変数**に分けます。\n",
        "- 説明変数：モデルの学習に使用する変数、今回の問題ではPassengerId, Perished以外の変数\n",
        "- 目的変数：予測対象の変数, 今回の問題ではPerished  \n",
        "\n",
        "ここでスライスしたdfとdf_testを.valuesとしてnumpy.ndarray型に変換しているのは、機械学習モデルの実装によってはこの型のデータしか受け付けないからです。"
      ]
    },
    {
      "cell_type": "code",
      "metadata": {
        "id": "1MYx8bIfsepT"
      },
      "source": [
        "# numpy.ndarray型に変換\n",
        "X = df.iloc[:, 2:].values\n",
        "y = df.iloc[:, 1].values\n",
        "\n",
        "X_test = df_test.iloc[:, 1:].values"
      ],
      "execution_count": null,
      "outputs": []
    },
    {
      "cell_type": "markdown",
      "metadata": {
        "id": "Jw01ZPpgsepW"
      },
      "source": [
        "　機械学習モデルにとって最大の障害の一つは**過学習**です。過学習とは機械学習モデルが訓練データを学習する際に、訓練データに対して正しい予測を与えようとするあまり、訓練データにしか良い予測を与えられず、テストデータや他のデータに対して役に立たなくなってしまう現象のことです。\n",
        "\n",
        "　この現象を回避するための手法の一つに**ホールドアウト法**があります。ホールドアウト法では、与えられた訓練データをさらに擬似訓練データと擬似テストデータに分割し、機械学習モデルを擬似訓練データで学習させます。その上で、擬似訓練データに対する予測精度と擬似テストデータに対する予測精度を比較して、二つの値に大きな解離が見られる場合には過学習が発生していると判断し、過学習を抑えるよう修正を加えます。  \n",
        "\n",
        "　今回は7:3で元の訓練データを分割して、擬似訓練データ(X_train, y_train)と擬似テストデータ(X_valid, y_valid)とします。変数名は何でも構いませんが、ここで用いたvalidとはvalidation(検証)の略です。これは擬似テストデータをモデルの予測精度の検証に用いることに由来します。\n",
        "\n",
        "　データの分割には、scikit-learnのtrain_test_split関数を使用しますが、分割はランダムに行われるため、再現性を保つためには乱数生成のシード値を引数random_stateで指定する必要があります。この値を42とする例が海外を中心に散見されるのは、この数字が、有名なSF作品「銀河ヒッチハイク・ガイド」で「生命、宇宙、そして万物についての究極の疑問の答え」とされているからだそうです。"
      ]
    },
    {
      "cell_type": "code",
      "metadata": {
        "id": "XNBjfm5XsepX"
      },
      "source": [
        "#--- data split here---#"
      ],
      "execution_count": null,
      "outputs": []
    },
    {
      "cell_type": "markdown",
      "metadata": {
        "id": "7BEjGnMysepZ"
      },
      "source": [
        "**予測モデル**\n",
        "\n",
        "今回は、ロジスティック回帰モデルを作成して、擬似訓練データ(X_train, y_train)を学習させます。"
      ]
    },
    {
      "cell_type": "code",
      "metadata": {
        "id": "IAQjfQ66sepa"
      },
      "source": [
        "#--- model here---#"
      ],
      "execution_count": null,
      "outputs": []
    },
    {
      "cell_type": "markdown",
      "metadata": {
        "id": "LzF1Lnwusepc"
      },
      "source": [
        "　このモデルによる予測精度の評価を、今回のコンペティションで指定された評価基準である**正解率(accuracy)**で行います。先述したように、擬似訓練データ(X_train, y_train)に対するスコアと擬似テストデータ(X_valid, y_valid)に対するスコアを見ます。これらの値が著しく解離している場合には、**過学習**が発生しているとして修正を行います。"
      ]
    },
    {
      "cell_type": "code",
      "metadata": {
        "id": "NA-olXitsepd"
      },
      "source": [
        "print('Train Score: {}'.format(round(lr.score(X_train, y_train), 3)))\n",
        "print(' Test Score: {}'.format(round(lr.score(X_valid, y_valid), 3)))"
      ],
      "execution_count": null,
      "outputs": []
    },
    {
      "cell_type": "markdown",
      "metadata": {
        "id": "SgkZKP-psepf"
      },
      "source": [
        "## 3. 予測の出力・提出\n",
        "　学習させたロジスティック回帰モデルを用いて、テストデータに対する予測を行います。"
      ]
    },
    {
      "cell_type": "code",
      "metadata": {
        "id": "SjuHna45sepf"
      },
      "source": [
        "#--- prediction here---#"
      ],
      "execution_count": null,
      "outputs": []
    },
    {
      "cell_type": "markdown",
      "metadata": {
        "id": "Z2rVrWBksepi"
      },
      "source": [
        "　このようにして提出すべき予測値が得られました。"
      ]
    },
    {
      "cell_type": "markdown",
      "metadata": {
        "id": "UMFZBKrKsepi"
      },
      "source": [
        "　最後に得られた予測値を規定の形式に整形して、csvファイルとして出力しましょう。  \n",
        "　まず規定の形式を確認しましょう。以下のようなcsvファイルで提出するよう指示されていました。\n",
        "\n",
        "PassengerID|Perished\n",
        "---|---\n",
        "892|0\n",
        "893|1\n",
        "894|0\n",
        "…|…\n",
        "1307|0\n",
        "1308|0\n",
        "1309|0\n",
        "\n",
        "また、gender_submission.csvがその例とされていたので、これを確認します。\\\n",
        "※ファイルの読み込み方法は自身の作業場所によって変わります。自分の環境に合わせたコード片方を選択してください。両方または自分の環境外のコードを選択するとエラーが起こるので気をつけて下さい。"
      ]
    },
    {
      "cell_type": "code",
      "metadata": {
        "id": "scX_XB2hVZAx"
      },
      "source": [
        "#結果保存先のパス設定を確認\n",
        "#path = \"/content/drive/My Drive/****\"\n",
        "\n",
        "#　提出する結果ファイルの読み込み\n",
        "submission = pd.read_csv(path + 'gender_submission.csv')\n",
        "submission"
      ],
      "execution_count": null,
      "outputs": []
    },
    {
      "cell_type": "code",
      "metadata": {
        "id": "5NGSokoAsepj"
      },
      "source": [
        "submission.head(10)"
      ],
      "execution_count": null,
      "outputs": []
    },
    {
      "cell_type": "markdown",
      "metadata": {
        "id": "POMYauIUsepl"
      },
      "source": [
        "　提出ファイルを作成するには、このデータフレームのPerishedを上書きするのが手っ取り早いでしょう。"
      ]
    },
    {
      "cell_type": "code",
      "metadata": {
        "id": "mSUGgVZUsepm"
      },
      "source": [
        "#　結果を上書き\n",
        "submission['Perished'] = y_pred\n",
        "submission.head(10)"
      ],
      "execution_count": null,
      "outputs": []
    },
    {
      "cell_type": "markdown",
      "metadata": {
        "id": "nH16lEYksepo"
      },
      "source": [
        "　これをcsvファイルとして出力すれば、提出ファイルの完成です。\\\n",
        "※csvファイル書き出しの方法は自身の作業場所によって変わります。自分の環境に合わせたコード片方を選択してください。両方または自分の環境外のコードを選択するとエラーが起こります。"
      ]
    },
    {
      "cell_type": "code",
      "metadata": {
        "id": "uabZEf5_sepp",
        "colab": {
          "base_uri": "https://localhost:8080/",
          "height": 17
        },
        "outputId": "ec001910-9d3b-42b5-9a1d-83e48e7ffe67"
      },
      "source": [
        "# Google Drive・Google Colaboratoryで作業する場合\n",
        "\n",
        "from google.colab import files\n",
        "# colaboratory上に保存\n",
        "# 保存したcsvファイルはランタイムが終了すると削除されます\n",
        "submission.to_csv('submission.csv', index=False)\n",
        "# colaboratory上に保存したcsvファイルをローカルに保存\n",
        "files.download('submission.csv')"
      ],
      "execution_count": null,
      "outputs": [
        {
          "output_type": "display_data",
          "data": {
            "application/javascript": [
              "\n",
              "    async function download(id, filename, size) {\n",
              "      if (!google.colab.kernel.accessAllowed) {\n",
              "        return;\n",
              "      }\n",
              "      const div = document.createElement('div');\n",
              "      const label = document.createElement('label');\n",
              "      label.textContent = `Downloading \"${filename}\": `;\n",
              "      div.appendChild(label);\n",
              "      const progress = document.createElement('progress');\n",
              "      progress.max = size;\n",
              "      div.appendChild(progress);\n",
              "      document.body.appendChild(div);\n",
              "\n",
              "      const buffers = [];\n",
              "      let downloaded = 0;\n",
              "\n",
              "      const channel = await google.colab.kernel.comms.open(id);\n",
              "      // Send a message to notify the kernel that we're ready.\n",
              "      channel.send({})\n",
              "\n",
              "      for await (const message of channel.messages) {\n",
              "        // Send a message to notify the kernel that we're ready.\n",
              "        channel.send({})\n",
              "        if (message.buffers) {\n",
              "          for (const buffer of message.buffers) {\n",
              "            buffers.push(buffer);\n",
              "            downloaded += buffer.byteLength;\n",
              "            progress.value = downloaded;\n",
              "          }\n",
              "        }\n",
              "      }\n",
              "      const blob = new Blob(buffers, {type: 'application/binary'});\n",
              "      const a = document.createElement('a');\n",
              "      a.href = window.URL.createObjectURL(blob);\n",
              "      a.download = filename;\n",
              "      div.appendChild(a);\n",
              "      a.click();\n",
              "      div.remove();\n",
              "    }\n",
              "  "
            ],
            "text/plain": [
              "<IPython.core.display.Javascript object>"
            ]
          },
          "metadata": {
            "tags": []
          }
        },
        {
          "output_type": "display_data",
          "data": {
            "application/javascript": [
              "download(\"download_5e238caf-a37a-41cf-8b12-43d662b7a341\", \"submission.csv\", 2839)"
            ],
            "text/plain": [
              "<IPython.core.display.Javascript object>"
            ]
          },
          "metadata": {
            "tags": []
          }
        }
      ]
    }
  ]
}