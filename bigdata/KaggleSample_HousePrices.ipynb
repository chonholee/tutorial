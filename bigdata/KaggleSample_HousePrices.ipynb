{
  "nbformat": 4,
  "nbformat_minor": 0,
  "metadata": {
    "colab": {
      "name": "KaggleSample_HousePrices.ipynb",
      "provenance": [],
      "authorship_tag": "ABX9TyNiB2NX4gBzOyxV8ZXhD/3I",
      "include_colab_link": true
    },
    "kernelspec": {
      "name": "python3",
      "display_name": "Python 3"
    },
    "language_info": {
      "name": "python"
    }
  },
  "cells": [
    {
      "cell_type": "markdown",
      "metadata": {
        "id": "view-in-github",
        "colab_type": "text"
      },
      "source": [
        "<a href=\"https://colab.research.google.com/github/chonholee/tutorial/blob/main/bigdata/KaggleSample_HousePrices.ipynb\" target=\"_parent\"><img src=\"https://colab.research.google.com/assets/colab-badge.svg\" alt=\"Open In Colab\"/></a>"
      ]
    },
    {
      "cell_type": "markdown",
      "source": [
        "# 1 ライブラリインポート"
      ],
      "metadata": {
        "id": "jwD0comnXsJW"
      }
    },
    {
      "cell_type": "code",
      "source": [
        "# numpy , pandas\n",
        "import numpy as np \n",
        "import pandas as pd\n",
        "# scikit-learn\n",
        "from sklearn.preprocessing import StandardScaler\n",
        "from sklearn.linear_model import Lasso\n",
        "from sklearn.pipeline import make_pipeline\n",
        "from sklearn.model_selection import train_test_split\n",
        "from sklearn.metrics import mean_squared_error\n",
        "# 可視化用ライブラリ\n",
        "import matplotlib.pyplot as plt\n",
        "import seaborn as sns\n",
        "\n",
        "#pandasのカラムが100列まで見れるようにする\n",
        "pd.set_option('display.max_columns', 100)"
      ],
      "metadata": {
        "id": "_WQvGteGX9Qk"
      },
      "execution_count": 1,
      "outputs": []
    },
    {
      "cell_type": "markdown",
      "source": [
        "# 2 関数"
      ],
      "metadata": {
        "id": "F7o4xTTHYH3g"
      }
    },
    {
      "cell_type": "markdown",
      "source": [
        "## 2.1　特徴量エンジニアリングによりカラムを追加する関数"
      ],
      "metadata": {
        "id": "qcGzEtNyYPfh"
      }
    },
    {
      "cell_type": "code",
      "source": [
        "def add_new_columns(df):\n",
        "    # 建物内の総面積 = 1階の面積 + 2階の面積 + 地下の面積\n",
        "    df[\"TotalSF\"] = df[\"1stFlrSF\"] + df[\"2ndFlrSF\"] + df[\"TotalBsmtSF\"]\n",
        "    \n",
        "    # 一部屋あたりの平均面積 = 建物の総面積 / 部屋数\n",
        "    df['AreaPerRoom'] = df['TotalSF']/df['TotRmsAbvGrd']\n",
        "    \n",
        "    # 築年数 + 最新リフォーム年 : この値が大きいほど値段が高くなりそう\n",
        "    df['YearBuiltPlusRemod']=df['YearBuilt']+df['YearRemodAdd']\n",
        "    \n",
        "    # お風呂の総面積\n",
        "    # Full bath : 浴槽、シャワー、洗面台、便器全てが備わったバスルーム\n",
        "    # Half bath : 洗面台、便器が備わった部屋)(シャワールームがある場合もある)\n",
        "    # シャワーがない場合を想定してHalf Bathには0.5の係数をつける\n",
        "    df['TotalBathrooms'] = (df['FullBath'] + (0.5 * df['HalfBath']) + df['BsmtFullBath'] + (0.5 * df['BsmtHalfBath']))\n",
        "    \n",
        "    # 合計の屋根付きの玄関の総面積 \n",
        "    # Porch : 屋根付きの玄関 日本風にいうと縁側\n",
        "    df['TotalPorchSF'] = (df['OpenPorchSF'] + df['3SsnPorch'] + df['EnclosedPorch'] + df['ScreenPorch'] + df['WoodDeckSF'])\n",
        "    \n",
        "    # プールの有無\n",
        "    df['HasPool'] = df['PoolArea'].apply(lambda x: 1 if x > 0 else 0)\n",
        "    \n",
        "    # 2階の有無\n",
        "    df['Has2ndFloor'] = df['2ndFlrSF'].apply(lambda x: 1 if x > 0 else 0)\n",
        "    \n",
        "    # ガレージの有無\n",
        "    df['HasGarage'] = df['GarageArea'].apply(lambda x: 1 if x > 0 else 0)\n",
        "    \n",
        "    # 地下室の有無\n",
        "    df['HasBsmt'] = df['TotalBsmtSF'].apply(lambda x: 1 if x > 0 else 0)\n",
        "    \n",
        "    # 暖炉の有無\n",
        "    df['HasFireplace'] = df['Fireplaces'].apply(lambda x: 1 if x > 0 else 0)\n"
      ],
      "metadata": {
        "id": "piZKrhn1YNZJ"
      },
      "execution_count": 12,
      "outputs": []
    },
    {
      "cell_type": "markdown",
      "source": [
        "## 2.2 ラッソ回帰チューニングパイプライン関数"
      ],
      "metadata": {
        "id": "OCBnZtT8Y5Yk"
      }
    },
    {
      "cell_type": "code",
      "source": [
        "def lasso_tuning(train_x,train_y):\n",
        "    # alphaパラメータのリスト\n",
        "    param_list = [0.001, 0.01, 0.1, 1.0, 10.0,100.0,1000.0] \n",
        "    \n",
        "    for cnt,alpha in enumerate(param_list):\n",
        "        # パラメータを設定したラッソ回帰モデル\n",
        "        lasso = Lasso(alpha=alpha) \n",
        "        # パイプライン生成\n",
        "        pipeline = make_pipeline(StandardScaler(), lasso)\n",
        "        \n",
        "        # 学習データ内でホールドアウト検証のために分割 テストデータの割合は0.3 seed値を0に固定\n",
        "        X_train, X_test, y_train, y_test = train_test_split(train_x, train_y, test_size=0.3, random_state=0)\n",
        "        \n",
        "        # 学習\n",
        "        pipeline.fit(X_train,y_train)\n",
        "        \n",
        "        # RMSE(平均誤差)を計算\n",
        "        train_rmse = np.sqrt(mean_squared_error(y_train, pipeline.predict(X_train)))\n",
        "        test_rmse = np.sqrt(mean_squared_error(y_test, pipeline.predict(X_test)))\n",
        "        # ベストパラメータを更新\n",
        "        if cnt == 0:\n",
        "            best_score = test_rmse\n",
        "            best_param = alpha\n",
        "        elif best_score > test_rmse:\n",
        "            best_score = test_rmse\n",
        "            best_param = alpha\n",
        "    \n",
        "    # ベストパラメータのalphaと、そのときのMSEを出力\n",
        "    print('alpha : ' + str(best_param))\n",
        "    print('test score is : ' +str(round(best_score,4)))\n",
        "    \n",
        "    # ベストパラメータを返却\n",
        "    return best_param"
      ],
      "metadata": {
        "id": "LN5TofSSYNN5"
      },
      "execution_count": null,
      "outputs": []
    },
    {
      "cell_type": "markdown",
      "source": [
        "# 3 学習データの読み込み、EDA (探索的データ分析)"
      ],
      "metadata": {
        "id": "q-U-6fO4ZFY3"
      }
    },
    {
      "cell_type": "code",
      "source": [
        "# 学習データの読み込み\n",
        "train_df = pd.read_csv('sample_data/train.csv',index_col=0)\n",
        "\n",
        "print(train_df.shape)\n",
        "\n",
        "# 先頭5行をみてみる。\n",
        "train_df.head()"
      ],
      "metadata": {
        "id": "ldp4GLHrZR4i"
      },
      "execution_count": null,
      "outputs": []
    },
    {
      "cell_type": "code",
      "source": [
        "#欠損値の確認\n",
        "train_df.isnull().sum()"
      ],
      "metadata": {
        "id": "smI8iCkEqQmL"
      },
      "execution_count": null,
      "outputs": []
    },
    {
      "cell_type": "code",
      "source": [
        "train_df.dtypes"
      ],
      "metadata": {
        "id": "bHgLlW4kqU3b"
      },
      "execution_count": null,
      "outputs": []
    },
    {
      "cell_type": "markdown",
      "source": [
        "## 変数について\n",
        "\n",
        "データ詳細(変数定義)は data_description.txt に記載\n",
        "\n",
        "目的変数(本課題で予測する値) - 1個\n",
        "SalePrice : 住宅価格\n",
        "説明変数(予測に使う変数) - 79個 一部抜粋\n",
        "住宅価格に大きく影響しそうな変数\n",
        "\n",
        "LotArea : 敷地面積\n",
        "YearBuilt : 建築年\n",
        "YearRemodAdd : リフォーム年\n",
        "住宅価格にある程度影響しそうな変数\n",
        "\n",
        "KitchenQual : キッチンの状態\n",
        "RoofMatl : 屋根の材質\n",
        "めっちゃアメリカっぽいやつも。。。\n",
        "\n",
        "HeatingQC : 暖炉の状態\n",
        "PoolArea : プールの広さ"
      ],
      "metadata": {
        "id": "Ti-riH7dZaBM"
      }
    },
    {
      "cell_type": "markdown",
      "source": [
        "## 売却価格（目的変数）について"
      ],
      "metadata": {
        "id": "ZcIFTCIVZnaE"
      }
    },
    {
      "cell_type": "code",
      "source": [
        "# 売却価格のヒストグラム\n",
        "sns.distplot(train_df['SalePrice'])\n",
        "\n",
        "# 売却価格の概要をみてみる\n",
        "print(train_df[\"SalePrice\"].describe())\n",
        "print(f\"歪度: {round(train_df['SalePrice'].skew(),4)}\" )\n",
        "print(f\"尖度: {round(train_df['SalePrice'].kurt(),4)}\" )"
      ],
      "metadata": {
        "id": "YMFJvsqEZ4Pi"
      },
      "execution_count": null,
      "outputs": []
    },
    {
      "cell_type": "markdown",
      "source": [
        "価格の低い物件が大多数を占めていそう。。。\n",
        "\n",
        "-> 正規分布に従わない分布"
      ],
      "metadata": {
        "id": "wNsDqar9aBbt"
      }
    },
    {
      "cell_type": "markdown",
      "source": [
        "**歪度(わいど)**\n",
        "\n",
        "分布を正規分布と比較したときの偏り度合い(非対称性)を示す尺度。0に近いほど左右対称。\n",
        "\n",
        "\n",
        "**尖度(せんど)**\n",
        "\n",
        "分布を正規分布と比較したときの尖り具合を示す尺度。0に近いほど正規分布に近い。\n",
        "また、正の大きい値をとるほど、ピーク付近に標本が集中しており、負の大きい値をとるほど、分布が散らばっている。\n",
        "\n",
        "参考：歪度と尖度 - 統計Web"
      ],
      "metadata": {
        "id": "CjDvhzeVZ6zw"
      }
    },
    {
      "cell_type": "markdown",
      "source": [
        "# 4 データ前処理\n",
        "\n",
        "前処理は学習用データセットと予測用データセットを合わせて同時に行う。\n",
        "(ただし、予測データは全ての行を残す必要があるため、外れ値の除去はしない。)"
      ],
      "metadata": {
        "id": "ghCwSrHpaYNS"
      }
    },
    {
      "cell_type": "code",
      "source": [
        "# 予測用データセットの読み込み\n",
        "test_df = pd.read_csv('sample_data/test.csv',index_col=0)\n",
        "all_df = pd.concat([train_df.drop(columns='SalePrice'),test_df])\n",
        "test_df.head()"
      ],
      "metadata": {
        "id": "uW5295Qkai3N"
      },
      "execution_count": null,
      "outputs": []
    },
    {
      "cell_type": "markdown",
      "source": [
        "## 4.1 一部の数字が入っている変数を文字列に変換\n",
        "\n",
        "数字が入っているが、数字の大小関係が予測に影響を与えない方が良いものはカテゴリ変数にすべき → 文字列に変更しておく\n",
        "例：血液型の変数が{'A' : 0 ,'B' : 1 , 'O' : 3 , 'AB' : 4 }と割り当てられている場合、数の大小に意味はない"
      ],
      "metadata": {
        "id": "EPcuF7eaajaQ"
      }
    },
    {
      "cell_type": "code",
      "source": [
        "num2str_list = ['MSSubClass','YrSold','MoSold']\n",
        "for column in num2str_list:\n",
        "    all_df[column] = all_df[column].astype(str)"
      ],
      "metadata": {
        "id": "Clc6Oi24a3Tr"
      },
      "execution_count": null,
      "outputs": []
    },
    {
      "cell_type": "markdown",
      "source": [
        "## 4.2 欠損値の処理\n",
        "\n",
        "欠損値の処理には、主に以下の2つがある。\n",
        "\n",
        "欠損値を含む行または列の削除\n",
        "欠損値を代表値などで埋める\n",
        "今回のデータでは欠損値となっている箇所は、その設備がない場合である。(例：PoolAreaが欠損している物件はそもそもプールがない。)\n",
        "そこで今回は、数字の変数の欠損は「0」,文字列の変数の欠損は「'None'」で埋めるものとする。"
      ],
      "metadata": {
        "id": "9YRJ0JR-a35I"
      }
    },
    {
      "cell_type": "code",
      "source": [
        "all_df.info()"
      ],
      "metadata": {
        "id": "TQVkVxNRbDu-"
      },
      "execution_count": null,
      "outputs": []
    },
    {
      "cell_type": "code",
      "source": [
        "# 変数の型ごとに欠損値の扱いが異なるため、列ごとに処理\n",
        "for column in all_df.columns:\n",
        "    # dtypeがobjectの場合、文字列の変数\n",
        "    if all_df[column].dtype=='O':\n",
        "        all_df[column] = all_df[column].fillna('None')\n",
        "    # dtypeがint , floatの場合、数字の変数\n",
        "    else:\n",
        "        all_df[column] = all_df[column].fillna(0)\n",
        "\n",
        "all_df.info()"
      ],
      "metadata": {
        "id": "Drx38-lJbJ3Q"
      },
      "execution_count": null,
      "outputs": []
    },
    {
      "cell_type": "markdown",
      "source": [
        "## 4.3 特徴量エンジニアリング\n",
        "\n",
        "予測に効果的そうな新しい変数を追加\n",
        "\n",
        "例：建物内の総面積 = 1階の面積 + 2階の面積 + 地下の面積\n",
        "\n",
        "詳しくは、「2.1 特徴量エンジニアリングによりカラムを追加する関数」を参照"
      ],
      "metadata": {
        "id": "bX8EXgxfbUxN"
      }
    },
    {
      "cell_type": "code",
      "source": [
        "add_new_columns(all_df)\n",
        "all_df"
      ],
      "metadata": {
        "id": "e_7uMegGbhoX"
      },
      "execution_count": null,
      "outputs": []
    },
    {
      "cell_type": "markdown",
      "source": [
        "## 4.4 文字列のカテゴリ変数化(One-Hot-Encoding)\n",
        "文字列のままでは、正規化したり機械学習にかけられないので、One-Hot-Encodingによりカテゴリ変数化する。\n",
        "![one-hot.png](data:image/png;base64,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)\n",
        "\n",
        "One-Hot-Encoding\n",
        "\n",
        "出典：Building a One Hot Encoding Layer with TensorFlow\n"
      ],
      "metadata": {
        "id": "WYIyH4jCbrwq"
      }
    },
    {
      "cell_type": "code",
      "source": [
        "# One-Hot-Encoding前の列数\n",
        "len(all_df.columns)\n",
        "\n",
        "# pd.get_dummiesを使うとカテゴリ変数できる。\n",
        "all_df = pd.get_dummies(all_df)\n",
        "\n",
        "# One-Hot-Encoding後の列数\n",
        "len(all_df.columns)\n",
        "\n",
        "all_df"
      ],
      "metadata": {
        "id": "X3JTMqdebsLV"
      },
      "execution_count": null,
      "outputs": []
    },
    {
      "cell_type": "markdown",
      "source": [
        "余談\n",
        "\n",
        "カテゴリ変数に大小の意味を持たせたい場合はOrdinal Encoding(Label Encoding)を用いるとよい。\n",
        "\n",
        "Ordinal Encoding例： テストの結果に基づいた評定　90 ~ :'S',　80 ~ 89 :'A',　70 ~ 79 :'B', ~ 70:'C'　の時は大小関係に意味がある。\n",
        "\n",
        "参考：カテゴリカル変数はなんでもダミー変換すればよいのか？-アルゴリズムに応じたOne Hot EncodingとLabel Encodingの使い分け\n",
        "\n",
        "One-Hot-Encodingによって、変数が過剰に増えてしまうことを防ぐために、Ordinal Encodingを用いることもある。"
      ],
      "metadata": {
        "id": "4_qQEYA8cjTA"
      }
    },
    {
      "cell_type": "markdown",
      "source": [
        "## 4.5 外れ値の除去\n",
        "\n",
        "学習データから特異な物件のデータは削除しておく。(予測データの物件は削除できないので、学習データに対してのみ実施)\n",
        "例：一般の住宅のデータにハリウッドスターの物件のデータが入っていると、そのデータに予測が影響を受けてしまう。"
      ],
      "metadata": {
        "id": "_hEgTyMhcmtk"
      }
    },
    {
      "cell_type": "code",
      "source": [
        "# 学習データと予測データに分割して元のデータフレームに戻す。\n",
        "train_df = pd.merge(all_df.iloc[train_df.index[0]:train_df.index[-1]],train_df['SalePrice'],left_index=True,right_index=True)\n",
        "test_df = all_df.iloc[train_df.index[-1]:]"
      ],
      "metadata": {
        "id": "pAaErzhnctMM"
      },
      "execution_count": null,
      "outputs": []
    },
    {
      "cell_type": "markdown",
      "source": [
        "外れ値の条件は以下に設定し、該当する物件のデータを削除\n",
        "\n",
        "* 物件の価格が400000ドル以上\n",
        "* 敷地面積が20000平方メートル以上\n",
        "* 建築年が1920年より前"
      ],
      "metadata": {
        "id": "xhj-a67Uc8op"
      }
    },
    {
      "cell_type": "code",
      "source": [
        "train_df = train_df[(train_df['LotArea']<20000) & (train_df['SalePrice']<400000)& (train_df['YearBuilt']>1920)]"
      ],
      "metadata": {
        "id": "AX8EueNMdHb6"
      },
      "execution_count": null,
      "outputs": []
    },
    {
      "cell_type": "markdown",
      "source": [
        "## 4.6 住宅価格を対数変換\n",
        "\n",
        "多くの機械学習アルゴリズムは正規分布のデータを想定しているため、正規分布ではないデータに対して精度が出ない場合が多い。\n",
        "-> 正規分布に従わない変数の対数をとると、正規分布に近付くことが多い。(そのような分布を対数正規分布と呼ぶ。)"
      ],
      "metadata": {
        "id": "sOTqaxLrdQi0"
      }
    },
    {
      "cell_type": "code",
      "source": [
        "# 対数変換前のヒストグラム、歪度、尖度\n",
        "sns.distplot(train_df['SalePrice'])\n",
        "print(f\"歪度: {round(train_df['SalePrice'].skew(),4)}\" )\n",
        "print(f\"尖度: {round(train_df['SalePrice'].kurt(),4)}\" )"
      ],
      "metadata": {
        "id": "JHlYLnjjdf3J"
      },
      "execution_count": null,
      "outputs": []
    },
    {
      "cell_type": "code",
      "source": [
        "# SalePriceLogに対数変換した値を入れる。説明の都合上新たなカラムを作るが、基本的にそのまま代入して良い。\n",
        "train_df['SalePriceLog'] = np.log(train_df['SalePrice'])\n",
        "\n",
        "# 対数変換後のヒストグラム、歪度、尖度\n",
        "sns.distplot(train_df['SalePriceLog'])\n",
        "print(f\"歪度: {round(train_df['SalePriceLog'].skew(),4)}\" )\n",
        "print(f\"尖度: {round(train_df['SalePriceLog'].kurt(),4)}\" )\n"
      ],
      "metadata": {
        "id": "_3HXhV4Edwtb"
      },
      "execution_count": null,
      "outputs": []
    },
    {
      "cell_type": "markdown",
      "source": [
        "ぱっと見わかりづらいが、歪度、尖度をみるとかなり正規分布に近づいたことがわかる。\n",
        "\n",
        "余談\n",
        "\n",
        "元の目的変数の分布によっては対数変換が意味をなさない、または悪影響を与える場合がある。\n",
        "\n",
        "参考：対数変換が適さない場合がある！？対数変換すると結果が悪くなる例の紹介\n"
      ],
      "metadata": {
        "id": "QjTB2XfzdzHP"
      }
    },
    {
      "cell_type": "markdown",
      "source": [
        "## 4.7 学習データの説明変数と目的変数、予測データの説明変数にデータフレームを分割する"
      ],
      "metadata": {
        "id": "iA-aakM_d4ri"
      }
    },
    {
      "cell_type": "code",
      "source": [
        "# 学習データ、説明変数\n",
        "train_X = train_df.drop(columns = ['SalePrice','SalePriceLog'])\n",
        "# 学習データ、目的変数\n",
        "train_y = train_df['SalePriceLog']\n",
        "\n",
        "# 予測データ、説明変数\n",
        "test_X = test_df"
      ],
      "metadata": {
        "id": "haciGgC_eAE7"
      },
      "execution_count": null,
      "outputs": []
    },
    {
      "cell_type": "markdown",
      "source": [
        "# 5 モデルの作成、学習\n",
        "\n",
        "学習データの傾向を学習し、モデルを作成する。\n",
        "\n",
        "今回は機械学習アルゴリズムとしてラッソ回帰(Lasso Regression)を用いる。\n",
        "ラッソ回帰 - Wikipedia\n",
        "\n",
        "ラッソ回帰を選んだ理由\n",
        "\n",
        "変数の数が多く、少数の変数が予測に大きな影響を与えそうな場合に有効 (敷地面積とか築年数が影響を与えそう。。。)\n",
        "\n",
        "ハイパーパラメータがalphaのパラメータだけ調整すれば行けそうな雰囲気。"
      ],
      "metadata": {
        "id": "yPUlvqsbeC2u"
      }
    },
    {
      "cell_type": "markdown",
      "source": [
        "## 5.1 ハイパーパラメータチューニング\n",
        "\n",
        "交差検証(Grid Search)を用いて、ハイパーパラメータのalphaをチューニング\n",
        "lasso_tuning -> 学習データ内でホールドアウト検証をして、最も精度の高かったalphaのパラメータを返す。\n",
        "\n",
        "詳しくは、「2.2 Lasso回帰チューニングパイプライン関数」を参照"
      ],
      "metadata": {
        "id": "RtJpvJFdeSMV"
      }
    },
    {
      "cell_type": "code",
      "source": [
        "best_alpha = lasso_tuning(train_X,train_y)"
      ],
      "metadata": {
        "colab": {
          "base_uri": "https://localhost:8080/"
        },
        "id": "7XNOGArWeYJt",
        "outputId": "1190bf3f-81d8-4764-c131-fc0c0942b48e"
      },
      "execution_count": null,
      "outputs": [
        {
          "output_type": "stream",
          "name": "stdout",
          "text": [
            "alpha : 0.01\n",
            "test score is : 0.0985\n"
          ]
        }
      ]
    },
    {
      "cell_type": "markdown",
      "source": [
        "最も精度が出たalphaは「0.01」、RMSE(平均二乗平方根誤差)は「0.0985」"
      ],
      "metadata": {
        "id": "BSijMZ5VedEc"
      }
    },
    {
      "cell_type": "markdown",
      "source": [
        "## 5.2 ベストパラメータを用いてモデル作成\n",
        "交差検証の結果をもとに、最優秀alphaをパラメータに設定して学習"
      ],
      "metadata": {
        "id": "7oFSgaUCeidJ"
      }
    },
    {
      "cell_type": "code",
      "source": [
        "# ラッソ回帰モデルにベストパラメータを設定\n",
        "lasso = Lasso(alpha = best_alpha)\n",
        "\n",
        "# パイプラインの作成\n",
        "pipeline = make_pipeline(StandardScaler(), lasso)\n",
        "\n",
        "# 学習\n",
        "pipeline.fit(train_X,train_y)"
      ],
      "metadata": {
        "id": "Hb35Pg7MeoiP"
      },
      "execution_count": null,
      "outputs": []
    },
    {
      "cell_type": "markdown",
      "source": [
        "# 6 住宅価格予測\n",
        "\n",
        "## 6.1 作成したモデルで住宅価格を予測する。"
      ],
      "metadata": {
        "id": "PhdXPmAseqv4"
      }
    },
    {
      "cell_type": "code",
      "source": [
        "# 結果を予測\n",
        "pred = pipeline.predict(test_X)"
      ],
      "metadata": {
        "id": "WSP1ZjNCexWF"
      },
      "execution_count": null,
      "outputs": []
    },
    {
      "cell_type": "markdown",
      "source": [
        "## 6.2 予測結果を指数変換\n",
        "\n",
        "予測結果のヒストグラムをみてみる。"
      ],
      "metadata": {
        "id": "D589YtrngTNR"
      }
    },
    {
      "cell_type": "code",
      "source": [
        "# 予測結果のプロット\n",
        "sns.distplot(pred)\n",
        "# 歪度と尖度\n",
        "print(f\"歪度: {round(pd.Series(pred).skew(),4)}\" )\n",
        "print(f\"尖度: {round(pd.Series(pred).kurt(),4)}\" )"
      ],
      "metadata": {
        "colab": {
          "base_uri": "https://localhost:8080/",
          "height": 357
        },
        "id": "mhQVcfqqgdXr",
        "outputId": "ec59724e-4678-4256-a8e1-53bd70d70fd8"
      },
      "execution_count": null,
      "outputs": [
        {
          "output_type": "stream",
          "name": "stderr",
          "text": [
            "/usr/local/lib/python3.7/dist-packages/seaborn/distributions.py:2619: FutureWarning: `distplot` is a deprecated function and will be removed in a future version. Please adapt your code to use either `displot` (a figure-level function with similar flexibility) or `histplot` (an axes-level function for histograms).\n",
            "  warnings.warn(msg, FutureWarning)\n"
          ]
        },
        {
          "output_type": "stream",
          "name": "stdout",
          "text": [
            "歪度: 0.3733\n",
            "尖度: 1.0989\n"
          ]
        },
        {
          "output_type": "display_data",
          "data": {
            "image/png": "[encoded data removed]",
            "text/plain": [
              "<Figure size 432x288 with 1 Axes>"
            ]
          },
          "metadata": {
            "needs_background": "light"
          }
        }
      ]
    },
    {
      "cell_type": "markdown",
      "source": [
        "これは「4.6　住宅価格を対数変換」で対数変換した値なので、逆に指数変換して戻してあげる必要がある。\n"
      ],
      "metadata": {
        "id": "xGmYuQ7dgaWN"
      }
    },
    {
      "cell_type": "code",
      "source": [
        "# 指数変換\n",
        "pred_exp = np.exp(pred)\n",
        "# 指数変換した予測結果をプロット\n",
        "sns.distplot(pred_exp)\n",
        "# 歪度と尖度\n",
        "print(f\"歪度: {round(pd.Series(pred_exp).skew(),4)}\" )\n",
        "print(f\"尖度: {round(pd.Series(pred_exp).kurt(),4)}\" )\n"
      ],
      "metadata": {
        "colab": {
          "base_uri": "https://localhost:8080/",
          "height": 381
        },
        "id": "QibPJu-Sgg6a",
        "outputId": "b827f653-7ac6-4718-84fc-58f922634dd8"
      },
      "execution_count": null,
      "outputs": [
        {
          "output_type": "stream",
          "name": "stderr",
          "text": [
            "/usr/local/lib/python3.7/dist-packages/seaborn/distributions.py:2619: FutureWarning: `distplot` is a deprecated function and will be removed in a future version. Please adapt your code to use either `displot` (a figure-level function with similar flexibility) or `histplot` (an axes-level function for histograms).\n",
            "  warnings.warn(msg, FutureWarning)\n"
          ]
        },
        {
          "output_type": "stream",
          "name": "stdout",
          "text": [
            "歪度: 5.4356\n",
            "尖度: 84.9469\n"
          ]
        },
        {
          "output_type": "display_data",
          "data": {
            "image/png": "[encoded data removed]",
            "text/plain": [
              "<Figure size 432x288 with 1 Axes>"
            ]
          },
          "metadata": {
            "needs_background": "light"
          }
        }
      ]
    },
    {
      "cell_type": "markdown",
      "source": [
        "\n",
        "めちゃくちゃ高い物件があってみづらいので、一旦外れ値除去してプロット"
      ],
      "metadata": {
        "id": "1I_Fo1P3glVW"
      }
    },
    {
      "cell_type": "code",
      "source": [
        "# 400,000より高い物件は除去\n",
        "pred_exp_ex_outliars = pred_exp[pred_exp<400000]\n",
        "# 指数変換した予測結果をプロット\n",
        "sns.distplot(pred_exp_ex_outliars)\n",
        "# 歪度と尖度\n",
        "print(f\"歪度: {round(pd.Series(pred_exp_ex_outliars).skew(),4)}\" )\n",
        "print(f\"尖度: {round(pd.Series(pred_exp_ex_outliars).kurt(),4)}\" )"
      ],
      "metadata": {
        "colab": {
          "base_uri": "https://localhost:8080/",
          "height": 368
        },
        "id": "GvbJenGwgp_H",
        "outputId": "f38eb380-b5f8-4c6d-8fd8-834cf3edd192"
      },
      "execution_count": null,
      "outputs": [
        {
          "output_type": "stream",
          "name": "stderr",
          "text": [
            "/usr/local/lib/python3.7/dist-packages/seaborn/distributions.py:2619: FutureWarning: `distplot` is a deprecated function and will be removed in a future version. Please adapt your code to use either `displot` (a figure-level function with similar flexibility) or `histplot` (an axes-level function for histograms).\n",
            "  warnings.warn(msg, FutureWarning)\n"
          ]
        },
        {
          "output_type": "stream",
          "name": "stdout",
          "text": [
            "歪度: 0.999\n",
            "尖度: 0.807\n"
          ]
        },
        {
          "output_type": "display_data",
          "data": {
            "image/png": "[encoded data removed]",
            "text/plain": [
              "<Figure size 432x288 with 1 Axes>"
            ]
          },
          "metadata": {
            "needs_background": "light"
          }
        }
      ]
    },
    {
      "cell_type": "markdown",
      "source": [
        "学習データの住宅価格の分布と比較\n"
      ],
      "metadata": {
        "id": "Hza5VxQIgtY0"
      }
    },
    {
      "cell_type": "code",
      "source": [
        "# 学習データの住宅価格をプロット\n",
        "sns.distplot(train_df['SalePrice'])\n",
        "# 歪度と尖度\n",
        "print(f\"歪度: {round(pd.Series(train_df['SalePrice']).skew(),4)}\" )\n",
        "print(f\"尖度: {round(pd.Series(train_df['SalePrice']).kurt(),4)}\" )"
      ],
      "metadata": {
        "colab": {
          "base_uri": "https://localhost:8080/",
          "height": 382
        },
        "id": "eGc-Eyf0gwgf",
        "outputId": "eba536d5-d507-43dd-b4e0-647c719be37d"
      },
      "execution_count": null,
      "outputs": [
        {
          "output_type": "stream",
          "name": "stderr",
          "text": [
            "/usr/local/lib/python3.7/dist-packages/seaborn/distributions.py:2619: FutureWarning: `distplot` is a deprecated function and will be removed in a future version. Please adapt your code to use either `displot` (a figure-level function with similar flexibility) or `histplot` (an axes-level function for histograms).\n",
            "  warnings.warn(msg, FutureWarning)\n"
          ]
        },
        {
          "output_type": "stream",
          "name": "stdout",
          "text": [
            "歪度: 0.9478\n",
            "尖度: 0.749\n"
          ]
        },
        {
          "output_type": "display_data",
          "data": {
            "image/png": "[encoded data removed]",
            "text/plain": [
              "<Figure size 432x288 with 1 Axes>"
            ]
          },
          "metadata": {
            "needs_background": "light"
          }
        }
      ]
    },
    {
      "cell_type": "markdown",
      "source": [
        "分布はかなり似てる！気がする！"
      ],
      "metadata": {
        "id": "ywr5Wd5Og1v5"
      }
    },
    {
      "cell_type": "markdown",
      "source": [
        "# 7 提出用csvを作成\n",
        "\n",
        "sample_submission.csvのフォーマットに従って、データフレームを作成し、提出する。"
      ],
      "metadata": {
        "id": "5CuSmbWgg5kH"
      }
    },
    {
      "cell_type": "code",
      "source": [
        "# sample_submission.csvの読み込み\n",
        "submission_df = pd.read_csv('sample_data/sample_submission.csv')\n",
        "# sample_submission.csvの形式を確認するために先頭五行を見てみる。\n",
        "submission_df.head()"
      ],
      "metadata": {
        "id": "iWGPVav-g-vJ"
      },
      "execution_count": null,
      "outputs": []
    },
    {
      "cell_type": "markdown",
      "source": [
        "基本は予測結果を代入するだけでOK。(予測結果の個数が間違っているとエラーになるので、チェックにもなる。)"
      ],
      "metadata": {
        "id": "8d7j6q8Uhe-T"
      }
    },
    {
      "cell_type": "code",
      "source": [
        "# 指数変換した値を代入\n",
        "submission_df['SalePrice'] = pred_exp\n",
        "submission_df"
      ],
      "metadata": {
        "id": "bHml_gprhkuV"
      },
      "execution_count": null,
      "outputs": []
    },
    {
      "cell_type": "markdown",
      "source": [
        "csvを出力する。(必ず index=False とすること！)"
      ],
      "metadata": {
        "id": "v6loodSYhnaD"
      }
    },
    {
      "cell_type": "code",
      "metadata": {
        "id": "CmhI7OxjRqaz"
      },
      "source": [
        "submission_df.to_csv('submission.csv',index=False)\n"
      ],
      "execution_count": null,
      "outputs": []
    },
    {
      "cell_type": "markdown",
      "source": [
        "csvをダウンロードして提出！"
      ],
      "metadata": {
        "id": "0rfRr9wDhsYK"
      }
    }
  ]
}