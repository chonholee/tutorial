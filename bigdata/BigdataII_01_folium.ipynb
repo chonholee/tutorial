{
  "nbformat": 4,
  "nbformat_minor": 0,
  "metadata": {
    "colab": {
      "name": "BigdataII_01_folium.ipynb",
      "provenance": [],
      "authorship_tag": "ABX9TyMKBsyh8gO4Dqtau0l8hAxd",
      "include_colab_link": true
    },
    "kernelspec": {
      "display_name": "Python 3",
      "name": "python3"
    },
    "language_info": {
      "name": "python"
    }
  },
  "cells": [
    {
      "cell_type": "markdown",
      "metadata": {
        "id": "view-in-github",
        "colab_type": "text"
      },
      "source": [
        "<a href=\"https://colab.research.google.com/github/chonholee/tutorial/blob/main/bigdata/BigdataII_01_folium.ipynb\" target=\"_parent\"><img src=\"https://colab.research.google.com/assets/colab-badge.svg\" alt=\"Open In Colab\"/></a>"
      ]
    },
    {
      "cell_type": "code",
      "metadata": {
        "id": "IDejcNbAGJXE"
      },
      "source": [
        "!pip install folium==0.12.1\n",
        "!pip install geocoder"
      ],
      "execution_count": null,
      "outputs": []
    },
    {
      "cell_type": "markdown",
      "metadata": {
        "id": "3n4-JTQ9Gu1m"
      },
      "source": [
        "\n",
        "# データセット\n",
        "\n",
        "データカタログ\n",
        "* https://www.data.go.jp/?lang=ja\n",
        "\n",
        "Google Dataset\n",
        "* https://datasetsearch.research.google.com\n",
        "\n",
        "Kaggle\n",
        "* https://www.kaggle.com/datasets\n",
        "\n",
        "github 上で公開されているデータセットのリンク集\n",
        "* https://github.com/arXivTimes/arXivTimes/tree/master/datasets\n",
        "* https://github.com/awesomedata/awesome-public-datasets\n",
        "\n",
        "国勢調査サイト(e-stat)\n",
        "* https://www.e-stat.go.jp/\n",
        "* 都道府県別の人口を検索\n",
        "* 平成29年10月1日現在人口推計 都道府県，男女別人口－総人口\n",
        "\n",
        "岡山オープンデータカタログ\n",
        "* http://www.okayama-opendata.jp/opendata/index.action\n",
        "\n"
      ]
    },
    {
      "cell_type": "code",
      "metadata": {
        "id": "H2LuE7LPgFiJ"
      },
      "source": [
        "from google.colab import drive\n",
        "drive.mount('/content/drive/')\n",
        "\n",
        "%cd '/content/drive/MyDrive/Lecture_BigData'"
      ],
      "execution_count": null,
      "outputs": []
    },
    {
      "cell_type": "code",
      "metadata": {
        "id": "m8XqlHg_dA9J"
      },
      "source": [
        "import pandas as pd\n",
        "import folium\n",
        "from folium import plugins\n",
        "print(folium.__version__)"
      ],
      "execution_count": null,
      "outputs": []
    },
    {
      "cell_type": "code",
      "metadata": {
        "id": "X9QoHgrDGbC9"
      },
      "source": [
        "# 国勢調査サイト　⇒ 「人口推計」検索　⇒　表示項目変更　⇒　ダウンロード\n",
        "\n",
        "population_df = pd.read_csv(\"population.csv\",encoding=\"shift-JIS\")\n",
        "population_df.head()"
      ],
      "execution_count": null,
      "outputs": []
    },
    {
      "cell_type": "markdown",
      "metadata": {
        "id": "JmtLd3y0i-kd"
      },
      "source": [
        "# 時系列ヒートマップ表示"
      ]
    },
    {
      "cell_type": "code",
      "metadata": {
        "id": "NMOpPkoKHE2l"
      },
      "source": [
        "import geocoder\n",
        "\n",
        "# 日本の 緯度・経度 を取得\n",
        "japan = geocoder.arcgis(\"日本\")\n",
        "japan = japan.latlng\n",
        " \n",
        "# 都道府県名抽出\n",
        "prefecture = population_df[\"全国・都道府県\"].tolist()\n",
        "\n",
        "# 都道府県の 緯度・経度 リストを作成\n",
        "prefecture_latlng = []\n",
        "for p in prefecture:\n",
        "    g = geocoder.arcgis(p)\n",
        "    prefecture_latlng.append(g.latlng)\n",
        "\n",
        "geo_df = pd.DataFrame([i for i in range(1, len(prefecture)+1)], columns = [\"id\"])\n",
        "geo_df[\"name\"] = pd.DataFrame(prefecture)\n",
        "geo_df[\"lat\"] = pd.DataFrame([r[0] for r in prefecture_latlng])\n",
        "geo_df[\"lng\"] = pd.DataFrame([r[1] for r in prefecture_latlng])"
      ],
      "execution_count": null,
      "outputs": []
    },
    {
      "cell_type": "code",
      "metadata": {
        "id": "S_N1lzrtISXG"
      },
      "source": [
        "# フォーマットを揃える\n",
        "\n",
        "population_df[\"id\"] = population_df.index+1\n",
        "prefecture_df = pd.merge(population_df, geo_df, on=[\"id\"])\n",
        "prefecture_df = prefecture_df.drop([\"name\",\"id\"],axis=1)\n",
        "prefecture_df.head()"
      ],
      "execution_count": null,
      "outputs": []
    },
    {
      "cell_type": "code",
      "metadata": {
        "id": "2F-xMt_KIoiK"
      },
      "source": [
        "time_series = [\"15\",\"16\",\"17\",\"18\",\"19\"]\n",
        "\n",
        "for year in time_series:\n",
        "    date = \"20\"+year+\"年\"\n",
        "    temp_df = prefecture_df[date].apply(lambda d: pd.to_numeric(d.replace(',',''), downcast='integer'))\n",
        "    prefecture_df[date] = temp_df / max(temp_df)\n",
        "    \n",
        "prefecture_df.head()"
      ],
      "execution_count": null,
      "outputs": []
    },
    {
      "cell_type": "code",
      "metadata": {
        "id": "tV-_67MOIxWs"
      },
      "source": [
        "heat_data = [[[row['lat'],row['lng'], row[\"20\"+year+\"年\"]] for index, row in prefecture_df.iterrows()] for year in time_series]"
      ],
      "execution_count": null,
      "outputs": []
    },
    {
      "cell_type": "code",
      "metadata": {
        "id": "Wm4mLrmMkrrw"
      },
      "source": [
        "japan_map = folium.Map(\n",
        "    location=[35, 135],\n",
        "    width=720,\n",
        "    height=540,\n",
        "    zoom_start=5\n",
        ")\n",
        "\n",
        "hm = plugins.HeatMapWithTime(\n",
        "    heat_data,\n",
        "    index=[\"20\"+year+\"年\" for year in time_series],\n",
        "    auto_play=False,\n",
        "    radius=40,\n",
        "    max_opacity=1,\n",
        "    gradient={0.1: 'blue', 0.25: 'lime', 0.5:'yellow',0.75: 'red'}\n",
        ")\n",
        "\n",
        "hm.add_to(japan_map)\n",
        "\n",
        "#for i, r in prefecture_df.iterrows():\n",
        "#    popup=folium.Popup(r[\"全国・都道府県\"], max_width=10, show=False)\n",
        "#    folium.Marker(location=[r[\"lat\"], r[\"lng\"]], popup=popup).add_to(japan_map)\n",
        "\n",
        "japan_map"
      ],
      "execution_count": null,
      "outputs": []
    },
    {
      "cell_type": "code",
      "metadata": {
        "id": "mktJW5cJkt69"
      },
      "source": [
        "from folium.plugins import HeatMap\n",
        "\n",
        "# 日本のマップオブジェクトを作成\n",
        "map = folium.Map(japan, width=800, height=600, zoom_start=5)\n",
        " \n",
        "# ヒートマップの表示\n",
        "HeatMap(prefecture_latlng).add_to(map)\n",
        " \n",
        "# htmlを作成\n",
        "map"
      ],
      "execution_count": null,
      "outputs": []
    },
    {
      "cell_type": "code",
      "metadata": {
        "id": "zyk9eNjnkGlx"
      },
      "source": [
        "import folium\n",
        "import pandas as pd\n",
        "\n",
        "sapporo_cities = pd.DataFrame({\n",
        "    'city': ['ハルタ', 'ブルクベーカリー 札幌円山本店', 'DONQ 円山店', 'すぎうらベーカリー 円山店','ペンギンベーカリーカフェ 円山裏参道店'],\n",
        "    'latitude': [43.057320, 43.056397, 43.055939, 43.056211, 43.054867],\n",
        "    'longtude': [141.322706, 141.321842, 141.319576, 141.318643,141.321690],\n",
        "    'population': [1000, 1000, 1000, 1000, 1000]\n",
        "})\n",
        "\n",
        "maruyama_map = folium.Map(\n",
        "    location=[43.056000, 141.321000],\n",
        "    zoom_start=15\n",
        ")\n",
        "\n",
        "for i, r in sapporo_cities.iterrows():\n",
        "    \n",
        "    popup = folium.Popup(\n",
        "        r['city'],\n",
        "        max_width=1000,\n",
        "        show=True\n",
        "    )\n",
        "\n",
        "    marker = folium.Marker(\n",
        "        location=[r['latitude'], r['longtude']],\n",
        "        popup=popup\n",
        "    )\n",
        "    \n",
        "    marker.add_to(maruyama_map)\n",
        "\n",
        "maruyama_map"
      ],
      "execution_count": null,
      "outputs": []
    },
    {
      "cell_type": "markdown",
      "metadata": {
        "id": "szqmZbnlsGDb"
      },
      "source": [
        "# Dcument\n",
        "\n",
        "https://python-visualization.github.io/folium/\n",
        "\n",
        "## Map\n",
        "\n",
        "tiles option\n",
        "\n",
        "検索する\n",
        "\n",
        "https://maps.gsi.go.jp/development/ichiran.html\n",
        "\n",
        "http://leaflet-extras.github.io/leaflet-providers/preview/\n",
        "\n",
        "## Marker\n",
        "\n",
        "tooltip\n",
        "\n",
        "folim.Icon()\n",
        "\n",
        "color, icon_color\n",
        "\n",
        "icon \n",
        "https://glyphsearch.com/?library=glyphicons\n",
        "\n",
        "## PolyLine\n"
      ]
    },
    {
      "cell_type": "code",
      "metadata": {
        "id": "GmX2oKz3rYcH"
      },
      "source": [
        ""
      ],
      "execution_count": null,
      "outputs": []
    }
  ]
}