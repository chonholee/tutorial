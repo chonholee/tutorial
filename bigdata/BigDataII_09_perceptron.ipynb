{
  "nbformat": 4,
  "nbformat_minor": 0,
  "metadata": {
    "kernelspec": {
      "display_name": "Python 3",
      "language": "python",
      "name": "python3"
    },
    "language_info": {
      "codemirror_mode": {
        "name": "ipython",
        "version": 3
      },
      "file_extension": ".py",
      "mimetype": "text/x-python",
      "name": "python",
      "nbconvert_exporter": "python",
      "pygments_lexer": "ipython3",
      "version": "3.8.5"
    },
    "colab": {
      "provenance": [],
      "include_colab_link": true
    }
  },
  "cells": [
    {
      "cell_type": "markdown",
      "metadata": {
        "id": "view-in-github",
        "colab_type": "text"
      },
      "source": [
        "<a href=\"https://colab.research.google.com/github/chonholee/tutorial/blob/main/bigdata/BigDataII_09_perceptron.ipynb\" target=\"_parent\"><img src=\"https://colab.research.google.com/assets/colab-badge.svg\" alt=\"Open In Colab\"/></a>"
      ]
    },
    {
      "cell_type": "code",
      "source": [
        "from google.colab import drive\n",
        "drive.mount('/content/drive')\n",
        "\n",
        "%cd /content/drive/MyDrive/XXX"
      ],
      "metadata": {
        "id": "Yc3rLCs6n0_K"
      },
      "execution_count": null,
      "outputs": []
    },
    {
      "cell_type": "markdown",
      "source": [
        "# パーセプトロン"
      ],
      "metadata": {
        "id": "cKTcxa4fVRu6"
      }
    },
    {
      "cell_type": "markdown",
      "source": [
        "# 9.1 単純パーセプトロン"
      ],
      "metadata": {
        "id": "9lI368c1JgBM"
      }
    },
    {
      "cell_type": "code",
      "source": [
        "#単純パーセプトロンの関数を定義（活性化関数無し）\n",
        "def simple_perceptron(x1, x2):\n",
        "    w1 = 0.2\n",
        "    w2 = 0.8\n",
        "    b = -0.7\n",
        "\n",
        "    y =\n",
        "\n",
        "    if y <= 0:\n",
        "      return 0\n",
        "    elif y > 0:\n",
        "      return 1"
      ],
      "metadata": {
        "id": "vQkFG5gzqZ-q"
      },
      "execution_count": null,
      "outputs": []
    },
    {
      "cell_type": "code",
      "source": [
        "#いくつか値をいれて、実際にためしてみましょう↓\n",
        "print(simple_perceptron(0, 0))\n",
        "print(simple_perceptron())\n",
        "print(simple_perceptron())\n",
        "print(simple_perceptron())"
      ],
      "metadata": {
        "id": "SjfY294RqlH1"
      },
      "execution_count": null,
      "outputs": []
    },
    {
      "cell_type": "markdown",
      "source": [
        "補足\n",
        "\n",
        "* バイアスは発火のしやすさをコントロールする（分類直線の「位置」を決める）\n",
        "\n",
        "* 重みが定まると２値分類モデルができる（分類直線が定まる）\n",
        "\n",
        "![AIプログラミング2.png](data:image/png;base64,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)"
      ],
      "metadata": {
        "id": "jGLzSA-DqtLG"
      }
    },
    {
      "cell_type": "markdown",
      "source": [
        "# 9.2 活性化関数"
      ],
      "metadata": {
        "id": "02dQ7V7qI0F7"
      }
    },
    {
      "cell_type": "markdown",
      "source": [
        "### シグモイド関数\n",
        "\n",
        "<img src=\"https://engineer-ninaritai.com/wp-content/uploads/2020/02/%E3%82%B7%E3%82%B0%E3%83%A2%E3%82%A4%E3%83%89%E9%96%A2%E6%95%B0%E3%81%AE%E8%A8%88%E7%AE%97%E5%BC%8F.png\" width=\"200\">"
      ],
      "metadata": {
        "id": "zeeMDEH4IxGH"
      }
    },
    {
      "cell_type": "code",
      "source": [
        "import torch\n",
        "from torch import nn\n",
        "import matplotlib.pylab as plt\n",
        "\n",
        "m = nn.Sigmoid()  # シグモイド関数\n",
        "\n",
        "x = torch.linspace(-5, 5, 50)\n",
        "y = m(x)\n",
        "\n",
        "plt.plot(x, y)\n",
        "plt.show()"
      ],
      "metadata": {
        "id": "uWU-gqeSqo4B"
      },
      "execution_count": null,
      "outputs": []
    },
    {
      "cell_type": "markdown",
      "source": [
        "### tanh関数\n",
        "\n",
        "<img src=\"https://global-uploads.webflow.com/6473d8d02a3cf26273f2787d/6473d8d02a3cf26273f28902_5GqVyT2BkflEi8I8Vxp8ZrS_VzJRarjzmGsrOgr7POcMLdebjZgeaKR-BVqLmV0SR6v40ovksvKosKy9iufXe11q4KVc9hf-l144YGr0cDebvVvD3vXpntmfZq27Hy2H2dPW6NEfoqkEOlBOfRq8jEkxKYb652AuFWqAsqTKH2yAZtjmHQzFLEHU.png\" width=\"200\">\n"
      ],
      "metadata": {
        "id": "GpdfdscrI-ZA"
      }
    },
    {
      "cell_type": "code",
      "source": [
        "m = nn.Tanh()  # tanh\n",
        "\n",
        "x = torch.linspace(-5, 5, 50)\n",
        "y = m(x)\n",
        "\n",
        "plt.plot(x, y)\n",
        "plt.show()"
      ],
      "metadata": {
        "id": "6TpqaqyDJAWg"
      },
      "execution_count": null,
      "outputs": []
    },
    {
      "cell_type": "markdown",
      "source": [
        "### ReLU関数\n",
        "\n",
        "<img src=\"https://www.gifu-nct.ac.jp/elec/deguchi/sotsuron/tgoto/img13.png\" width=\"200\">"
      ],
      "metadata": {
        "id": "bVt5kt7rJFJR"
      }
    },
    {
      "cell_type": "code",
      "source": [
        "m = nn.ReLU()  # ReLU\n",
        "\n",
        "x = torch.linspace(-5, 5, 50)\n",
        "y = m(x)\n",
        "\n",
        "plt.plot(x, y)\n",
        "plt.show()"
      ],
      "metadata": {
        "id": "5KDGjUplJEzh"
      },
      "execution_count": null,
      "outputs": []
    },
    {
      "cell_type": "markdown",
      "source": [
        "### 活性化関数を実行した場合"
      ],
      "metadata": {
        "id": "21DrsZIXhffu"
      }
    },
    {
      "cell_type": "code",
      "source": [
        "#単純パーセプトロンの関数を定義（活性化関数無し）\n",
        "def simple_perceptron(x1, x2):\n",
        "    w1 = 0.2\n",
        "    w2 = 0.8\n",
        "    b = -0.7\n",
        "    sum =\n",
        "\n",
        "    activation = nn.ReLU()\n",
        "    y =\n",
        "    print('sum', sum)\n",
        "\n",
        "    if y <= 0:\n",
        "      return 0\n",
        "    elif y > 0:\n",
        "      return 1\n",
        "\n",
        "#いくつか値をいれて、実際にためしてみましょう↓\n",
        "print(simple_perceptron(0, 0))\n",
        "print(simple_perceptron())\n",
        "print(simple_perceptron())\n",
        "print(simple_perceptron())"
      ],
      "metadata": {
        "id": "9crixH-HhgMV"
      },
      "execution_count": null,
      "outputs": []
    },
    {
      "cell_type": "markdown",
      "source": [
        "# 9.3 多層パーセプトロン（MLP）"
      ],
      "metadata": {
        "id": "khgbVR_fJSfn"
      }
    },
    {
      "cell_type": "markdown",
      "source": [
        "ニューラルネットワークモデルの記述方法は大きく２つあります。\n",
        "\n",
        "* nn.Sequentialを使う方法\n",
        " * メリット：簡単にネットワークを定義できる、可読性が高い\n",
        " * デメリット：カスタマイズ性が低い\n",
        "\n",
        "* モジュール化（クラス定義）する方法（nn.Moduleを継承）\n",
        " * メリット：カスタマイズ性が高い、再利用しやすい\n",
        " * デメリット：定義が少し面倒"
      ],
      "metadata": {
        "id": "45rWjhOuzfXs"
      }
    },
    {
      "cell_type": "markdown",
      "source": [
        "##9.3.1 nn.Sequentialを使う方法"
      ],
      "metadata": {
        "id": "aH_222En-Lbh"
      }
    },
    {
      "cell_type": "code",
      "source": [
        "import torch\n",
        "import torch.nn as nn\n",
        "import torch.optim as optim\n",
        "\n",
        "net = nn.Sequential(\n",
        "\n",
        "    here\n",
        "\n",
        ")\n",
        "\n",
        "print(net)"
      ],
      "metadata": {
        "id": "q0_mxRTedDk4"
      },
      "execution_count": null,
      "outputs": []
    },
    {
      "cell_type": "markdown",
      "source": [
        "順伝播（forward）：入力に対する出力を計算する"
      ],
      "metadata": {
        "id": "sm8WNQLR-gwX"
      }
    },
    {
      "cell_type": "code",
      "source": [
        "sample_data = torch.randn(1,64)\n",
        "sample_data"
      ],
      "metadata": {
        "id": "zxcMnDGH-yHU"
      },
      "execution_count": null,
      "outputs": []
    },
    {
      "cell_type": "code",
      "source": [
        "y = net(sample_data)\n",
        "y"
      ],
      "metadata": {
        "id": "LfJKUJ_X---y"
      },
      "execution_count": null,
      "outputs": []
    },
    {
      "cell_type": "markdown",
      "source": [
        "## 9.3.2 モジュール化（クラス定義）する方法"
      ],
      "metadata": {
        "id": "Yjs1M4iVeMFd"
      }
    },
    {
      "cell_type": "code",
      "source": [
        "class MLPNet(nn.Module):\n",
        "\n",
        "    # 層を定義\n",
        "    def __init__(self, input):\n",
        "        super(MLPNet, self).__init__()\n",
        "\n",
        "        here\n",
        "\n",
        "\n",
        "    # 入力に対する出力を計算\n",
        "    def forward(self, x):\n",
        "\n",
        "        here\n",
        "\n",
        "\n",
        "mlp = MLPNet(input=64)\n",
        "print(mlp)"
      ],
      "metadata": {
        "id": "DGqjoXcOdDIJ"
      },
      "execution_count": null,
      "outputs": []
    },
    {
      "cell_type": "markdown",
      "source": [
        "forwadの中身を、図と対応させて書くとわかりやすい\n",
        "\n",
        "```\n",
        "    def forward(self, x):\n",
        "        x = self.fc1(x)\n",
        "        x = self.activation(x)\n",
        "        x = self.fc2(x)\n",
        "        x = self.activation(x)\n",
        "        return self.fc3(x)\n",
        "```\n",
        "       ↓\n",
        "```\n",
        "    def forward(self, x):\n",
        "        x = self.activation(self.fc1(x))\n",
        "        x = self.activation(self.fc2(x))\n",
        "        return self.fc3(x)\n",
        "```\n",
        "\n"
      ],
      "metadata": {
        "id": "IgSBwyikgvFb"
      }
    },
    {
      "cell_type": "code",
      "source": [
        "y = mlp.forward(sample_data)\n",
        "y"
      ],
      "metadata": {
        "id": "sL4NxQWSJSAy"
      },
      "execution_count": null,
      "outputs": []
    },
    {
      "cell_type": "markdown",
      "source": [
        "# 9.4 ソフトマックス関数"
      ],
      "metadata": {
        "id": "wfFV8jW85GQ7"
      }
    },
    {
      "cell_type": "code",
      "source": [
        "import torch\n",
        "from torch import nn\n",
        "import matplotlib.pylab as plt\n",
        "\n",
        "m = nn.Softmax(dim=1)  # 各行でソフトマックス関数\n",
        "\n",
        "x = torch.tensor([[1.0, 2.0, 3.0],\n",
        "                  [3.0, 2.0, 1.0]])\n",
        "y = m(x)\n",
        "\n",
        "print(y)"
      ],
      "metadata": {
        "id": "JzEqnQ1iJUqr"
      },
      "execution_count": null,
      "outputs": []
    },
    {
      "cell_type": "markdown",
      "source": [
        "## MLPNetの最終層をソフトマックス層として計算する"
      ],
      "metadata": {
        "id": "vyBfFCg94baL"
      }
    },
    {
      "cell_type": "code",
      "source": [
        "class MLPNet2(nn.Module):\n",
        "\n",
        "    # 層を定義\n",
        "    def __init__(self, input):\n",
        "        super(MLPNet2, self).__init__()\n",
        "\n",
        "        here\n",
        "\n",
        "    # 入力に対する出力を計算\n",
        "    def forward(self, x):\n",
        "\n",
        "        here\n",
        "\n",
        "\n",
        "mlp2 = MLPNet2(input=64)\n",
        "print(mlp2)"
      ],
      "metadata": {
        "id": "DjdWRjo8e4b0"
      },
      "execution_count": null,
      "outputs": []
    },
    {
      "cell_type": "code",
      "source": [
        "y = mlp.forward(sample_data)\n",
        "print(y)\n",
        "\n",
        "y2 = mlp2.forward(sample_data)\n",
        "print(y2)\n"
      ],
      "metadata": {
        "id": "1ZaKdrDZ4sLC"
      },
      "execution_count": null,
      "outputs": []
    },
    {
      "cell_type": "markdown",
      "source": [
        "# 9.5 演習"
      ],
      "metadata": {
        "id": "rD-EdNGvgacY"
      }
    },
    {
      "cell_type": "code",
      "source": [
        "# nn.Sequentialを利用して（9.3.1の書き方）\n",
        "\n",
        "img_size = 28 * 28\n",
        "nb_class = 10\n",
        "\n",
        "net3 = nn.Sequential(\n",
        "\n",
        "    here\n",
        "\n",
        ")\n",
        "\n",
        "print(net3)"
      ],
      "metadata": {
        "id": "gQavEDKvMXhS"
      },
      "execution_count": null,
      "outputs": []
    },
    {
      "cell_type": "code",
      "source": [
        "# nn.Moduleを継承したクラスを定義（9.3.2の書き方）\n",
        "\n",
        "class MLPNet3(nn.Module):\n",
        "\n",
        "    # 層を定義\n",
        "    def __init__(self, input, nb_class):\n",
        "        super(MLPNet3, self).__init__()\n",
        "\n",
        "        here\n",
        "\n",
        "    # 入力に対する出力を計算\n",
        "    def forward(self, x):\n",
        "\n",
        "        here\n",
        "\n",
        "\n",
        "\n",
        "\n",
        "img_size = 28 * 28\n",
        "nb_class = 10\n",
        "\n",
        "mlp3 = MLPNet3(img_size, nb_class)\n",
        "print(mlp3)"
      ],
      "metadata": {
        "id": "0fLFbzhFMs2a"
      },
      "execution_count": null,
      "outputs": []
    }
  ]
}