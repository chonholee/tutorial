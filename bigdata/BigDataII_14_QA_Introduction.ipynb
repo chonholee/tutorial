{
  "nbformat": 4,
  "nbformat_minor": 0,
  "metadata": {
    "colab": {
      "provenance": [],
      "collapsed_sections": [
        "-CHtp856zlgD"
      ],
      "toc_visible": true,
      "include_colab_link": true
    },
    "kernelspec": {
      "name": "python3",
      "display_name": "Python 3"
    },
    "language_info": {
      "name": "python"
    }
  },
  "cells": [
    {
      "cell_type": "markdown",
      "metadata": {
        "id": "view-in-github",
        "colab_type": "text"
      },
      "source": [
        "<a href=\"https://colab.research.google.com/github/chonholee/tutorial/blob/main/bigdata/BigDataII_14_QA_Introduction.ipynb\" target=\"_parent\"><img src=\"https://colab.research.google.com/assets/colab-badge.svg\" alt=\"Open In Colab\"/></a>"
      ]
    },
    {
      "cell_type": "markdown",
      "metadata": {
        "id": "Sfaxj_ywcd7q"
      },
      "source": [
        "## **はじめに**\n",
        "\n",
        "---\n",
        "D-Wave Systemsが提供しているOcean SDKをインストール\n",
        "\n",
        "※「Quantam Aneeling for You」を参照\n",
        "https://altema.is.tohoku.ac.jp/QA4U/"
      ]
    },
    {
      "cell_type": "code",
      "metadata": {
        "id": "UJSm0-dpcfkb"
      },
      "source": [
        "pip install dwave-ocean-sdk"
      ],
      "execution_count": null,
      "outputs": []
    },
    {
      "cell_type": "markdown",
      "metadata": {
        "id": "Zw5Nu95vcwJO"
      },
      "source": [
        "上記のコードを実行すると、**RESTART RUNTIME** というボタンが表示されると思います。\n",
        "\n",
        "そのボタンを押して [ランタイムの再行動] をしておきましょう。\n",
        "\n",
        "これでD-Wave Systemsの量子アニーリングマシンを利用することができる準備が整いました。"
      ]
    },
    {
      "cell_type": "markdown",
      "metadata": {
        "id": "uFeftXGSdMs1"
      },
      "source": [
        "## **量子アニーリングマシンへの入力**\n",
        "\n",
        "量子アニーリングマシンでは一体どのようなことができるのか。\n",
        "\n",
        "できることはある意味数が少なく「組合せ最適化問題を解く」ということが主な用途となります。\n",
        "\n",
        "しかもその組合せ最適化問題のうち、\n",
        "シンプルな形を持つ次のような関数を最小化するだけという不器用さです。\n",
        "\\begin{equation}\n",
        "E({\\bf x})  = \\sum_{i=1}^{N} \\sum_{j=1}^N Q_{ij} x_i x_j\n",
        "\\end{equation}\n",
        "\n",
        "このような関数を最小化する問題のことを**制約なし2値の2次計画問題**と言います。\n",
        "\n",
        "英語でQuadratic unconstrained binary optimization（QUBO）と呼びます。\n",
        "\n",
        "最小化される対象となる関数のことを**コスト関数**と呼びます。"
      ]
    },
    {
      "cell_type": "markdown",
      "metadata": {
        "id": "FXyD2-_9dMvH"
      },
      "source": [
        "* ここで$x_i$は$0$か$1$を取る２値の変数です。変数というのは、状況によって値を変えるものですので、ここではどんな値を取るのか、色々な可能性があります。\n",
        "\n",
        "* $Q_{ij}$はQUBO行列と呼び、その値によって様々な組合せ最適化問題を表すことができます。"
      ]
    },
    {
      "cell_type": "markdown",
      "metadata": {
        "id": "tLb70uqFdMxP"
      },
      "source": [
        "### **高校数学との接点**\n",
        "シグマ記号（$\\Sigma$）が登場して驚く読者もいると思います。\n",
        "ただシグマ記号を始め、数学の記号はじっくり眺めるとちゃんと読むことのできるものであり、\n",
        "その読み方さえ習えば怖いものではないのです。\n",
        "それこそ辞書を片手に英語を読むようなものです。だからさっと見せられて翻訳の済む前に次の話に行くと、\n",
        "わからないままに進むので嫌な気分だけが記憶に残り、苦手意識に変わります。\n",
        "\n",
        "そこでじっくりとシグマ記号に慣れ親しむことにしましょう。\n",
        "シグマ記号は\n",
        "**「下についた文字の始まりから上に書いてある終わりまで、その数値を変えながら、どんどん足していくぞ」**\n",
        "という宣言をするものです。だから**たくさん足し算するぞ**と言っているだけです。\n"
      ]
    },
    {
      "cell_type": "markdown",
      "metadata": {
        "id": "oEWlU0EjdM4T"
      },
      "source": [
        "例えば先ほどのコスト関数は、、、\n",
        "\\begin{equation}\n",
        "\\sum_{i=1}^N \\sum_{j=1}^N Q_{ij}x_ix_j = Q_{11}x_1x_1 + Q_{12}x_1x_2 + \\cdots + Q_{1N}x_1x_N + Q_{21}x_2x_1 + \\cdots + Q_{NN}x_Nx_N\n",
        "\\end{equation}\n",
        "というぐあいに、$i$に$1$を入れてから$j$に$1$を入れて$2$を入れて$3$を入れて、それらを全て足す、ということをしますよという意味です。"
      ]
    },
    {
      "cell_type": "markdown",
      "metadata": {
        "id": "p8BlwZzKcjkn"
      },
      "source": [
        "### **早速量子アニーリングマシンを使ってみよう！**\n",
        "\n",
        "いきなり数学の話が長々と続いてしまっては面白くなくなりますよね。\n",
        "早く量子アニーリングを実行したいと思っているはずですから。まずは動かすということをやってみましょう！\n",
        "まずは皆さん、D-Wave Systems社のWebページからアカウントを作成しましょう。\n",
        "実は1分間だけは誰でも無料で使えます。"
      ]
    },
    {
      "cell_type": "markdown",
      "metadata": {
        "id": "EacfNfq0zleF"
      },
      "source": [
        "### **アカウント登録**\n",
        "https://cloud.dwavesys.com/leap/\n",
        "にアクセスしてください。\n",
        "\n",
        "メールアドレスや氏名・所属情報を記入してご自身のアカウントを作成してください。\n",
        "\n",
        "そのアカウントでログインしたのちに、画面左下にあるAPI tokenをコピーしてください。"
      ]
    },
    {
      "cell_type": "markdown",
      "metadata": {
        "id": "-CHtp856zlgD"
      },
      "source": [
        "### **簡単な問題を投入してみよう！**\n",
        "\n",
        "それではアカウント登録が済んだら、そこで得られたご自身のAPI keyを利用して、量子アニーリングマシンに問題を投じてみましょう。先ほど紹介したように量子アニーリングマシンに問題を投じるというのは、QUBO行列をカナダにある量子アニーリングマシンに送信するという意味です。\n",
        "だからQUBO行列さえ用意することができれば良いわけです。\n",
        "やってみましょう。"
      ]
    },
    {
      "cell_type": "code",
      "metadata": {
        "id": "XZEDrVPOz_F2"
      },
      "source": [
        "import numpy as np\n",
        "\n",
        "N = 10\n",
        "QUBO = np.random.randn(N**2).reshape(N,N)"
      ],
      "execution_count": null,
      "outputs": []
    },
    {
      "cell_type": "markdown",
      "metadata": {
        "id": "mfy9gAZL0GIy"
      },
      "source": [
        "まずは簡単な例として、10×10行列によるQUBOを考えてみます。\n",
        "np.random.randn()は、平均0、分散1のガウス分布に従う乱数を生成するという関数です。\n",
        "それをN**2=100個作ったのち、reshape(N,N)として、10×10の行列の形にします。"
      ]
    },
    {
      "cell_type": "markdown",
      "metadata": {
        "id": "V44e1gKFyD7Q"
      },
      "source": [
        "これでQUBO行列が用意できました。\n",
        "このQUBO行列には正負の値がでたらめに入っています。\n",
        "それぞれの値を見ることもできます。"
      ]
    },
    {
      "cell_type": "code",
      "metadata": {
        "id": "b3Kmb3PNyYRd"
      },
      "source": [
        "print(QUBO[0][1])"
      ],
      "execution_count": null,
      "outputs": []
    },
    {
      "cell_type": "markdown",
      "metadata": {
        "id": "jzt4b3xBybzd"
      },
      "source": [
        "$Q_{ij}$の値が正であれば、コスト関数の一部分を注目すると$Q_{ij}x_ix_j$を小さい値にするには、$x_ix_j = 0$になるのが良い。"
      ]
    },
    {
      "cell_type": "markdown",
      "metadata": {
        "id": "mWn1i2M20lnD"
      },
      "source": [
        "- $x_i=0$, $x_j=1$\n",
        "- $x_i=1$, $x_j=0$\n",
        "- $x_i=0$, $x_j=0$"
      ]
    },
    {
      "cell_type": "markdown",
      "metadata": {
        "id": "gu_QVIEs1HJK"
      },
      "source": [
        "という3通りが選ばれることになる。逆に$Q_{ij}$が負の値をとると$x_ix_j=1$となるのが良い。\n",
        "- $x_i=1$,$x_j=1$\n",
        "\n",
        "単純に$ij$のペア1つだけに注目するのであれば、こうした傾向を考えていけば良い。\n",
        "しかし他にも$i$にかかる別のペアから他の向きになることを要求される可能性もある。\n",
        "さらに$Q_{ii}x_ix_i$というQUBO行列の対角成分$Q_{ii}$の値次第で、$x_i$がまた影響を受ける。$Q_{ii}$が正の値を取ると$x_i=0$になった方が良いし、$Q_{ii}$が負の値を取ると$x_i=1$になった方が良い。\n",
        "以上のような様々な影響がかかり、どの向きを向いたら良いのかがすぐにはわからない悩ましい問題となる。組合せ最適化問題にはそうした悩ましい状況が往々にして生じる。\n",
        "こうした問題に対して、D-Wave Systemsの量子アニーリングマシンで答えを出してみよう。"
      ]
    },
    {
      "cell_type": "markdown",
      "metadata": {
        "id": "F03UTTZ3_9YU"
      },
      "source": [
        "まず先ほど登録したアカウントからAPI tokenを入手します。\n",
        "ログインした後の画面において左側にあるボタンからAPI tokenをコピーしましょう。\n",
        "そのtokenを以下の**の代わりに入力してください。"
      ]
    },
    {
      "cell_type": "code",
      "metadata": {
        "id": "D5juECTB1g98"
      },
      "source": [
        "token = '**'  # <--- 個人のAPI tokenを使用\n",
        "endpoint = 'https://cloud.dwavesys.com/sapi/'"
      ],
      "execution_count": null,
      "outputs": []
    },
    {
      "cell_type": "markdown",
      "metadata": {
        "id": "YQ4eXAXN2T1K"
      },
      "source": [
        "これでD-Wave Systems社の量子アニーリングマシンを利用する環境が整いました。\n",
        "続けて量子アニーリングマシンを呼び出す関数をいくつか用意します。"
      ]
    },
    {
      "cell_type": "code",
      "metadata": {
        "id": "PquuZ9G2CBMP"
      },
      "source": [
        "from dwave.system import DWaveSampler, EmbeddingComposite\n",
        "\n",
        "dw_sampler = DWaveSampler(solver='Advantage_system4.1', token=token, endpoint=endpoint)"
      ],
      "execution_count": null,
      "outputs": []
    },
    {
      "cell_type": "markdown",
      "metadata": {
        "id": "BOEtLqhnCGsv"
      },
      "source": [
        "まず from dwave.systemとあるのはOcean SDKのdwave.systemの中からということです。\n",
        "\n",
        "**import DWaveSampler**でDWaveSamplerという関数を呼び出しており、\n",
        "\n",
        "**import EmbeddingComposite**でEmbeddingCompositeという関数を呼び出しています。\n",
        "\n",
        "この呼び出した関数のうちDWaveSamplerは、量子アニーリングマシンにアクセスするための関数です。\n",
        "solver=というオプションで、どの量子アニーリングマシンを使うのかを指定することができます。\n",
        "\n",
        "最新式の量子アニーリングマシンはD-Wave Advantageであり、それを利用する場合には\n",
        "\n",
        "**solver = 'Advantage_system4.1'**としましょう。\n",
        "\n",
        "前の形式の量子アニーリングマシンであるD-Wave 2000Qを利用する場合には\n",
        "\n",
        "**solver = 'DW_2000Q_6'**としましょう。\n",
        "\n",
        "それぞれ利用したいものを指定すれば準備完了です。\n",
        "\n",
        "量子アニーリングマシンの中にはQPU（Quantum Processing Unit）と呼ばれる部品があり、\n",
        "そこに搭載された超伝導量子ビットによる回路のパラメータを調整して$Q_{ij}$を与えます。\n",
        "回路の設計上、$Q_{ij}$で指定された構造を作ることができない場合には、他の回路や量子ビットをうまく組み合わせるエンベッドという作業をします。\n",
        "その作業をするには先ほど読み込んだ関数のうちEmbeddingComposite()という関数を利用することができます。"
      ]
    },
    {
      "cell_type": "code",
      "metadata": {
        "id": "xlidH5HhHEF9"
      },
      "source": [
        "sampler = EmbeddingComposite(dw_sampler)"
      ],
      "execution_count": null,
      "outputs": []
    },
    {
      "cell_type": "markdown",
      "metadata": {
        "id": "jQBD8SUmCGvM"
      },
      "source": [
        "エンべディングを終えると、超伝導量子ビットにどの$x_i$を割り当てるか、\n",
        "どのように$Q_{ij}$を割り当てるのかが決められた新しいsamplerに置き換わります。\n",
        "これを利用することで,先ほど用意したQUBO行列に基づく組合せ最適化問題を量子アニーリングマシンに解かせることができます。"
      ]
    },
    {
      "cell_type": "code",
      "metadata": {
        "id": "1PbAeKHRCGBj"
      },
      "source": [
        "sampleset = sampler.sample_qubo(QUBO, num_reads=10)"
      ],
      "execution_count": null,
      "outputs": []
    },
    {
      "cell_type": "markdown",
      "metadata": {
        "id": "R3cmzq7GK1RX"
      },
      "source": [
        "sampler.sample_quboというのが、用意したsamplerの機能のうちQUBO形式の組合せ最適化問題を解く関数です。この引数として、先ほど用意したQUBO行列を入れます。\n",
        "num_readsは非常にユニークなオプションで、何度結果を読み出すかを指定するところです。\n",
        "結果を受け取ったsamplesetには、指定した組合せ最適化問題をnum_readsで指定した回数分解いた答えが格納されています。"
      ]
    },
    {
      "cell_type": "code",
      "metadata": {
        "id": "MXHWX34fM8Xc"
      },
      "source": [
        "print(sampleset.record)"
      ],
      "execution_count": null,
      "outputs": []
    },
    {
      "cell_type": "markdown",
      "metadata": {
        "id": "LbtbInMfNh4i"
      },
      "source": [
        "結果の一番目を取り出したいときはsampleset.record[0]として、\n",
        "$x_i$などの結果を知りたいときは、sampleset.record[0][0]から取り出すことができます。\n",
        "さらにコスト関数の値を知りたいときはsampleset.record[0][1]\n",
        "その答えが何度出てきたのか頻度を知りたいときはsampleset.record[0][2]で調べることができます。"
      ]
    },
    {
      "cell_type": "code",
      "metadata": {
        "id": "DQPBPoXNNSKd"
      },
      "source": [
        "sampleset.record[0][0]"
      ],
      "execution_count": null,
      "outputs": []
    },
    {
      "cell_type": "markdown",
      "metadata": {
        "id": "TWAnuQk_Kxfh"
      },
      "source": [
        "簡単に利用できることがご理解いただけましたかね。で\n",
        "は次に行ってみよう！"
      ]
    },
    {
      "cell_type": "markdown",
      "metadata": {
        "id": "dWzmOoJPzlkJ"
      },
      "source": [
        "## **実感の湧く問題を解いてみよう**"
      ]
    },
    {
      "cell_type": "markdown",
      "source": [
        "## 例１：分割問題"
      ],
      "metadata": {
        "id": "Tur2Qpiglv5R"
      }
    },
    {
      "cell_type": "markdown",
      "metadata": {
        "id": "gzgI7qDUzll-"
      },
      "source": [
        "上記の例はでたらめなQUBO行列によるものであったので、あまり解いたとしても実感が湧かない。\n",
        "\n",
        "そこで少し具体的に意味のある問題を解いてみましょう。\n"
      ]
    },
    {
      "cell_type": "markdown",
      "metadata": {
        "id": "gu_yM2KXzloD"
      },
      "source": [
        "**いくつかの荷物があり、それぞれには重さが異なるものとします。**\n",
        "\n",
        "**それを運ぶ2人がいて、重さが均等になるようにその荷物を2つのグループに分けたい。**"
      ]
    },
    {
      "cell_type": "markdown",
      "metadata": {
        "id": "40LzLXSPzlqM"
      },
      "source": [
        "どのようにしたら良いでしょうか？\n",
        "\n",
        "ここで考えなければならないのは**QUBO行列を作る**ことです。\n",
        "ただしいきなり$Q_{ij}$のことを思っても何も思い浮かばないものです。\n",
        "そこで重要となるのが**数式によるモデリング**です。\n",
        "ここが量子アニーリングの研究開発を行う上での成長ポイントです。\n",
        "量子そのものの前に、数理モデリングに挑戦する必要があるのです。"
      ]
    },
    {
      "cell_type": "markdown",
      "metadata": {
        "id": "SwFe5FJEzlsX"
      },
      "source": [
        "重さを持ついくつかの荷物があるというのだから、その重さを$w_i$としましょう。\n",
        "$N$個あるとして、合計した重さは$W=\\sum_{i=1}^N w_i$です。\n",
        "\n",
        "（こうやって何も与えられていないところで**自分で文字式を立てる**ところから訓練です）\n"
      ]
    },
    {
      "cell_type": "markdown",
      "metadata": {
        "id": "4vbhaCW3zlup"
      },
      "source": [
        "2人のうちAさんがその荷物を取る場合$x_i=1$として、取らない場合は$x_i=0$とすると、\n",
        "Aさんが持つ荷物の重さの合計は、\n",
        "\\begin{equation}\n",
        "W_A = \\sum_{i=1}^N w_i x_i\n",
        "\\end{equation}\n",
        "逆にBさんは残りの荷物を持つので\n",
        "\\begin{equation}\n",
        "W_B = W - W_A\n",
        "\\end{equation}\n",
        "となります。\n",
        "これらが等しくなるというのだから、\n",
        "\\begin{equation}\n",
        "W_A - W_B\n",
        "\\end{equation}\n",
        "という引き算をしたズレが$0$になれば完璧です。\n",
        "もしくは非常に小さいものとなってくれれば嬉しい。\n",
        "ただ$W_A$がわずかに大きくても仕方ないし、小さくても仕方ない。正負の値どちらでも良いからとにかく**ズレの大きさ**ができるだけ小さいことが望ましいというわけです。\n",
        "できるだけ小さい、すなわちズレの大きさが最小になるような組み合わせを見つければ良いですよね。\n",
        "そうするとコスト関数として、次のようなものを考えてみましょう。\n",
        "\\begin{equation}\n",
        "E({\\bf x}) = \\left( W_A - W_B \\right)^2 = \\left( 2W_A - W \\right)^2\n",
        "\\end{equation}\n",
        "ここに$W_A$の具体的な形として先ほど準備しておいた形を入れてみましょう。\n",
        "\\begin{equation}\n",
        "E({\\bf x}) = \\left( 2\\sum_{i=1}^N w_i x_i - W \\right)^2\n",
        "\\end{equation}\n",
        "\n"
      ]
    },
    {
      "cell_type": "markdown",
      "metadata": {
        "id": "XS7EVj71zlwx"
      },
      "source": [
        "何か近い形になってきましたね。二乗をするというのは同じものを掛け算するという意味です。\n",
        "シグマ記号は嫌らしいけれども意味はとにかく足し算をするというものでした。\n",
        "下にある$i=1$は$i$という文字を$1$から動かして上にある$N$まで変えて足し算してくださいね、ということです。\n",
        "だったら$i$という文字は仮置きをしているだけですから、別の文字を使っても良いですね。\n"
      ]
    },
    {
      "cell_type": "markdown",
      "metadata": {
        "id": "OXjkUAmOXRcx"
      },
      "source": [
        "\\begin{equation}\n",
        "E({\\bf x}) = \\left( 2\\sum_{i=1}^N w_i x_i - W \\right)\\left( 2\\sum_{j=1}^N w_j x_j - W \\right)\n",
        "\\end{equation}"
      ]
    },
    {
      "cell_type": "markdown",
      "metadata": {
        "id": "NZifi9yCXWyS"
      },
      "source": [
        "この掛け算を展開してみましょう。"
      ]
    },
    {
      "cell_type": "markdown",
      "metadata": {
        "id": "i3VkKv_WXbow"
      },
      "source": [
        "\\begin{equation}\n",
        "E({\\bf x}) = 4\\sum_{i=1}^N\\sum_{j=1}^N w_iw_j x_ix_j - 2W\\sum_{i=1}^N w_i x_i  - 2W\\sum_{j=1}^N w_j x_j + W^2\n",
        "\\end{equation}"
      ]
    },
    {
      "cell_type": "markdown",
      "metadata": {
        "id": "J6GWTPrzY9vy"
      },
      "source": [
        "ここで第二項と第三項で同じ和が2つ出ていますので、まとめておきましょう。\n",
        "\\begin{equation}\n",
        "E({\\bf x}) = 4\\sum_{i=1}^N\\sum_{j=1}^N w_iw_j x_ix_j - 4W\\sum_{i=1}^N w_i x_i + W^2\n",
        "\\end{equation}\n"
      ]
    },
    {
      "cell_type": "markdown",
      "metadata": {
        "id": "6rFLqcTlYtO6"
      },
      "source": [
        "$x_ix_j$という部分が出てきましたね。その係数は$4w_iw_j$で、この部分がQUBO行列に相当します。$x_i$が$0$と$1$のどちらかの値を持つことから、$x_i$が$x_ix_i$と同じことを思いつくと、第二項は、$-4W\\sum_{i=1}^N w_i x_ix_i$という意味で、QUBO行列のうち添え字が同じ$i$と$i$のとき、対角成分のことを示していることがわかります。\n",
        "これらの事実からQUBO行列を作るプログラムの発想ができます。"
      ]
    },
    {
      "cell_type": "code",
      "metadata": {
        "id": "IkimRioVZ25x"
      },
      "source": [
        "N = 10\n",
        "w = np.random.rand(N)"
      ],
      "execution_count": null,
      "outputs": []
    },
    {
      "cell_type": "markdown",
      "metadata": {
        "id": "BtaN3gwwZ6_o"
      },
      "source": [
        "まず例えば$N=10$個の荷物について、その重さを適当な乱数で決めることにしましょう。\n",
        "\n",
        "np.random.rand()で$0$から$1$の範囲にある適当な数値が出ます。\n",
        "\n",
        "この係数からQUBO行列を作ります。\n",
        "まず最初に全重量の計算です。"
      ]
    },
    {
      "cell_type": "code",
      "metadata": {
        "id": "bBEtvgMcXQxB"
      },
      "source": [
        "W = ---- HERE ----"
      ],
      "execution_count": null,
      "outputs": []
    },
    {
      "cell_type": "markdown",
      "metadata": {
        "id": "sf6-PIHAaUbo"
      },
      "source": [
        "numpyのsum()を利用すれば全重量の合計が計算できます。"
      ]
    },
    {
      "cell_type": "code",
      "metadata": {
        "id": "B6UbhVJ_abdQ"
      },
      "source": [
        "Q = ---- HERE ----"
      ],
      "execution_count": null,
      "outputs": []
    },
    {
      "cell_type": "markdown",
      "metadata": {
        "id": "3lLNGyMKzlzE"
      },
      "source": [
        "まずはQUBO行列を格納する場所を用意しましょう。np.zeros()はその名の通り、全成分を0で埋めたものを並べて作ります。これを.reshape(N,N)でN×Nの行列に整形します。"
      ]
    },
    {
      "cell_type": "code",
      "metadata": {
        "id": "tRE0jFCCas-4"
      },
      "source": [
        "---- HERE ----"
      ],
      "execution_count": null,
      "outputs": []
    },
    {
      "cell_type": "markdown",
      "metadata": {
        "id": "I3i4SSXWzl1N"
      },
      "source": [
        "まず第一項の計算をここで実行しています。for文を使って、iとjを動かしながら、$Q_{ij}$すなわちQ[i][j]に値を入れていきます。その値は$4w_iw_j$ですから、その結果を入れていきます。\n",
        "次に第二項をQUBO行列の対角成分に追加しましょう。"
      ]
    },
    {
      "cell_type": "code",
      "metadata": {
        "id": "TraXwF00bOdq"
      },
      "source": [
        "---- HERE ----"
      ],
      "execution_count": null,
      "outputs": []
    },
    {
      "cell_type": "markdown",
      "metadata": {
        "id": "iBsMrsaNbWGA"
      },
      "source": [
        "ここで注意して欲しいのが、第一項で計算した結果に追加するので、元からあるQ[i][i]に引き算をするようにしています。\n",
        "\n",
        "これでQUBO行列の作成完了です。\n",
        "すでにD-Waveマシンの利用準備は整っておりますので、QUBO行列を投入するだけです。"
      ]
    },
    {
      "cell_type": "code",
      "metadata": {
        "id": "6le7e1vccnpU"
      },
      "source": [
        "sampleset = sampler.sample_qubo(Q, num_reads=10)"
      ],
      "execution_count": null,
      "outputs": []
    },
    {
      "cell_type": "code",
      "metadata": {
        "id": "Ox0otlu5eFYB"
      },
      "source": [
        "print(sampleset.record)"
      ],
      "execution_count": null,
      "outputs": []
    },
    {
      "cell_type": "markdown",
      "metadata": {
        "id": "j-nG_poleIKR"
      },
      "source": [
        "結果が出てきましたね。それでは一番結果の良かった一番目の結果を抜き出してみましょう。"
      ]
    },
    {
      "cell_type": "code",
      "metadata": {
        "id": "ExDMgxAQy-yZ"
      },
      "source": [
        "x = sampleset.record[0][0]"
      ],
      "execution_count": null,
      "outputs": []
    },
    {
      "cell_type": "markdown",
      "metadata": {
        "id": "PZnR0skCeUx4"
      },
      "source": [
        "結果を示す$x_i$の数列をxに格納しました。\n",
        "これから$W_A$と$W_B$を計算してみましょう。\n"
      ]
    },
    {
      "cell_type": "code",
      "metadata": {
        "id": "EER-2s6VeTER"
      },
      "source": [
        "print(np.dot(w,x))"
      ],
      "execution_count": null,
      "outputs": []
    },
    {
      "cell_type": "code",
      "metadata": {
        "id": "FEZeQCcOeg-L"
      },
      "source": [
        "print(W-np.dot(w,x))"
      ],
      "execution_count": null,
      "outputs": []
    },
    {
      "cell_type": "markdown",
      "metadata": {
        "id": "Kpb5K9YLg4_9"
      },
      "source": [
        "ほぼ揃った答えがうまく出せたでしょうか？"
      ]
    },
    {
      "cell_type": "markdown",
      "metadata": {
        "id": "tK2pSw4KhFeg"
      },
      "source": [
        "## **(補足１) 他のソルバーを利用してみよう！**"
      ]
    },
    {
      "cell_type": "markdown",
      "metadata": {
        "id": "mRWMJ28qjUk7"
      },
      "source": [
        "D-Wave Systems社の量子アニーリングマシンは、QPUの成長とともに扱える問題の規模を大きくしてきました。\n",
        "最近ではハイブリッドソルバーの登場により、飛躍的にその規模を大きくしました。\n",
        "純粋に量子現象を利用した計算だけではないものの、古典的な計算アルゴリズムを巧みに利用して、計算性能も向上させているため大規模な問題を解く上では有用です。\n",
        "その利用方法についても容易であり、以下のようなコードでsamplerを書き換えるだけです。\n",
        "\n"
      ]
    },
    {
      "cell_type": "code",
      "metadata": {
        "id": "2SODQpKdj-1a"
      },
      "source": [
        "from dwave.system import LeapHybridSampler\n",
        "sampler = LeapHybridSampler(solver='hybrid_binary_quadratic_model_version2', token=token, endpoint=endpoint)"
      ],
      "execution_count": null,
      "outputs": []
    },
    {
      "cell_type": "markdown",
      "metadata": {
        "id": "MaUJ6H0HkEfF"
      },
      "source": [
        "ソルバーのオプションとして、solver='hybrid_binary_quadratic_model_version2'を選ぶだけでOKです。注意としてはハイブリッドソルバーを利用する場合には、エンベッドの必要がないことです。ここで用意したsamplerを使って直ちに結果を得ることができます。"
      ]
    },
    {
      "cell_type": "code",
      "metadata": {
        "id": "bkd5hXLPky55"
      },
      "source": [
        "sampleset = sampler.sample_qubo(Q)"
      ],
      "execution_count": null,
      "outputs": []
    },
    {
      "cell_type": "markdown",
      "metadata": {
        "id": "WvevSC0BkC9-"
      },
      "source": [
        "注意としてハイブリッドソルバーは、オプションとしてnum_readsを持ちません。\n",
        "ハイブリッドソルバーは**最大で100万変数**のものを扱うことができる（扱うことのできるQUBO行列には全ての値が詰まっていないなどの条件はあります）\n"
      ]
    },
    {
      "cell_type": "code",
      "metadata": {
        "id": "em70zZwplHqS"
      },
      "source": [
        "print(sampleset.record)"
      ],
      "execution_count": null,
      "outputs": []
    },
    {
      "cell_type": "markdown",
      "metadata": {
        "id": "XmkD0jEplawq"
      },
      "source": [
        "場合によっては上記の純粋な量子現象のみのQPUによる結果よりも良好な結果を得たのではないでしょうか。これがD-Wave Systems社の用意したハイブリッドソルバーの威力です。\n",
        "他にもD-Wave Systems社が用意したソルバーとして、**整数値を利用することのできるhybrid_discrete_quadratic_model_version1**があります。"
      ]
    },
    {
      "cell_type": "markdown",
      "metadata": {
        "id": "45jyT_Vh6nZB"
      },
      "source": [
        "## **(補足２) QUBO行列の設定方法について**"
      ]
    },
    {
      "cell_type": "markdown",
      "metadata": {
        "id": "Z1C_kBE96saW"
      },
      "source": [
        "QUBO行列はだんだんと巨大なものになってくると、そのデータ転送にも時間がかかるようになり、せっかくの量子アニーリングマシンのパワーを台無しにしてしまうことがあります。\n",
        "データの転送量を抑えるためにも、不要な成分についてはその情報を送らないようにしておくと良いでしょう。\n",
        "python上ではnumpyによるarray形式で行列を扱うことが多いのですが、代わりにdict形式でデータを送りましょう。\n"
      ]
    },
    {
      "cell_type": "code",
      "metadata": {
        "id": "w6DAxcPm7FCn"
      },
      "source": [
        "Qdict = {}\n",
        "for i in range(N):\n",
        "  for j in range(N):\n",
        "    if Q[i][j] != 0.0:\n",
        "      Qdict[(i,j)] = Q[i][j]"
      ],
      "execution_count": null,
      "outputs": []
    },
    {
      "cell_type": "markdown",
      "metadata": {
        "id": "Uiv3XbN77RnA"
      },
      "source": [
        "dict形式の初期化は{}で中身は空欄にしておくだけです。\n",
        "Qdict[(i,j)]のように(i,j)でどの成分に値があるのかを指定して、その値を代入します。\n",
        "ここではif文を使い、ゼロではないところだけ、Qdictのデータとして格納しています。\n",
        "出来上がったものを確認したい場合にはQdictとそのまま打って実行したり、print(Qdict)と実行してみましょう。"
      ]
    },
    {
      "cell_type": "code",
      "metadata": {
        "id": "tKL6Jbtg7m_a"
      },
      "source": [
        "print(Qdict)"
      ],
      "execution_count": null,
      "outputs": []
    },
    {
      "cell_type": "markdown",
      "metadata": {
        "id": "U-5Lhef57D8S"
      },
      "source": [
        "どこの成分に重要な非零の行列成分があるのかを指定する形になっています。\n",
        "上記の問題では非零成分のない問題になっていますので影響はさほどありませんが、\n",
        "基本的なテクニックとして知っておくと良いでしょう。\n",
        "\n",
        "（正直この入力の違いだけでハイブリッドソルバーなどでは如実に性能が変わります）"
      ]
    },
    {
      "cell_type": "markdown",
      "metadata": {
        "id": "z4LcRgYE4J_b"
      },
      "source": [
        "## **(補足３) シミュレータを活用しよう**"
      ]
    },
    {
      "cell_type": "markdown",
      "metadata": {
        "id": "d3kszBzahK9k"
      },
      "source": [
        "さて上記のように用意した量子アニーリングマシンは、利用回数には制限があり、大事に使いたいところでしょう。演習の際には豊富なマシンタイムを利用することのできるAPI tokenを発行する予定ですが、講義の間の試し利用の場合には、代わりになるシミュレータを利用すると良いでしょう。\n",
        "その一つが**株式会社Jijの開発するOpenJij**です。\n",
        "\n",
        "OpenJijは量子アニーリングマシンのシミュレータを搭載するオープンソースソフトウェアです。\n"
      ]
    },
    {
      "cell_type": "markdown",
      "metadata": {
        "id": "IP9-zetq5OZP"
      },
      "source": [
        "基本的な利用方法は、これまでと同じようにQUBO行列を作ったのちにsamplerに投入するだけです。その際にOpenJijのsamplerを利用します。"
      ]
    },
    {
      "cell_type": "markdown",
      "metadata": {
        "id": "u-5Dp62i5YN_"
      },
      "source": [
        "その前にまずはOpenJijのインストールが必要です。"
      ]
    },
    {
      "cell_type": "code",
      "metadata": {
        "id": "GiWddXap5fIL"
      },
      "source": [
        "pip install openjij"
      ],
      "execution_count": null,
      "outputs": []
    },
    {
      "cell_type": "markdown",
      "metadata": {
        "id": "3xLQbXWn5bp3"
      },
      "source": [
        "再びpip installを利用して、OpenJijをインストールします。\n",
        "その後にimport SQASamplerを実行してsamplerの準備を行いましょう。"
      ]
    },
    {
      "cell_type": "code",
      "metadata": {
        "id": "iOnD6obYfGnp"
      },
      "source": [
        "from openjij import SQASampler\n",
        "sampler = SQASampler()"
      ],
      "execution_count": null,
      "outputs": []
    },
    {
      "cell_type": "markdown",
      "metadata": {
        "id": "2_l066yk8AcA"
      },
      "source": [
        "準備はこれだけです。SQAというのはシミュレーテッド量子アニーリングというもので、\n",
        "**量子モンテカルロ法**という計算技術を活用して、**量子アニーリングのシミュレーション**を行っています。\n",
        "オプションでそのシミュレーションのパラメータ等を設定することができますが、とりあえず前に進めていきましょう。"
      ]
    },
    {
      "cell_type": "code",
      "metadata": {
        "id": "fR5-8aee5vDn"
      },
      "source": [
        "sampleset = sampler.sample_qubo(Qdict, num_reads=10)"
      ],
      "execution_count": null,
      "outputs": []
    },
    {
      "cell_type": "code",
      "metadata": {
        "id": "iJeu9wTa6g0K"
      },
      "source": [
        "print(sampleset.record)"
      ],
      "execution_count": null,
      "outputs": []
    },
    {
      "cell_type": "markdown",
      "metadata": {
        "id": "B40tNNEt9KHW"
      },
      "source": [
        "OpenJijではdict形式で問題を受け付けますので、注意してください。\n",
        "\n",
        "（先程の手順でnumpy array形式だったものをdict形式に直しておきましょう）\n",
        "\n",
        "結構いい答えが出てきたのではないでしょうか。これでとりあえずは十分ですよね。\n",
        "ただ問題のサイズが大きくなるにつれて結果が次第に悪化してくることがありますのでご注意を。\n",
        "それはパラメータの設定で改善する可能性があります。"
      ]
    }
  ]
}