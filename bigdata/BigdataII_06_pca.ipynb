{
  "nbformat": 4,
  "nbformat_minor": 0,
  "metadata": {
    "colab": {
      "provenance": [],
      "collapsed_sections": [
        "g5H1pPtI-KMl"
      ],
      "mount_file_id": "1iur8LQtb1eU-m_GA8diTStgh0hnaMK_P",
      "authorship_tag": "ABX9TyNm+kZNMyfaJydqi0VFV22v",
      "include_colab_link": true
    },
    "kernelspec": {
      "name": "python3",
      "display_name": "Python 3"
    },
    "language_info": {
      "name": "python"
    }
  },
  "cells": [
    {
      "cell_type": "markdown",
      "metadata": {
        "id": "view-in-github",
        "colab_type": "text"
      },
      "source": [
        "<a href=\"https://colab.research.google.com/github/chonholee/tutorial/blob/main/bigdata/BigdataII_06_pca.ipynb\" target=\"_parent\"><img src=\"https://colab.research.google.com/assets/colab-badge.svg\" alt=\"Open In Colab\"/></a>"
      ]
    },
    {
      "cell_type": "code",
      "metadata": {
        "id": "6bEGcQf6q26X"
      },
      "source": [
        "# いつものDriveマウント\n",
        "\n",
        "from google.colab import drive\n",
        "drive.mount('/content/drive/')\n",
        "%cd '/content/drive/MyDrive/xxx'"
      ],
      "execution_count": null,
      "outputs": []
    },
    {
      "cell_type": "markdown",
      "metadata": {
        "id": "LiNUCtY39HnH"
      },
      "source": [
        "Matplotlib文字化け対策"
      ]
    },
    {
      "cell_type": "code",
      "metadata": {
        "id": "IUd3vFHN9Cj-"
      },
      "source": [
        "x = range(6)\n",
        "y = np.linspace(0,5,6)\n",
        "\n",
        "plt.plot(x, y)\n",
        "plt.title(\"テスト\")\n",
        "plt.show()"
      ],
      "execution_count": null,
      "outputs": []
    },
    {
      "cell_type": "code",
      "metadata": {
        "id": "r3wpKF0O9Cej"
      },
      "source": [
        "# 「IPA」フォントをインストール\n",
        "!apt-get -y install fonts-ipafont-gothic\n",
        "#!rm /root/.cache/matplotlib/fontlist-v300.json # キャッシュを削除\n",
        "\n",
        "!pip install japanize-matplotlib\n",
        "import japanize_matplotlib #matplotlib日本語化\n",
        "import seaborn as sns\n",
        "sns.set(font=\"IPAexGothic\") #日本語フォント設定"
      ],
      "execution_count": null,
      "outputs": []
    },
    {
      "cell_type": "code",
      "metadata": {
        "id": "ZjSm3pvN9CGG"
      },
      "source": [
        "# タイトル確認\n",
        "plt.plot(x, y)\n",
        "plt.title(\"テスト\")\n",
        "plt.show()"
      ],
      "execution_count": null,
      "outputs": []
    },
    {
      "cell_type": "markdown",
      "metadata": {
        "id": "EIt00fGv88kW"
      },
      "source": [
        "# 主成分分析（PCA） 演習"
      ]
    },
    {
      "cell_type": "code",
      "metadata": {
        "id": "D_2Q6b869C9U"
      },
      "source": [
        "%matplotlib inline\n",
        "import numpy as np\n",
        "import matplotlib.pyplot as plt"
      ],
      "execution_count": null,
      "outputs": []
    },
    {
      "cell_type": "markdown",
      "metadata": {
        "id": "4z1mQ9NUyXoH"
      },
      "source": [
        "## 基本的な使い方"
      ]
    },
    {
      "cell_type": "markdown",
      "metadata": {
        "id": "yg0duFDCwowo"
      },
      "source": [
        "### データ生成"
      ]
    },
    {
      "cell_type": "code",
      "metadata": {
        "id": "VTnry8Bj-JrR"
      },
      "source": [
        "# ランダムにデータを生成\n",
        "rng = np.random.RandomState(1)\n",
        "X = np.dot(rng.rand(2, 2), rng.randn(2, 200)).T # 分散させるために2x2の行列を掛ける"
      ],
      "execution_count": null,
      "outputs": []
    },
    {
      "cell_type": "code",
      "metadata": {
        "id": "8tv_fotafSxP"
      },
      "source": [
        "plt.scatter(X[:, 0], X[:, 1])\n",
        "plt.axis('equal'); # 軸の比率を同じにする"
      ],
      "execution_count": null,
      "outputs": []
    },
    {
      "cell_type": "markdown",
      "metadata": {
        "id": "QUpBi9PgBvkm"
      },
      "source": [
        "### PCA, 主成分と共分散を取得する"
      ]
    },
    {
      "cell_type": "code",
      "metadata": {
        "id": "Wl3-Gc39-Uwi"
      },
      "source": [
        "from sklearn.decomposition import PCA\n",
        "\n",
        "### here ###\n",
        "pca ="
      ],
      "execution_count": null,
      "outputs": []
    },
    {
      "cell_type": "code",
      "metadata": {
        "id": "PZYam8ve-Up3"
      },
      "source": [
        "print('主成分\\n', pca.components_)\n",
        "print('平均\\n', pca.mean_)\n",
        "print('分散\\n', pca.explained_variance_)\n",
        "print('共分散\\n', pca.get_covariance())"
      ],
      "execution_count": null,
      "outputs": []
    },
    {
      "cell_type": "markdown",
      "metadata": {
        "id": "7RQ2P9Neq3Lq"
      },
      "source": [
        "### 平均と共分散を直接計算して、比較してみる。"
      ]
    },
    {
      "cell_type": "code",
      "metadata": {
        "id": "mV37oja_-Ud1"
      },
      "source": [
        "mu = np.mean(X, axis=0)\n",
        "\n",
        "z = X - mu\n",
        "\n",
        "cv = np.cov(z[:,0], z[:,1], bias=1)\n",
        "\n",
        "print('平均\\n', mu)\n",
        "print('共分散\\n', cv)"
      ],
      "execution_count": null,
      "outputs": []
    },
    {
      "cell_type": "markdown",
      "metadata": {
        "id": "aPA1EbkCrKfY"
      },
      "source": [
        "### 補足：\n",
        "\n",
        "共分散行列の固有値と固有ベクトルを計算する。\n",
        "共分散行列の固有ベクトルは主成分と一致する。\n",
        "\n",
        "※データによっては180度反転してる場合もある"
      ]
    },
    {
      "cell_type": "code",
      "metadata": {
        "id": "5dzAdg8MqRVU"
      },
      "source": [
        "W, v = np.linalg.eig(cv)\n",
        "\n",
        "print('固有値\\n', W)\n",
        "print('固有ベクトル\\n', v)"
      ],
      "execution_count": null,
      "outputs": []
    },
    {
      "cell_type": "markdown",
      "metadata": {
        "id": "v0mcm63cA7Cg"
      },
      "source": [
        "ベクトルを描画する関数\n",
        "\n",
        "> 参考：矢印を描画する　https://qiita.com/haru1843/items/e85fe45163cd9763023c\n",
        "\n",
        "> 参考：for loopで便利な zip, enumerate　https://python.civic-apps.com/zip-enumerate/"
      ]
    },
    {
      "cell_type": "code",
      "metadata": {
        "id": "SLdAUyG8-fJk"
      },
      "source": [
        "def draw_vector(v0, v1, ax=None):\n",
        "    ax = ax or plt.gca()\n",
        "    arrowprops=dict(arrowstyle='->',\n",
        "                    linewidth=2,\n",
        "                    shrinkA=0, shrinkB=0,\n",
        "                    color=\"red\")\n",
        "    ax.annotate('', v1, v0, arrowprops=arrowprops)"
      ],
      "execution_count": null,
      "outputs": []
    },
    {
      "cell_type": "markdown",
      "metadata": {
        "id": "aiu4npuhw5ED"
      },
      "source": [
        "### オリジナルデータのプロットと、主成分を軸にしたプロット"
      ]
    },
    {
      "cell_type": "code",
      "metadata": {
        "id": "EkU7d9btFT4z"
      },
      "source": [
        "fig, ax = plt.subplots(1, 2, figsize=(16, 6))\n",
        "fig.subplots_adjust(left=0.0625, right=0.95, wspace=0.1)\n",
        "\n",
        "# オリジナルデータをプロット\n",
        "ax[0].scatter(X[:, 0], X[:, 1], alpha=0.5)\n",
        "for length, vector in zip(pca.explained_variance_, pca.components_):\n",
        "    v = vector * 3 * np.sqrt(length)\n",
        "    draw_vector(pca.mean_, pca.mean_ + v, ax=ax[0])\n",
        "ax[0].axis('equal');\n",
        "ax[0].set(\n",
        "          xlabel='x', ylabel='y',\n",
        "          title='input')\n",
        "\n",
        "# 平均 0、分散 1にする : whitening\n",
        "### here ###\n",
        "pca =\n",
        "\n",
        "\n",
        "# 主成分（PC1, PC2）空間へのプロット\n",
        "### here ###\n",
        "X_pca = \n",
        "\n",
        "\n",
        "ax[1].scatter(X_pca[:, 0], X_pca[:, 1], alpha=0.5)\n",
        "draw_vector([0, 0], [0, 3], ax=ax[1])\n",
        "draw_vector([0, 0], [3, 0], ax=ax[1])\n",
        "ax[1].axis('equal')\n",
        "ax[1].set(\n",
        "        xlabel='component 1', ylabel='component 2',\n",
        "        title='principal components',\n",
        "        xlim=(-5, 5), ylim=(-3, 3.1));"
      ],
      "execution_count": null,
      "outputs": []
    },
    {
      "cell_type": "markdown",
      "metadata": {
        "id": "gK6UenEMGAp6"
      },
      "source": [
        "### 次元削減"
      ]
    },
    {
      "cell_type": "code",
      "metadata": {
        "id": "yEKFtJe4-vyv"
      },
      "source": [
        "# 2次元 ⇒ 1次元\n",
        "pca = PCA(n_components=1)\n",
        "pca.fit(X)\n",
        "X_pca = pca.transform(X)\n",
        "print(\"original shape:   \", X.shape)\n",
        "print(\"transformed shape:\", X_pca.shape)"
      ],
      "execution_count": null,
      "outputs": []
    },
    {
      "cell_type": "code",
      "metadata": {
        "id": "lnLFSlQ-CrAS"
      },
      "source": [
        "# PC1のプロット\n",
        "X_new = pca.inverse_transform(X_pca)\n",
        "plt.scatter(X[:, 0], X[:, 1], alpha=0.3)\n",
        "plt.scatter(X_new[:, 0], X_new[:, 1], color='red')\n",
        "plt.axis('equal');"
      ],
      "execution_count": null,
      "outputs": []
    },
    {
      "cell_type": "markdown",
      "metadata": {
        "id": "LS88HJt6v5pk"
      },
      "source": [
        "# 例：Wine データセット\n",
        "\n",
        "178行のワインサンプルと、それらの科学的性質を表す13列の特徴量で構成されているWineデータセットを読み込む。"
      ]
    },
    {
      "cell_type": "code",
      "metadata": {
        "id": "oNEXi85yu9xE"
      },
      "source": [
        "import pandas as pd\n",
        "from sklearn.datasets import load_wine\n",
        "\n",
        "wine = load_wine()  # Wineデータセットの読み込み\n",
        "df_wine = pd.DataFrame(wine.data, columns=wine.feature_names)\n",
        "df_wine['class'] = wine.target\n",
        "df_wine"
      ],
      "execution_count": null,
      "outputs": []
    },
    {
      "cell_type": "markdown",
      "metadata": {
        "id": "zurZ5QimyRik"
      },
      "source": [
        "データの標準化（平均０、分散１）"
      ]
    },
    {
      "cell_type": "code",
      "metadata": {
        "id": "6s3a96sfvIyo"
      },
      "source": [
        "from sklearn.preprocessing import StandardScaler\n",
        "\n",
        "X = df_wine.iloc[:, :-1].values  # classカラム以外を取得\n",
        "y = df_wine.iloc[:, -1].values  # classカラムを取得\n",
        "# 標準化\n",
        "sc = StandardScaler()\n",
        "X_std = sc.fit_transform(X)\n",
        "X_std"
      ],
      "execution_count": null,
      "outputs": []
    },
    {
      "cell_type": "markdown",
      "source": [
        "PCA 直接計算してみる"
      ],
      "metadata": {
        "id": "KmZk8QD1LZV6"
      }
    },
    {
      "cell_type": "code",
      "metadata": {
        "id": "xv2GA8rkvTRI"
      },
      "source": [
        "import numpy as np\n",
        "\n",
        "# 分散共分散行列の作成\n",
        "cov_mat = np.cov(X_std.T)\n",
        "# 分散共分散行列の固有値、固有ベクトルを作成\n",
        "eigen_vals, eigen_vecs = np.linalg.eig(cov_mat)\n",
        "# 固有値、固有ベクトルのペアを作成\n",
        "eigen_pairs = [(np.abs(eigen_vals[i]), eigen_vecs[:,i]) for i in range(len(eigen_vals))]\n",
        "# 上記のペアを固有値の大きい順にソート\n",
        "eigen_pairs.sort(key=lambda k: k[0], reverse=True)\n",
        "\n",
        "w1 = eigen_pairs[0][1]  # 第1主成分に対応する固有ベクトル\n",
        "w2 = eigen_pairs[1][1]  # 第2主成分に対応する固有ベクトル\n",
        "\n",
        "# 射影行列の作成\n",
        "W = np.stack([w1, w2], axis=1)\n",
        "# 次元圧縮 (13次元 -> 2次元)\n",
        "X_pca = X_std @ W"
      ],
      "execution_count": null,
      "outputs": []
    },
    {
      "cell_type": "markdown",
      "metadata": {
        "id": "LzGE_DFOzDBy"
      },
      "source": [
        "PCAライブラリ実行"
      ]
    },
    {
      "cell_type": "code",
      "metadata": {
        "id": "V8Zu1HT8ve0u"
      },
      "source": [
        "# PCAライブラリをインポート\n",
        "from sklearn.decomposition import PCA\n",
        "\n",
        "# 次元圧縮 (13次元 -> 2次元)\n",
        "X_pca = PCA(n_components=2, random_state=42).fit_transform(X_std)  # n_componentsは圧縮後の次元数"
      ],
      "execution_count": null,
      "outputs": []
    },
    {
      "cell_type": "markdown",
      "metadata": {
        "id": "Ah1n-L7lzIbN"
      },
      "source": [
        "主成分（PC1、PC2）2次元空間へのプロット"
      ]
    },
    {
      "cell_type": "code",
      "metadata": {
        "id": "vlKLkHD6vtUA"
      },
      "source": [
        "import matplotlib.pyplot as plt\n",
        "\n",
        "colors = ['#de3838', '#007bc3', '#ffd12a']  # 緋色、露草色、山吹色 \n",
        "markers = ['o', 'x', ',']\n",
        "for l, c, m, in zip(np.unique(y), colors, markers):\n",
        "    plt.scatter(X_pca[y==l, 0], X_pca[y==l, 1],\n",
        "                c=c, marker=m, label=l)\n",
        "\n",
        "plt.xlabel('PC 1')\n",
        "plt.ylabel('PC 2')\n",
        "plt.legend()\n",
        "plt.show()"
      ],
      "execution_count": null,
      "outputs": []
    },
    {
      "cell_type": "markdown",
      "metadata": {
        "id": "g5H1pPtI-KMl"
      },
      "source": [
        "# 応用例：プロ野球選手50名分のデータ"
      ]
    },
    {
      "cell_type": "code",
      "metadata": {
        "id": "lFFQ6V4Rz90L"
      },
      "source": [
        "import pandas as pd\n",
        "url ='baseball.csv'\n",
        "raw_data = pd.read_csv(\n",
        "    url,\n",
        "    thousands  = ',',\n",
        "    encoding='utf-8'\n",
        ")\n",
        "\n",
        "raw_data.head()"
      ],
      "execution_count": null,
      "outputs": []
    },
    {
      "cell_type": "markdown",
      "metadata": {
        "id": "nv-kELnMJDbx"
      },
      "source": [
        "数値データの標準化\n",
        "StandardScalerを用いてデータを標準化"
      ]
    },
    {
      "cell_type": "code",
      "metadata": {
        "id": "egoUJHGzICVb"
      },
      "source": [
        "from sklearn.preprocessing import StandardScaler\n",
        "raw_data_drop = raw_data.drop(columns=['選手名','順位', 'チーム'] ) # 文字が入るとPCAできないのでcolumnの削除\n",
        "\n",
        "# StandardScalerを用いたdatasetの標準化\n",
        "scaler = StandardScaler()\n",
        "scaler.fit(raw_data_drop)\n",
        "scaler.transform(raw_data_drop)\n",
        "raw_data_drop_normalize = pd.DataFrame(scaler.transform(raw_data_drop), columns=raw_data_drop.columns) # 標準化したdatasetをraw_data_drop_normalizeとする\n",
        "\n",
        "raw_data_drop_normalize.head()"
      ],
      "execution_count": null,
      "outputs": []
    },
    {
      "cell_type": "markdown",
      "metadata": {
        "id": "rRhVp3zP0wyF"
      },
      "source": [
        "\n",
        "PCA 実行（22次元 ⇒ 3次元）"
      ]
    },
    {
      "cell_type": "code",
      "metadata": {
        "id": "7cWYs1wEICDz"
      },
      "source": [
        "from sklearn.decomposition import PCA\n",
        "# raw_data_drop_normalizeを用いたPCA\n",
        "pca = PCA(n_components = 3) #3軸でPCA classを作成する\n",
        "pca.fit(raw_data_drop_normalize) #fitting、実際のPCA処理はここ\n",
        "\n",
        "# PCAの結果はarrayで返ってくるのでをData.Frameにする\n",
        "pca_result = pca.transform(raw_data_drop_normalize)\n",
        "pca_result = pd.DataFrame(pca_result)\n",
        "pca_result.columns = ['PC1', 'PC2', 'PC3'] \n",
        "\n",
        "pca_result.head()"
      ],
      "execution_count": null,
      "outputs": []
    },
    {
      "cell_type": "markdown",
      "metadata": {
        "id": "T-wpVWdZ02v0"
      },
      "source": [
        "クラスタリング"
      ]
    },
    {
      "cell_type": "code",
      "metadata": {
        "id": "3v4XiXElLqPD"
      },
      "source": [
        "from sklearn.cluster import KMeans\n",
        "#クラスタリング\n",
        "num_cluster = 4\n",
        "color = [\"red\", \"blue\", \"green\", \"orange\"] # クラスタリング用の色\n",
        "\n",
        "pca_result_cluster = KMeans(n_clusters=num_cluster).fit(pca_result)\n",
        "\n",
        "pca_result_cluster.labels_"
      ],
      "execution_count": null,
      "outputs": []
    },
    {
      "cell_type": "code",
      "metadata": {
        "id": "wBLKTESENPn3"
      },
      "source": [
        "player_name = raw_data['選手名'] # annotation用に格納\n",
        "pca_result[\"name\"] = player_name\n",
        "pca_result[\"cluster\"] = pca_result_cluster.labels_\n",
        "pca_result.head()"
      ],
      "execution_count": null,
      "outputs": []
    },
    {
      "cell_type": "markdown",
      "metadata": {
        "id": "AL8RrAsm0-z4"
      },
      "source": [
        "3D 描画"
      ]
    },
    {
      "cell_type": "code",
      "metadata": {
        "id": "ynO48J-MIoiK"
      },
      "source": [
        "import matplotlib.pyplot as plt\n",
        "from matplotlib.text import Annotation\n",
        "from mpl_toolkits.mplot3d.proj3d import proj_transform\n",
        "from mpl_toolkits.mplot3d.axes3d import Axes3D\n",
        "from PIL import Image # アニメーション用\n",
        "from matplotlib import animation # アニメーション用\n",
        "from io import BytesIO # アニメーション用"
      ],
      "execution_count": null,
      "outputs": []
    },
    {
      "cell_type": "code",
      "metadata": {
        "id": "OiQKT9S7HdiR"
      },
      "source": [
        "class Annotation3D(Annotation):\n",
        "    '''Annotate the point xyz with text s'''\n",
        "\n",
        "    def __init__(self, s, xyz, *args, **kwargs):\n",
        "        Annotation.__init__(self,s, xy=(0,0), *args, **kwargs)\n",
        "        self._verts3d = xyz\n",
        "\n",
        "    def draw(self, renderer):\n",
        "        xs3d, ys3d, zs3d = self._verts3d\n",
        "        xs, ys, zs = proj_transform(xs3d, ys3d, zs3d, renderer.M)\n",
        "        self.xy=(xs,ys)\n",
        "        Annotation.draw(self, renderer)\n",
        "\n",
        "# annotate3Dを定義\n",
        "def annotate3D(ax, s, *args, **kwargs):\n",
        "    '''add anotation text s to to Axes3d ax'''\n",
        "\n",
        "    tag = Annotation3D(s, *args, **kwargs)\n",
        "    ax.add_artist(tag)\n",
        "\n",
        "# plot_3Dを定義\n"
      ],
      "execution_count": null,
      "outputs": []
    },
    {
      "cell_type": "code",
      "metadata": {
        "id": "2sYMVwFAyKxl"
      },
      "source": [
        "def plot_3D(data, angle = 50):\n",
        "    # 3d plot用Figure\n",
        "    fig = plt.figure(num=None, figsize=(12, 12), dpi=72)\n",
        "    ax = fig.gca(projection = '3d')\n",
        "    for i in range(len(data.index)):\n",
        "        ax.scatter3D(data.iloc[i,0], data.iloc[i,1],data.iloc[i,2], c=color[int(data.iloc[i,4])]) # プロットの座標を指定\n",
        "        annotate3D(ax, s=str(data.iloc[i,3]), xyz=(data.iloc[i,0], data.iloc[i,1],data.iloc[i,2]),\n",
        "        fontsize=12,\n",
        "        xytext=(-3,3),\n",
        "        textcoords='offset points', ha='right',va='bottom', fontname=\"IPAexGothic\") # annotation\n",
        "    ax.view_init(30, angle)\n",
        "    ax.set_xlim(data.describe().at['min', 'PC1'], data.describe().at['max', 'PC1'])\n",
        "    ax.set_ylim(data.describe().at['min', 'PC2'], data.describe().at['max', 'PC2'])\n",
        "    ax.set_zlim(data.describe().at['min', 'PC3'], data.describe().at['max', 'PC3'])\n",
        "    ax.set_xlabel('PC1 ' + str(round(pca.explained_variance_ratio_[0]*100, 1)) + \"%\") # 軸に寄与率を表示\n",
        "    ax.set_ylabel('PC2 ' + str(round(pca.explained_variance_ratio_[1]*100, 1)) + \"%\")\n",
        "    ax.set_zlabel('PC3 ' + str(round(pca.explained_variance_ratio_[2]*100, 1)) + \"%\")\n",
        "    buf = BytesIO()\n",
        "    fig.savefig(buf, bbox_inches='tight', pad_inches=0.0)\n",
        "    return Image.open(buf)\n",
        "\n",
        "plot_3D(pca_result)\n",
        "plt.show()"
      ],
      "execution_count": null,
      "outputs": []
    },
    {
      "cell_type": "code",
      "metadata": {
        "id": "wa7tMZuQzWQ8"
      },
      "source": [
        "# gif animationを作る場合\n",
        "# images = [plot_3D(pca_result,angle) for angle in range(180)]\n",
        "# images[0].save('dataset_temp/output.gif', save_all=True, append_images=images[1:], duration=100, loop=0)"
      ],
      "execution_count": null,
      "outputs": []
    },
    {
      "cell_type": "markdown",
      "source": [
        "# Plotly\n",
        "\n",
        "https://plotly.com/python/\n",
        "\n",
        "https://plotly.com/python/3d-scatter-plots/\n",
        "\n",
        "https://data-analytics.fun/2021/06/08/plotly-data-visualization-1/\n",
        "\n"
      ],
      "metadata": {
        "id": "fVsZH14Ge78C"
      }
    },
    {
      "cell_type": "code",
      "source": [
        "# -*- coding: utf-8 -*-\n",
        "import plotly.express as px\n",
        "import pandas as pd\n",
        "\n",
        "df = pd.DataFrame(pca_result.loc[:,['PC1','PC2','PC3','name','cluster']])\n",
        "\n",
        "# データフレームのデータを描画する\n",
        "fig = px.scatter_3d(df, x='PC1', y='PC2', z='PC3', hover_name=\"name\", color='cluster')\n",
        "fig.show()"
      ],
      "metadata": {
        "id": "-8sGJVMCWesx"
      },
      "execution_count": null,
      "outputs": []
    },
    {
      "cell_type": "code",
      "source": [],
      "metadata": {
        "id": "pWc2AjnkYN8Z"
      },
      "execution_count": null,
      "outputs": []
    }
  ]
}