{
  "nbformat": 4,
  "nbformat_minor": 0,
  "metadata": {
    "colab": {
      "provenance": [],
      "authorship_tag": "ABX9TyP09W91bRqMgstSA7qmEhqk",
      "include_colab_link": true
    },
    "kernelspec": {
      "name": "python3",
      "display_name": "Python 3"
    },
    "language_info": {
      "name": "python"
    },
    "accelerator": "GPU"
  },
  "cells": [
    {
      "cell_type": "markdown",
      "metadata": {
        "id": "view-in-github",
        "colab_type": "text"
      },
      "source": [
        "<a href=\"https://colab.research.google.com/github/chonholee/tutorial/blob/main/bigdata/BigDataII_10_MLP.ipynb\" target=\"_parent\"><img src=\"https://colab.research.google.com/assets/colab-badge.svg\" alt=\"Open In Colab\"/></a>"
      ]
    },
    {
      "cell_type": "code",
      "metadata": {
        "id": "vty2GLN4e7eQ"
      },
      "source": [
        "import tensorflow as tf"
      ],
      "execution_count": null,
      "outputs": []
    },
    {
      "cell_type": "code",
      "metadata": {
        "id": "jJEp7Z1Loqts"
      },
      "source": [
        "! pip list"
      ],
      "execution_count": null,
      "outputs": []
    },
    {
      "cell_type": "markdown",
      "metadata": {
        "id": "kBrZZH_Zke9D"
      },
      "source": [
        "# MNIST Dataset"
      ]
    },
    {
      "cell_type": "code",
      "metadata": {
        "id": "_ro7AeOxffjV"
      },
      "source": [
        "# (1) 手書き数字画像のデータセットをダウンロード・正規化\n",
        "mnist = tf.keras.datasets.mnist\n",
        "(x_train, y_train), (x_test, y_test) = mnist.load_data()\n",
        "x_train, x_test = x_train / 255.0, x_test / 255.0\n",
        "\n",
        "num_classes = 10"
      ],
      "execution_count": null,
      "outputs": []
    },
    {
      "cell_type": "code",
      "metadata": {
        "id": "28lMX27bf-Ye"
      },
      "source": [
        "import matplotlib.pyplot as plt\n",
        "%matplotlib inline\n",
        "\n",
        "# 一枚表示\n",
        "sample = 1\n",
        "image = x_train[sample]# plot the sample\n",
        "fig = plt.figure\n",
        "plt.imshow(image, cmap='gray')\n",
        "plt.show()"
      ],
      "execution_count": null,
      "outputs": []
    },
    {
      "cell_type": "code",
      "metadata": {
        "id": "jVAAYmSCf805"
      },
      "source": [
        "# 10枚、ラベルと一緒に表示\n",
        "num = 10\n",
        "images = x_train[:num]\n",
        "labels = y_train[:num]\n",
        "num_row = 2\n",
        "num_col = 5\n",
        "fig, axes = plt.subplots(num_row, num_col, figsize=(1.5*num_col,2*num_row))\n",
        "for i in range(num):\n",
        "    ax = axes[i//num_col, i%num_col]\n",
        "    ax.imshow(images[i], cmap='gray')\n",
        "    ax.set_title('Label: {}'.format(labels[i]))\n",
        "plt.tight_layout()\n",
        "plt.show()"
      ],
      "execution_count": null,
      "outputs": []
    },
    {
      "cell_type": "markdown",
      "metadata": {
        "id": "gT_UTVIYgG0N"
      },
      "source": [
        "# MLP (Multi Layer Perceptron)"
      ]
    },
    {
      "cell_type": "code",
      "metadata": {
        "id": "eJV23VK2JCdU"
      },
      "source": [
        "# (2) MLPモデルを構築\n",
        "model = tf.keras.models.Sequential()\n",
        "model.add( tf.keras.layers.Flatten( input_shape=(28, 28) ) )\n",
        "model.add( tf.keras.layers.Dense( 512, activation='relu') )\n",
        "model.add( tf.keras.layers.Dense( 128, activation='relu') )\n",
        "model.add( tf.keras.layers.Dense( 32, activation='relu') )\n",
        "model.add( tf.keras.layers.Dropout(0.2) )\n",
        "model.add( tf.keras.layers.Dense( num_classes, activation='softmax') )"
      ],
      "execution_count": null,
      "outputs": []
    },
    {
      "cell_type": "code",
      "source": [
        "# (3) モデルのコンパイル\n",
        "model.compile(optimizer='Adam',\n",
        "              loss='sparse_categorical_crossentropy',\n",
        "              metrics=['accuracy'])"
      ],
      "metadata": {
        "id": "wWFly5DZBeOM"
      },
      "execution_count": null,
      "outputs": []
    },
    {
      "cell_type": "code",
      "source": [
        "# (4) モデルの学習開始\n",
        "model.fit(x_train, y_train, epochs=5)"
      ],
      "metadata": {
        "id": "4KoOfkh0BeEG"
      },
      "execution_count": null,
      "outputs": []
    },
    {
      "cell_type": "code",
      "source": [
        "# (5) モデルの評価\n",
        "model.evaluate(x_test,  y_test, verbose=2)"
      ],
      "metadata": {
        "id": "8CqgL3nvBd3l"
      },
      "execution_count": null,
      "outputs": []
    },
    {
      "cell_type": "code",
      "metadata": {
        "id": "ojUP09YM0-xg"
      },
      "source": [
        "# (6) モデルの保存と読み込み\n",
        "\n",
        "# 保存\n",
        "# 指定した名前のフォルダ内に、ネットワーク構造や重みなどの関連データが保存される\n",
        "model_filename = 'mymodel_mlp'\n",
        "model.save(model_filename)\n",
        "\n",
        "# 読み込み\n",
        "# 学習済みモデルを読み込んで利用できる\n",
        "model = tf.keras.models.load_model(model_filename)"
      ],
      "execution_count": null,
      "outputs": []
    },
    {
      "cell_type": "code",
      "metadata": {
        "id": "CAYsTxwMiTEr"
      },
      "source": [
        "# (7) テストデータを分類してみる\n",
        "import numpy as np\n",
        "\n",
        "# 学習済みモデルの読み込み\n",
        "model = tf.keras.models.load_model(model_filename)\n",
        "\n",
        "testid = 6\n",
        "outputs = model.predict(x_test[testid:testid+1]) # softmax の結果（信頼度）\n",
        "predicted = np.argmax(outputs)\n",
        "\n",
        "print('outpus', outputs)\n",
        "print('predicted class label', predicted)\n",
        "print('true class label', y_test[testid])"
      ],
      "execution_count": null,
      "outputs": []
    },
    {
      "cell_type": "code",
      "source": [
        "import csv\n",
        "\n",
        "outputs = model.predict(x_test[0:20]) # softmax の結果（信頼度）\n",
        "#print('outpus', outputs)\n",
        "\n",
        "predicted = np.argmax(outputs, 1)\n",
        "print(\"testid, true, predicted, iscorrect\")\n",
        "with open(\"results.csv\", \"w\") as f:\n",
        "  writer = csv.writer(f)\n",
        "  writer.writerow([\"testid\", \"true\", \"predicted\", \"iscorrect\"])\n",
        "  for i in range(len(predicted)):\n",
        "    row = [i, y_test[i], predicted[i], y_test[i]==predicted[i]]\n",
        "    writer.writerow(row)\n",
        "    print(row)"
      ],
      "metadata": {
        "id": "QG6vcfpww3ZA"
      },
      "execution_count": null,
      "outputs": []
    }
  ]
}