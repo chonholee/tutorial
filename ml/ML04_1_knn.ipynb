{
  "nbformat": 4,
  "nbformat_minor": 0,
  "metadata": {
    "colab": {
      "name": "ML04-1_knn.ipynb",
      "provenance": [],
      "collapsed_sections": [],
      "authorship_tag": "ABX9TyNUDCj+L2Lj3smn+cEYBoOu",
      "include_colab_link": true
    },
    "kernelspec": {
      "name": "python3",
      "display_name": "Python 3"
    },
    "language_info": {
      "name": "python"
    }
  },
  "cells": [
    {
      "cell_type": "markdown",
      "metadata": {
        "id": "view-in-github",
        "colab_type": "text"
      },
      "source": [
        "<a href=\"https://colab.research.google.com/github/chonholee/tutorial/blob/main/ml/ML04_1_knn.ipynb\" target=\"_parent\"><img src=\"https://colab.research.google.com/assets/colab-badge.svg\" alt=\"Open In Colab\"/></a>"
      ]
    },
    {
      "cell_type": "code",
      "metadata": {
        "id": "sO0fnlpQwWvZ"
      },
      "source": [
        "!pip install mglearn"
      ],
      "execution_count": null,
      "outputs": []
    },
    {
      "cell_type": "markdown",
      "metadata": {
        "id": "jGxXFtMA1r_K"
      },
      "source": [
        "mglearnライブラリを利用したｋ近傍回帰の例\n",
        "\n",
        "※ｋ近傍回帰のアルゴリズムの実装ではありません"
      ]
    },
    {
      "cell_type": "code",
      "metadata": {
        "id": "9uE2XHFJwfQy"
      },
      "source": [
        "import mglearn\n",
        "import matplotlib.pyplot as plt\n",
        "X, y = mglearn.datasets.make_wave(n_samples=40)\n",
        "plt.plot(X, y, 'o')\n",
        "plt.xlabel('Feature')\n",
        "plt.ylabel('Target')"
      ],
      "execution_count": null,
      "outputs": []
    },
    {
      "cell_type": "code",
      "metadata": {
        "id": "I7_mKqZexN-o"
      },
      "source": [
        "mglearn.plots.plot_knn_regression(n_neighbors=1)"
      ],
      "execution_count": null,
      "outputs": []
    },
    {
      "cell_type": "code",
      "metadata": {
        "id": "groDe5gQ1nav"
      },
      "source": [
        "mglearn.plots.plot_knn_regression(n_neighbors=3)"
      ],
      "execution_count": null,
      "outputs": []
    },
    {
      "cell_type": "code",
      "metadata": {
        "id": "H34UcC1GxW0w"
      },
      "source": [
        "from sklearn.neighbors import KNeighborsRegressor\n",
        "X, y = mglearn.datasets.make_wave(n_samples=40)\n",
        "\n",
        "#データを学習データとテストデータに分ける\n",
        "X_train, X_test, y_train, y_test = X[:30], X[30:], y[:30], y[30:]\n",
        "\n",
        "#学習\n",
        "reg = KNeighborsRegressor(n_neighbors=3)\n",
        "reg.fit(X_train, y_train)"
      ],
      "execution_count": null,
      "outputs": []
    },
    {
      "cell_type": "code",
      "metadata": {
        "id": "hN2g4T6lzDS6"
      },
      "source": [
        "#説明変数\n",
        "print(X_test)\n",
        "\n",
        "#目的変数\n",
        "reg.predict(X_test)"
      ],
      "execution_count": null,
      "outputs": []
    },
    {
      "cell_type": "code",
      "metadata": {
        "id": "2itnQ5Razode"
      },
      "source": [
        "import numpy as np\n",
        "line = np.linspace(-3, 3, 1000).reshape(-1,1)\n",
        "\n",
        "reg = KNeighborsRegressor(n_neighbors=1)  #ｋの値を変えてみてください\n",
        "reg.fit(X_train, y_train)\n",
        "plt.plot(line, reg.predict(line))\n",
        "plt.plot(X_train, y_train, '^', c=mglearn.cm2(1))"
      ],
      "execution_count": null,
      "outputs": []
    },
    {
      "cell_type": "code",
      "metadata": {
        "id": "qSezsqP7z-KS"
      },
      "source": [
        ""
      ],
      "execution_count": 29,
      "outputs": []
    }
  ]
}