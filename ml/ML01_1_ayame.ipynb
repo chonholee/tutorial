{
  "nbformat": 4,
  "nbformat_minor": 0,
  "metadata": {
    "colab": {
      "name": "ML01-1_ayame.ipynb",
      "provenance": [],
      "collapsed_sections": [],
      "include_colab_link": true
    },
    "kernelspec": {
      "name": "python3",
      "display_name": "Python 3"
    },
    "language_info": {
      "name": "python"
    }
  },
  "cells": [
    {
      "cell_type": "markdown",
      "metadata": {
        "id": "view-in-github",
        "colab_type": "text"
      },
      "source": [
        "<a href=\"https://colab.research.google.com/github/chonholee/tutorial/blob/main/ml/ML01_1_ayame.ipynb\" target=\"_parent\"><img src=\"https://colab.research.google.com/assets/colab-badge.svg\" alt=\"Open In Colab\"/></a>"
      ]
    },
    {
      "cell_type": "markdown",
      "metadata": {
        "id": "lhUfgbUlwpZt"
      },
      "source": [
        "# 機械学習　演習　1-1\n",
        "\n",
        "iris(アヤメ)の３品種：Setosa、Versicolor、Virginicaに関する分類"
      ]
    },
    {
      "cell_type": "markdown",
      "source": [
        "## Google Drive（Googleアカウント）と連携"
      ],
      "metadata": {
        "id": "9PhTkfzSx9DM"
      }
    },
    {
      "cell_type": "markdown",
      "source": [
        "**マウント**\n",
        "\n",
        "左の「ドライブをマウント」アイコンをクリックしてもできます。"
      ],
      "metadata": {
        "id": "V4VDZr5kzkmh"
      }
    },
    {
      "cell_type": "code",
      "source": [
        "from google.colab import drive\n",
        "drive.mount('/content/drive')"
      ],
      "metadata": {
        "id": "lodwMXnvxyRJ"
      },
      "execution_count": null,
      "outputs": []
    },
    {
      "cell_type": "markdown",
      "source": [
        "**ディレクトリ移動**\n",
        "\n",
        "[xxx]に自身のワーキングディレクトリ名を記入（Google Drive内のパス）"
      ],
      "metadata": {
        "id": "cRd5ZHcHzyow"
      }
    },
    {
      "cell_type": "code",
      "source": [
        "%cd /content/drive/MyDrive/[xxx]"
      ],
      "metadata": {
        "id": "y8slSDQ6yV79"
      },
      "execution_count": null,
      "outputs": []
    },
    {
      "cell_type": "markdown",
      "metadata": {
        "id": "YXgvN79Z0u7N"
      },
      "source": [
        "#サンプルコード\n",
        "\n",
        "**ライブラリのインポート**\n",
        "*   matplotlib グラフ描画ライブラリ\n",
        "*   sklearn (scikit-learn)　機械学習ライブラリ\n",
        "\n"
      ]
    },
    {
      "cell_type": "code",
      "metadata": {
        "id": "S28Y6Q6b1Hzg"
      },
      "source": [
        "import matplotlib.pyplot as plt\n",
        "from sklearn import cluster\n",
        "from sklearn import datasets"
      ],
      "execution_count": null,
      "outputs": []
    },
    {
      "cell_type": "markdown",
      "metadata": {
        "id": "U8Y3QtHO0918"
      },
      "source": [
        "**iris データセットをロード**"
      ]
    },
    {
      "cell_type": "code",
      "metadata": {
        "id": "I8QkzSZ21KYR"
      },
      "source": [
        "iris = datasets.load_iris()"
      ],
      "execution_count": null,
      "outputs": []
    },
    {
      "cell_type": "markdown",
      "metadata": {
        "id": "wohzJW2W7z0V"
      },
      "source": [
        "**データの中身を見てみましょう**\n",
        "\n",
        "このセルの下に「コードセル」を作成し、以下のコードを実行してみてください\n",
        "\n",
        "> ```\n",
        "print(\"与えられたデータ\")\n",
        "print(iris.data)\n",
        "print(iris.data.shape)\n",
        "```\n",
        "\n",
        "> ```\n",
        "print(\"予測するデータ\")\n",
        "print(iris.target)\n",
        "print(iris.target.shape)\n",
        "print(iris.target_names)\n",
        "```\n",
        "\n",
        "150個のデータ、1つのデータにつき4つの特徴量\n",
        "\n",
        "出力を見ると、「数値が書かれた150×4の2次元配列」と「0,1,2と書かれた150×1の1次元配列」が得られます。\n",
        "\n",
        "また0, 1, 2はそれぞれ「setosa」,「versicolor」,「virginica」に対応していることも分かります。"
      ]
    },
    {
      "cell_type": "markdown",
      "metadata": {
        "id": "T9V0H7dm1Zxx"
      },
      "source": [
        "**クラスタリング（k-means）モデルの作成と実行**"
      ]
    },
    {
      "cell_type": "markdown",
      "source": [
        "モデル作成"
      ],
      "metadata": {
        "id": "mgj7tzLd1TPu"
      }
    },
    {
      "cell_type": "code",
      "metadata": {
        "id": "woFMAo6J1keB"
      },
      "source": [
        "# クラスタ数は 3 を指定\n",
        "model = cluster.KMeans(n_clusters=3)"
      ],
      "execution_count": null,
      "outputs": []
    },
    {
      "cell_type": "markdown",
      "source": [
        "iris.dataをdataとします"
      ],
      "metadata": {
        "id": "MJ0esSRa1Hzr"
      }
    },
    {
      "cell_type": "code",
      "source": [
        "data = iris.data"
      ],
      "metadata": {
        "id": "T6Tlh-V41MDk"
      },
      "execution_count": null,
      "outputs": []
    },
    {
      "cell_type": "markdown",
      "source": [
        "モデルの学習を実行"
      ],
      "metadata": {
        "id": "0SS31cH_1M1D"
      }
    },
    {
      "cell_type": "code",
      "source": [
        "model.fit(data)"
      ],
      "metadata": {
        "id": "NfsnfPoX1OUB"
      },
      "execution_count": null,
      "outputs": []
    },
    {
      "cell_type": "markdown",
      "metadata": {
        "id": "BUpHqbYt1pAT"
      },
      "source": [
        "**クラスタリング結果：ラベルの取得**"
      ]
    },
    {
      "cell_type": "code",
      "metadata": {
        "id": "Acp4bdbr1or8"
      },
      "source": [
        "labels = model.labels_"
      ],
      "execution_count": null,
      "outputs": []
    },
    {
      "cell_type": "markdown",
      "metadata": {
        "id": "vrYZfwMN1ymy"
      },
      "source": [
        "以下「コードセル」を追加して、labelsの中身を出力してみましょう"
      ]
    },
    {
      "cell_type": "markdown",
      "source": [
        "**結果を描画する**"
      ],
      "metadata": {
        "id": "D6BlMcmY0yAT"
      }
    },
    {
      "cell_type": "code",
      "metadata": {
        "id": "c-ZEQElgwmXA"
      },
      "source": [
        "# 1 番目のキャンバスを作成\n",
        "plt.figure(1)\n",
        "\n",
        "# ラベル 0 の描画色は緑色\n",
        "ldata = data[labels == 0]\n",
        "plt.scatter(ldata[:, 2], ldata[:, 3], color='green')\n",
        "\n",
        "# ラベル 1 の描画色は赤色\n",
        "ldata = data[labels == 1]\n",
        "plt.scatter(ldata[:, 2], ldata[:, 3], color='red')\n",
        "\n",
        "# ラベル 2 の描画色は青色\n",
        "ldata = data[labels == 2]\n",
        "plt.scatter(ldata[:, 2], ldata[:, 3], color='blue')\n",
        "\n",
        "# x軸、y軸の設定\n",
        "plt.xlabel(iris['feature_names'][2])\n",
        "plt.ylabel(iris['feature_names'][3])\n",
        "\n",
        "plt.show()"
      ],
      "execution_count": null,
      "outputs": []
    }
  ]
}