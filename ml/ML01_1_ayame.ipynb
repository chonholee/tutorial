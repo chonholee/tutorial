{
  "nbformat": 4,
  "nbformat_minor": 0,
  "metadata": {
    "colab": {
      "name": "ML01-1_ayame.ipynb",
      "provenance": [],
      "authorship_tag": "ABX9TyMP5GLFoXf8Ym1Z2PK8hdst",
      "include_colab_link": true
    },
    "kernelspec": {
      "name": "python3",
      "display_name": "Python 3"
    },
    "language_info": {
      "name": "python"
    }
  },
  "cells": [
    {
      "cell_type": "markdown",
      "metadata": {
        "id": "view-in-github",
        "colab_type": "text"
      },
      "source": [
        "<a href=\"https://colab.research.google.com/github/chonholee/tutorial/blob/main/ml/ML01_1_ayame.ipynb\" target=\"_parent\"><img src=\"https://colab.research.google.com/assets/colab-badge.svg\" alt=\"Open In Colab\"/></a>"
      ]
    },
    {
      "cell_type": "markdown",
      "metadata": {
        "id": "lhUfgbUlwpZt"
      },
      "source": [
        "# 機械学習　演習　1-1\n",
        "\n",
        "アヤメの３品種：Setosa、Versicolor、Virginicaに関する分類"
      ]
    },
    {
      "cell_type": "markdown",
      "metadata": {
        "id": "YXgvN79Z0u7N"
      },
      "source": [
        "#サンプルコード\n",
        "\n",
        "ライブラリのインポート"
      ]
    },
    {
      "cell_type": "code",
      "metadata": {
        "id": "S28Y6Q6b1Hzg"
      },
      "source": [
        "import matplotlib.pyplot as plt\n",
        "from sklearn import cluster\n",
        "from sklearn import datasets"
      ],
      "execution_count": null,
      "outputs": []
    },
    {
      "cell_type": "markdown",
      "metadata": {
        "id": "U8Y3QtHO0918"
      },
      "source": [
        "iris データセットをロード\n"
      ]
    },
    {
      "cell_type": "code",
      "metadata": {
        "id": "I8QkzSZ21KYR"
      },
      "source": [
        "iris = datasets.load_iris()\n",
        "data = iris['data']"
      ],
      "execution_count": 2,
      "outputs": []
    },
    {
      "cell_type": "markdown",
      "metadata": {
        "id": "T9V0H7dm1Zxx"
      },
      "source": [
        "k-means モデルの作成\n"
      ]
    },
    {
      "cell_type": "code",
      "metadata": {
        "id": "woFMAo6J1keB"
      },
      "source": [
        "# クラスタ数は 3 を指定\n",
        "model = cluster.KMeans(n_clusters=3)\n",
        "\n",
        "# k-means モデル実行\n",
        "model.fit(data)"
      ],
      "execution_count": null,
      "outputs": []
    },
    {
      "cell_type": "markdown",
      "metadata": {
        "id": "BUpHqbYt1pAT"
      },
      "source": [
        "クラスタリング結果ラベルの取得"
      ]
    },
    {
      "cell_type": "code",
      "metadata": {
        "id": "Acp4bdbr1or8"
      },
      "source": [
        "labels = model.labels_"
      ],
      "execution_count": 3,
      "outputs": []
    },
    {
      "cell_type": "markdown",
      "metadata": {
        "id": "vrYZfwMN1ymy"
      },
      "source": [
        "結果の描画"
      ]
    },
    {
      "cell_type": "code",
      "metadata": {
        "id": "c-ZEQElgwmXA"
      },
      "source": [
        "# 1 番目のキャンバスを作成\n",
        "plt.figure(1)\n",
        "\n",
        "# ラベル 0 の描画色は緑色\n",
        "ldata = data[labels == 0]\n",
        "plt.scatter(ldata[:, 2], ldata[:, 3], color='green')\n",
        "\n",
        "# ラベル 1 の描画色は赤色\n",
        "ldata = data[labels == 1]\n",
        "plt.scatter(ldata[:, 2], ldata[:, 3], color='red')\n",
        "\n",
        "# ラベル 2 の描画色は青色\n",
        "ldata = data[labels == 2]\n",
        "plt.scatter(ldata[:, 2], ldata[:, 3], color='blue')\n",
        "\n",
        "# x軸、y軸の設定\n",
        "plt.xlabel(iris['feature_names'][2])\n",
        "plt.ylabel(iris['feature_names'][3])\n",
        "\n",
        "plt.show()"
      ],
      "execution_count": null,
      "outputs": []
    }
  ]
}