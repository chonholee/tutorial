{
  "nbformat": 4,
  "nbformat_minor": 0,
  "metadata": {
    "colab": {
      "name": "ML03-1_kmeans.ipynb",
      "provenance": [],
      "collapsed_sections": [],
      "include_colab_link": true
    },
    "kernelspec": {
      "name": "python3",
      "display_name": "Python 3"
    },
    "language_info": {
      "name": "python"
    }
  },
  "cells": [
    {
      "cell_type": "markdown",
      "metadata": {
        "id": "view-in-github",
        "colab_type": "text"
      },
      "source": [
        "<a href=\"https://colab.research.google.com/github/chonholee/tutorial/blob/main/ml/ML03_1_kmeans.ipynb\" target=\"_parent\"><img src=\"https://colab.research.google.com/assets/colab-badge.svg\" alt=\"Open In Colab\"/></a>"
      ]
    },
    {
      "cell_type": "code",
      "source": [
        "from google.colab import drive\n",
        "drive.mount('/content/drive')\n",
        "%cd /content/drive/MyDrive/xxx"
      ],
      "metadata": {
        "id": "pAltUrc44KNH"
      },
      "execution_count": null,
      "outputs": []
    },
    {
      "cell_type": "markdown",
      "source": [
        "# 演習をPythonで計算してみる"
      ],
      "metadata": {
        "id": "7x452s9lP3Tk"
      }
    },
    {
      "cell_type": "code",
      "source": [
        "import numpy as np\n",
        "\n",
        "# 演習２で利用したユークリッド距離を計算する関数\n",
        "# 「複数データが入力されたときの対処」を追加\n",
        "\n",
        "def euclidean(x, y):\n",
        "  if len(x.shape) == 1:\n",
        "    dist = np.sqrt(np.sum((x-y)**2))\n",
        "  else:\n",
        "    dist = np.sqrt(np.sum((x-y)**2, 1))  \n",
        "  return dist"
      ],
      "metadata": {
        "id": "abBY1pcxPwDP"
      },
      "execution_count": null,
      "outputs": []
    },
    {
      "cell_type": "markdown",
      "source": [
        "データセット：データとクラスラベル"
      ],
      "metadata": {
        "id": "aCOD_Bys8yO1"
      }
    },
    {
      "cell_type": "code",
      "source": [
        "data = np.array([[5,1], [4,2], [2,2], [5,4], [5,5]])\n",
        "label = np.array([0,0,1,1,1])"
      ],
      "metadata": {
        "id": "ENG6eF12QGOs"
      },
      "execution_count": null,
      "outputs": []
    },
    {
      "cell_type": "markdown",
      "source": [
        "Centroidを計算"
      ],
      "metadata": {
        "id": "KFSsbgSh8raT"
      }
    },
    {
      "cell_type": "code",
      "source": [
        "c1 = np.array( here )\n",
        "print(\"Centroid of C1:\", c1)\n",
        "\n",
        "c2 = np.array( here )\n",
        "print(\"Centroid of C2:\", c2)"
      ],
      "metadata": {
        "id": "1zlpAa91RAHt"
      },
      "execution_count": null,
      "outputs": []
    },
    {
      "cell_type": "markdown",
      "source": [
        "データと各Centroidまでの距離を計算して出力する"
      ],
      "metadata": {
        "id": "CnVkIcef85Pc"
      }
    },
    {
      "cell_type": "code",
      "source": [
        "print(\"distance between data to c1 and c2\")\n",
        "for i in range(5):\n",
        "  print(\"data\", i, euclidean(data[i], c1), euclidean(data[i], c2))"
      ],
      "metadata": {
        "id": "fryRFq58SGuz"
      },
      "execution_count": null,
      "outputs": []
    },
    {
      "cell_type": "markdown",
      "source": [
        "複数のデータを一気に計算して、distにアサインする"
      ],
      "metadata": {
        "id": "bXv8Fwdb9LFp"
      }
    },
    {
      "cell_type": "code",
      "source": [
        "dist = np.array( here )\n",
        "dist = dist.T\n",
        "print(dist)"
      ],
      "metadata": {
        "id": "ETKS6hDEW9FP"
      },
      "execution_count": null,
      "outputs": []
    },
    {
      "cell_type": "markdown",
      "source": [
        "距離が近い方のクラスラベルを付与する"
      ],
      "metadata": {
        "id": "_RjTRIWw9ba_"
      }
    },
    {
      "cell_type": "code",
      "source": [
        "np.argmin(dist, 1)"
      ],
      "metadata": {
        "id": "ktn8KhAw9VdB"
      },
      "execution_count": null,
      "outputs": []
    },
    {
      "cell_type": "markdown",
      "source": [
        "# KMeans"
      ],
      "metadata": {
        "id": "I_1VUbmVPxSA"
      }
    },
    {
      "cell_type": "code",
      "metadata": {
        "id": "gnYV28PmK3oS"
      },
      "source": [
        "import numpy as np\n",
        "import itertools \n",
        "\n",
        "class KMeans:\n",
        "    def __init__(self, n_clusters, max_iter = 1000, random_seed = 0):\n",
        "        self.n_clusters = n_clusters\n",
        "        self.max_iter = max_iter\n",
        "        self.random_state = np.random.RandomState(random_seed)\n",
        "\n",
        "    def fit(self, X):\n",
        "        #指定したクラスター数分のラベルを繰り返し作成するジェネレータを生成（0,1,2,0,1,2,0,1,2...みたいな感じ）\n",
        "        cycle = itertools.cycle(range(self.n_clusters))\n",
        "        #各データポイントに対してクラスタのラベルをランダムに割り振る\n",
        "        self.labels_ = np.fromiter(itertools.islice(cycle, X.shape[0]), dtype = np.int)\n",
        "        self.random_state.shuffle(self.labels_)\n",
        "        labels_prev = np.zeros(X.shape[0])\n",
        "        count = 0\n",
        "        self.cluster_centers_ = np.zeros((self.n_clusters, X.shape[1]))\n",
        "\n",
        "        #各データポイントが属しているクラスターが変化しなくなった、又は一定回数の繰り返しを越した場合は終了\n",
        "        while (not (self.labels_ == labels_prev).all() and count < self.max_iter):\n",
        "            #その時点での各クラスターの重心を計算する\n",
        "            for i in range(self.n_clusters):\n",
        "                XX = X[self.labels_ == i, :]\n",
        "                self.cluster_centers_[i, :] = XX.mean(axis = 0)\n",
        "            #各データポイントと各クラスターの重心間の距離を総当たりで計算する\n",
        "            dist = ((X[:, :, np.newaxis] - self.cluster_centers_.T[np.newaxis, :, :]) ** 2).sum(axis = 1)\n",
        "            #1つ前のクラスターラベルを覚えておく。1つ前のラベルとラベルが変化しなければプログラムは終了する。\n",
        "            labels_prev = self.labels_\n",
        "            #再計算した結果、最も距離の近いクラスターのラベルを割り振る\n",
        "            self.labels_ = dist.argmin(axis = 1)\n",
        "            count += 1\n",
        "\n",
        "    def predict(self, X):\n",
        "        dist = ((X[:, :, np.newaxis] - self.cluster_centers_.T[np.newaxis, :, :]) ** 2).sum(axis = 1)\n",
        "        labels = dist.argmin(axis = 1)\n",
        "        return labels"
      ],
      "execution_count": null,
      "outputs": []
    },
    {
      "cell_type": "code",
      "metadata": {
        "id": "mOBKpLWcK-4n"
      },
      "source": [
        "import matplotlib.pyplot as plt\n",
        "\n",
        "#適当なデータセットを作成する\n",
        "np.random.seed(7)\n",
        "points1 = np.random.randn(80, 2)\n",
        "points2 = np.random.randn(80, 2) + np.array([4,0])\n",
        "points3 = np.random.randn(80, 2) + np.array([5,8])\n",
        "\n",
        "points = np.r_[points1, points2, points3]\n",
        "np.random.shuffle(points)\n",
        "\n",
        "#3つのクラスタに分けるモデルを作成\n",
        "model =  KMeans(3)\n",
        "model.fit(points)\n",
        "\n",
        "#print(points)\n",
        "print(model.labels_)"
      ],
      "execution_count": null,
      "outputs": []
    },
    {
      "cell_type": "code",
      "metadata": {
        "id": "RgzHEVWgLCWl"
      },
      "source": [
        "markers = [\"+\", \"*\", \"o\"]\n",
        "color = ['r', 'b', 'g']\n",
        "for i in range(3):\n",
        "    p = points[model.labels_ == i, :]\n",
        "    plt.scatter(p[:, 0], p[:, 1], marker = markers[i], color = color[i])\n",
        "\n",
        "plt.show()"
      ],
      "execution_count": null,
      "outputs": []
    },
    {
      "cell_type": "code",
      "metadata": {
        "id": "1k7giyffLFcF"
      },
      "source": [
        ""
      ],
      "execution_count": null,
      "outputs": []
    }
  ]
}