{
  "cells": [
    {
      "cell_type": "markdown",
      "metadata": {
        "id": "view-in-github",
        "colab_type": "text"
      },
      "source": [
        "<a href=\"https://colab.research.google.com/github/chonholee/tutorial/blob/main/ml/ML03_1_kmeans.ipynb\" target=\"_parent\"><img src=\"https://colab.research.google.com/assets/colab-badge.svg\" alt=\"Open In Colab\"/></a>"
      ]
    },
    {
      "cell_type": "markdown",
      "source": [
        "# 演習をPythonで実行してみる"
      ],
      "metadata": {
        "id": "vL6bN53rg5tk"
      }
    },
    {
      "cell_type": "code",
      "source": [
        "import numpy as np\n",
        "\n",
        "# 演習２で利用したユークリッド距離を計算する関数\n",
        "\n",
        "def euclidean(x, y):\n",
        "  if len(x.shape) == 1:\n",
        "    dist = np.sqrt(np.sum((x-y)**2))\n",
        "  else:\n",
        "    dist = np.sqrt(np.sum((x-y)**2, 1))\n",
        "  return dist"
      ],
      "metadata": {
        "id": "Jfto0ESkgs69"
      },
      "execution_count": null,
      "outputs": []
    },
    {
      "cell_type": "code",
      "source": [
        "# データセット\n",
        "data = np.array([[5,1], [4,2], [2,2], [5,4], [5,5]])\n",
        "label = np.array([0,0,1,1,1])"
      ],
      "metadata": {
        "id": "VLBqtheNgtoM"
      },
      "execution_count": null,
      "outputs": []
    },
    {
      "cell_type": "code",
      "source": [
        "c1 = np.array( --- here --- )\n",
        "print(\"Centroid of C1:\", c1)\n",
        "c2 = np.array( --- here --- )\n",
        "print(\"Centroid of C2:\", c2)"
      ],
      "metadata": {
        "id": "SAdIWAbtgvrA"
      },
      "execution_count": null,
      "outputs": []
    },
    {
      "cell_type": "code",
      "source": [
        "print(\"distance between data to c1 and c2\")\n",
        "for i in range(5):\n",
        "  print(\"data\", i, euclidean(data[i], c1), euclidean(data[i], c2))"
      ],
      "metadata": {
        "id": "TvrRoRjEgxzG"
      },
      "execution_count": null,
      "outputs": []
    },
    {
      "cell_type": "code",
      "source": [
        "dist = np.array([euclidean(data,c1), euclidean(data,c2)])\n",
        "dist = dist.T\n",
        "print(dist)\n",
        "np.argmin(dist,1)"
      ],
      "metadata": {
        "id": "WBgH0BMPh_wl"
      },
      "execution_count": null,
      "outputs": []
    },
    {
      "cell_type": "markdown",
      "source": [
        "# k-means"
      ],
      "metadata": {
        "id": "71SAiT3diAO3"
      }
    },
    {
      "cell_type": "code",
      "execution_count": null,
      "metadata": {
        "id": "gnYV28PmK3oS",
        "collapsed": true
      },
      "outputs": [],
      "source": [
        "import numpy as np\n",
        "import itertools\n",
        "\n",
        "class KMeans:\n",
        "    def __init__(self, n_clusters, max_iter = 1000, random_seed = 0):\n",
        "        self.n_clusters = n_clusters\n",
        "        self.max_iter = max_iter\n",
        "        self.random_state = np.random.RandomState(random_seed)\n",
        "\n",
        "    def fit(self, X):\n",
        "        #指定したクラスター数分のラベルを繰り返し作成するジェネレータを生成（0,1,2,0,1,2,0,1,2...みたいな感じ）\n",
        "        cycle = itertools.cycle(range(self.n_clusters))\n",
        "        #各データポイントに対してクラスタのラベルをランダムに割り振る\n",
        "        self.labels_ = np.fromiter(itertools.islice(cycle, X.shape[0]), dtype = \"int\")\n",
        "        self.random_state.shuffle(self.labels_)\n",
        "        labels_prev = np.zeros(X.shape[0])\n",
        "        count = 0\n",
        "        self.cluster_centers_ = np.zeros((self.n_clusters, X.shape[1]))\n",
        "\n",
        "        #各データポイントが属しているクラスターが変化しなくなった、又は一定回数の繰り返しを越した場合は終了\n",
        "        while (not (self.labels_ == labels_prev).all() and count < self.max_iter):\n",
        "            #その時点での各クラスターの重心を計算する\n",
        "            --- here ---\n",
        "\n",
        "            #各データポイントと各クラスターの重心間の距離を総当たりで計算する\n",
        "            --- here ---\n",
        "\n",
        "            #1つ前のクラスターラベルを覚えておく。1つ前のラベルとラベルが変化しなければプログラムは終了する。\n",
        "            labels_prev = self.labels_\n",
        "\n",
        "            #再計算した結果、最も距離の近いクラスターのラベルを割り振る\n",
        "            self.labels_ = dist.argmin(axis = 1)\n",
        "            count += 1\n",
        "\n",
        "    def predict(self, X):\n",
        "        dist = ((X[:, :, np.newaxis] - self.cluster_centers_.T[np.newaxis, :, :]) ** 2).sum(axis = 1)\n",
        "        labels = dist.argmin(axis = 1)\n",
        "        return labels"
      ]
    },
    {
      "cell_type": "code",
      "execution_count": null,
      "metadata": {
        "id": "mOBKpLWcK-4n"
      },
      "outputs": [],
      "source": [
        "import matplotlib.pyplot as plt\n",
        "import numpy as np\n",
        "\n",
        "#適当なデータセットを作成する\n",
        "np.random.seed(7)\n",
        "points1 = np.random.randn(80, 2)\n",
        "points2 = np.random.randn(80, 2) + np.array([4,0])\n",
        "points3 = np.random.randn(80, 2) + np.array([5,6])\n",
        "\n",
        "points = np.r_[points1, points2, points3]\n",
        "np.random.shuffle(points)\n",
        "\n",
        "plt.scatter(points[:,0], points[:,1])"
      ]
    },
    {
      "cell_type": "code",
      "execution_count": null,
      "metadata": {
        "id": "ZxS9QFDhhpdD"
      },
      "outputs": [],
      "source": [
        "#3つのクラスタに分けるモデルを作成\n",
        "model = KMeans(3)\n",
        "model.fit(points)\n",
        "\n",
        "#print(points)\n",
        "print(model.labels_)"
      ]
    },
    {
      "cell_type": "code",
      "execution_count": null,
      "metadata": {
        "id": "RgzHEVWgLCWl"
      },
      "outputs": [],
      "source": [
        "markers = [\"+\", \"*\", \"o\"]\n",
        "color = ['r', 'b', 'g']\n",
        "for i in range(3):\n",
        "    p = points[model.labels_ == i, :]\n",
        "    plt.scatter(p[:, 0], p[:, 1], marker = markers[i], color = color[i])\n",
        "\n",
        "plt.show()"
      ]
    },
    {
      "cell_type": "markdown",
      "metadata": {
        "id": "x4POMqTihpdD"
      },
      "source": [
        "### アニメーション（おまけ）"
      ]
    },
    {
      "cell_type": "code",
      "execution_count": null,
      "metadata": {
        "id": "J6-bL7UVhpdE"
      },
      "outputs": [],
      "source": [
        "! pip install imageio"
      ]
    },
    {
      "cell_type": "code",
      "execution_count": null,
      "metadata": {
        "id": "yBVla37HhpdE"
      },
      "outputs": [],
      "source": [
        "from __future__ import annotations\n",
        "\n",
        "import math\n",
        "import sys\n",
        "from io import BytesIO\n",
        "from typing import List\n",
        "\n",
        "import imageio\n",
        "import matplotlib.pyplot as plt\n",
        "import numpy as np\n",
        "\n",
        "N_POINTS = 500  # The number of points to cluster\n",
        "N_CLUSTERS = 5  # The number of clusters\n",
        "COLORS = [\"#3498db\", \"#2ecc71\", \"#f1c40f\", \"#9b59b6\", \"#e74c3c\"]  # The colors of each cluster\n",
        "EPSILON = sys.float_info.epsilon  # A value that considers machine inaccuracy when calculating zero. Depends on the precision of the data type.\n",
        "\n",
        "class Point:\n",
        "\n",
        "    def __init__(self, x: float, y: float, color=\"grey\", magnitude=20):\n",
        "        \"\"\" Point constructor \"\"\"\n",
        "        self.x = x  # The x coordinate\n",
        "        self.y = y  # The y coordinate\n",
        "        self.color = color  # The points colors\n",
        "        self.magnitude = magnitude  # The magnitude of the point (size in pyplot)\n",
        "\n",
        "    def distance_to_point(self, point: Point):\n",
        "        \"\"\" Calculates the points distance from another point \"\"\"\n",
        "        delta_x = self.x - point.x  # The difference in x direction\n",
        "        delta_y = self.y - point.y  # The difference in y direction\n",
        "        return math.sqrt(delta_x ** 2 + delta_y ** 2)  # The Euclidean distance to the other point\n",
        "\n",
        "\n",
        "class PointList:\n",
        "\n",
        "    def __init__(self, points: List[Point] = None, marker: str = \"x\"):\n",
        "        \"\"\" PointList Constructor \"\"\"\n",
        "        if points:\n",
        "            self.points = points  # points may be a list of Points\n",
        "        else:\n",
        "            self.points = []  # or None by default\n",
        "        self.marker = marker  # The marker (symbol in the pyplot)\n",
        "\n",
        "    @property\n",
        "    def x_values(self):\n",
        "        \"\"\" A list of the x values of all points in the list \"\"\"\n",
        "        return [point.x for point in self.points]\n",
        "\n",
        "    @property\n",
        "    def y_values(self):\n",
        "        \"\"\" A list of the y values of all points in the list \"\"\"\n",
        "        return [point.y for point in self.points]\n",
        "\n",
        "    @property\n",
        "    def colors(self):\n",
        "        \"\"\" A list of the colors of all points in the list \"\"\"\n",
        "        return [point.color for point in self.points]\n",
        "\n",
        "    @property\n",
        "    def magnitudes(self):\n",
        "        \"\"\" A list of the magnitudes of all points in the list \"\"\"\n",
        "        return [point.magnitude for point in self.points]\n",
        "\n",
        "    def plot(self):\n",
        "        \"\"\" Returns a scatter plot of itself \"\"\"\n",
        "        return plt.scatter(\n",
        "            x=self.x_values,\n",
        "            y=self.y_values,\n",
        "            color=self.colors,\n",
        "            marker=self.marker,\n",
        "            s=self.magnitudes\n",
        "        )\n",
        "\n",
        "    def append(self, point):\n",
        "        \"\"\" Adds a point to the PointList \"\"\"\n",
        "        self.points.append(point)\n",
        "\n",
        "    def len(self):\n",
        "        \"\"\" Returns the length of the PointsList \"\"\"\n",
        "        return len(self.points)\n",
        "\n",
        "    @property\n",
        "    def x_sum(self):\n",
        "        \"\"\" The sum of the x values of all points in the list \"\"\"\n",
        "        return sum(self.x_values)\n",
        "\n",
        "    @property\n",
        "    def y_sum(self):\n",
        "        \"\"\" The sum of the y values of all points in the list \"\"\"\n",
        "        return sum(self.y_values)\n",
        "\n",
        "    @property\n",
        "    def x_avg(self):\n",
        "        \"\"\" The average of the x values of all points in the list \"\"\"\n",
        "        return self.x_sum / self.len()\n",
        "\n",
        "    @property\n",
        "    def y_avg(self):\n",
        "        \"\"\" The average of the y values of all points in the list \"\"\"\n",
        "        return self.y_sum / self.len()\n",
        "\n",
        "    def difference(self, other_points_list: PointList) -> float:\n",
        "        \"\"\" Returns the distance between points of two lists \"\"\"\n",
        "        differences = []\n",
        "        for own_point, list_point in zip(self.points, other_points_list.points):\n",
        "            differences.append(\n",
        "                (own_point.x - list_point.x) ** 2 + (own_point.y - list_point.y) ** 2\n",
        "            )\n",
        "        return math.sqrt(sum(differences))\n",
        "\n",
        "\n",
        "def random_point(**kwargs):\n",
        "    \"\"\" Create a random point with coordinates x=[0, 1] y=[0, 1]. Bypasses arguments \"\"\"\n",
        "    x = np.random.rand(1)\n",
        "    y = np.random.rand(1)\n",
        "    return Point(x, y, **kwargs)\n",
        "\n",
        "\n",
        "def random_points(n: int):\n",
        "    \"\"\" Create a list of n random points \"\"\"\n",
        "    points = PointList()\n",
        "    for _ in range(n):\n",
        "        points.append(random_point())\n",
        "    return points\n",
        "\n",
        "\n",
        "def create_random_cluster_centres(k: int):\n",
        "    \"\"\" Returns k random centres \"\"\"\n",
        "    centres = PointList(marker=\"o\")\n",
        "    for color, _ in zip(COLORS, range(k)):\n",
        "        centres.append(random_point(color=color, magnitude=150))\n",
        "    return centres\n",
        "\n",
        "\n",
        "def create_k_point_lists(k: int):\n",
        "    \"\"\" Returns k instances of PointLists\"\"\"\n",
        "    point_lists = []\n",
        "    for _ in range(k):\n",
        "        point_lists.append(PointList())\n",
        "    return point_lists\n",
        "\n",
        "\n",
        "def cluster_points(points: PointList, centres: PointList) -> List[PointList]:\n",
        "    \"\"\" Clusters points \"\"\"\n",
        "    points = points.points  # deconstruct\n",
        "    centres = centres.points  # deconstruct\n",
        "    k = len(centres)  # Number of centres\n",
        "    clusters = create_k_point_lists(k)  # Create k clusters\n",
        "\n",
        "    for point in points:  # Iterate over each point\n",
        "        distances = [point.distance_to_point(centre) for centre in centres]  # calculate the distance for each point to each centre\n",
        "        min_distance = min(distances)  # Get the shortest distance\n",
        "        centre_index = distances.index(min_distance)  # Get the centre with this distance\n",
        "        centre = centres[centre_index]  # The (new) centre of this point is the centre with the shortest distance\n",
        "        clusters[centre_index].append(point)  # Add the point to the list of the cluster with the centre\n",
        "        point.color = centre.color  # colorize the point in the color of the centre (visualization only)\n",
        "\n",
        "    return clusters  # New clusters\n",
        "\n",
        "\n",
        "def calculate_new_centres(clusters: List[PointList]):\n",
        "    \"\"\" Calculates the new centres of k clusters \"\"\"\n",
        "    new_centres = PointList(marker=\"o\")  # Create a new point list for the centres\n",
        "    for cluster in clusters:  # Iterate over each cluster\n",
        "        new_centres.append(\n",
        "            Point(\n",
        "                x=cluster.x_avg,  # New x coordinate equals the average x value of all points in the cluster\n",
        "                y=cluster.y_avg,  # New y coordinate equals the average y value of all points in the cluster\n",
        "                color=cluster.colors[0],  # The color of the first point\n",
        "                magnitude=150  # Centres are display a bit larger to identify them visually\n",
        "            )\n",
        "        )\n",
        "    return new_centres\n",
        "\n",
        "\n",
        "def plot_styling():\n",
        "    plt.figure(facecolor=\"#111827\")  # Background color\n",
        "    axis = plt.gca()  # Create axis object\n",
        "    axis.set_facecolor(\"#111827\")  # axis background color\n",
        "    axis.spines['bottom'].set_color('white')  # axis bottom color\n",
        "    axis.spines['top'].set_color('white')  # axis top color\n",
        "    axis.spines['right'].set_color('white')  # axis right color\n",
        "    axis.spines['left'].set_color('white')  # axis left color\n",
        "    axis.tick_params(axis='x', colors='white')  # x axis ticks color\n",
        "    axis.tick_params(axis='y', colors='white')  # y axis ticks color\n",
        "\n",
        "\n",
        "def k_means(points: PointList, centres: PointList):\n",
        "    \"\"\" The actual algorithm. With lots of stuff only for visualization \"\"\"\n",
        "\n",
        "    difference = 1  # initial difference\n",
        "    n = 1  # initial iteration counter\n",
        "\n",
        "    while abs(difference) >= abs(0 + EPSILON):  # The shift of the centres in relation to the last iteration is greater than zero\n",
        "        new_clusters = cluster_points(points, centres)  # Calculate new clusters based on the points and their centres\n",
        "        new_centres = calculate_new_centres(new_clusters)  # Calculate the new positions of the centres of each cluster based on their points\n",
        "        difference = new_centres.difference(centres)  # The distance between the centres of this iteration and the previous one\n",
        "\n",
        "        # Animation only\n",
        "        plot_styling()  # Apply some styles\n",
        "        points.plot()  # Plot the points\n",
        "        centres.plot()  # Plot the centres\n",
        "        plt.title(f'Iteration {n}', color=\"white\")  # Create a title based on the iteration\n",
        "        frame_bytes = BytesIO()  # Create an in-memory bytes object\n",
        "        plt.savefig(frame_bytes)  # Save the plot to the in-memory bytes\n",
        "        frames.append(frame_bytes)  # Append the plot to the frames\n",
        "        plt.close(\"all\")  # Close all plots to free the memory\n",
        "        # / Animation only\n",
        "\n",
        "        centres = new_centres  # Set the new centres as the centres for the next iteration\n",
        "        n += 1  # Increment the iteration count\n",
        "\n",
        "    with imageio.get_writer('k-means.gif', mode='I', duration=1) as writer:  # Create an animate gif from the frames\n",
        "        for frame in frames:  # Iterate over each frame\n",
        "            image = imageio.imread(frame)  # Read the bytes\n",
        "            writer.append_data(image)  # Append it to the animation\n",
        "\n",
        "\n",
        "if __name__ == '__main__':\n",
        "    points = random_points(N_POINTS)\n",
        "    centres = create_random_cluster_centres(k=N_CLUSTERS)\n",
        "    frames = list()\n",
        "\n",
        "    # Initial View\n",
        "    plot_styling()\n",
        "    points.plot()\n",
        "    centres.plot()\n",
        "    plt.title(\"Initialization\", color=\"white\")\n",
        "    frame_bytes = BytesIO()\n",
        "    plt.savefig(frame_bytes)\n",
        "    frames.append(frame_bytes)\n",
        "\n",
        "    # Run the Algorithm\n",
        "    k_means(points, centres)"
      ]
    },
    {
      "cell_type": "code",
      "execution_count": null,
      "metadata": {
        "id": "8rhPZTxchpdF"
      },
      "outputs": [],
      "source": []
    }
  ],
  "metadata": {
    "colab": {
      "provenance": [],
      "include_colab_link": true
    },
    "kernelspec": {
      "display_name": "Python 3",
      "name": "python3"
    },
    "language_info": {
      "codemirror_mode": {
        "name": "ipython",
        "version": 3
      },
      "file_extension": ".py",
      "mimetype": "text/x-python",
      "name": "python",
      "nbconvert_exporter": "python",
      "pygments_lexer": "ipython3",
      "version": "3.10.11"
    }
  },
  "nbformat": 4,
  "nbformat_minor": 0
}