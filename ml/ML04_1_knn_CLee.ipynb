{
  "nbformat": 4,
  "nbformat_minor": 0,
  "metadata": {
    "colab": {
      "name": "ML04-1_knn_CLee.ipynb",
      "provenance": [],
      "collapsed_sections": [],
      "include_colab_link": true
    },
    "kernelspec": {
      "name": "python3",
      "display_name": "Python 3"
    },
    "language_info": {
      "name": "python"
    }
  },
  "cells": [
    {
      "cell_type": "markdown",
      "metadata": {
        "id": "view-in-github",
        "colab_type": "text"
      },
      "source": [
        "<a href=\"https://colab.research.google.com/github/chonholee/tutorial/blob/main/ml/ML04_1_knn_CLee.ipynb\" target=\"_parent\"><img src=\"https://colab.research.google.com/assets/colab-badge.svg\" alt=\"Open In Colab\"/></a>"
      ]
    },
    {
      "cell_type": "markdown",
      "source": [
        "# 演習4"
      ],
      "metadata": {
        "id": "DIULeKYfvfXA"
      }
    },
    {
      "cell_type": "code",
      "source": [
        "from google.colab import drive\n",
        "drive.mount('/content/drive')\n",
        "%cd /content/drive/MyDrive/[xxx]"
      ],
      "metadata": {
        "id": "sp2XcR46ipDX"
      },
      "execution_count": null,
      "outputs": []
    },
    {
      "cell_type": "markdown",
      "source": [
        "# scikit-learnライブラリを用いた k近傍法"
      ],
      "metadata": {
        "id": "rKkxBVlmpepF"
      }
    },
    {
      "cell_type": "markdown",
      "source": [
        "ライブラリのインポート"
      ],
      "metadata": {
        "id": "oRNCrBC5ii3n"
      }
    },
    {
      "cell_type": "code",
      "source": [
        "import sklearn\n",
        "from sklearn.model_selection import train_test_split"
      ],
      "metadata": {
        "id": "Aq8xj3rChvoZ"
      },
      "execution_count": 1,
      "outputs": []
    },
    {
      "cell_type": "markdown",
      "source": [
        "matplotlibとseaborn ライブラリ（データの可視化モジュール）\n",
        "\n",
        "> ※参照\n",
        "\n",
        "> https://qiita.com/DS27/items/59b6676e734c3d7dd604\n",
        "\n",
        "> https://aiacademy.jp/media/?p=1834\n",
        "\n",
        "seabornで用意されているサンプルデータセット\n",
        "\n",
        "> ※参照\n",
        "\n",
        "> https://biotech-lab.org/articles/1408"
      ],
      "metadata": {
        "id": "sKGH10AGiB6o"
      }
    },
    {
      "cell_type": "code",
      "source": [
        "import matplotlib.pyplot as plt\n",
        "import seaborn as sns"
      ],
      "metadata": {
        "id": "iNNjntXIi6YA"
      },
      "execution_count": 2,
      "outputs": []
    },
    {
      "cell_type": "markdown",
      "source": [
        "サンプルデータセット（mpg）\n",
        "\n",
        "> 1970年代後半から1980年台初めの自動車の燃費を現したデータ。\n",
        "\n",
        "データセットを読み込んで中身を見てみる"
      ],
      "metadata": {
        "id": "2QIwNiuYjeEU"
      }
    },
    {
      "cell_type": "code",
      "source": [
        "df = sns.load_dataset('mpg')\n",
        "df.dropna(inplace=True) # 欠損値を補間\n",
        "df"
      ],
      "metadata": {
        "id": "qfW0TYZKi-51"
      },
      "execution_count": null,
      "outputs": []
    },
    {
      "cell_type": "markdown",
      "source": [
        "*   「horsepower」「mpg」の列だけを利用\n",
        "\n",
        "*   学習データとテストデータに分ける\n",
        "\n",
        "> *   test_size (float)：割合\n",
        "> *   random_state (int)：データの並べ方を指定（ランダムにシャッフルするとき）"
      ],
      "metadata": {
        "id": "VRxEPJxKm-P5"
      }
    },
    {
      "cell_type": "code",
      "source": [
        "X = df['horsepower'].values.reshape(-1, 1)\n",
        "y = df['mpg'].values\n",
        "\n",
        "X_train, X_test, y_train, y_test = train_test_split(X, y, test_size=0.9, random_state=0)\n",
        "print(\"データのサイズ：\", X.shape, X_train.shape, y_train.shape)"
      ],
      "metadata": {
        "id": "eF_dbY5RlumL"
      },
      "execution_count": null,
      "outputs": []
    },
    {
      "cell_type": "markdown",
      "source": [
        "データの描画"
      ],
      "metadata": {
        "id": "BLkF5oVbnVIu"
      }
    },
    {
      "cell_type": "code",
      "source": [
        "sns.scatterplot(x=X_train[:,0], y=y_train)\n",
        "plt.xlabel('horsepower')\n",
        "plt.ylabel('mpg')"
      ],
      "metadata": {
        "id": "fPMX17nzoD9k"
      },
      "execution_count": null,
      "outputs": []
    },
    {
      "cell_type": "markdown",
      "source": [
        "kNeighborsRegressor（k近傍回帰）を利用してモデルを学習"
      ],
      "metadata": {
        "id": "hvmtmwaVn32w"
      }
    },
    {
      "cell_type": "code",
      "source": [
        "from sklearn.neighbors import KNeighborsRegressor\n",
        "\n",
        "K=3\n",
        "model = KNeighborsRegressor(n_neighbors=K)\n",
        "model.fit(X_train, y_train)"
      ],
      "metadata": {
        "id": "AxB3qUzjogHG"
      },
      "execution_count": null,
      "outputs": []
    },
    {
      "cell_type": "markdown",
      "source": [
        "未知のデータとしてｘの値が45から255までの50個（default）の値を作成\n",
        "\n",
        "*   linspace関数を利用する"
      ],
      "metadata": {
        "id": "gHpbmOkSL-FH"
      }
    },
    {
      "cell_type": "code",
      "source": [
        "import numpy as np\n",
        "\n",
        "x_axis = np.linspace(45, 225).reshape(-1, 1)"
      ],
      "metadata": {
        "id": "eI3ZbB01oh__"
      },
      "execution_count": null,
      "outputs": []
    },
    {
      "cell_type": "markdown",
      "source": [
        "予測値をプロットする"
      ],
      "metadata": {
        "id": "D1raMHS-MiNB"
      }
    },
    {
      "cell_type": "code",
      "source": [
        "y_pred = model.predict(x_axis)\n",
        "\n",
        "sns.scatterplot(X_train[:, 0], y_train)\n",
        "\n",
        "plt.plot(x_axis, y_pred, 'red')"
      ],
      "metadata": {
        "id": "ngwBKAY1Mcuw"
      },
      "execution_count": null,
      "outputs": []
    },
    {
      "cell_type": "markdown",
      "source": [
        "## 別のサンプル\n",
        "\n",
        "データセットをランダムで作ってみる"
      ],
      "metadata": {
        "id": "Gemd8VAQoxbb"
      }
    },
    {
      "cell_type": "code",
      "source": [
        "import numpy as np\n",
        "\n",
        "np.random.seed(0)\n",
        "X = np.sort(5 * np.random.rand(40, 1), axis=0)\n",
        "T = np.linspace(0, 5, 500)[:, np.newaxis]\n",
        "y = np.sin(X).ravel()\n",
        "\n",
        "# Add noise to targets\n",
        "y[::5] += 1 * (0.5 - np.random.rand(8))"
      ],
      "metadata": {
        "id": "gvrYRzLdpl1g"
      },
      "execution_count": 29,
      "outputs": []
    },
    {
      "cell_type": "markdown",
      "source": [
        "データプロット"
      ],
      "metadata": {
        "id": "NGPY70lyNVxL"
      }
    },
    {
      "cell_type": "code",
      "source": [
        "plt.scatter(X, y, color=\"darkorange\", label=\"data\")"
      ],
      "metadata": {
        "id": "y59iCjuapdHF"
      },
      "execution_count": null,
      "outputs": []
    },
    {
      "cell_type": "markdown",
      "source": [
        "weights: \"uniform\"と\"distance\"\n",
        "\n",
        "*   uniform : 均一に扱う\n",
        "*   distance：距離に対して重みを付ける"
      ],
      "metadata": {
        "id": "-OsKrcDYNDu4"
      }
    },
    {
      "cell_type": "code",
      "source": [
        "n_neighbors = 3\n",
        "\n",
        "for i, weights in enumerate([\"uniform\", \"distance\"]):\n",
        "    knn = KNeighborsRegressor(n_neighbors, weights=weights)\n",
        "    y_ = knn.fit(X, y).predict(T)\n",
        "\n",
        "    plt.subplot(2, 1, i + 1)\n",
        "    plt.scatter(X, y, color=\"darkorange\", label=\"data\")\n",
        "    plt.plot(T, y_, color=\"navy\", label=\"prediction\")\n",
        "    plt.axis(\"tight\")\n",
        "    plt.legend()\n",
        "    plt.title(\"KNeighborsRegressor (k = %i, weights = '%s')\" % (n_neighbors, weights))\n",
        "\n",
        "plt.tight_layout()\n",
        "plt.show()"
      ],
      "metadata": {
        "id": "CWj1PQVfrlGx"
      },
      "execution_count": null,
      "outputs": []
    },
    {
      "cell_type": "markdown",
      "source": [
        "# mglearnライブラリを利用したｋ近傍回帰の例"
      ],
      "metadata": {
        "id": "hqoBRIzEgnov"
      }
    },
    {
      "cell_type": "code",
      "source": [
        "!pip install mglearn\n",
        "\n",
        "import mglearn\n",
        "import matplotlib.pyplot as plt\n",
        "\n",
        "X, y = mglearn.datasets.make_wave(n_samples=40)\n",
        "X\n",
        "y\n",
        "plt.plot(X, y, 'o')\n",
        "plt.xlabel('Feature')\n",
        "plt.ylabel('Target')\n",
        "mglearn.plots.plot_knn_regression(n_neighbors=1)\n",
        "mglearn.plots.plot_knn_regression(n_neighbors=3)\n",
        "\n",
        "\n",
        "from sklearn.neighbors import KNeighborsRegressor\n",
        "#データを学習データとテストデータに分ける\n",
        "X_train, X_test, y_train, y_test = X[:30], X[30:], y[:30], y[30:]\n",
        "\n",
        "#学習\n",
        "reg = KNeighborsRegressor(n_neighbors=3)\n",
        "reg.fit(X_train, y_train)\n",
        "\n",
        "#説明変数\n",
        "print(X_test)\n",
        "\n",
        "#目的変数\n",
        "print(reg.predict(X_test))"
      ],
      "metadata": {
        "id": "RfN8YUS4XB8s"
      },
      "execution_count": null,
      "outputs": []
    }
  ]
}