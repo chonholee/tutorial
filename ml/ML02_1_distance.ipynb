{
  "cells": [
    {
      "cell_type": "markdown",
      "metadata": {
        "id": "view-in-github",
        "colab_type": "text"
      },
      "source": [
        "<a href=\"https://colab.research.google.com/github/chonholee/tutorial/blob/main/ml/ML02_1_distance.ipynb\" target=\"_parent\"><img src=\"https://colab.research.google.com/assets/colab-badge.svg\" alt=\"Open In Colab\"/></a>"
      ]
    },
    {
      "cell_type": "code",
      "execution_count": null,
      "metadata": {
        "id": "vmys64mnZr0I"
      },
      "outputs": [],
      "source": [
        "import numpy as np"
      ]
    },
    {
      "cell_type": "code",
      "execution_count": null,
      "metadata": {
        "id": "gQ1mvXh8dGUY"
      },
      "outputs": [],
      "source": [
        "# 1次元配列の作成\n",
        "arr1 = np.array([1, 2, 3, 4, 5])\n",
        "print(\"1次元配列:\")\n",
        "print(arr1)\n",
        "print(\"タイプ:\", type(arr1))\n",
        "print(\"要素数:\", arr1.size)\n",
        "print(\"次元数:\", arr1.ndim)\n",
        "print(\"次元ごとの要素数:\", arr1.shape)"
      ]
    },
    {
      "cell_type": "code",
      "execution_count": null,
      "metadata": {
        "id": "5LmStwOudGUZ"
      },
      "outputs": [],
      "source": [
        "# 2次元配列の作成\n",
        "arr2 = np.array([[1,2,3],[4,5,6]])\n",
        "print(\"2次元配列:\")\n",
        "print(arr2)\n",
        "print(\"タイプ:\", )\n",
        "print(\"要素数:\", )\n",
        "print(\"次元数:\", )\n",
        "print(\"次元ごとの要素数:\", )"
      ]
    },
    {
      "cell_type": "code",
      "execution_count": null,
      "metadata": {
        "id": "lmt1j8XedGUa"
      },
      "outputs": [],
      "source": [
        "# 3次元配列の作成\n",
        "arr3 = np.array([[[1,2,3],[4,5,6],[7,8,9]],[[10,11,12],[13,14,15],[16,17,18]]])\n",
        "print(\"3次元配列:\")\n",
        "print(arr3)\n",
        "print(\"要素数:\", )\n",
        "print(\"次元数:\", )\n",
        "print(\"次元ごとの要素数:\", )"
      ]
    },
    {
      "cell_type": "code",
      "execution_count": null,
      "metadata": {
        "id": "e4x3eGA6dGUa"
      },
      "outputs": [],
      "source": [
        "# 乱数行列の作成\n",
        "random = np.random.rand(3, 3)\n",
        "print(\"\\n乱数行列:\")\n",
        "print(random)\n",
        "\n",
        "# 配列の操作\n",
        "arr = np.array([1, 2, 3, 4, 5])\n",
        "print(\"\\n配列の操作:\")\n",
        "print(\"要素の取得:\", arr[2])\n",
        "print(\"スライス:\", arr[1:4])\n",
        "print(\"要素の変更前:\", arr)\n",
        "arr[0] = 6\n",
        "print(\"要素の変更後:\", arr)"
      ]
    },
    {
      "cell_type": "code",
      "execution_count": null,
      "metadata": {
        "id": "7saJpXRNZxm5"
      },
      "outputs": [],
      "source": [
        "# いくつかの計算\n",
        "x = np.array([4, 9])\n",
        "y = np.array([3, 5])\n",
        "\n",
        "print(x + y)\n",
        "print(x - y)\n",
        "print(x * y)\n",
        "print(x / y)\n",
        "print(np.dot(x, y))  #内積\n",
        "print(np.power(x, 2)) #乗算\n",
        "print(np.sqrt(x)) #ルート"
      ]
    },
    {
      "cell_type": "code",
      "execution_count": null,
      "metadata": {
        "id": "vV5R5whyZ0hm"
      },
      "outputs": [],
      "source": [
        "x = np.array([3, 4])\n",
        "y = np.array([5, 12])\n",
        "\n",
        "def euclidean(x, y):\n",
        "    #--- here ---\n",
        "    dist =    # <---- ここにユークリッド距離の式、コードを書く\n",
        "    return dist\n",
        "\n",
        "dist = euclidean(x,y)\n",
        "print(dist)"
      ]
    },
    {
      "cell_type": "code",
      "execution_count": null,
      "metadata": {
        "id": "-Mx9wuoedGUc"
      },
      "outputs": [],
      "source": [
        "# test1\n",
        "x = np.array([3, 4])\n",
        "y = np.array([5, 12])\n",
        "\n",
        "dist = euclidean(x,y)\n",
        "print(\"Euclidean distance between {0} and {1} is {2:.3f}\".format(x, y, dist))\n",
        "\n",
        "# test2\n",
        "x = np.array([3, 5, 2, 2])\n",
        "y = np.array([6, 1, 2, 3])\n",
        "\n",
        "dist = euclidean(x,y)\n",
        "print(\"Euclidean distance between {0} and {1} is {2:.3f}\".format(x, y, dist))"
      ]
    },
    {
      "cell_type": "code",
      "execution_count": null,
      "metadata": {
        "id": "WWcI4dDbbRxi"
      },
      "outputs": [],
      "source": [
        "def cosine_similarity(vector1, vector2):\n",
        "    #--- here ---\n",
        "    dot_product =\n",
        "    norm_vector1 =\n",
        "    norm_vector2 =\n",
        "    similarity = dot_product / (norm_vector1 * norm_vector2)\n",
        "    return similarity\n",
        "\n",
        "vector1 = np.array([1, 2, 3])\n",
        "vector2 = np.array([4, 5, 6])\n",
        "\n",
        "similarity = cosine_similarity(vector1, vector2)\n",
        "print(\"コサイン類似度:\", similarity)\n",
        "\n",
        "vector1 = np.array([1, 2, 3])\n",
        "vector2 = np.array([4, 1, 2])\n",
        "\n",
        "similarity = cosine_similarity(vector1, vector2)\n",
        "print(\"コサイン類似度:\", similarity)"
      ]
    },
    {
      "cell_type": "code",
      "execution_count": null,
      "metadata": {
        "id": "mxY_ZZpxdGUd"
      },
      "outputs": [],
      "source": []
    }
  ],
  "metadata": {
    "colab": {
      "provenance": [],
      "include_colab_link": true
    },
    "kernelspec": {
      "display_name": "Python 3",
      "name": "python3"
    },
    "language_info": {
      "codemirror_mode": {
        "name": "ipython",
        "version": 3
      },
      "file_extension": ".py",
      "mimetype": "text/x-python",
      "name": "python",
      "nbconvert_exporter": "python",
      "pygments_lexer": "ipython3",
      "version": "3.10.11"
    }
  },
  "nbformat": 4,
  "nbformat_minor": 0
}