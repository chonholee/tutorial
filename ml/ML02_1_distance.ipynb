{
  "nbformat": 4,
  "nbformat_minor": 0,
  "metadata": {
    "colab": {
      "name": "ML02-1_distance.ipynb",
      "provenance": [],
      "collapsed_sections": [],
      "authorship_tag": "ABX9TyOZbbRYaErv8FJTJqMVE5UK",
      "include_colab_link": true
    },
    "kernelspec": {
      "name": "python3",
      "display_name": "Python 3"
    },
    "language_info": {
      "name": "python"
    }
  },
  "cells": [
    {
      "cell_type": "markdown",
      "metadata": {
        "id": "view-in-github",
        "colab_type": "text"
      },
      "source": [
        "<a href=\"https://colab.research.google.com/github/chonholee/tutorial/blob/main/ml/ML02_1_distance.ipynb\" target=\"_parent\"><img src=\"https://colab.research.google.com/assets/colab-badge.svg\" alt=\"Open In Colab\"/></a>"
      ]
    },
    {
      "cell_type": "code",
      "metadata": {
        "id": "vmys64mnZr0I"
      },
      "source": [
        "import numpy as np\n",
        "\n",
        "a = np.array([1, 2, 3])   # １次元元配列\n",
        "\n",
        "print(type(a))   # タイプ\n",
        "print(a.shape)   #配列のサイズ\n",
        "print(a[0], a[1], a[2])   # 要素を出力\n",
        "\n",
        "a[0] = 5            # 要素を変更（書き換え）\n",
        "print(a)                  \n",
        "\n",
        "b = np.array([[1,2,3],[4,5,6]])    # ２次元配列\n",
        "print(b.shape)                     # Prints \"(2, 3)\"\n",
        "print(b[0, 0], b[0, 1], b[1, 0])   # Prints \"1 2 4\""
      ],
      "execution_count": null,
      "outputs": []
    },
    {
      "cell_type": "code",
      "metadata": {
        "id": "7saJpXRNZxm5"
      },
      "source": [
        "x = np.array([4, 9])\n",
        "y = np.array([3, 5])\n",
        "\n",
        "print(np.dot(x, y))  #内積\n",
        "print(np.power(x,2)) #乗算\n",
        "print(np.sqrt(x)) #ルート"
      ],
      "execution_count": null,
      "outputs": []
    },
    {
      "cell_type": "code",
      "metadata": {
        "id": "vV5R5whyZ0hm"
      },
      "source": [
        "x = np.array([3, 4])\n",
        "y = np.array([5, 12])\n",
        "\n",
        "def euclidean(x,y):\n",
        "    #--- here ---\n",
        "    \n",
        "    \n",
        "dist = euclidean(x,y)\n",
        "print(dist)"
      ],
      "execution_count": null,
      "outputs": []
    },
    {
      "cell_type": "code",
      "metadata": {
        "id": "WWcI4dDbbRxi"
      },
      "source": [
        ""
      ],
      "execution_count": null,
      "outputs": []
    }
  ]
}