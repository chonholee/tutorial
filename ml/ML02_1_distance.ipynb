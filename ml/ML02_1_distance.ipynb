{
  "nbformat": 4,
  "nbformat_minor": 0,
  "metadata": {
    "colab": {
      "name": "ML02-1_distance.ipynb",
      "provenance": [],
      "collapsed_sections": [],
      "include_colab_link": true
    },
    "kernelspec": {
      "name": "python3",
      "display_name": "Python 3"
    },
    "language_info": {
      "name": "python"
    }
  },
  "cells": [
    {
      "cell_type": "markdown",
      "metadata": {
        "id": "view-in-github",
        "colab_type": "text"
      },
      "source": [
        "<a href=\"https://colab.research.google.com/github/chonholee/tutorial/blob/main/ml/ML02_1_distance.ipynb\" target=\"_parent\"><img src=\"https://colab.research.google.com/assets/colab-badge.svg\" alt=\"Open In Colab\"/></a>"
      ]
    },
    {
      "cell_type": "code",
      "source": [
        "from google.colab import drive\n",
        "drive.mount('/content/drive')\n",
        "%cd /content/drive/MyDrive/XXX  #XXXは自分のGoogleDrive上の作業フォルダ名"
      ],
      "metadata": {
        "id": "wLRJj6JY3msH"
      },
      "execution_count": null,
      "outputs": []
    },
    {
      "cell_type": "markdown",
      "source": [
        "# ML02 演習"
      ],
      "metadata": {
        "id": "0JlNBwAK4wos"
      }
    },
    {
      "cell_type": "markdown",
      "source": [
        "## numpyを使って配列の計算"
      ],
      "metadata": {
        "id": "Q4L6KgRF41eR"
      }
    },
    {
      "cell_type": "code",
      "metadata": {
        "id": "vmys64mnZr0I"
      },
      "source": [
        "import numpy as np\n",
        "\n",
        "a = np.array([1, 2, 3])   # １次元元配列            "
      ],
      "execution_count": null,
      "outputs": []
    },
    {
      "cell_type": "markdown",
      "source": [
        "・タイプの確認\n",
        "・配列のサイズ\n",
        "・要素を出力\n",
        "・要素を変更"
      ],
      "metadata": {
        "id": "aWDaGKjm8V3d"
      }
    },
    {
      "cell_type": "code",
      "source": [
        "# here"
      ],
      "metadata": {
        "id": "LMa1Qa6C8Qxm"
      },
      "execution_count": null,
      "outputs": []
    },
    {
      "cell_type": "markdown",
      "source": [
        "2次元配列"
      ],
      "metadata": {
        "id": "hTbARkll5CIF"
      }
    },
    {
      "cell_type": "code",
      "source": [
        "b = np.array([[1, 2, 3], [4, 5, 6]])    # ２次元配列"
      ],
      "metadata": {
        "id": "4NTfy3QQ5Gy9"
      },
      "execution_count": null,
      "outputs": []
    },
    {
      "cell_type": "markdown",
      "source": [
        "・配列、サイズ、配列の特定の要素出力"
      ],
      "metadata": {
        "id": "bP22xw2C8uZA"
      }
    },
    {
      "cell_type": "code",
      "source": [
        "# here"
      ],
      "metadata": {
        "id": "QQkdlwWF86lg"
      },
      "execution_count": null,
      "outputs": []
    },
    {
      "cell_type": "markdown",
      "source": [
        "配列・行列の計算"
      ],
      "metadata": {
        "id": "Z7XYnG915I4q"
      }
    },
    {
      "cell_type": "code",
      "metadata": {
        "id": "7saJpXRNZxm5"
      },
      "source": [
        "x = np.array([4, 9])\n",
        "y = np.array([3, 5])"
      ],
      "execution_count": null,
      "outputs": []
    },
    {
      "cell_type": "markdown",
      "source": [
        "・内積、二乗計算、平方根計算"
      ],
      "metadata": {
        "id": "qjONGY4i9AX8"
      }
    },
    {
      "cell_type": "code",
      "source": [
        "# here"
      ],
      "metadata": {
        "id": "Sgv3VcxN8_69"
      },
      "execution_count": null,
      "outputs": []
    },
    {
      "cell_type": "markdown",
      "source": [
        "## ユークリッド距離を計算する関数を定義"
      ],
      "metadata": {
        "id": "1JOhZSMu5PWr"
      }
    },
    {
      "cell_type": "code",
      "metadata": {
        "id": "vV5R5whyZ0hm"
      },
      "source": [
        "def euclidean(x, y):\n",
        "    \n",
        "    #--- here : 以下ユークリッド距離を計算する式、コードを書く ---\n",
        "    dist =\n",
        "\n",
        "    return dist    "
      ],
      "execution_count": null,
      "outputs": []
    },
    {
      "cell_type": "markdown",
      "source": [
        "テスト"
      ],
      "metadata": {
        "id": "BbGOeHrW5vu5"
      }
    },
    {
      "cell_type": "code",
      "metadata": {
        "id": "WWcI4dDbbRxi"
      },
      "source": [
        "# test1\n",
        "x = np.array([3, 4])\n",
        "y = np.array([5, 12])\n",
        "\n",
        "dist = euclidean(x,y)\n",
        "print(\"Euclidean distance between {0} and {1} is {2:.3f}\".format(x, y, dist))"
      ],
      "execution_count": null,
      "outputs": []
    },
    {
      "cell_type": "code",
      "source": [
        "# test2\n",
        "x = np.array([3, 5, 2])\n",
        "y = np.array([6, 1, 2])\n",
        "\n",
        "dist = euclidean(x,y)\n",
        "print(\"Euclidean distance between {0} and {1} is {2:.3f}\".format(x, y, dist))"
      ],
      "metadata": {
        "id": "ImVqGHl5Ve07"
      },
      "execution_count": null,
      "outputs": []
    },
    {
      "cell_type": "code",
      "source": [
        ""
      ],
      "metadata": {
        "id": "FVRYFcut7WZJ"
      },
      "execution_count": null,
      "outputs": []
    }
  ]
}