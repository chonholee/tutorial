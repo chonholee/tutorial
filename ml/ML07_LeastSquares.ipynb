{
  "nbformat": 4,
  "nbformat_minor": 0,
  "metadata": {
    "colab": {
      "name": "ML07-LeastSquares.ipynb",
      "provenance": [],
      "collapsed_sections": [],
      "authorship_tag": "ABX9TyNllhhmbCGCaZ1v2LLn38+u",
      "include_colab_link": true
    },
    "kernelspec": {
      "name": "python3",
      "display_name": "Python 3"
    },
    "language_info": {
      "name": "python"
    }
  },
  "cells": [
    {
      "cell_type": "markdown",
      "metadata": {
        "id": "view-in-github",
        "colab_type": "text"
      },
      "source": [
        "<a href=\"https://colab.research.google.com/github/chonholee/tutorial/blob/main/ml/ML07_LeastSquares.ipynb\" target=\"_parent\"><img src=\"https://colab.research.google.com/assets/colab-badge.svg\" alt=\"Open In Colab\"/></a>"
      ]
    },
    {
      "cell_type": "code",
      "source": [
        "from google.colab import drive\n",
        "drive.mount('/content/drive')\n",
        "%cd /content/drive/MyDrive/xxx"
      ],
      "metadata": {
        "id": "w24_AG0z24tn"
      },
      "execution_count": null,
      "outputs": []
    },
    {
      "cell_type": "markdown",
      "source": [
        "# 演習７\n",
        "\n",
        "## 共分散"
      ],
      "metadata": {
        "id": "R8JQ42Da267i"
      }
    },
    {
      "cell_type": "markdown",
      "source": [
        "* データセットの準備"
      ],
      "metadata": {
        "id": "9SStfA536xng"
      }
    },
    {
      "cell_type": "code",
      "source": [
        "import numpy as np\n",
        "import matplotlib.pyplot as plt\n",
        "%matplotlib inline\n",
        "\n",
        "weight = np.array([42, 46, 53, 56, 58, 61, 62, 63, 65, 67, 73])\n",
        "height = np.array([138, 150, 152, 163, 164, 167, 165, 182, 180, 180, 183])\n",
        "\n",
        "plt.scatter(weight, height)\n",
        "plt.xlabel('weight')\n",
        "plt.ylabel('height')"
      ],
      "metadata": {
        "id": "74IsEehDk2Wn"
      },
      "execution_count": null,
      "outputs": []
    },
    {
      "cell_type": "markdown",
      "source": [
        "* 平均、分散"
      ],
      "metadata": {
        "id": "ute5aSH48-DS"
      }
    },
    {
      "cell_type": "code",
      "source": [
        "np.mean(weight)\n",
        "np.var(weight)"
      ],
      "metadata": {
        "colab": {
          "base_uri": "https://localhost:8080/"
        },
        "id": "vRNd7gn89Al1",
        "outputId": "3f4973ea-7be4-4e08-8aed-e3c5438b7c45"
      },
      "execution_count": 3,
      "outputs": [
        {
          "output_type": "execute_result",
          "data": {
            "text/plain": [
              "75.2892561983471"
            ]
          },
          "metadata": {},
          "execution_count": 3
        }
      ]
    },
    {
      "cell_type": "markdown",
      "source": [
        "* 共分散行列を取得"
      ],
      "metadata": {
        "id": "vFVmD5a-62fT"
      }
    },
    {
      "cell_type": "code",
      "source": [
        "HERE"
      ],
      "metadata": {
        "id": "H4b51YNj3816"
      },
      "execution_count": null,
      "outputs": []
    },
    {
      "cell_type": "markdown",
      "source": [
        "2変量なので2✕2\n",
        "\n",
        "![共分散行列.png](data:image/png;base64,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)"
      ],
      "metadata": {
        "id": "-qNWyohx5NDw"
      }
    },
    {
      "cell_type": "markdown",
      "source": [
        "各要素を取得"
      ],
      "metadata": {
        "id": "d2xO64Z_7PSg"
      }
    },
    {
      "cell_type": "code",
      "source": [
        "Sx = HERE # xの不偏分散\n",
        "Sy = HERE # yの不偏分散\n",
        "Sxy = HERE # 不偏共分散\n",
        "\n",
        "print(Sx, Sy, Sxy)"
      ],
      "metadata": {
        "id": "Nxpg4_4W69wM"
      },
      "execution_count": null,
      "outputs": []
    },
    {
      "cell_type": "markdown",
      "source": [
        "補足：pandasライブラリのデータフレームを使うと"
      ],
      "metadata": {
        "id": "q1yxgllI4mat"
      }
    },
    {
      "cell_type": "code",
      "source": [
        "import pandas as pd\n",
        "df = pd.DataFrame({'weight':weight, 'height':height})\n",
        "df"
      ],
      "metadata": {
        "id": "vjS6ez8i4jsK"
      },
      "execution_count": null,
      "outputs": []
    },
    {
      "cell_type": "code",
      "source": [
        "df.cov()"
      ],
      "metadata": {
        "id": "7qdhXFWv4ufG"
      },
      "execution_count": null,
      "outputs": []
    },
    {
      "cell_type": "markdown",
      "source": [
        "## 最小二乗法"
      ],
      "metadata": {
        "id": "Ggo44Pib3G_O"
      }
    },
    {
      "cell_type": "code",
      "execution_count": null,
      "metadata": {
        "id": "jU6jHEaGki7_"
      },
      "outputs": [],
      "source": [
        "import numpy as np \n",
        "import matplotlib.pyplot as plt\n",
        "\n",
        "weight = np.array([42, 46, 53, 56, 58, 61, 62, 63, 65, 67, 73])\n",
        "height = np.array([138, 150, 152, 163, 164, 167, 165, 182, 180, 180, 183])\n",
        "\n",
        "def least_squares(x, y):\n",
        "    \"\"\"回帰係数を計算する\"\"\"\n",
        "    beta = HERE # Sxy/Sx\n",
        "    alpha = HERE # ybar - beta*xbar\n",
        "    return alpha, beta\n",
        "\n",
        "alpha, beta = least_squares(weight, height)\n",
        "\n",
        "print(f'切片: {alpha}')\n",
        "print(f'傾き: {beta}')\n",
        "\n",
        "x = np.arange(np.min(weight), np.max(weight), 0.1)\n",
        "y = alpha + beta * x  # 回帰曲線\n",
        "\n",
        "# 可視化\n",
        "plt.scatter(weight, height)\n",
        "plt.plot(x, y, c='#de3838')\n",
        "plt.text(45, 180, 'y={:.5f}+{:.5f}x'.format(alpha, beta))\n",
        "plt.xlabel('weight')\n",
        "plt.ylabel('height')\n",
        "plt.show()"
      ]
    }
  ]
}